{
  "nbformat": 4,
  "nbformat_minor": 0,
  "metadata": {
    "colab": {
      "name": "Coursework part 2.ipynb",
      "provenance": [],
      "collapsed_sections": [
        "hb3_leIytWes",
        "kn40inrn4sSB",
        "l0mENCPEWdwl"
      ],
      "toc_visible": true,
      "mount_file_id": "1gFZKJHcF-7CLCp9JB5J90nJtXBYtw3QD",
      "authorship_tag": "ABX9TyM181MvRXh+haQZYIGbGTRd",
      "include_colab_link": true
    },
    "kernelspec": {
      "name": "python3",
      "display_name": "Python 3"
    },
    "language_info": {
      "name": "python"
    },
    "widgets": {
      "application/vnd.jupyter.widget-state+json": {
        "a768d530c8bb488bbdc7d8588128e542": {
          "model_module": "@jupyter-widgets/controls",
          "model_name": "HBoxModel",
          "state": {
            "_view_name": "HBoxView",
            "_dom_classes": [],
            "_model_name": "HBoxModel",
            "_view_module": "@jupyter-widgets/controls",
            "_model_module_version": "1.5.0",
            "_view_count": null,
            "_view_module_version": "1.5.0",
            "box_style": "",
            "layout": "IPY_MODEL_5801f41292dc4fb3925c1c55cda2f661",
            "_model_module": "@jupyter-widgets/controls",
            "children": [
              "IPY_MODEL_030b233c28814a6e85949142cf5fc75a",
              "IPY_MODEL_40fa96c6939e4d338b0ac3dcaa2bba0b"
            ]
          }
        },
        "5801f41292dc4fb3925c1c55cda2f661": {
          "model_module": "@jupyter-widgets/base",
          "model_name": "LayoutModel",
          "state": {
            "_view_name": "LayoutView",
            "grid_template_rows": null,
            "right": null,
            "justify_content": null,
            "_view_module": "@jupyter-widgets/base",
            "overflow": null,
            "_model_module_version": "1.2.0",
            "_view_count": null,
            "flex_flow": null,
            "width": null,
            "min_width": null,
            "border": null,
            "align_items": null,
            "bottom": null,
            "_model_module": "@jupyter-widgets/base",
            "top": null,
            "grid_column": null,
            "overflow_y": null,
            "overflow_x": null,
            "grid_auto_flow": null,
            "grid_area": null,
            "grid_template_columns": null,
            "flex": null,
            "_model_name": "LayoutModel",
            "justify_items": null,
            "grid_row": null,
            "max_height": null,
            "align_content": null,
            "visibility": null,
            "align_self": null,
            "height": null,
            "min_height": null,
            "padding": null,
            "grid_auto_rows": null,
            "grid_gap": null,
            "max_width": null,
            "order": null,
            "_view_module_version": "1.2.0",
            "grid_template_areas": null,
            "object_position": null,
            "object_fit": null,
            "grid_auto_columns": null,
            "margin": null,
            "display": null,
            "left": null
          }
        },
        "030b233c28814a6e85949142cf5fc75a": {
          "model_module": "@jupyter-widgets/controls",
          "model_name": "FloatProgressModel",
          "state": {
            "_view_name": "ProgressView",
            "style": "IPY_MODEL_45a25a75fb14414a9337e572a57e8895",
            "_dom_classes": [],
            "description": "100%",
            "_model_name": "FloatProgressModel",
            "bar_style": "success",
            "max": 1,
            "_view_module": "@jupyter-widgets/controls",
            "_model_module_version": "1.5.0",
            "value": 1,
            "_view_count": null,
            "_view_module_version": "1.5.0",
            "orientation": "horizontal",
            "min": 0,
            "description_tooltip": null,
            "_model_module": "@jupyter-widgets/controls",
            "layout": "IPY_MODEL_9c395194845040b0ad8e284b78f3beb1"
          }
        },
        "40fa96c6939e4d338b0ac3dcaa2bba0b": {
          "model_module": "@jupyter-widgets/controls",
          "model_name": "HTMLModel",
          "state": {
            "_view_name": "HTMLView",
            "style": "IPY_MODEL_9a8193b8b9ce40be9ada511accf548b9",
            "_dom_classes": [],
            "description": "",
            "_model_name": "HTMLModel",
            "placeholder": "​",
            "_view_module": "@jupyter-widgets/controls",
            "_model_module_version": "1.5.0",
            "value": " 1/1 [00:00&lt;00:00,  4.25it/s]",
            "_view_count": null,
            "_view_module_version": "1.5.0",
            "description_tooltip": null,
            "_model_module": "@jupyter-widgets/controls",
            "layout": "IPY_MODEL_5f4a12f8a29046319eae1186203b1af6"
          }
        },
        "45a25a75fb14414a9337e572a57e8895": {
          "model_module": "@jupyter-widgets/controls",
          "model_name": "ProgressStyleModel",
          "state": {
            "_view_name": "StyleView",
            "_model_name": "ProgressStyleModel",
            "description_width": "initial",
            "_view_module": "@jupyter-widgets/base",
            "_model_module_version": "1.5.0",
            "_view_count": null,
            "_view_module_version": "1.2.0",
            "bar_color": null,
            "_model_module": "@jupyter-widgets/controls"
          }
        },
        "9c395194845040b0ad8e284b78f3beb1": {
          "model_module": "@jupyter-widgets/base",
          "model_name": "LayoutModel",
          "state": {
            "_view_name": "LayoutView",
            "grid_template_rows": null,
            "right": null,
            "justify_content": null,
            "_view_module": "@jupyter-widgets/base",
            "overflow": null,
            "_model_module_version": "1.2.0",
            "_view_count": null,
            "flex_flow": null,
            "width": null,
            "min_width": null,
            "border": null,
            "align_items": null,
            "bottom": null,
            "_model_module": "@jupyter-widgets/base",
            "top": null,
            "grid_column": null,
            "overflow_y": null,
            "overflow_x": null,
            "grid_auto_flow": null,
            "grid_area": null,
            "grid_template_columns": null,
            "flex": null,
            "_model_name": "LayoutModel",
            "justify_items": null,
            "grid_row": null,
            "max_height": null,
            "align_content": null,
            "visibility": null,
            "align_self": null,
            "height": null,
            "min_height": null,
            "padding": null,
            "grid_auto_rows": null,
            "grid_gap": null,
            "max_width": null,
            "order": null,
            "_view_module_version": "1.2.0",
            "grid_template_areas": null,
            "object_position": null,
            "object_fit": null,
            "grid_auto_columns": null,
            "margin": null,
            "display": null,
            "left": null
          }
        },
        "9a8193b8b9ce40be9ada511accf548b9": {
          "model_module": "@jupyter-widgets/controls",
          "model_name": "DescriptionStyleModel",
          "state": {
            "_view_name": "StyleView",
            "_model_name": "DescriptionStyleModel",
            "description_width": "",
            "_view_module": "@jupyter-widgets/base",
            "_model_module_version": "1.5.0",
            "_view_count": null,
            "_view_module_version": "1.2.0",
            "_model_module": "@jupyter-widgets/controls"
          }
        },
        "5f4a12f8a29046319eae1186203b1af6": {
          "model_module": "@jupyter-widgets/base",
          "model_name": "LayoutModel",
          "state": {
            "_view_name": "LayoutView",
            "grid_template_rows": null,
            "right": null,
            "justify_content": null,
            "_view_module": "@jupyter-widgets/base",
            "overflow": null,
            "_model_module_version": "1.2.0",
            "_view_count": null,
            "flex_flow": null,
            "width": null,
            "min_width": null,
            "border": null,
            "align_items": null,
            "bottom": null,
            "_model_module": "@jupyter-widgets/base",
            "top": null,
            "grid_column": null,
            "overflow_y": null,
            "overflow_x": null,
            "grid_auto_flow": null,
            "grid_area": null,
            "grid_template_columns": null,
            "flex": null,
            "_model_name": "LayoutModel",
            "justify_items": null,
            "grid_row": null,
            "max_height": null,
            "align_content": null,
            "visibility": null,
            "align_self": null,
            "height": null,
            "min_height": null,
            "padding": null,
            "grid_auto_rows": null,
            "grid_gap": null,
            "max_width": null,
            "order": null,
            "_view_module_version": "1.2.0",
            "grid_template_areas": null,
            "object_position": null,
            "object_fit": null,
            "grid_auto_columns": null,
            "margin": null,
            "display": null,
            "left": null
          }
        },
        "4ab6fa460c4645f5956358b63b8a59b2": {
          "model_module": "@jupyter-widgets/controls",
          "model_name": "HBoxModel",
          "state": {
            "_view_name": "HBoxView",
            "_dom_classes": [],
            "_model_name": "HBoxModel",
            "_view_module": "@jupyter-widgets/controls",
            "_model_module_version": "1.5.0",
            "_view_count": null,
            "_view_module_version": "1.5.0",
            "box_style": "",
            "layout": "IPY_MODEL_c35fdb2d235444999d1bd01ba30730bc",
            "_model_module": "@jupyter-widgets/controls",
            "children": [
              "IPY_MODEL_906abb8833514a3a87fb70f6894ac912",
              "IPY_MODEL_ed2ee6fe64954555850f59400fc88569"
            ]
          }
        },
        "c35fdb2d235444999d1bd01ba30730bc": {
          "model_module": "@jupyter-widgets/base",
          "model_name": "LayoutModel",
          "state": {
            "_view_name": "LayoutView",
            "grid_template_rows": null,
            "right": null,
            "justify_content": null,
            "_view_module": "@jupyter-widgets/base",
            "overflow": null,
            "_model_module_version": "1.2.0",
            "_view_count": null,
            "flex_flow": null,
            "width": null,
            "min_width": null,
            "border": null,
            "align_items": null,
            "bottom": null,
            "_model_module": "@jupyter-widgets/base",
            "top": null,
            "grid_column": null,
            "overflow_y": null,
            "overflow_x": null,
            "grid_auto_flow": null,
            "grid_area": null,
            "grid_template_columns": null,
            "flex": null,
            "_model_name": "LayoutModel",
            "justify_items": null,
            "grid_row": null,
            "max_height": null,
            "align_content": null,
            "visibility": null,
            "align_self": null,
            "height": null,
            "min_height": null,
            "padding": null,
            "grid_auto_rows": null,
            "grid_gap": null,
            "max_width": null,
            "order": null,
            "_view_module_version": "1.2.0",
            "grid_template_areas": null,
            "object_position": null,
            "object_fit": null,
            "grid_auto_columns": null,
            "margin": null,
            "display": null,
            "left": null
          }
        },
        "906abb8833514a3a87fb70f6894ac912": {
          "model_module": "@jupyter-widgets/controls",
          "model_name": "FloatProgressModel",
          "state": {
            "_view_name": "ProgressView",
            "style": "IPY_MODEL_9897884cdfd141ef8a6c7350d39ecb55",
            "_dom_classes": [],
            "description": "100%",
            "_model_name": "FloatProgressModel",
            "bar_style": "success",
            "max": 417,
            "_view_module": "@jupyter-widgets/controls",
            "_model_module_version": "1.5.0",
            "value": 417,
            "_view_count": null,
            "_view_module_version": "1.5.0",
            "orientation": "horizontal",
            "min": 0,
            "description_tooltip": null,
            "_model_module": "@jupyter-widgets/controls",
            "layout": "IPY_MODEL_5c84235c48014333a0abfe965192f8e6"
          }
        },
        "ed2ee6fe64954555850f59400fc88569": {
          "model_module": "@jupyter-widgets/controls",
          "model_name": "HTMLModel",
          "state": {
            "_view_name": "HTMLView",
            "style": "IPY_MODEL_92e678e464314151924f0cf543645c95",
            "_dom_classes": [],
            "description": "",
            "_model_name": "HTMLModel",
            "placeholder": "​",
            "_view_module": "@jupyter-widgets/controls",
            "_model_module_version": "1.5.0",
            "value": " 417/417 [00:00&lt;00:00, 2382.02it/s]",
            "_view_count": null,
            "_view_module_version": "1.5.0",
            "description_tooltip": null,
            "_model_module": "@jupyter-widgets/controls",
            "layout": "IPY_MODEL_7500ee36f9b743528bee81931f46b31b"
          }
        },
        "9897884cdfd141ef8a6c7350d39ecb55": {
          "model_module": "@jupyter-widgets/controls",
          "model_name": "ProgressStyleModel",
          "state": {
            "_view_name": "StyleView",
            "_model_name": "ProgressStyleModel",
            "description_width": "initial",
            "_view_module": "@jupyter-widgets/base",
            "_model_module_version": "1.5.0",
            "_view_count": null,
            "_view_module_version": "1.2.0",
            "bar_color": null,
            "_model_module": "@jupyter-widgets/controls"
          }
        },
        "5c84235c48014333a0abfe965192f8e6": {
          "model_module": "@jupyter-widgets/base",
          "model_name": "LayoutModel",
          "state": {
            "_view_name": "LayoutView",
            "grid_template_rows": null,
            "right": null,
            "justify_content": null,
            "_view_module": "@jupyter-widgets/base",
            "overflow": null,
            "_model_module_version": "1.2.0",
            "_view_count": null,
            "flex_flow": null,
            "width": null,
            "min_width": null,
            "border": null,
            "align_items": null,
            "bottom": null,
            "_model_module": "@jupyter-widgets/base",
            "top": null,
            "grid_column": null,
            "overflow_y": null,
            "overflow_x": null,
            "grid_auto_flow": null,
            "grid_area": null,
            "grid_template_columns": null,
            "flex": null,
            "_model_name": "LayoutModel",
            "justify_items": null,
            "grid_row": null,
            "max_height": null,
            "align_content": null,
            "visibility": null,
            "align_self": null,
            "height": null,
            "min_height": null,
            "padding": null,
            "grid_auto_rows": null,
            "grid_gap": null,
            "max_width": null,
            "order": null,
            "_view_module_version": "1.2.0",
            "grid_template_areas": null,
            "object_position": null,
            "object_fit": null,
            "grid_auto_columns": null,
            "margin": null,
            "display": null,
            "left": null
          }
        },
        "92e678e464314151924f0cf543645c95": {
          "model_module": "@jupyter-widgets/controls",
          "model_name": "DescriptionStyleModel",
          "state": {
            "_view_name": "StyleView",
            "_model_name": "DescriptionStyleModel",
            "description_width": "",
            "_view_module": "@jupyter-widgets/base",
            "_model_module_version": "1.5.0",
            "_view_count": null,
            "_view_module_version": "1.2.0",
            "_model_module": "@jupyter-widgets/controls"
          }
        },
        "7500ee36f9b743528bee81931f46b31b": {
          "model_module": "@jupyter-widgets/base",
          "model_name": "LayoutModel",
          "state": {
            "_view_name": "LayoutView",
            "grid_template_rows": null,
            "right": null,
            "justify_content": null,
            "_view_module": "@jupyter-widgets/base",
            "overflow": null,
            "_model_module_version": "1.2.0",
            "_view_count": null,
            "flex_flow": null,
            "width": null,
            "min_width": null,
            "border": null,
            "align_items": null,
            "bottom": null,
            "_model_module": "@jupyter-widgets/base",
            "top": null,
            "grid_column": null,
            "overflow_y": null,
            "overflow_x": null,
            "grid_auto_flow": null,
            "grid_area": null,
            "grid_template_columns": null,
            "flex": null,
            "_model_name": "LayoutModel",
            "justify_items": null,
            "grid_row": null,
            "max_height": null,
            "align_content": null,
            "visibility": null,
            "align_self": null,
            "height": null,
            "min_height": null,
            "padding": null,
            "grid_auto_rows": null,
            "grid_gap": null,
            "max_width": null,
            "order": null,
            "_view_module_version": "1.2.0",
            "grid_template_areas": null,
            "object_position": null,
            "object_fit": null,
            "grid_auto_columns": null,
            "margin": null,
            "display": null,
            "left": null
          }
        },
        "299dfde040d94335a395a63ccc5b7121": {
          "model_module": "@jupyter-widgets/controls",
          "model_name": "HBoxModel",
          "state": {
            "_view_name": "HBoxView",
            "_dom_classes": [],
            "_model_name": "HBoxModel",
            "_view_module": "@jupyter-widgets/controls",
            "_model_module_version": "1.5.0",
            "_view_count": null,
            "_view_module_version": "1.5.0",
            "box_style": "",
            "layout": "IPY_MODEL_dd030cceb9f44fbc8ef74a77261b258e",
            "_model_module": "@jupyter-widgets/controls",
            "children": [
              "IPY_MODEL_663ae530c50f4b63ae451213e13b9564",
              "IPY_MODEL_bf8a293c0a7643baa2ec7ceb51647717"
            ]
          }
        },
        "dd030cceb9f44fbc8ef74a77261b258e": {
          "model_module": "@jupyter-widgets/base",
          "model_name": "LayoutModel",
          "state": {
            "_view_name": "LayoutView",
            "grid_template_rows": null,
            "right": null,
            "justify_content": null,
            "_view_module": "@jupyter-widgets/base",
            "overflow": null,
            "_model_module_version": "1.2.0",
            "_view_count": null,
            "flex_flow": null,
            "width": null,
            "min_width": null,
            "border": null,
            "align_items": null,
            "bottom": null,
            "_model_module": "@jupyter-widgets/base",
            "top": null,
            "grid_column": null,
            "overflow_y": null,
            "overflow_x": null,
            "grid_auto_flow": null,
            "grid_area": null,
            "grid_template_columns": null,
            "flex": null,
            "_model_name": "LayoutModel",
            "justify_items": null,
            "grid_row": null,
            "max_height": null,
            "align_content": null,
            "visibility": null,
            "align_self": null,
            "height": null,
            "min_height": null,
            "padding": null,
            "grid_auto_rows": null,
            "grid_gap": null,
            "max_width": null,
            "order": null,
            "_view_module_version": "1.2.0",
            "grid_template_areas": null,
            "object_position": null,
            "object_fit": null,
            "grid_auto_columns": null,
            "margin": null,
            "display": null,
            "left": null
          }
        },
        "663ae530c50f4b63ae451213e13b9564": {
          "model_module": "@jupyter-widgets/controls",
          "model_name": "FloatProgressModel",
          "state": {
            "_view_name": "ProgressView",
            "style": "IPY_MODEL_71a280c55c1a4e6f8299ef130354064d",
            "_dom_classes": [],
            "description": "100%",
            "_model_name": "FloatProgressModel",
            "bar_style": "success",
            "max": 511,
            "_view_module": "@jupyter-widgets/controls",
            "_model_module_version": "1.5.0",
            "value": 511,
            "_view_count": null,
            "_view_module_version": "1.5.0",
            "orientation": "horizontal",
            "min": 0,
            "description_tooltip": null,
            "_model_module": "@jupyter-widgets/controls",
            "layout": "IPY_MODEL_b627726e9f2d486d97ad4878c45e936b"
          }
        },
        "bf8a293c0a7643baa2ec7ceb51647717": {
          "model_module": "@jupyter-widgets/controls",
          "model_name": "HTMLModel",
          "state": {
            "_view_name": "HTMLView",
            "style": "IPY_MODEL_d53b63d32bb94b5dac806c7d3f33d04e",
            "_dom_classes": [],
            "description": "",
            "_model_name": "HTMLModel",
            "placeholder": "​",
            "_view_module": "@jupyter-widgets/controls",
            "_model_module_version": "1.5.0",
            "value": " 511/511 [00:00&lt;00:00, 5102.22it/s]",
            "_view_count": null,
            "_view_module_version": "1.5.0",
            "description_tooltip": null,
            "_model_module": "@jupyter-widgets/controls",
            "layout": "IPY_MODEL_341da7c6efb94aabbf5f1797c40dc3c8"
          }
        },
        "71a280c55c1a4e6f8299ef130354064d": {
          "model_module": "@jupyter-widgets/controls",
          "model_name": "ProgressStyleModel",
          "state": {
            "_view_name": "StyleView",
            "_model_name": "ProgressStyleModel",
            "description_width": "initial",
            "_view_module": "@jupyter-widgets/base",
            "_model_module_version": "1.5.0",
            "_view_count": null,
            "_view_module_version": "1.2.0",
            "bar_color": null,
            "_model_module": "@jupyter-widgets/controls"
          }
        },
        "b627726e9f2d486d97ad4878c45e936b": {
          "model_module": "@jupyter-widgets/base",
          "model_name": "LayoutModel",
          "state": {
            "_view_name": "LayoutView",
            "grid_template_rows": null,
            "right": null,
            "justify_content": null,
            "_view_module": "@jupyter-widgets/base",
            "overflow": null,
            "_model_module_version": "1.2.0",
            "_view_count": null,
            "flex_flow": null,
            "width": null,
            "min_width": null,
            "border": null,
            "align_items": null,
            "bottom": null,
            "_model_module": "@jupyter-widgets/base",
            "top": null,
            "grid_column": null,
            "overflow_y": null,
            "overflow_x": null,
            "grid_auto_flow": null,
            "grid_area": null,
            "grid_template_columns": null,
            "flex": null,
            "_model_name": "LayoutModel",
            "justify_items": null,
            "grid_row": null,
            "max_height": null,
            "align_content": null,
            "visibility": null,
            "align_self": null,
            "height": null,
            "min_height": null,
            "padding": null,
            "grid_auto_rows": null,
            "grid_gap": null,
            "max_width": null,
            "order": null,
            "_view_module_version": "1.2.0",
            "grid_template_areas": null,
            "object_position": null,
            "object_fit": null,
            "grid_auto_columns": null,
            "margin": null,
            "display": null,
            "left": null
          }
        },
        "d53b63d32bb94b5dac806c7d3f33d04e": {
          "model_module": "@jupyter-widgets/controls",
          "model_name": "DescriptionStyleModel",
          "state": {
            "_view_name": "StyleView",
            "_model_name": "DescriptionStyleModel",
            "description_width": "",
            "_view_module": "@jupyter-widgets/base",
            "_model_module_version": "1.5.0",
            "_view_count": null,
            "_view_module_version": "1.2.0",
            "_model_module": "@jupyter-widgets/controls"
          }
        },
        "341da7c6efb94aabbf5f1797c40dc3c8": {
          "model_module": "@jupyter-widgets/base",
          "model_name": "LayoutModel",
          "state": {
            "_view_name": "LayoutView",
            "grid_template_rows": null,
            "right": null,
            "justify_content": null,
            "_view_module": "@jupyter-widgets/base",
            "overflow": null,
            "_model_module_version": "1.2.0",
            "_view_count": null,
            "flex_flow": null,
            "width": null,
            "min_width": null,
            "border": null,
            "align_items": null,
            "bottom": null,
            "_model_module": "@jupyter-widgets/base",
            "top": null,
            "grid_column": null,
            "overflow_y": null,
            "overflow_x": null,
            "grid_auto_flow": null,
            "grid_area": null,
            "grid_template_columns": null,
            "flex": null,
            "_model_name": "LayoutModel",
            "justify_items": null,
            "grid_row": null,
            "max_height": null,
            "align_content": null,
            "visibility": null,
            "align_self": null,
            "height": null,
            "min_height": null,
            "padding": null,
            "grid_auto_rows": null,
            "grid_gap": null,
            "max_width": null,
            "order": null,
            "_view_module_version": "1.2.0",
            "grid_template_areas": null,
            "object_position": null,
            "object_fit": null,
            "grid_auto_columns": null,
            "margin": null,
            "display": null,
            "left": null
          }
        },
        "ec5ec5858f16400bab93ef2661e10b6c": {
          "model_module": "@jupyter-widgets/controls",
          "model_name": "HBoxModel",
          "state": {
            "_view_name": "HBoxView",
            "_dom_classes": [],
            "_model_name": "HBoxModel",
            "_view_module": "@jupyter-widgets/controls",
            "_model_module_version": "1.5.0",
            "_view_count": null,
            "_view_module_version": "1.5.0",
            "box_style": "",
            "layout": "IPY_MODEL_e0c34986e88d4ea8b96e9046e5b4cad1",
            "_model_module": "@jupyter-widgets/controls",
            "children": [
              "IPY_MODEL_c3d3677fe39c4438bc6f980c83a05bc6",
              "IPY_MODEL_b0470d8d8d204460a2d9022cda20bb8a"
            ]
          }
        },
        "e0c34986e88d4ea8b96e9046e5b4cad1": {
          "model_module": "@jupyter-widgets/base",
          "model_name": "LayoutModel",
          "state": {
            "_view_name": "LayoutView",
            "grid_template_rows": null,
            "right": null,
            "justify_content": null,
            "_view_module": "@jupyter-widgets/base",
            "overflow": null,
            "_model_module_version": "1.2.0",
            "_view_count": null,
            "flex_flow": null,
            "width": null,
            "min_width": null,
            "border": null,
            "align_items": null,
            "bottom": null,
            "_model_module": "@jupyter-widgets/base",
            "top": null,
            "grid_column": null,
            "overflow_y": null,
            "overflow_x": null,
            "grid_auto_flow": null,
            "grid_area": null,
            "grid_template_columns": null,
            "flex": null,
            "_model_name": "LayoutModel",
            "justify_items": null,
            "grid_row": null,
            "max_height": null,
            "align_content": null,
            "visibility": null,
            "align_self": null,
            "height": null,
            "min_height": null,
            "padding": null,
            "grid_auto_rows": null,
            "grid_gap": null,
            "max_width": null,
            "order": null,
            "_view_module_version": "1.2.0",
            "grid_template_areas": null,
            "object_position": null,
            "object_fit": null,
            "grid_auto_columns": null,
            "margin": null,
            "display": null,
            "left": null
          }
        },
        "c3d3677fe39c4438bc6f980c83a05bc6": {
          "model_module": "@jupyter-widgets/controls",
          "model_name": "FloatProgressModel",
          "state": {
            "_view_name": "ProgressView",
            "style": "IPY_MODEL_ddb9063ea4e24ae4875f04cdf72135b4",
            "_dom_classes": [],
            "description": "100%",
            "_model_name": "FloatProgressModel",
            "bar_style": "success",
            "max": 401,
            "_view_module": "@jupyter-widgets/controls",
            "_model_module_version": "1.5.0",
            "value": 401,
            "_view_count": null,
            "_view_module_version": "1.5.0",
            "orientation": "horizontal",
            "min": 0,
            "description_tooltip": null,
            "_model_module": "@jupyter-widgets/controls",
            "layout": "IPY_MODEL_56b46094f8b34428bdf53d4c6625ab0a"
          }
        },
        "b0470d8d8d204460a2d9022cda20bb8a": {
          "model_module": "@jupyter-widgets/controls",
          "model_name": "HTMLModel",
          "state": {
            "_view_name": "HTMLView",
            "style": "IPY_MODEL_0d95f543de62449795a772a766fc750e",
            "_dom_classes": [],
            "description": "",
            "_model_name": "HTMLModel",
            "placeholder": "​",
            "_view_module": "@jupyter-widgets/controls",
            "_model_module_version": "1.5.0",
            "value": " 401/401 [00:07&lt;00:00, 52.00it/s]",
            "_view_count": null,
            "_view_module_version": "1.5.0",
            "description_tooltip": null,
            "_model_module": "@jupyter-widgets/controls",
            "layout": "IPY_MODEL_856a1702ce5e498393e936b20ad112bb"
          }
        },
        "ddb9063ea4e24ae4875f04cdf72135b4": {
          "model_module": "@jupyter-widgets/controls",
          "model_name": "ProgressStyleModel",
          "state": {
            "_view_name": "StyleView",
            "_model_name": "ProgressStyleModel",
            "description_width": "initial",
            "_view_module": "@jupyter-widgets/base",
            "_model_module_version": "1.5.0",
            "_view_count": null,
            "_view_module_version": "1.2.0",
            "bar_color": null,
            "_model_module": "@jupyter-widgets/controls"
          }
        },
        "56b46094f8b34428bdf53d4c6625ab0a": {
          "model_module": "@jupyter-widgets/base",
          "model_name": "LayoutModel",
          "state": {
            "_view_name": "LayoutView",
            "grid_template_rows": null,
            "right": null,
            "justify_content": null,
            "_view_module": "@jupyter-widgets/base",
            "overflow": null,
            "_model_module_version": "1.2.0",
            "_view_count": null,
            "flex_flow": null,
            "width": null,
            "min_width": null,
            "border": null,
            "align_items": null,
            "bottom": null,
            "_model_module": "@jupyter-widgets/base",
            "top": null,
            "grid_column": null,
            "overflow_y": null,
            "overflow_x": null,
            "grid_auto_flow": null,
            "grid_area": null,
            "grid_template_columns": null,
            "flex": null,
            "_model_name": "LayoutModel",
            "justify_items": null,
            "grid_row": null,
            "max_height": null,
            "align_content": null,
            "visibility": null,
            "align_self": null,
            "height": null,
            "min_height": null,
            "padding": null,
            "grid_auto_rows": null,
            "grid_gap": null,
            "max_width": null,
            "order": null,
            "_view_module_version": "1.2.0",
            "grid_template_areas": null,
            "object_position": null,
            "object_fit": null,
            "grid_auto_columns": null,
            "margin": null,
            "display": null,
            "left": null
          }
        },
        "0d95f543de62449795a772a766fc750e": {
          "model_module": "@jupyter-widgets/controls",
          "model_name": "DescriptionStyleModel",
          "state": {
            "_view_name": "StyleView",
            "_model_name": "DescriptionStyleModel",
            "description_width": "",
            "_view_module": "@jupyter-widgets/base",
            "_model_module_version": "1.5.0",
            "_view_count": null,
            "_view_module_version": "1.2.0",
            "_model_module": "@jupyter-widgets/controls"
          }
        },
        "856a1702ce5e498393e936b20ad112bb": {
          "model_module": "@jupyter-widgets/base",
          "model_name": "LayoutModel",
          "state": {
            "_view_name": "LayoutView",
            "grid_template_rows": null,
            "right": null,
            "justify_content": null,
            "_view_module": "@jupyter-widgets/base",
            "overflow": null,
            "_model_module_version": "1.2.0",
            "_view_count": null,
            "flex_flow": null,
            "width": null,
            "min_width": null,
            "border": null,
            "align_items": null,
            "bottom": null,
            "_model_module": "@jupyter-widgets/base",
            "top": null,
            "grid_column": null,
            "overflow_y": null,
            "overflow_x": null,
            "grid_auto_flow": null,
            "grid_area": null,
            "grid_template_columns": null,
            "flex": null,
            "_model_name": "LayoutModel",
            "justify_items": null,
            "grid_row": null,
            "max_height": null,
            "align_content": null,
            "visibility": null,
            "align_self": null,
            "height": null,
            "min_height": null,
            "padding": null,
            "grid_auto_rows": null,
            "grid_gap": null,
            "max_width": null,
            "order": null,
            "_view_module_version": "1.2.0",
            "grid_template_areas": null,
            "object_position": null,
            "object_fit": null,
            "grid_auto_columns": null,
            "margin": null,
            "display": null,
            "left": null
          }
        },
        "2bab63a726264bf9bc6be7dfaf38a25b": {
          "model_module": "@jupyter-widgets/controls",
          "model_name": "HBoxModel",
          "state": {
            "_view_name": "HBoxView",
            "_dom_classes": [],
            "_model_name": "HBoxModel",
            "_view_module": "@jupyter-widgets/controls",
            "_model_module_version": "1.5.0",
            "_view_count": null,
            "_view_module_version": "1.5.0",
            "box_style": "",
            "layout": "IPY_MODEL_db6ab813c59a4b418e88a8d6ec2bec6a",
            "_model_module": "@jupyter-widgets/controls",
            "children": [
              "IPY_MODEL_ca316afffcf241fa87807a45da5d8f61",
              "IPY_MODEL_5a770c6a729c4e1da5b5a8a9d2be5276"
            ]
          }
        },
        "db6ab813c59a4b418e88a8d6ec2bec6a": {
          "model_module": "@jupyter-widgets/base",
          "model_name": "LayoutModel",
          "state": {
            "_view_name": "LayoutView",
            "grid_template_rows": null,
            "right": null,
            "justify_content": null,
            "_view_module": "@jupyter-widgets/base",
            "overflow": null,
            "_model_module_version": "1.2.0",
            "_view_count": null,
            "flex_flow": null,
            "width": null,
            "min_width": null,
            "border": null,
            "align_items": null,
            "bottom": null,
            "_model_module": "@jupyter-widgets/base",
            "top": null,
            "grid_column": null,
            "overflow_y": null,
            "overflow_x": null,
            "grid_auto_flow": null,
            "grid_area": null,
            "grid_template_columns": null,
            "flex": null,
            "_model_name": "LayoutModel",
            "justify_items": null,
            "grid_row": null,
            "max_height": null,
            "align_content": null,
            "visibility": null,
            "align_self": null,
            "height": null,
            "min_height": null,
            "padding": null,
            "grid_auto_rows": null,
            "grid_gap": null,
            "max_width": null,
            "order": null,
            "_view_module_version": "1.2.0",
            "grid_template_areas": null,
            "object_position": null,
            "object_fit": null,
            "grid_auto_columns": null,
            "margin": null,
            "display": null,
            "left": null
          }
        },
        "ca316afffcf241fa87807a45da5d8f61": {
          "model_module": "@jupyter-widgets/controls",
          "model_name": "FloatProgressModel",
          "state": {
            "_view_name": "ProgressView",
            "style": "IPY_MODEL_27cfba231178404eaadc4fcc32a74ea4",
            "_dom_classes": [],
            "description": "100%",
            "_model_name": "FloatProgressModel",
            "bar_style": "success",
            "max": 510,
            "_view_module": "@jupyter-widgets/controls",
            "_model_module_version": "1.5.0",
            "value": 510,
            "_view_count": null,
            "_view_module_version": "1.5.0",
            "orientation": "horizontal",
            "min": 0,
            "description_tooltip": null,
            "_model_module": "@jupyter-widgets/controls",
            "layout": "IPY_MODEL_9c9448cf6aec4369b9ca0364fdd9d760"
          }
        },
        "5a770c6a729c4e1da5b5a8a9d2be5276": {
          "model_module": "@jupyter-widgets/controls",
          "model_name": "HTMLModel",
          "state": {
            "_view_name": "HTMLView",
            "style": "IPY_MODEL_40af130500904799a12adb3fc1e6b8ef",
            "_dom_classes": [],
            "description": "",
            "_model_name": "HTMLModel",
            "placeholder": "​",
            "_view_module": "@jupyter-widgets/controls",
            "_model_module_version": "1.5.0",
            "value": " 510/510 [00:00&lt;00:00, 2870.64it/s]",
            "_view_count": null,
            "_view_module_version": "1.5.0",
            "description_tooltip": null,
            "_model_module": "@jupyter-widgets/controls",
            "layout": "IPY_MODEL_19f9c1dc15264e5484c2c98563c9891c"
          }
        },
        "27cfba231178404eaadc4fcc32a74ea4": {
          "model_module": "@jupyter-widgets/controls",
          "model_name": "ProgressStyleModel",
          "state": {
            "_view_name": "StyleView",
            "_model_name": "ProgressStyleModel",
            "description_width": "initial",
            "_view_module": "@jupyter-widgets/base",
            "_model_module_version": "1.5.0",
            "_view_count": null,
            "_view_module_version": "1.2.0",
            "bar_color": null,
            "_model_module": "@jupyter-widgets/controls"
          }
        },
        "9c9448cf6aec4369b9ca0364fdd9d760": {
          "model_module": "@jupyter-widgets/base",
          "model_name": "LayoutModel",
          "state": {
            "_view_name": "LayoutView",
            "grid_template_rows": null,
            "right": null,
            "justify_content": null,
            "_view_module": "@jupyter-widgets/base",
            "overflow": null,
            "_model_module_version": "1.2.0",
            "_view_count": null,
            "flex_flow": null,
            "width": null,
            "min_width": null,
            "border": null,
            "align_items": null,
            "bottom": null,
            "_model_module": "@jupyter-widgets/base",
            "top": null,
            "grid_column": null,
            "overflow_y": null,
            "overflow_x": null,
            "grid_auto_flow": null,
            "grid_area": null,
            "grid_template_columns": null,
            "flex": null,
            "_model_name": "LayoutModel",
            "justify_items": null,
            "grid_row": null,
            "max_height": null,
            "align_content": null,
            "visibility": null,
            "align_self": null,
            "height": null,
            "min_height": null,
            "padding": null,
            "grid_auto_rows": null,
            "grid_gap": null,
            "max_width": null,
            "order": null,
            "_view_module_version": "1.2.0",
            "grid_template_areas": null,
            "object_position": null,
            "object_fit": null,
            "grid_auto_columns": null,
            "margin": null,
            "display": null,
            "left": null
          }
        },
        "40af130500904799a12adb3fc1e6b8ef": {
          "model_module": "@jupyter-widgets/controls",
          "model_name": "DescriptionStyleModel",
          "state": {
            "_view_name": "StyleView",
            "_model_name": "DescriptionStyleModel",
            "description_width": "",
            "_view_module": "@jupyter-widgets/base",
            "_model_module_version": "1.5.0",
            "_view_count": null,
            "_view_module_version": "1.2.0",
            "_model_module": "@jupyter-widgets/controls"
          }
        },
        "19f9c1dc15264e5484c2c98563c9891c": {
          "model_module": "@jupyter-widgets/base",
          "model_name": "LayoutModel",
          "state": {
            "_view_name": "LayoutView",
            "grid_template_rows": null,
            "right": null,
            "justify_content": null,
            "_view_module": "@jupyter-widgets/base",
            "overflow": null,
            "_model_module_version": "1.2.0",
            "_view_count": null,
            "flex_flow": null,
            "width": null,
            "min_width": null,
            "border": null,
            "align_items": null,
            "bottom": null,
            "_model_module": "@jupyter-widgets/base",
            "top": null,
            "grid_column": null,
            "overflow_y": null,
            "overflow_x": null,
            "grid_auto_flow": null,
            "grid_area": null,
            "grid_template_columns": null,
            "flex": null,
            "_model_name": "LayoutModel",
            "justify_items": null,
            "grid_row": null,
            "max_height": null,
            "align_content": null,
            "visibility": null,
            "align_self": null,
            "height": null,
            "min_height": null,
            "padding": null,
            "grid_auto_rows": null,
            "grid_gap": null,
            "max_width": null,
            "order": null,
            "_view_module_version": "1.2.0",
            "grid_template_areas": null,
            "object_position": null,
            "object_fit": null,
            "grid_auto_columns": null,
            "margin": null,
            "display": null,
            "left": null
          }
        },
        "6de0390dfbf847c98dfcb90c19bd13cd": {
          "model_module": "@jupyter-widgets/controls",
          "model_name": "HBoxModel",
          "state": {
            "_view_name": "HBoxView",
            "_dom_classes": [],
            "_model_name": "HBoxModel",
            "_view_module": "@jupyter-widgets/controls",
            "_model_module_version": "1.5.0",
            "_view_count": null,
            "_view_module_version": "1.5.0",
            "box_style": "",
            "layout": "IPY_MODEL_768d6f79e49b4f1bb534bffdd94d35ac",
            "_model_module": "@jupyter-widgets/controls",
            "children": [
              "IPY_MODEL_475d8c3c5f1c49a78a2f729bc5479d45",
              "IPY_MODEL_1e28072827b24d5da600d207626ca653"
            ]
          }
        },
        "768d6f79e49b4f1bb534bffdd94d35ac": {
          "model_module": "@jupyter-widgets/base",
          "model_name": "LayoutModel",
          "state": {
            "_view_name": "LayoutView",
            "grid_template_rows": null,
            "right": null,
            "justify_content": null,
            "_view_module": "@jupyter-widgets/base",
            "overflow": null,
            "_model_module_version": "1.2.0",
            "_view_count": null,
            "flex_flow": null,
            "width": null,
            "min_width": null,
            "border": null,
            "align_items": null,
            "bottom": null,
            "_model_module": "@jupyter-widgets/base",
            "top": null,
            "grid_column": null,
            "overflow_y": null,
            "overflow_x": null,
            "grid_auto_flow": null,
            "grid_area": null,
            "grid_template_columns": null,
            "flex": null,
            "_model_name": "LayoutModel",
            "justify_items": null,
            "grid_row": null,
            "max_height": null,
            "align_content": null,
            "visibility": null,
            "align_self": null,
            "height": null,
            "min_height": null,
            "padding": null,
            "grid_auto_rows": null,
            "grid_gap": null,
            "max_width": null,
            "order": null,
            "_view_module_version": "1.2.0",
            "grid_template_areas": null,
            "object_position": null,
            "object_fit": null,
            "grid_auto_columns": null,
            "margin": null,
            "display": null,
            "left": null
          }
        },
        "475d8c3c5f1c49a78a2f729bc5479d45": {
          "model_module": "@jupyter-widgets/controls",
          "model_name": "FloatProgressModel",
          "state": {
            "_view_name": "ProgressView",
            "style": "IPY_MODEL_aff2c634e87044e19de92217d58ed317",
            "_dom_classes": [],
            "description": "100%",
            "_model_name": "FloatProgressModel",
            "bar_style": "success",
            "max": 386,
            "_view_module": "@jupyter-widgets/controls",
            "_model_module_version": "1.5.0",
            "value": 386,
            "_view_count": null,
            "_view_module_version": "1.5.0",
            "orientation": "horizontal",
            "min": 0,
            "description_tooltip": null,
            "_model_module": "@jupyter-widgets/controls",
            "layout": "IPY_MODEL_c705a6d04021405ba561237cf4a6eba5"
          }
        },
        "1e28072827b24d5da600d207626ca653": {
          "model_module": "@jupyter-widgets/controls",
          "model_name": "HTMLModel",
          "state": {
            "_view_name": "HTMLView",
            "style": "IPY_MODEL_a39c085bd66c4b43ba6aae230429264b",
            "_dom_classes": [],
            "description": "",
            "_model_name": "HTMLModel",
            "placeholder": "​",
            "_view_module": "@jupyter-widgets/controls",
            "_model_module_version": "1.5.0",
            "value": " 386/386 [00:00&lt;00:00, 4157.51it/s]",
            "_view_count": null,
            "_view_module_version": "1.5.0",
            "description_tooltip": null,
            "_model_module": "@jupyter-widgets/controls",
            "layout": "IPY_MODEL_3ba5c4cac00d4bad9226af2227d3bc2e"
          }
        },
        "aff2c634e87044e19de92217d58ed317": {
          "model_module": "@jupyter-widgets/controls",
          "model_name": "ProgressStyleModel",
          "state": {
            "_view_name": "StyleView",
            "_model_name": "ProgressStyleModel",
            "description_width": "initial",
            "_view_module": "@jupyter-widgets/base",
            "_model_module_version": "1.5.0",
            "_view_count": null,
            "_view_module_version": "1.2.0",
            "bar_color": null,
            "_model_module": "@jupyter-widgets/controls"
          }
        },
        "c705a6d04021405ba561237cf4a6eba5": {
          "model_module": "@jupyter-widgets/base",
          "model_name": "LayoutModel",
          "state": {
            "_view_name": "LayoutView",
            "grid_template_rows": null,
            "right": null,
            "justify_content": null,
            "_view_module": "@jupyter-widgets/base",
            "overflow": null,
            "_model_module_version": "1.2.0",
            "_view_count": null,
            "flex_flow": null,
            "width": null,
            "min_width": null,
            "border": null,
            "align_items": null,
            "bottom": null,
            "_model_module": "@jupyter-widgets/base",
            "top": null,
            "grid_column": null,
            "overflow_y": null,
            "overflow_x": null,
            "grid_auto_flow": null,
            "grid_area": null,
            "grid_template_columns": null,
            "flex": null,
            "_model_name": "LayoutModel",
            "justify_items": null,
            "grid_row": null,
            "max_height": null,
            "align_content": null,
            "visibility": null,
            "align_self": null,
            "height": null,
            "min_height": null,
            "padding": null,
            "grid_auto_rows": null,
            "grid_gap": null,
            "max_width": null,
            "order": null,
            "_view_module_version": "1.2.0",
            "grid_template_areas": null,
            "object_position": null,
            "object_fit": null,
            "grid_auto_columns": null,
            "margin": null,
            "display": null,
            "left": null
          }
        },
        "a39c085bd66c4b43ba6aae230429264b": {
          "model_module": "@jupyter-widgets/controls",
          "model_name": "DescriptionStyleModel",
          "state": {
            "_view_name": "StyleView",
            "_model_name": "DescriptionStyleModel",
            "description_width": "",
            "_view_module": "@jupyter-widgets/base",
            "_model_module_version": "1.5.0",
            "_view_count": null,
            "_view_module_version": "1.2.0",
            "_model_module": "@jupyter-widgets/controls"
          }
        },
        "3ba5c4cac00d4bad9226af2227d3bc2e": {
          "model_module": "@jupyter-widgets/base",
          "model_name": "LayoutModel",
          "state": {
            "_view_name": "LayoutView",
            "grid_template_rows": null,
            "right": null,
            "justify_content": null,
            "_view_module": "@jupyter-widgets/base",
            "overflow": null,
            "_model_module_version": "1.2.0",
            "_view_count": null,
            "flex_flow": null,
            "width": null,
            "min_width": null,
            "border": null,
            "align_items": null,
            "bottom": null,
            "_model_module": "@jupyter-widgets/base",
            "top": null,
            "grid_column": null,
            "overflow_y": null,
            "overflow_x": null,
            "grid_auto_flow": null,
            "grid_area": null,
            "grid_template_columns": null,
            "flex": null,
            "_model_name": "LayoutModel",
            "justify_items": null,
            "grid_row": null,
            "max_height": null,
            "align_content": null,
            "visibility": null,
            "align_self": null,
            "height": null,
            "min_height": null,
            "padding": null,
            "grid_auto_rows": null,
            "grid_gap": null,
            "max_width": null,
            "order": null,
            "_view_module_version": "1.2.0",
            "grid_template_areas": null,
            "object_position": null,
            "object_fit": null,
            "grid_auto_columns": null,
            "margin": null,
            "display": null,
            "left": null
          }
        },
        "50636ecac10c42e7bf65409866f9d90a": {
          "model_module": "@jupyter-widgets/controls",
          "model_name": "HBoxModel",
          "state": {
            "_view_name": "HBoxView",
            "_dom_classes": [],
            "_model_name": "HBoxModel",
            "_view_module": "@jupyter-widgets/controls",
            "_model_module_version": "1.5.0",
            "_view_count": null,
            "_view_module_version": "1.5.0",
            "box_style": "",
            "layout": "IPY_MODEL_560b0ccbf7104815a7d341223881e6d2",
            "_model_module": "@jupyter-widgets/controls",
            "children": [
              "IPY_MODEL_45fa82cc9bd8494aa1fe37da99b6cec2",
              "IPY_MODEL_86af33f1746d4df8bf8d0c81daa3776e"
            ]
          }
        },
        "560b0ccbf7104815a7d341223881e6d2": {
          "model_module": "@jupyter-widgets/base",
          "model_name": "LayoutModel",
          "state": {
            "_view_name": "LayoutView",
            "grid_template_rows": null,
            "right": null,
            "justify_content": null,
            "_view_module": "@jupyter-widgets/base",
            "overflow": null,
            "_model_module_version": "1.2.0",
            "_view_count": null,
            "flex_flow": null,
            "width": null,
            "min_width": null,
            "border": null,
            "align_items": null,
            "bottom": null,
            "_model_module": "@jupyter-widgets/base",
            "top": null,
            "grid_column": null,
            "overflow_y": null,
            "overflow_x": null,
            "grid_auto_flow": null,
            "grid_area": null,
            "grid_template_columns": null,
            "flex": null,
            "_model_name": "LayoutModel",
            "justify_items": null,
            "grid_row": null,
            "max_height": null,
            "align_content": null,
            "visibility": null,
            "align_self": null,
            "height": null,
            "min_height": null,
            "padding": null,
            "grid_auto_rows": null,
            "grid_gap": null,
            "max_width": null,
            "order": null,
            "_view_module_version": "1.2.0",
            "grid_template_areas": null,
            "object_position": null,
            "object_fit": null,
            "grid_auto_columns": null,
            "margin": null,
            "display": null,
            "left": null
          }
        },
        "45fa82cc9bd8494aa1fe37da99b6cec2": {
          "model_module": "@jupyter-widgets/controls",
          "model_name": "FloatProgressModel",
          "state": {
            "_view_name": "ProgressView",
            "style": "IPY_MODEL_fece9c14638940dab4a7139f4002c5e9",
            "_dom_classes": [],
            "description": "100%",
            "_model_name": "FloatProgressModel",
            "bar_style": "success",
            "max": 1335,
            "_view_module": "@jupyter-widgets/controls",
            "_model_module_version": "1.5.0",
            "value": 1335,
            "_view_count": null,
            "_view_module_version": "1.5.0",
            "orientation": "horizontal",
            "min": 0,
            "description_tooltip": null,
            "_model_module": "@jupyter-widgets/controls",
            "layout": "IPY_MODEL_38e1e1c803d34a6cbfa8f4e9c6a87f26"
          }
        },
        "86af33f1746d4df8bf8d0c81daa3776e": {
          "model_module": "@jupyter-widgets/controls",
          "model_name": "HTMLModel",
          "state": {
            "_view_name": "HTMLView",
            "style": "IPY_MODEL_7db483c669d14c41a32d959beb853c11",
            "_dom_classes": [],
            "description": "",
            "_model_name": "HTMLModel",
            "placeholder": "​",
            "_view_module": "@jupyter-widgets/controls",
            "_model_module_version": "1.5.0",
            "value": " 1335/1335 [00:07&lt;00:00, 180.98it/s]",
            "_view_count": null,
            "_view_module_version": "1.5.0",
            "description_tooltip": null,
            "_model_module": "@jupyter-widgets/controls",
            "layout": "IPY_MODEL_8f9fc390ff8646cdb76f122210d63fad"
          }
        },
        "fece9c14638940dab4a7139f4002c5e9": {
          "model_module": "@jupyter-widgets/controls",
          "model_name": "ProgressStyleModel",
          "state": {
            "_view_name": "StyleView",
            "_model_name": "ProgressStyleModel",
            "description_width": "initial",
            "_view_module": "@jupyter-widgets/base",
            "_model_module_version": "1.5.0",
            "_view_count": null,
            "_view_module_version": "1.2.0",
            "bar_color": null,
            "_model_module": "@jupyter-widgets/controls"
          }
        },
        "38e1e1c803d34a6cbfa8f4e9c6a87f26": {
          "model_module": "@jupyter-widgets/base",
          "model_name": "LayoutModel",
          "state": {
            "_view_name": "LayoutView",
            "grid_template_rows": null,
            "right": null,
            "justify_content": null,
            "_view_module": "@jupyter-widgets/base",
            "overflow": null,
            "_model_module_version": "1.2.0",
            "_view_count": null,
            "flex_flow": null,
            "width": null,
            "min_width": null,
            "border": null,
            "align_items": null,
            "bottom": null,
            "_model_module": "@jupyter-widgets/base",
            "top": null,
            "grid_column": null,
            "overflow_y": null,
            "overflow_x": null,
            "grid_auto_flow": null,
            "grid_area": null,
            "grid_template_columns": null,
            "flex": null,
            "_model_name": "LayoutModel",
            "justify_items": null,
            "grid_row": null,
            "max_height": null,
            "align_content": null,
            "visibility": null,
            "align_self": null,
            "height": null,
            "min_height": null,
            "padding": null,
            "grid_auto_rows": null,
            "grid_gap": null,
            "max_width": null,
            "order": null,
            "_view_module_version": "1.2.0",
            "grid_template_areas": null,
            "object_position": null,
            "object_fit": null,
            "grid_auto_columns": null,
            "margin": null,
            "display": null,
            "left": null
          }
        },
        "7db483c669d14c41a32d959beb853c11": {
          "model_module": "@jupyter-widgets/controls",
          "model_name": "DescriptionStyleModel",
          "state": {
            "_view_name": "StyleView",
            "_model_name": "DescriptionStyleModel",
            "description_width": "",
            "_view_module": "@jupyter-widgets/base",
            "_model_module_version": "1.5.0",
            "_view_count": null,
            "_view_module_version": "1.2.0",
            "_model_module": "@jupyter-widgets/controls"
          }
        },
        "8f9fc390ff8646cdb76f122210d63fad": {
          "model_module": "@jupyter-widgets/base",
          "model_name": "LayoutModel",
          "state": {
            "_view_name": "LayoutView",
            "grid_template_rows": null,
            "right": null,
            "justify_content": null,
            "_view_module": "@jupyter-widgets/base",
            "overflow": null,
            "_model_module_version": "1.2.0",
            "_view_count": null,
            "flex_flow": null,
            "width": null,
            "min_width": null,
            "border": null,
            "align_items": null,
            "bottom": null,
            "_model_module": "@jupyter-widgets/base",
            "top": null,
            "grid_column": null,
            "overflow_y": null,
            "overflow_x": null,
            "grid_auto_flow": null,
            "grid_area": null,
            "grid_template_columns": null,
            "flex": null,
            "_model_name": "LayoutModel",
            "justify_items": null,
            "grid_row": null,
            "max_height": null,
            "align_content": null,
            "visibility": null,
            "align_self": null,
            "height": null,
            "min_height": null,
            "padding": null,
            "grid_auto_rows": null,
            "grid_gap": null,
            "max_width": null,
            "order": null,
            "_view_module_version": "1.2.0",
            "grid_template_areas": null,
            "object_position": null,
            "object_fit": null,
            "grid_auto_columns": null,
            "margin": null,
            "display": null,
            "left": null
          }
        },
        "1bef850956134ce6a531d95162793aae": {
          "model_module": "@jupyter-widgets/controls",
          "model_name": "HBoxModel",
          "state": {
            "_view_name": "HBoxView",
            "_dom_classes": [],
            "_model_name": "HBoxModel",
            "_view_module": "@jupyter-widgets/controls",
            "_model_module_version": "1.5.0",
            "_view_count": null,
            "_view_module_version": "1.5.0",
            "box_style": "",
            "layout": "IPY_MODEL_da1eeab4ed454962a0937f7029c2a0ec",
            "_model_module": "@jupyter-widgets/controls",
            "children": [
              "IPY_MODEL_a41b829358484c9ba8226bd8fd06439f",
              "IPY_MODEL_595be51bf0754ce482eff7fff1083cec"
            ]
          }
        },
        "da1eeab4ed454962a0937f7029c2a0ec": {
          "model_module": "@jupyter-widgets/base",
          "model_name": "LayoutModel",
          "state": {
            "_view_name": "LayoutView",
            "grid_template_rows": null,
            "right": null,
            "justify_content": null,
            "_view_module": "@jupyter-widgets/base",
            "overflow": null,
            "_model_module_version": "1.2.0",
            "_view_count": null,
            "flex_flow": null,
            "width": null,
            "min_width": null,
            "border": null,
            "align_items": null,
            "bottom": null,
            "_model_module": "@jupyter-widgets/base",
            "top": null,
            "grid_column": null,
            "overflow_y": null,
            "overflow_x": null,
            "grid_auto_flow": null,
            "grid_area": null,
            "grid_template_columns": null,
            "flex": null,
            "_model_name": "LayoutModel",
            "justify_items": null,
            "grid_row": null,
            "max_height": null,
            "align_content": null,
            "visibility": null,
            "align_self": null,
            "height": null,
            "min_height": null,
            "padding": null,
            "grid_auto_rows": null,
            "grid_gap": null,
            "max_width": null,
            "order": null,
            "_view_module_version": "1.2.0",
            "grid_template_areas": null,
            "object_position": null,
            "object_fit": null,
            "grid_auto_columns": null,
            "margin": null,
            "display": null,
            "left": null
          }
        },
        "a41b829358484c9ba8226bd8fd06439f": {
          "model_module": "@jupyter-widgets/controls",
          "model_name": "FloatProgressModel",
          "state": {
            "_view_name": "ProgressView",
            "style": "IPY_MODEL_52d4aa6d3d3b4de4b51a94ce7a5a1722",
            "_dom_classes": [],
            "description": "100%",
            "_model_name": "FloatProgressModel",
            "bar_style": "success",
            "max": 445,
            "_view_module": "@jupyter-widgets/controls",
            "_model_module_version": "1.5.0",
            "value": 445,
            "_view_count": null,
            "_view_module_version": "1.5.0",
            "orientation": "horizontal",
            "min": 0,
            "description_tooltip": null,
            "_model_module": "@jupyter-widgets/controls",
            "layout": "IPY_MODEL_97d85c9dbd0948bd8ab43b3616358684"
          }
        },
        "595be51bf0754ce482eff7fff1083cec": {
          "model_module": "@jupyter-widgets/controls",
          "model_name": "HTMLModel",
          "state": {
            "_view_name": "HTMLView",
            "style": "IPY_MODEL_f427e2af49f14af0bb3ec1ef317932d9",
            "_dom_classes": [],
            "description": "",
            "_model_name": "HTMLModel",
            "placeholder": "​",
            "_view_module": "@jupyter-widgets/controls",
            "_model_module_version": "1.5.0",
            "value": " 445/445 [00:02&lt;00:00, 177.25it/s]",
            "_view_count": null,
            "_view_module_version": "1.5.0",
            "description_tooltip": null,
            "_model_module": "@jupyter-widgets/controls",
            "layout": "IPY_MODEL_cc98a7efa83b43da9d07787a9dc69cb8"
          }
        },
        "52d4aa6d3d3b4de4b51a94ce7a5a1722": {
          "model_module": "@jupyter-widgets/controls",
          "model_name": "ProgressStyleModel",
          "state": {
            "_view_name": "StyleView",
            "_model_name": "ProgressStyleModel",
            "description_width": "initial",
            "_view_module": "@jupyter-widgets/base",
            "_model_module_version": "1.5.0",
            "_view_count": null,
            "_view_module_version": "1.2.0",
            "bar_color": null,
            "_model_module": "@jupyter-widgets/controls"
          }
        },
        "97d85c9dbd0948bd8ab43b3616358684": {
          "model_module": "@jupyter-widgets/base",
          "model_name": "LayoutModel",
          "state": {
            "_view_name": "LayoutView",
            "grid_template_rows": null,
            "right": null,
            "justify_content": null,
            "_view_module": "@jupyter-widgets/base",
            "overflow": null,
            "_model_module_version": "1.2.0",
            "_view_count": null,
            "flex_flow": null,
            "width": null,
            "min_width": null,
            "border": null,
            "align_items": null,
            "bottom": null,
            "_model_module": "@jupyter-widgets/base",
            "top": null,
            "grid_column": null,
            "overflow_y": null,
            "overflow_x": null,
            "grid_auto_flow": null,
            "grid_area": null,
            "grid_template_columns": null,
            "flex": null,
            "_model_name": "LayoutModel",
            "justify_items": null,
            "grid_row": null,
            "max_height": null,
            "align_content": null,
            "visibility": null,
            "align_self": null,
            "height": null,
            "min_height": null,
            "padding": null,
            "grid_auto_rows": null,
            "grid_gap": null,
            "max_width": null,
            "order": null,
            "_view_module_version": "1.2.0",
            "grid_template_areas": null,
            "object_position": null,
            "object_fit": null,
            "grid_auto_columns": null,
            "margin": null,
            "display": null,
            "left": null
          }
        },
        "f427e2af49f14af0bb3ec1ef317932d9": {
          "model_module": "@jupyter-widgets/controls",
          "model_name": "DescriptionStyleModel",
          "state": {
            "_view_name": "StyleView",
            "_model_name": "DescriptionStyleModel",
            "description_width": "",
            "_view_module": "@jupyter-widgets/base",
            "_model_module_version": "1.5.0",
            "_view_count": null,
            "_view_module_version": "1.2.0",
            "_model_module": "@jupyter-widgets/controls"
          }
        },
        "cc98a7efa83b43da9d07787a9dc69cb8": {
          "model_module": "@jupyter-widgets/base",
          "model_name": "LayoutModel",
          "state": {
            "_view_name": "LayoutView",
            "grid_template_rows": null,
            "right": null,
            "justify_content": null,
            "_view_module": "@jupyter-widgets/base",
            "overflow": null,
            "_model_module_version": "1.2.0",
            "_view_count": null,
            "flex_flow": null,
            "width": null,
            "min_width": null,
            "border": null,
            "align_items": null,
            "bottom": null,
            "_model_module": "@jupyter-widgets/base",
            "top": null,
            "grid_column": null,
            "overflow_y": null,
            "overflow_x": null,
            "grid_auto_flow": null,
            "grid_area": null,
            "grid_template_columns": null,
            "flex": null,
            "_model_name": "LayoutModel",
            "justify_items": null,
            "grid_row": null,
            "max_height": null,
            "align_content": null,
            "visibility": null,
            "align_self": null,
            "height": null,
            "min_height": null,
            "padding": null,
            "grid_auto_rows": null,
            "grid_gap": null,
            "max_width": null,
            "order": null,
            "_view_module_version": "1.2.0",
            "grid_template_areas": null,
            "object_position": null,
            "object_fit": null,
            "grid_auto_columns": null,
            "margin": null,
            "display": null,
            "left": null
          }
        },
        "a1e59a066d38401fa78880894a9e57c2": {
          "model_module": "@jupyter-widgets/controls",
          "model_name": "HBoxModel",
          "state": {
            "_view_name": "HBoxView",
            "_dom_classes": [],
            "_model_name": "HBoxModel",
            "_view_module": "@jupyter-widgets/controls",
            "_model_module_version": "1.5.0",
            "_view_count": null,
            "_view_module_version": "1.5.0",
            "box_style": "",
            "layout": "IPY_MODEL_6cf1cdf347604bda8e6990b63dea8962",
            "_model_module": "@jupyter-widgets/controls",
            "children": [
              "IPY_MODEL_aaf05ca3a77a4dd7af1b9246dc135fa9",
              "IPY_MODEL_b00fa3e8125d4a8d9899f4f8506741da"
            ]
          }
        },
        "6cf1cdf347604bda8e6990b63dea8962": {
          "model_module": "@jupyter-widgets/base",
          "model_name": "LayoutModel",
          "state": {
            "_view_name": "LayoutView",
            "grid_template_rows": null,
            "right": null,
            "justify_content": null,
            "_view_module": "@jupyter-widgets/base",
            "overflow": null,
            "_model_module_version": "1.2.0",
            "_view_count": null,
            "flex_flow": null,
            "width": null,
            "min_width": null,
            "border": null,
            "align_items": null,
            "bottom": null,
            "_model_module": "@jupyter-widgets/base",
            "top": null,
            "grid_column": null,
            "overflow_y": null,
            "overflow_x": null,
            "grid_auto_flow": null,
            "grid_area": null,
            "grid_template_columns": null,
            "flex": null,
            "_model_name": "LayoutModel",
            "justify_items": null,
            "grid_row": null,
            "max_height": null,
            "align_content": null,
            "visibility": null,
            "align_self": null,
            "height": null,
            "min_height": null,
            "padding": null,
            "grid_auto_rows": null,
            "grid_gap": null,
            "max_width": null,
            "order": null,
            "_view_module_version": "1.2.0",
            "grid_template_areas": null,
            "object_position": null,
            "object_fit": null,
            "grid_auto_columns": null,
            "margin": null,
            "display": null,
            "left": null
          }
        },
        "aaf05ca3a77a4dd7af1b9246dc135fa9": {
          "model_module": "@jupyter-widgets/controls",
          "model_name": "FloatProgressModel",
          "state": {
            "_view_name": "ProgressView",
            "style": "IPY_MODEL_fc1f2fc7e55e4abb8da6c4258942485a",
            "_dom_classes": [],
            "description": "100%",
            "_model_name": "FloatProgressModel",
            "bar_style": "success",
            "max": 445,
            "_view_module": "@jupyter-widgets/controls",
            "_model_module_version": "1.5.0",
            "value": 445,
            "_view_count": null,
            "_view_module_version": "1.5.0",
            "orientation": "horizontal",
            "min": 0,
            "description_tooltip": null,
            "_model_module": "@jupyter-widgets/controls",
            "layout": "IPY_MODEL_516d06820e32462c80ada6d22594d9c3"
          }
        },
        "b00fa3e8125d4a8d9899f4f8506741da": {
          "model_module": "@jupyter-widgets/controls",
          "model_name": "HTMLModel",
          "state": {
            "_view_name": "HTMLView",
            "style": "IPY_MODEL_9726581306c64a2c95e94d47b2ec1092",
            "_dom_classes": [],
            "description": "",
            "_model_name": "HTMLModel",
            "placeholder": "​",
            "_view_module": "@jupyter-widgets/controls",
            "_model_module_version": "1.5.0",
            "value": " 445/445 [00:01&lt;00:00, 254.22it/s]",
            "_view_count": null,
            "_view_module_version": "1.5.0",
            "description_tooltip": null,
            "_model_module": "@jupyter-widgets/controls",
            "layout": "IPY_MODEL_1485d638c4664fd385f5b195c27de8d8"
          }
        },
        "fc1f2fc7e55e4abb8da6c4258942485a": {
          "model_module": "@jupyter-widgets/controls",
          "model_name": "ProgressStyleModel",
          "state": {
            "_view_name": "StyleView",
            "_model_name": "ProgressStyleModel",
            "description_width": "initial",
            "_view_module": "@jupyter-widgets/base",
            "_model_module_version": "1.5.0",
            "_view_count": null,
            "_view_module_version": "1.2.0",
            "bar_color": null,
            "_model_module": "@jupyter-widgets/controls"
          }
        },
        "516d06820e32462c80ada6d22594d9c3": {
          "model_module": "@jupyter-widgets/base",
          "model_name": "LayoutModel",
          "state": {
            "_view_name": "LayoutView",
            "grid_template_rows": null,
            "right": null,
            "justify_content": null,
            "_view_module": "@jupyter-widgets/base",
            "overflow": null,
            "_model_module_version": "1.2.0",
            "_view_count": null,
            "flex_flow": null,
            "width": null,
            "min_width": null,
            "border": null,
            "align_items": null,
            "bottom": null,
            "_model_module": "@jupyter-widgets/base",
            "top": null,
            "grid_column": null,
            "overflow_y": null,
            "overflow_x": null,
            "grid_auto_flow": null,
            "grid_area": null,
            "grid_template_columns": null,
            "flex": null,
            "_model_name": "LayoutModel",
            "justify_items": null,
            "grid_row": null,
            "max_height": null,
            "align_content": null,
            "visibility": null,
            "align_self": null,
            "height": null,
            "min_height": null,
            "padding": null,
            "grid_auto_rows": null,
            "grid_gap": null,
            "max_width": null,
            "order": null,
            "_view_module_version": "1.2.0",
            "grid_template_areas": null,
            "object_position": null,
            "object_fit": null,
            "grid_auto_columns": null,
            "margin": null,
            "display": null,
            "left": null
          }
        },
        "9726581306c64a2c95e94d47b2ec1092": {
          "model_module": "@jupyter-widgets/controls",
          "model_name": "DescriptionStyleModel",
          "state": {
            "_view_name": "StyleView",
            "_model_name": "DescriptionStyleModel",
            "description_width": "",
            "_view_module": "@jupyter-widgets/base",
            "_model_module_version": "1.5.0",
            "_view_count": null,
            "_view_module_version": "1.2.0",
            "_model_module": "@jupyter-widgets/controls"
          }
        },
        "1485d638c4664fd385f5b195c27de8d8": {
          "model_module": "@jupyter-widgets/base",
          "model_name": "LayoutModel",
          "state": {
            "_view_name": "LayoutView",
            "grid_template_rows": null,
            "right": null,
            "justify_content": null,
            "_view_module": "@jupyter-widgets/base",
            "overflow": null,
            "_model_module_version": "1.2.0",
            "_view_count": null,
            "flex_flow": null,
            "width": null,
            "min_width": null,
            "border": null,
            "align_items": null,
            "bottom": null,
            "_model_module": "@jupyter-widgets/base",
            "top": null,
            "grid_column": null,
            "overflow_y": null,
            "overflow_x": null,
            "grid_auto_flow": null,
            "grid_area": null,
            "grid_template_columns": null,
            "flex": null,
            "_model_name": "LayoutModel",
            "justify_items": null,
            "grid_row": null,
            "max_height": null,
            "align_content": null,
            "visibility": null,
            "align_self": null,
            "height": null,
            "min_height": null,
            "padding": null,
            "grid_auto_rows": null,
            "grid_gap": null,
            "max_width": null,
            "order": null,
            "_view_module_version": "1.2.0",
            "grid_template_areas": null,
            "object_position": null,
            "object_fit": null,
            "grid_auto_columns": null,
            "margin": null,
            "display": null,
            "left": null
          }
        },
        "530a8cc7e6e34165bc5d23ceb4d147f8": {
          "model_module": "@jupyter-widgets/controls",
          "model_name": "HBoxModel",
          "state": {
            "_view_name": "HBoxView",
            "_dom_classes": [],
            "_model_name": "HBoxModel",
            "_view_module": "@jupyter-widgets/controls",
            "_model_module_version": "1.5.0",
            "_view_count": null,
            "_view_module_version": "1.5.0",
            "box_style": "",
            "layout": "IPY_MODEL_bc4bc7bb0b7e4dbdbe03ae1f3dacfc09",
            "_model_module": "@jupyter-widgets/controls",
            "children": [
              "IPY_MODEL_3acdd37481514633b6c756932ffa7f9b",
              "IPY_MODEL_6246e766e11b4d8fbc20c0af7c5abbe9"
            ]
          }
        },
        "bc4bc7bb0b7e4dbdbe03ae1f3dacfc09": {
          "model_module": "@jupyter-widgets/base",
          "model_name": "LayoutModel",
          "state": {
            "_view_name": "LayoutView",
            "grid_template_rows": null,
            "right": null,
            "justify_content": null,
            "_view_module": "@jupyter-widgets/base",
            "overflow": null,
            "_model_module_version": "1.2.0",
            "_view_count": null,
            "flex_flow": null,
            "width": null,
            "min_width": null,
            "border": null,
            "align_items": null,
            "bottom": null,
            "_model_module": "@jupyter-widgets/base",
            "top": null,
            "grid_column": null,
            "overflow_y": null,
            "overflow_x": null,
            "grid_auto_flow": null,
            "grid_area": null,
            "grid_template_columns": null,
            "flex": null,
            "_model_name": "LayoutModel",
            "justify_items": null,
            "grid_row": null,
            "max_height": null,
            "align_content": null,
            "visibility": null,
            "align_self": null,
            "height": null,
            "min_height": null,
            "padding": null,
            "grid_auto_rows": null,
            "grid_gap": null,
            "max_width": null,
            "order": null,
            "_view_module_version": "1.2.0",
            "grid_template_areas": null,
            "object_position": null,
            "object_fit": null,
            "grid_auto_columns": null,
            "margin": null,
            "display": null,
            "left": null
          }
        },
        "3acdd37481514633b6c756932ffa7f9b": {
          "model_module": "@jupyter-widgets/controls",
          "model_name": "FloatProgressModel",
          "state": {
            "_view_name": "ProgressView",
            "style": "IPY_MODEL_147c2b07149b4dc981205da05c2cf3e5",
            "_dom_classes": [],
            "description": "100%",
            "_model_name": "FloatProgressModel",
            "bar_style": "success",
            "max": 1335,
            "_view_module": "@jupyter-widgets/controls",
            "_model_module_version": "1.5.0",
            "value": 1335,
            "_view_count": null,
            "_view_module_version": "1.5.0",
            "orientation": "horizontal",
            "min": 0,
            "description_tooltip": null,
            "_model_module": "@jupyter-widgets/controls",
            "layout": "IPY_MODEL_2b376878abe7478fb50bcbc4ec87975b"
          }
        },
        "6246e766e11b4d8fbc20c0af7c5abbe9": {
          "model_module": "@jupyter-widgets/controls",
          "model_name": "HTMLModel",
          "state": {
            "_view_name": "HTMLView",
            "style": "IPY_MODEL_defcae376859415db36cab9e06c59620",
            "_dom_classes": [],
            "description": "",
            "_model_name": "HTMLModel",
            "placeholder": "​",
            "_view_module": "@jupyter-widgets/controls",
            "_model_module_version": "1.5.0",
            "value": " 1335/1335 [00:54&lt;00:00, 24.51it/s]",
            "_view_count": null,
            "_view_module_version": "1.5.0",
            "description_tooltip": null,
            "_model_module": "@jupyter-widgets/controls",
            "layout": "IPY_MODEL_bcf95147fb124c118826f14eb30e128c"
          }
        },
        "147c2b07149b4dc981205da05c2cf3e5": {
          "model_module": "@jupyter-widgets/controls",
          "model_name": "ProgressStyleModel",
          "state": {
            "_view_name": "StyleView",
            "_model_name": "ProgressStyleModel",
            "description_width": "initial",
            "_view_module": "@jupyter-widgets/base",
            "_model_module_version": "1.5.0",
            "_view_count": null,
            "_view_module_version": "1.2.0",
            "bar_color": null,
            "_model_module": "@jupyter-widgets/controls"
          }
        },
        "2b376878abe7478fb50bcbc4ec87975b": {
          "model_module": "@jupyter-widgets/base",
          "model_name": "LayoutModel",
          "state": {
            "_view_name": "LayoutView",
            "grid_template_rows": null,
            "right": null,
            "justify_content": null,
            "_view_module": "@jupyter-widgets/base",
            "overflow": null,
            "_model_module_version": "1.2.0",
            "_view_count": null,
            "flex_flow": null,
            "width": null,
            "min_width": null,
            "border": null,
            "align_items": null,
            "bottom": null,
            "_model_module": "@jupyter-widgets/base",
            "top": null,
            "grid_column": null,
            "overflow_y": null,
            "overflow_x": null,
            "grid_auto_flow": null,
            "grid_area": null,
            "grid_template_columns": null,
            "flex": null,
            "_model_name": "LayoutModel",
            "justify_items": null,
            "grid_row": null,
            "max_height": null,
            "align_content": null,
            "visibility": null,
            "align_self": null,
            "height": null,
            "min_height": null,
            "padding": null,
            "grid_auto_rows": null,
            "grid_gap": null,
            "max_width": null,
            "order": null,
            "_view_module_version": "1.2.0",
            "grid_template_areas": null,
            "object_position": null,
            "object_fit": null,
            "grid_auto_columns": null,
            "margin": null,
            "display": null,
            "left": null
          }
        },
        "defcae376859415db36cab9e06c59620": {
          "model_module": "@jupyter-widgets/controls",
          "model_name": "DescriptionStyleModel",
          "state": {
            "_view_name": "StyleView",
            "_model_name": "DescriptionStyleModel",
            "description_width": "",
            "_view_module": "@jupyter-widgets/base",
            "_model_module_version": "1.5.0",
            "_view_count": null,
            "_view_module_version": "1.2.0",
            "_model_module": "@jupyter-widgets/controls"
          }
        },
        "bcf95147fb124c118826f14eb30e128c": {
          "model_module": "@jupyter-widgets/base",
          "model_name": "LayoutModel",
          "state": {
            "_view_name": "LayoutView",
            "grid_template_rows": null,
            "right": null,
            "justify_content": null,
            "_view_module": "@jupyter-widgets/base",
            "overflow": null,
            "_model_module_version": "1.2.0",
            "_view_count": null,
            "flex_flow": null,
            "width": null,
            "min_width": null,
            "border": null,
            "align_items": null,
            "bottom": null,
            "_model_module": "@jupyter-widgets/base",
            "top": null,
            "grid_column": null,
            "overflow_y": null,
            "overflow_x": null,
            "grid_auto_flow": null,
            "grid_area": null,
            "grid_template_columns": null,
            "flex": null,
            "_model_name": "LayoutModel",
            "justify_items": null,
            "grid_row": null,
            "max_height": null,
            "align_content": null,
            "visibility": null,
            "align_self": null,
            "height": null,
            "min_height": null,
            "padding": null,
            "grid_auto_rows": null,
            "grid_gap": null,
            "max_width": null,
            "order": null,
            "_view_module_version": "1.2.0",
            "grid_template_areas": null,
            "object_position": null,
            "object_fit": null,
            "grid_auto_columns": null,
            "margin": null,
            "display": null,
            "left": null
          }
        },
        "5667fff218694df0b878fe9d1450b1e1": {
          "model_module": "@jupyter-widgets/controls",
          "model_name": "HBoxModel",
          "state": {
            "_view_name": "HBoxView",
            "_dom_classes": [],
            "_model_name": "HBoxModel",
            "_view_module": "@jupyter-widgets/controls",
            "_model_module_version": "1.5.0",
            "_view_count": null,
            "_view_module_version": "1.5.0",
            "box_style": "",
            "layout": "IPY_MODEL_4fa02d78a1944709bf5e69c36591f6b9",
            "_model_module": "@jupyter-widgets/controls",
            "children": [
              "IPY_MODEL_4786d65b2226453f8b20353e0079c87b",
              "IPY_MODEL_32124ac922414aecbe0f5e3a6988cd20"
            ]
          }
        },
        "4fa02d78a1944709bf5e69c36591f6b9": {
          "model_module": "@jupyter-widgets/base",
          "model_name": "LayoutModel",
          "state": {
            "_view_name": "LayoutView",
            "grid_template_rows": null,
            "right": null,
            "justify_content": null,
            "_view_module": "@jupyter-widgets/base",
            "overflow": null,
            "_model_module_version": "1.2.0",
            "_view_count": null,
            "flex_flow": null,
            "width": null,
            "min_width": null,
            "border": null,
            "align_items": null,
            "bottom": null,
            "_model_module": "@jupyter-widgets/base",
            "top": null,
            "grid_column": null,
            "overflow_y": null,
            "overflow_x": null,
            "grid_auto_flow": null,
            "grid_area": null,
            "grid_template_columns": null,
            "flex": null,
            "_model_name": "LayoutModel",
            "justify_items": null,
            "grid_row": null,
            "max_height": null,
            "align_content": null,
            "visibility": null,
            "align_self": null,
            "height": null,
            "min_height": null,
            "padding": null,
            "grid_auto_rows": null,
            "grid_gap": null,
            "max_width": null,
            "order": null,
            "_view_module_version": "1.2.0",
            "grid_template_areas": null,
            "object_position": null,
            "object_fit": null,
            "grid_auto_columns": null,
            "margin": null,
            "display": null,
            "left": null
          }
        },
        "4786d65b2226453f8b20353e0079c87b": {
          "model_module": "@jupyter-widgets/controls",
          "model_name": "FloatProgressModel",
          "state": {
            "_view_name": "ProgressView",
            "style": "IPY_MODEL_706b398c909f40a4b9351049f242f578",
            "_dom_classes": [],
            "description": "100%",
            "_model_name": "FloatProgressModel",
            "bar_style": "success",
            "max": 445,
            "_view_module": "@jupyter-widgets/controls",
            "_model_module_version": "1.5.0",
            "value": 445,
            "_view_count": null,
            "_view_module_version": "1.5.0",
            "orientation": "horizontal",
            "min": 0,
            "description_tooltip": null,
            "_model_module": "@jupyter-widgets/controls",
            "layout": "IPY_MODEL_f1310a62ad914da594b730404b53f8bc"
          }
        },
        "32124ac922414aecbe0f5e3a6988cd20": {
          "model_module": "@jupyter-widgets/controls",
          "model_name": "HTMLModel",
          "state": {
            "_view_name": "HTMLView",
            "style": "IPY_MODEL_b520cb97cb4244859814118448da643d",
            "_dom_classes": [],
            "description": "",
            "_model_name": "HTMLModel",
            "placeholder": "​",
            "_view_module": "@jupyter-widgets/controls",
            "_model_module_version": "1.5.0",
            "value": " 445/445 [00:30&lt;00:00, 14.57it/s]",
            "_view_count": null,
            "_view_module_version": "1.5.0",
            "description_tooltip": null,
            "_model_module": "@jupyter-widgets/controls",
            "layout": "IPY_MODEL_d009477dc47a488c85eeaf5ad8c25dd9"
          }
        },
        "706b398c909f40a4b9351049f242f578": {
          "model_module": "@jupyter-widgets/controls",
          "model_name": "ProgressStyleModel",
          "state": {
            "_view_name": "StyleView",
            "_model_name": "ProgressStyleModel",
            "description_width": "initial",
            "_view_module": "@jupyter-widgets/base",
            "_model_module_version": "1.5.0",
            "_view_count": null,
            "_view_module_version": "1.2.0",
            "bar_color": null,
            "_model_module": "@jupyter-widgets/controls"
          }
        },
        "f1310a62ad914da594b730404b53f8bc": {
          "model_module": "@jupyter-widgets/base",
          "model_name": "LayoutModel",
          "state": {
            "_view_name": "LayoutView",
            "grid_template_rows": null,
            "right": null,
            "justify_content": null,
            "_view_module": "@jupyter-widgets/base",
            "overflow": null,
            "_model_module_version": "1.2.0",
            "_view_count": null,
            "flex_flow": null,
            "width": null,
            "min_width": null,
            "border": null,
            "align_items": null,
            "bottom": null,
            "_model_module": "@jupyter-widgets/base",
            "top": null,
            "grid_column": null,
            "overflow_y": null,
            "overflow_x": null,
            "grid_auto_flow": null,
            "grid_area": null,
            "grid_template_columns": null,
            "flex": null,
            "_model_name": "LayoutModel",
            "justify_items": null,
            "grid_row": null,
            "max_height": null,
            "align_content": null,
            "visibility": null,
            "align_self": null,
            "height": null,
            "min_height": null,
            "padding": null,
            "grid_auto_rows": null,
            "grid_gap": null,
            "max_width": null,
            "order": null,
            "_view_module_version": "1.2.0",
            "grid_template_areas": null,
            "object_position": null,
            "object_fit": null,
            "grid_auto_columns": null,
            "margin": null,
            "display": null,
            "left": null
          }
        },
        "b520cb97cb4244859814118448da643d": {
          "model_module": "@jupyter-widgets/controls",
          "model_name": "DescriptionStyleModel",
          "state": {
            "_view_name": "StyleView",
            "_model_name": "DescriptionStyleModel",
            "description_width": "",
            "_view_module": "@jupyter-widgets/base",
            "_model_module_version": "1.5.0",
            "_view_count": null,
            "_view_module_version": "1.2.0",
            "_model_module": "@jupyter-widgets/controls"
          }
        },
        "d009477dc47a488c85eeaf5ad8c25dd9": {
          "model_module": "@jupyter-widgets/base",
          "model_name": "LayoutModel",
          "state": {
            "_view_name": "LayoutView",
            "grid_template_rows": null,
            "right": null,
            "justify_content": null,
            "_view_module": "@jupyter-widgets/base",
            "overflow": null,
            "_model_module_version": "1.2.0",
            "_view_count": null,
            "flex_flow": null,
            "width": null,
            "min_width": null,
            "border": null,
            "align_items": null,
            "bottom": null,
            "_model_module": "@jupyter-widgets/base",
            "top": null,
            "grid_column": null,
            "overflow_y": null,
            "overflow_x": null,
            "grid_auto_flow": null,
            "grid_area": null,
            "grid_template_columns": null,
            "flex": null,
            "_model_name": "LayoutModel",
            "justify_items": null,
            "grid_row": null,
            "max_height": null,
            "align_content": null,
            "visibility": null,
            "align_self": null,
            "height": null,
            "min_height": null,
            "padding": null,
            "grid_auto_rows": null,
            "grid_gap": null,
            "max_width": null,
            "order": null,
            "_view_module_version": "1.2.0",
            "grid_template_areas": null,
            "object_position": null,
            "object_fit": null,
            "grid_auto_columns": null,
            "margin": null,
            "display": null,
            "left": null
          }
        },
        "46be2e73fd6a48678a3dc9cfccb12de4": {
          "model_module": "@jupyter-widgets/controls",
          "model_name": "HBoxModel",
          "state": {
            "_view_name": "HBoxView",
            "_dom_classes": [],
            "_model_name": "HBoxModel",
            "_view_module": "@jupyter-widgets/controls",
            "_model_module_version": "1.5.0",
            "_view_count": null,
            "_view_module_version": "1.5.0",
            "box_style": "",
            "layout": "IPY_MODEL_612d3cfeebc14511ae11d55f29c95175",
            "_model_module": "@jupyter-widgets/controls",
            "children": [
              "IPY_MODEL_f9f40cc882c946ed80b97d9726647935",
              "IPY_MODEL_537778facb2d4062ab6c0e6f415cf8d5"
            ]
          }
        },
        "612d3cfeebc14511ae11d55f29c95175": {
          "model_module": "@jupyter-widgets/base",
          "model_name": "LayoutModel",
          "state": {
            "_view_name": "LayoutView",
            "grid_template_rows": null,
            "right": null,
            "justify_content": null,
            "_view_module": "@jupyter-widgets/base",
            "overflow": null,
            "_model_module_version": "1.2.0",
            "_view_count": null,
            "flex_flow": null,
            "width": null,
            "min_width": null,
            "border": null,
            "align_items": null,
            "bottom": null,
            "_model_module": "@jupyter-widgets/base",
            "top": null,
            "grid_column": null,
            "overflow_y": null,
            "overflow_x": null,
            "grid_auto_flow": null,
            "grid_area": null,
            "grid_template_columns": null,
            "flex": null,
            "_model_name": "LayoutModel",
            "justify_items": null,
            "grid_row": null,
            "max_height": null,
            "align_content": null,
            "visibility": null,
            "align_self": null,
            "height": null,
            "min_height": null,
            "padding": null,
            "grid_auto_rows": null,
            "grid_gap": null,
            "max_width": null,
            "order": null,
            "_view_module_version": "1.2.0",
            "grid_template_areas": null,
            "object_position": null,
            "object_fit": null,
            "grid_auto_columns": null,
            "margin": null,
            "display": null,
            "left": null
          }
        },
        "f9f40cc882c946ed80b97d9726647935": {
          "model_module": "@jupyter-widgets/controls",
          "model_name": "FloatProgressModel",
          "state": {
            "_view_name": "ProgressView",
            "style": "IPY_MODEL_acc734434d5043da95b0a94f450cec13",
            "_dom_classes": [],
            "description": "100%",
            "_model_name": "FloatProgressModel",
            "bar_style": "success",
            "max": 445,
            "_view_module": "@jupyter-widgets/controls",
            "_model_module_version": "1.5.0",
            "value": 445,
            "_view_count": null,
            "_view_module_version": "1.5.0",
            "orientation": "horizontal",
            "min": 0,
            "description_tooltip": null,
            "_model_module": "@jupyter-widgets/controls",
            "layout": "IPY_MODEL_19cb498dbaef4b2f8b01971dfb9bd4a1"
          }
        },
        "537778facb2d4062ab6c0e6f415cf8d5": {
          "model_module": "@jupyter-widgets/controls",
          "model_name": "HTMLModel",
          "state": {
            "_view_name": "HTMLView",
            "style": "IPY_MODEL_58d85665cc614855b67b362ce146b381",
            "_dom_classes": [],
            "description": "",
            "_model_name": "HTMLModel",
            "placeholder": "​",
            "_view_module": "@jupyter-widgets/controls",
            "_model_module_version": "1.5.0",
            "value": " 445/445 [00:22&lt;00:00, 20.00it/s]",
            "_view_count": null,
            "_view_module_version": "1.5.0",
            "description_tooltip": null,
            "_model_module": "@jupyter-widgets/controls",
            "layout": "IPY_MODEL_5089df10cb8c4261bdfc7a4f649f1695"
          }
        },
        "acc734434d5043da95b0a94f450cec13": {
          "model_module": "@jupyter-widgets/controls",
          "model_name": "ProgressStyleModel",
          "state": {
            "_view_name": "StyleView",
            "_model_name": "ProgressStyleModel",
            "description_width": "initial",
            "_view_module": "@jupyter-widgets/base",
            "_model_module_version": "1.5.0",
            "_view_count": null,
            "_view_module_version": "1.2.0",
            "bar_color": null,
            "_model_module": "@jupyter-widgets/controls"
          }
        },
        "19cb498dbaef4b2f8b01971dfb9bd4a1": {
          "model_module": "@jupyter-widgets/base",
          "model_name": "LayoutModel",
          "state": {
            "_view_name": "LayoutView",
            "grid_template_rows": null,
            "right": null,
            "justify_content": null,
            "_view_module": "@jupyter-widgets/base",
            "overflow": null,
            "_model_module_version": "1.2.0",
            "_view_count": null,
            "flex_flow": null,
            "width": null,
            "min_width": null,
            "border": null,
            "align_items": null,
            "bottom": null,
            "_model_module": "@jupyter-widgets/base",
            "top": null,
            "grid_column": null,
            "overflow_y": null,
            "overflow_x": null,
            "grid_auto_flow": null,
            "grid_area": null,
            "grid_template_columns": null,
            "flex": null,
            "_model_name": "LayoutModel",
            "justify_items": null,
            "grid_row": null,
            "max_height": null,
            "align_content": null,
            "visibility": null,
            "align_self": null,
            "height": null,
            "min_height": null,
            "padding": null,
            "grid_auto_rows": null,
            "grid_gap": null,
            "max_width": null,
            "order": null,
            "_view_module_version": "1.2.0",
            "grid_template_areas": null,
            "object_position": null,
            "object_fit": null,
            "grid_auto_columns": null,
            "margin": null,
            "display": null,
            "left": null
          }
        },
        "58d85665cc614855b67b362ce146b381": {
          "model_module": "@jupyter-widgets/controls",
          "model_name": "DescriptionStyleModel",
          "state": {
            "_view_name": "StyleView",
            "_model_name": "DescriptionStyleModel",
            "description_width": "",
            "_view_module": "@jupyter-widgets/base",
            "_model_module_version": "1.5.0",
            "_view_count": null,
            "_view_module_version": "1.2.0",
            "_model_module": "@jupyter-widgets/controls"
          }
        },
        "5089df10cb8c4261bdfc7a4f649f1695": {
          "model_module": "@jupyter-widgets/base",
          "model_name": "LayoutModel",
          "state": {
            "_view_name": "LayoutView",
            "grid_template_rows": null,
            "right": null,
            "justify_content": null,
            "_view_module": "@jupyter-widgets/base",
            "overflow": null,
            "_model_module_version": "1.2.0",
            "_view_count": null,
            "flex_flow": null,
            "width": null,
            "min_width": null,
            "border": null,
            "align_items": null,
            "bottom": null,
            "_model_module": "@jupyter-widgets/base",
            "top": null,
            "grid_column": null,
            "overflow_y": null,
            "overflow_x": null,
            "grid_auto_flow": null,
            "grid_area": null,
            "grid_template_columns": null,
            "flex": null,
            "_model_name": "LayoutModel",
            "justify_items": null,
            "grid_row": null,
            "max_height": null,
            "align_content": null,
            "visibility": null,
            "align_self": null,
            "height": null,
            "min_height": null,
            "padding": null,
            "grid_auto_rows": null,
            "grid_gap": null,
            "max_width": null,
            "order": null,
            "_view_module_version": "1.2.0",
            "grid_template_areas": null,
            "object_position": null,
            "object_fit": null,
            "grid_auto_columns": null,
            "margin": null,
            "display": null,
            "left": null
          }
        }
      }
    }
  },
  "cells": [
    {
      "cell_type": "markdown",
      "metadata": {
        "id": "view-in-github",
        "colab_type": "text"
      },
      "source": [
        "<a href=\"https://colab.research.google.com/github/TeaWithLucas/ML-text-categorisation/blob/main/ml_text_cat.ipynb\" target=\"_parent\"><img src=\"https://colab.research.google.com/assets/colab-badge.svg\" alt=\"Open In Colab\"/></a>"
      ]
    },
    {
      "cell_type": "markdown",
      "metadata": {
        "id": "zBpMdPLsuOVz"
      },
      "source": [
        "-- Author: C1600431 --\n",
        "\n",
        "Part 2 Q1\n"
      ]
    },
    {
      "cell_type": "markdown",
      "metadata": {
        "id": "vRFG3kOxuOdp"
      },
      "source": [
        "Instructions: \n",
        " \n",
        "\n",
        "1.   Upload the datasets_coursework1.zip to the base file directory.\n",
        "2.   (Optional) Change any of the Setting as you desire in the setting heading\n",
        "3.   Run all the code using Runtime > Run all (Ctrl+F9) or run all the code sequentially manually\n",
        "4.   View the execution section to see the excution process and outputs and the subheading Evaluation for the final results\n",
        "5.   (Optional) Adjust any of the Settings as you desire\n",
        "6.   (Optional) Run the Settings and Execution section and review the results"
      ]
    },
    {
      "cell_type": "markdown",
      "metadata": {
        "id": "hb3_leIytWes"
      },
      "source": [
        "# Imports"
      ]
    },
    {
      "cell_type": "code",
      "metadata": {
        "colab": {
          "base_uri": "https://localhost:8080/"
        },
        "id": "lA4XrjktuVFk",
        "outputId": "13186955-15d0-425e-ab8a-a840b88eb915"
      },
      "source": [
        "import numpy as np\n",
        "#import requests\n",
        "#import pandas as pd\n",
        "import tqdm\n",
        "import matplotlib.pyplot as plt\n",
        "\n",
        "#File Management\n",
        "import os\n",
        "import zipfile\n",
        "\n",
        "#MLP\n",
        "import sklearn\n",
        "import sklearn.metrics as sklmet\n",
        "import sklearn.model_selection as sklms\n",
        "import sklearn.feature_extraction as sklfe\n",
        "import sklearn.feature_selection as sklfs\n",
        "#import spacy\n",
        "!pip install zeugma\n",
        "from  zeugma import embeddings\n",
        "import nltk\n",
        "nltk.download('stopwords') # If needed\n",
        "nltk.download('punkt') # If needed\n",
        "nltk.download('wordnet') # If needed\n",
        "nltk.download('averaged_perceptron_tagger') # If needed"
      ],
      "execution_count": 41,
      "outputs": [
        {
          "output_type": "stream",
          "text": [
            "Requirement already satisfied: zeugma in /usr/local/lib/python3.7/dist-packages (0.48)\n",
            "Requirement already satisfied: Cython>=0.27.3 in /usr/local/lib/python3.7/dist-packages (from zeugma) (0.29.22)\n",
            "Requirement already satisfied: tensorflow>=1.5.0 in /usr/local/lib/python3.7/dist-packages (from zeugma) (2.4.1)\n",
            "Requirement already satisfied: scikit-learn>=0.19.1 in /usr/local/lib/python3.7/dist-packages (from zeugma) (0.22.2.post1)\n",
            "Requirement already satisfied: gensim>=3.5.0 in /usr/local/lib/python3.7/dist-packages (from zeugma) (3.6.0)\n",
            "Requirement already satisfied: numpy>=1.13.3 in /usr/local/lib/python3.7/dist-packages (from zeugma) (1.19.5)\n",
            "Requirement already satisfied: pandas>=0.20.3 in /usr/local/lib/python3.7/dist-packages (from zeugma) (1.1.5)\n",
            "Requirement already satisfied: keras>=2.1.3 in /usr/local/lib/python3.7/dist-packages (from zeugma) (2.4.3)\n",
            "Requirement already satisfied: grpcio~=1.32.0 in /usr/local/lib/python3.7/dist-packages (from tensorflow>=1.5.0->zeugma) (1.32.0)\n",
            "Requirement already satisfied: flatbuffers~=1.12.0 in /usr/local/lib/python3.7/dist-packages (from tensorflow>=1.5.0->zeugma) (1.12)\n",
            "Requirement already satisfied: wheel~=0.35 in /usr/local/lib/python3.7/dist-packages (from tensorflow>=1.5.0->zeugma) (0.36.2)\n",
            "Requirement already satisfied: wrapt~=1.12.1 in /usr/local/lib/python3.7/dist-packages (from tensorflow>=1.5.0->zeugma) (1.12.1)\n",
            "Requirement already satisfied: six~=1.15.0 in /usr/local/lib/python3.7/dist-packages (from tensorflow>=1.5.0->zeugma) (1.15.0)\n",
            "Requirement already satisfied: protobuf>=3.9.2 in /usr/local/lib/python3.7/dist-packages (from tensorflow>=1.5.0->zeugma) (3.12.4)\n",
            "Requirement already satisfied: h5py~=2.10.0 in /usr/local/lib/python3.7/dist-packages (from tensorflow>=1.5.0->zeugma) (2.10.0)\n",
            "Requirement already satisfied: opt-einsum~=3.3.0 in /usr/local/lib/python3.7/dist-packages (from tensorflow>=1.5.0->zeugma) (3.3.0)\n",
            "Requirement already satisfied: gast==0.3.3 in /usr/local/lib/python3.7/dist-packages (from tensorflow>=1.5.0->zeugma) (0.3.3)\n",
            "Requirement already satisfied: google-pasta~=0.2 in /usr/local/lib/python3.7/dist-packages (from tensorflow>=1.5.0->zeugma) (0.2.0)\n",
            "Requirement already satisfied: typing-extensions~=3.7.4 in /usr/local/lib/python3.7/dist-packages (from tensorflow>=1.5.0->zeugma) (3.7.4.3)\n",
            "Requirement already satisfied: astunparse~=1.6.3 in /usr/local/lib/python3.7/dist-packages (from tensorflow>=1.5.0->zeugma) (1.6.3)\n",
            "Requirement already satisfied: keras-preprocessing~=1.1.2 in /usr/local/lib/python3.7/dist-packages (from tensorflow>=1.5.0->zeugma) (1.1.2)\n",
            "Requirement already satisfied: tensorboard~=2.4 in /usr/local/lib/python3.7/dist-packages (from tensorflow>=1.5.0->zeugma) (2.4.1)\n",
            "Requirement already satisfied: tensorflow-estimator<2.5.0,>=2.4.0 in /usr/local/lib/python3.7/dist-packages (from tensorflow>=1.5.0->zeugma) (2.4.0)\n",
            "Requirement already satisfied: termcolor~=1.1.0 in /usr/local/lib/python3.7/dist-packages (from tensorflow>=1.5.0->zeugma) (1.1.0)\n",
            "Requirement already satisfied: absl-py~=0.10 in /usr/local/lib/python3.7/dist-packages (from tensorflow>=1.5.0->zeugma) (0.12.0)\n",
            "Requirement already satisfied: scipy>=0.17.0 in /usr/local/lib/python3.7/dist-packages (from scikit-learn>=0.19.1->zeugma) (1.4.1)\n",
            "Requirement already satisfied: joblib>=0.11 in /usr/local/lib/python3.7/dist-packages (from scikit-learn>=0.19.1->zeugma) (1.0.1)\n",
            "Requirement already satisfied: smart-open>=1.2.1 in /usr/local/lib/python3.7/dist-packages (from gensim>=3.5.0->zeugma) (5.0.0)\n",
            "Requirement already satisfied: python-dateutil>=2.7.3 in /usr/local/lib/python3.7/dist-packages (from pandas>=0.20.3->zeugma) (2.8.1)\n",
            "Requirement already satisfied: pytz>=2017.2 in /usr/local/lib/python3.7/dist-packages (from pandas>=0.20.3->zeugma) (2018.9)\n",
            "Requirement already satisfied: pyyaml in /usr/local/lib/python3.7/dist-packages (from keras>=2.1.3->zeugma) (3.13)\n",
            "Requirement already satisfied: setuptools in /usr/local/lib/python3.7/dist-packages (from protobuf>=3.9.2->tensorflow>=1.5.0->zeugma) (54.2.0)\n",
            "Requirement already satisfied: tensorboard-plugin-wit>=1.6.0 in /usr/local/lib/python3.7/dist-packages (from tensorboard~=2.4->tensorflow>=1.5.0->zeugma) (1.8.0)\n",
            "Requirement already satisfied: requests<3,>=2.21.0 in /usr/local/lib/python3.7/dist-packages (from tensorboard~=2.4->tensorflow>=1.5.0->zeugma) (2.23.0)\n",
            "Requirement already satisfied: google-auth-oauthlib<0.5,>=0.4.1 in /usr/local/lib/python3.7/dist-packages (from tensorboard~=2.4->tensorflow>=1.5.0->zeugma) (0.4.4)\n",
            "Requirement already satisfied: werkzeug>=0.11.15 in /usr/local/lib/python3.7/dist-packages (from tensorboard~=2.4->tensorflow>=1.5.0->zeugma) (1.0.1)\n",
            "Requirement already satisfied: markdown>=2.6.8 in /usr/local/lib/python3.7/dist-packages (from tensorboard~=2.4->tensorflow>=1.5.0->zeugma) (3.3.4)\n",
            "Requirement already satisfied: google-auth<2,>=1.6.3 in /usr/local/lib/python3.7/dist-packages (from tensorboard~=2.4->tensorflow>=1.5.0->zeugma) (1.28.1)\n",
            "Requirement already satisfied: certifi>=2017.4.17 in /usr/local/lib/python3.7/dist-packages (from requests<3,>=2.21.0->tensorboard~=2.4->tensorflow>=1.5.0->zeugma) (2020.12.5)\n",
            "Requirement already satisfied: idna<3,>=2.5 in /usr/local/lib/python3.7/dist-packages (from requests<3,>=2.21.0->tensorboard~=2.4->tensorflow>=1.5.0->zeugma) (2.10)\n",
            "Requirement already satisfied: chardet<4,>=3.0.2 in /usr/local/lib/python3.7/dist-packages (from requests<3,>=2.21.0->tensorboard~=2.4->tensorflow>=1.5.0->zeugma) (3.0.4)\n",
            "Requirement already satisfied: urllib3!=1.25.0,!=1.25.1,<1.26,>=1.21.1 in /usr/local/lib/python3.7/dist-packages (from requests<3,>=2.21.0->tensorboard~=2.4->tensorflow>=1.5.0->zeugma) (1.24.3)\n",
            "Requirement already satisfied: requests-oauthlib>=0.7.0 in /usr/local/lib/python3.7/dist-packages (from google-auth-oauthlib<0.5,>=0.4.1->tensorboard~=2.4->tensorflow>=1.5.0->zeugma) (1.3.0)\n",
            "Requirement already satisfied: importlib-metadata; python_version < \"3.8\" in /usr/local/lib/python3.7/dist-packages (from markdown>=2.6.8->tensorboard~=2.4->tensorflow>=1.5.0->zeugma) (3.10.1)\n",
            "Requirement already satisfied: cachetools<5.0,>=2.0.0 in /usr/local/lib/python3.7/dist-packages (from google-auth<2,>=1.6.3->tensorboard~=2.4->tensorflow>=1.5.0->zeugma) (4.2.1)\n",
            "Requirement already satisfied: rsa<5,>=3.1.4; python_version >= \"3.6\" in /usr/local/lib/python3.7/dist-packages (from google-auth<2,>=1.6.3->tensorboard~=2.4->tensorflow>=1.5.0->zeugma) (4.7.2)\n",
            "Requirement already satisfied: pyasn1-modules>=0.2.1 in /usr/local/lib/python3.7/dist-packages (from google-auth<2,>=1.6.3->tensorboard~=2.4->tensorflow>=1.5.0->zeugma) (0.2.8)\n",
            "Requirement already satisfied: oauthlib>=3.0.0 in /usr/local/lib/python3.7/dist-packages (from requests-oauthlib>=0.7.0->google-auth-oauthlib<0.5,>=0.4.1->tensorboard~=2.4->tensorflow>=1.5.0->zeugma) (3.1.0)\n",
            "Requirement already satisfied: zipp>=0.5 in /usr/local/lib/python3.7/dist-packages (from importlib-metadata; python_version < \"3.8\"->markdown>=2.6.8->tensorboard~=2.4->tensorflow>=1.5.0->zeugma) (3.4.1)\n",
            "Requirement already satisfied: pyasn1>=0.1.3 in /usr/local/lib/python3.7/dist-packages (from rsa<5,>=3.1.4; python_version >= \"3.6\"->google-auth<2,>=1.6.3->tensorboard~=2.4->tensorflow>=1.5.0->zeugma) (0.4.8)\n",
            "[nltk_data] Downloading package stopwords to /root/nltk_data...\n",
            "[nltk_data]   Package stopwords is already up-to-date!\n",
            "[nltk_data] Downloading package punkt to /root/nltk_data...\n",
            "[nltk_data]   Package punkt is already up-to-date!\n",
            "[nltk_data] Downloading package wordnet to /root/nltk_data...\n",
            "[nltk_data]   Package wordnet is already up-to-date!\n",
            "[nltk_data] Downloading package averaged_perceptron_tagger to\n",
            "[nltk_data]     /root/nltk_data...\n",
            "[nltk_data]   Package averaged_perceptron_tagger is already up-to-\n",
            "[nltk_data]       date!\n"
          ],
          "name": "stdout"
        },
        {
          "output_type": "execute_result",
          "data": {
            "text/plain": [
              "True"
            ]
          },
          "metadata": {
            "tags": []
          },
          "execution_count": 41
        }
      ]
    },
    {
      "cell_type": "markdown",
      "metadata": {
        "id": "kn40inrn4sSB"
      },
      "source": [
        "# Settings\n",
        "These can change the functionality of the program easily"
      ]
    },
    {
      "cell_type": "code",
      "metadata": {
        "id": "VPEudvwJ44ui"
      },
      "source": [
        "# set the zip containing the datasets\n",
        "zipped_data=\"datasets_coursework1.zip\"\n",
        "# directory of the category folders\n",
        "data_path_folder = \"/content/bbc/\"\n",
        "\n",
        "# Choose the training, test and dev split (training split is the remaining amount)\n",
        "test_size=20 #percent\n",
        "dev_size=20 #percent\n",
        "\n",
        "# Choose most frequent counts for these feature sets\n",
        "token_max = 2000\n",
        "tagged_max = 2000\n",
        "ngram_max = 2000\n",
        "\n",
        "# Choose the feature sets you want enabled\n",
        "#feature_sets_enabled=['gen_basic']\n",
        "#feature_sets_enabled=['bigram','gen','adjverb','embedding_glove']\n",
        "feature_sets_enabled=['word_tagged','adjverb','embedding_glove']\n",
        "\n",
        "# word_tagged tags\n",
        "word_tags = ['EX','FW','JJ','LS','MD','NN','PDT','RB','RP','SYM','UH','VB','WDT','WP','WRB'] #ignoring puncuation, 'CD': Cardinal number, 'CC':Coordinating conjunction,'POS':Possessive ending, 'IN':Preposition or subordinating conjunction, 'TO':to, 'DT':Determiner,'PRP': \tPersonal pronoun \n",
        "\n",
        "# Choose the feature selection scoring model\n",
        "#scoring_model=sklfs.mutual_info_classif\n",
        "scoring_model=sklfs.f_classif\n",
        "\n",
        "# models and number of features for the development set refinement\n",
        "model_choices = ((sklearn.svm.SVC,{'kernel':'linear'}),\n",
        "                (sklearn.svm.LinearSVC,{'max_iter':10000}),\n",
        "                (sklearn.svm.SVC,{'kernel':'rbf', 'gamma':0.7}),\n",
        "                (sklearn.svm.SVC,{'kernel':'poly', 'degree':3, 'gamma':'scale'}))\n",
        "\n",
        "list_num_features=[10,100,250,500,750,1000,1500,2000,3000]"
      ],
      "execution_count": 42,
      "outputs": []
    },
    {
      "cell_type": "markdown",
      "metadata": {
        "id": "l0mENCPEWdwl"
      },
      "source": [
        "# Functions"
      ]
    },
    {
      "cell_type": "markdown",
      "metadata": {
        "id": "ZrxuGOrTWzZT"
      },
      "source": [
        "## Data processing"
      ]
    },
    {
      "cell_type": "code",
      "metadata": {
        "id": "2TfwtbIauXN6"
      },
      "source": [
        "#for unzipping a file\n",
        "def unzip_data(zip_file):\n",
        "  with zipfile.ZipFile(zip_file, 'r') as zip_ref:\n",
        "    zip_ref.extractall()\n",
        "\n",
        "#for a folder, use all the subfolders as catgories and their files as samples\n",
        "def get_data(data_path):\n",
        "  categories = {}\n",
        "  num_files = 0\n",
        "  print(\"Loading from folder:\", data_path)\n",
        "  for subdir, dirs, files in os.walk(data_path):\n",
        "    cat_folders = {}\n",
        "    for dir in dirs: #for each subdirectory, add a category\n",
        "      categories[dir] = []\n",
        "    for file in tqdm.tqdm_notebook(files): #for each file in directory\n",
        "      fldr_name = os.path.basename(subdir)\n",
        "      if fldr_name in categories: #if in a subfolder\n",
        "        num_files += 1\n",
        "        file_path = os.path.join(subdir, file)\n",
        "        text = open(file_path, \"r\",errors='ignore').read()\n",
        "        categories[fldr_name].append(text) #add text content to the relevent category\n",
        "  num_samples = 0\n",
        "  for cat in categories:\n",
        "    num_samples += len(categories[cat])\n",
        "    print(\"Category\", cat, \"Num Samples:\", len(categories[cat]))\n",
        "  print(\"Total Num Files:\", num_files, \", Num Samples:\", num_samples)\n",
        "  return categories\n",
        "\n",
        "#fallen all the samples into two lists, one for the samples, and the other for their category\n",
        "def format_data_categories(categories):\n",
        "  x = []\n",
        "  y = []\n",
        "  for cat in categories:\n",
        "    for data in categories[cat]:\n",
        "      x.append(data)\n",
        "      y.append(cat)\n",
        "  print(len(x),x[:5])\n",
        "  print(len(y),y[:5])\n",
        "  return x,y"
      ],
      "execution_count": 43,
      "outputs": []
    },
    {
      "cell_type": "markdown",
      "metadata": {
        "id": "zFv845N_X1Hd"
      },
      "source": [
        "## Data Splitting"
      ]
    },
    {
      "cell_type": "code",
      "metadata": {
        "id": "_-vflztCX4Ie"
      },
      "source": [
        "#split the data according to the settings and return the different sets\n",
        "def train_test_dev_split(x,y):\n",
        "  #turning percentages into splits\n",
        "  first_split = (test_size + dev_size)/100\n",
        "  second_split = (dev_size/100)/first_split\n",
        "  print(\"first split\", first_split, \"second split\", second_split)\n",
        "\n",
        "  #first split gets the training set\n",
        "  x_train, x_temp, y_train, y_temp = sklms.train_test_split(X_full, Y_full, test_size=first_split)\n",
        "  #second split gets the development and testing sets\n",
        "  x_test, x_dev, y_test, y_dev = sklms.train_test_split(x_temp, y_temp, test_size=second_split)\n",
        "\n",
        "  data_total_size = len(x_train)+len(x_dev)+len(x_test)\n",
        "  print (\"Total size: \", data_total_size)\n",
        "  print (\"\\nTRAINING SET\\n\")\n",
        "  print (\"Size training set: \"+str(len(x_train))+\", \" + str(int(len(x_train)/data_total_size*100)) + \"%\")\n",
        "  for i in range(5):\n",
        "    print (\"cat:\", y_train[i])\n",
        "    print (x_train[i][:200].replace(\"\\n\",\" \")+\"...\")\n",
        "  print (\"\\nTEST SET\\n\")\n",
        "  print (\"Size test set: \"+str(len(x_test))+\", \" + str(int(len(x_test)/data_total_size*100)) + \"%\")\n",
        "  for i in range(5):\n",
        "    print (\"cat:\", y_test[i])\n",
        "    print (x_test[i][:200].replace(\"\\n\",\" \")+\"...\")\n",
        "  print (\"\\nDEV SET\\n\")\n",
        "  print (\"Size development set: \"+str(len(x_dev))+\", \" + str(int(len(x_dev)/data_total_size*100)) + \"%\")\n",
        "  for i in range(5):\n",
        "    print (\"cat:\", y_dev[i])\n",
        "    print (x_dev[i][:200].replace(\"\\n\",\" \")+\"...\")\n",
        "  \n",
        "  return x_train, y_train, x_test, y_test, x_dev, y_dev"
      ],
      "execution_count": 44,
      "outputs": []
    },
    {
      "cell_type": "markdown",
      "metadata": {
        "id": "ztbDBd8RawYJ"
      },
      "source": [
        "## Feature Extraction"
      ]
    },
    {
      "cell_type": "code",
      "metadata": {
        "id": "AkwxxP8q0FVu"
      },
      "source": [
        "#take the raw string samples and split them into lists of words\n",
        "def tokenise_data(raw_data):\n",
        "  tokenised = []\n",
        "  for sample in tqdm.notebook.tqdm(raw_data):\n",
        "    tok=nltk.tokenize.word_tokenize(sample)\n",
        "    tokenised.append(tok)\n",
        "  return tokenised\n",
        "\n",
        "#take the lists of words and add a tag them with thier part-of-speech tag\n",
        "def tag_data(tokenised_data):\n",
        "  tagged=[]\n",
        "  for sample in tqdm.notebook.tqdm(tokenised_data):\n",
        "    pos=nltk.pos_tag(sample) \n",
        "    tagged.append(pos)\n",
        "  return tagged\n",
        "\n",
        "#take the lists of tagged words, filter them with allowed tags, \n",
        "# then append the tag and return a list of flattend samples\n",
        "def flatten_tag_data(tagged_data, allowed_tags=[]):\n",
        "  flattened_data=[]\n",
        "  for sample in  tagged_data:\n",
        "    filtered_sample = []\n",
        "    for item in sample:\n",
        "      tag = item[1]\n",
        "      token = item[0] + \"/\" + tag\n",
        "      if len(allowed_tags) < 1 or any(x in tag for x in allowed_tags):\n",
        "        filtered_sample.append(token)\n",
        "    flattened_data.append(filtered_sample)\n",
        "  return flattened_data\n",
        "\n",
        "# use the lists of words to generate a volcabulary of the most frequent word counts\n",
        "def token_vocabulary(token_data,max_features=5000):\n",
        "  tfidf_vectorizer = sklfe.text.TfidfVectorizer(input='content', lowercase=False, preprocessor=lambda x: x, tokenizer=lambda x: x,max_features=max_features)\n",
        "  tfidf_vectorizer.fit_transform(token_data)\n",
        "  print(\"Token Vocabulary Length: \", len(tfidf_vectorizer.vocabulary_))\n",
        "  print(list(tfidf_vectorizer.vocabulary_.keys()))\n",
        "  return tfidf_vectorizer.vocabulary_, 'token'\n",
        "\n",
        "# use the lists of tagged words, filter and flatten them\n",
        "# to generate a volcabulary of the most frequent word counts\n",
        "def tagged_vocabulary(tagged_data,allowed_tags,max_features=5000):\n",
        "  flattened_data = flatten_tag_data(tagged_data,allowed_tags)\n",
        "  tfidf_vectorizer = sklfe.text.TfidfVectorizer(input='content', lowercase=False, preprocessor=lambda x: x, tokenizer=lambda x: x,max_features=max_features)\n",
        "  tfidf_vectorizer.fit_transform(flattened_data)\n",
        "  print(\"Tagged Vocabulary Length: \", len(tfidf_vectorizer.vocabulary_))\n",
        "  print(list(tfidf_vectorizer.vocabulary_.keys()))\n",
        "  return tfidf_vectorizer.vocabulary_, 'tagged'\n",
        "\n",
        "# use the raw sample strings to generate a volcabulary of the most frequent ngrams counts of a set ngrams range \n",
        "def ngrams_vocabulary(training_set,ngram_range,max_features=5000):\n",
        "  tfidf_vectorizer = sklfe.text.TfidfVectorizer(ngram_range=ngram_range, stop_words='english', norm=None, smooth_idf=False, use_idf=False,max_features=max_features)\n",
        "  tfidf_vectorizer.fit_transform(training_set)\n",
        "  print(\"n-grams Vocabulary Length: \", )\n",
        "  print(list(tfidf_vectorizer.vocabulary_.keys()))\n",
        "  return tfidf_vectorizer.vocabulary_, 'raw'"
      ],
      "execution_count": 45,
      "outputs": []
    },
    {
      "cell_type": "markdown",
      "metadata": {
        "id": "kCsbau2ja9sd"
      },
      "source": [
        "## Data Vectorisation"
      ]
    },
    {
      "cell_type": "code",
      "metadata": {
        "id": "xtMpr_Re0RHK"
      },
      "source": [
        "# vectorise a set of raw sample strings given a pregenerated volcabulary\n",
        "def tfidf_vectorise(training_set,Vocabulary):\n",
        "  tfidf_vectorizer = sklfe.text.TfidfVectorizer(vocabulary=Vocabulary)\n",
        "  return tfidf_vectorizer.fit_transform(training_set)\n",
        "\n",
        "# vectorise a set of lists of words given a pregenerated volcabulary\n",
        "def tokened_vectorise(Tokenized_data,Vocabulary):\n",
        "  tfidf_vectorizer = sklfe.text.TfidfVectorizer(input='content', lowercase=False, preprocessor=lambda x: x, tokenizer=lambda x: x,vocabulary=Vocabulary)\n",
        "  return tfidf_vectorizer.fit_transform(Tokenized_data)\n",
        "\n",
        "# vectorise a set of raw sample strings given a pretrained embedding\n",
        "def embedding_vectorise(training_set,embedding):\n",
        "  embedding_trans = embeddings.EmbeddingTransformer(embedding)\n",
        "  return embedding_trans.transform(training_set)\n",
        "\n",
        "# vectorise all the different types of data generated using the feature sets chosen\n",
        "# in the settings, concatenate them together and return them\n",
        "def vectorise_data(raw_data,token_data,tagged_data,vocabs):\n",
        "  flattened_tag_data = flatten_tag_data(tagged_data)\n",
        "  vectorised = np.empty((len(raw_data),0))\n",
        "  for name in vocabs:\n",
        "    if name in feature_sets_enabled:\n",
        "      vocab = vocabs[name][0]\n",
        "      vector = np.empty((len(raw_data),0))\n",
        "      if vocabs[name][1] == 'raw':\n",
        "        vector = tfidf_vectorise(raw_data,vocab).toarray()\n",
        "      elif vocabs[name][1] == 'tagged':\n",
        "        vector = tokened_vectorise(flattened_tag_data,vocab).toarray()\n",
        "      elif vocabs[name][1] == 'token':\n",
        "        vector = tokened_vectorise(token_data,vocab).toarray()\n",
        "      else:\n",
        "        print(\"problem with vocabulary\", name)\n",
        "      print(name + \" Num Features:\", vector.shape)\n",
        "      vectorised = np.concatenate((vectorised, vector), axis=1)\n",
        "  embeddings = [i[10:] for i in feature_sets_enabled if i.startswith('embedding_')]\n",
        "  for embedding in embeddings:\n",
        "    vector = embedding_vectorise(raw_data, embedding)\n",
        "    print(embedding + \" Num Features:\", vector.shape)\n",
        "    vectorised = np.concatenate((vectorised, vector), axis=1)\n",
        "  print(\"Total Num Features:\", vectorised.shape)\n",
        "  return vectorised\n",
        "\n"
      ],
      "execution_count": 46,
      "outputs": []
    },
    {
      "cell_type": "markdown",
      "metadata": {
        "id": "-FzpdbugbInV"
      },
      "source": [
        "## Feature selection"
      ]
    },
    {
      "cell_type": "code",
      "metadata": {
        "id": "w1D3fXOvt-TX"
      },
      "source": [
        "# create a feature filter class using the best features ordered \n",
        "# the scoring model set in the settings and data sets given\n",
        "# and limited the number of features given by num\n",
        "def select_KBest(x, y, num):\n",
        "  sentanalysis = sklfs.SelectKBest(scoring_model, k=num).fit(x,y)\n",
        "  return sentanalysis\n",
        "\n",
        "# create a feature filter class using the best features ordered \n",
        "# the scoring model set in the settings and data sets given\n",
        "# and limited the percentage of features given by percentile\n",
        "def select_percentile(x, y, percentile):\n",
        "  sentanalysis = sklfs.SelectPercentile(scoring_model, percentile=percentile).fit(x,y)\n",
        "  return sentanalysis\n",
        "\n",
        "# use a feature filter class to filter features from a training set\n",
        "def reduce_sentanalysis(sentanalysis, x):\n",
        "  x_reduced = sentanalysis.transform(x)\n",
        "  return x_reduced"
      ],
      "execution_count": 47,
      "outputs": []
    },
    {
      "cell_type": "markdown",
      "metadata": {
        "id": "z3a1ZZRblQUj"
      },
      "source": [
        "## Classifier"
      ]
    },
    {
      "cell_type": "code",
      "metadata": {
        "id": "qY4kYyAJuTp5"
      },
      "source": [
        "# train a model based upon the training sets given,\n",
        "# filtering using the feature filter class,\n",
        "# and either using a default model or a model class and parameters given\n",
        "# returning the classifier model generated \n",
        "def train_svm_classifier(x, y, sentanalysis,clf=None):\n",
        "  x_reduced = reduce_sentanalysis(sentanalysis,x)\n",
        "  if clf==None:\n",
        "    svm_clf=sklearn.svm.SVC(kernel=\"linear\",gamma='scale')\n",
        "  else:\n",
        "    svm_clf=clf[0](**clf[1])\n",
        "  svm_clf.fit(x_reduced,y) #Train the new SVM model. This may take a while.\n",
        "  #print(svm_clf)\n",
        "  return svm_clf\n",
        "\n",
        "# use a classifier model to predict the values of a given set of test data\n",
        "# and a feature filter class \n",
        "def predict_svm_classifier(svm_clf, x, sentanalysis):\n",
        "  x_reduced = reduce_sentanalysis(sentanalysis,x)\n",
        "  return svm_clf.predict(x_reduced) \n",
        "\n",
        "# use a classifier model to score a given set of test data, its gold classifers\n",
        "# and a feature filter class \n",
        "def score_svm_classifier(svm_clf, x, y, sentanalysis):\n",
        "  x_reduced = reduce_sentanalysis(sentanalysis,x)\n",
        "  return svm_clf.score(x_reduced,y) \n",
        "\n",
        "# use a classifier model to plot a confusion matrix \n",
        "# for a given set of test data, its gold classifers\n",
        "# and a feature filter class \n",
        "def plot_confusion_matrix(svm_clf, x, y, sentanalysis, title=\"\"):\n",
        "  x_reduced = reduce_sentanalysis(sentanalysis,x)\n",
        "  disp = sklmet.plot_confusion_matrix(svm_clf,x_reduced,y,values_format='d',xticks_rotation='vertical',normalize=None)\n",
        "  if title != \"\":\n",
        "    disp.ax_.set_title(title)\n",
        "  return "
      ],
      "execution_count": 48,
      "outputs": []
    },
    {
      "cell_type": "markdown",
      "metadata": {
        "id": "QlOmEol-my4w"
      },
      "source": [
        "## Development Set Tuning"
      ]
    },
    {
      "cell_type": "code",
      "metadata": {
        "id": "4caohcTt2KsA"
      },
      "source": [
        "# using a set of model classes, their parameters, feature counts, \n",
        "# training sets, developement sets and thier gold classifers\n",
        "# for each model and feature count, filter the top scoring features, \n",
        "# train a classifer with those features, score that combination,\n",
        "# find the overall top scoring model, feature count combination\n",
        "# then return the best score, best model classes/parameters, \n",
        "# best generated model and best feature filter\n",
        "def best_model(models, feature_counts, x, y, xd, yd):\n",
        "  best_score=0.0\n",
        "  for clf in models:\n",
        "    best_score_features=0.0\n",
        "    best_svm_clf_features=None\n",
        "    print (\"Testing clf:\\n\", clf)\n",
        "    for num_features in feature_counts:\n",
        "      \n",
        "      sent_analysis_dev = select_KBest(x, y, num_features)\n",
        "      svm_clf_dev=train_svm_classifier(x, y, sent_analysis_dev, clf=clf)\n",
        "\n",
        "      score = score_svm_classifier(svm_clf_dev, xd, yd, sent_analysis_dev)\n",
        "      print (\"Score with \"+str(num_features)+\"\\tfeatures: \"+str(round(score,3)))\n",
        "      if score>best_score_features:\n",
        "        best_score_features=score\n",
        "        best_num_features_clf=num_features\n",
        "        best_svm_clf_features=svm_clf_dev\n",
        "        best_sentanalysis_clf=sent_analysis_dev\n",
        "    print (\"\\nBest score for this clf is \"+str(round(best_score_features,3))+\" with \"+str(best_num_features_clf)+\" features.\\n\")\n",
        "    if best_score_features>best_score: \n",
        "      best_score=best_score_features\n",
        "      best_num_features=best_num_features_clf\n",
        "      best_clf=clf\n",
        "      best_svm_clf=best_svm_clf_features\n",
        "      best_sentanalysis=best_sentanalysis_clf\n",
        "  print (\"\\nBest score overall in the dev set is \"+str(round(best_score,3))+\" with \"+str(best_num_features)+\" features using clf:\")\n",
        "  print (best_svm_clf)\n",
        "  \n",
        "  return best_score, best_clf, best_svm_clf, best_sentanalysis"
      ],
      "execution_count": 49,
      "outputs": []
    },
    {
      "cell_type": "markdown",
      "metadata": {
        "id": "owaDUjKYtnFT"
      },
      "source": [
        "# Execution"
      ]
    },
    {
      "cell_type": "markdown",
      "metadata": {
        "id": "qmxy9ER0taAD"
      },
      "source": [
        "## Data collection"
      ]
    },
    {
      "cell_type": "markdown",
      "metadata": {
        "id": "DKFvt56OadiV"
      },
      "source": [
        "Unzip Data"
      ]
    },
    {
      "cell_type": "code",
      "metadata": {
        "id": "K_r7DEZZahqD"
      },
      "source": [
        "unzip_data(zipped_data)"
      ],
      "execution_count": 50,
      "outputs": []
    },
    {
      "cell_type": "markdown",
      "metadata": {
        "id": "uWIjwO4Z5mO-"
      },
      "source": [
        "Get Categories and Data from files"
      ]
    },
    {
      "cell_type": "code",
      "metadata": {
        "colab": {
          "base_uri": "https://localhost:8080/",
          "height": 503,
          "referenced_widgets": [
            "a768d530c8bb488bbdc7d8588128e542",
            "5801f41292dc4fb3925c1c55cda2f661",
            "030b233c28814a6e85949142cf5fc75a",
            "40fa96c6939e4d338b0ac3dcaa2bba0b",
            "45a25a75fb14414a9337e572a57e8895",
            "9c395194845040b0ad8e284b78f3beb1",
            "9a8193b8b9ce40be9ada511accf548b9",
            "5f4a12f8a29046319eae1186203b1af6",
            "4ab6fa460c4645f5956358b63b8a59b2",
            "c35fdb2d235444999d1bd01ba30730bc",
            "906abb8833514a3a87fb70f6894ac912",
            "ed2ee6fe64954555850f59400fc88569",
            "9897884cdfd141ef8a6c7350d39ecb55",
            "5c84235c48014333a0abfe965192f8e6",
            "92e678e464314151924f0cf543645c95",
            "7500ee36f9b743528bee81931f46b31b",
            "299dfde040d94335a395a63ccc5b7121",
            "dd030cceb9f44fbc8ef74a77261b258e",
            "663ae530c50f4b63ae451213e13b9564",
            "bf8a293c0a7643baa2ec7ceb51647717",
            "71a280c55c1a4e6f8299ef130354064d",
            "b627726e9f2d486d97ad4878c45e936b",
            "d53b63d32bb94b5dac806c7d3f33d04e",
            "341da7c6efb94aabbf5f1797c40dc3c8",
            "ec5ec5858f16400bab93ef2661e10b6c",
            "e0c34986e88d4ea8b96e9046e5b4cad1",
            "c3d3677fe39c4438bc6f980c83a05bc6",
            "b0470d8d8d204460a2d9022cda20bb8a",
            "ddb9063ea4e24ae4875f04cdf72135b4",
            "56b46094f8b34428bdf53d4c6625ab0a",
            "0d95f543de62449795a772a766fc750e",
            "856a1702ce5e498393e936b20ad112bb",
            "2bab63a726264bf9bc6be7dfaf38a25b",
            "db6ab813c59a4b418e88a8d6ec2bec6a",
            "ca316afffcf241fa87807a45da5d8f61",
            "5a770c6a729c4e1da5b5a8a9d2be5276",
            "27cfba231178404eaadc4fcc32a74ea4",
            "9c9448cf6aec4369b9ca0364fdd9d760",
            "40af130500904799a12adb3fc1e6b8ef",
            "19f9c1dc15264e5484c2c98563c9891c",
            "6de0390dfbf847c98dfcb90c19bd13cd",
            "768d6f79e49b4f1bb534bffdd94d35ac",
            "475d8c3c5f1c49a78a2f729bc5479d45",
            "1e28072827b24d5da600d207626ca653",
            "aff2c634e87044e19de92217d58ed317",
            "c705a6d04021405ba561237cf4a6eba5",
            "a39c085bd66c4b43ba6aae230429264b",
            "3ba5c4cac00d4bad9226af2227d3bc2e"
          ]
        },
        "id": "XM6fBALeLmeN",
        "outputId": "4da0e022-54f3-4b31-de1c-0611eb92b31a"
      },
      "source": [
        "data_categories = get_data(data_path_folder)"
      ],
      "execution_count": 51,
      "outputs": [
        {
          "output_type": "stream",
          "text": [
            "Loading from folder: /content/bbc/\n"
          ],
          "name": "stdout"
        },
        {
          "output_type": "stream",
          "text": [
            "/usr/local/lib/python3.7/dist-packages/ipykernel_launcher.py:15: TqdmDeprecationWarning: This function will be removed in tqdm==5.0.0\n",
            "Please use `tqdm.notebook.tqdm` instead of `tqdm.tqdm_notebook`\n",
            "  from ipykernel import kernelapp as app\n"
          ],
          "name": "stderr"
        },
        {
          "output_type": "display_data",
          "data": {
            "application/vnd.jupyter.widget-view+json": {
              "model_id": "a768d530c8bb488bbdc7d8588128e542",
              "version_minor": 0,
              "version_major": 2
            },
            "text/plain": [
              "HBox(children=(FloatProgress(value=0.0, max=1.0), HTML(value='')))"
            ]
          },
          "metadata": {
            "tags": []
          }
        },
        {
          "output_type": "stream",
          "text": [
            "\n"
          ],
          "name": "stdout"
        },
        {
          "output_type": "display_data",
          "data": {
            "application/vnd.jupyter.widget-view+json": {
              "model_id": "4ab6fa460c4645f5956358b63b8a59b2",
              "version_minor": 0,
              "version_major": 2
            },
            "text/plain": [
              "HBox(children=(FloatProgress(value=0.0, max=417.0), HTML(value='')))"
            ]
          },
          "metadata": {
            "tags": []
          }
        },
        {
          "output_type": "stream",
          "text": [
            "\n"
          ],
          "name": "stdout"
        },
        {
          "output_type": "display_data",
          "data": {
            "application/vnd.jupyter.widget-view+json": {
              "model_id": "299dfde040d94335a395a63ccc5b7121",
              "version_minor": 0,
              "version_major": 2
            },
            "text/plain": [
              "HBox(children=(FloatProgress(value=0.0, max=511.0), HTML(value='')))"
            ]
          },
          "metadata": {
            "tags": []
          }
        },
        {
          "output_type": "stream",
          "text": [
            "\n"
          ],
          "name": "stdout"
        },
        {
          "output_type": "display_data",
          "data": {
            "application/vnd.jupyter.widget-view+json": {
              "model_id": "ec5ec5858f16400bab93ef2661e10b6c",
              "version_minor": 0,
              "version_major": 2
            },
            "text/plain": [
              "HBox(children=(FloatProgress(value=0.0, max=401.0), HTML(value='')))"
            ]
          },
          "metadata": {
            "tags": []
          }
        },
        {
          "output_type": "stream",
          "text": [
            "\n"
          ],
          "name": "stdout"
        },
        {
          "output_type": "display_data",
          "data": {
            "application/vnd.jupyter.widget-view+json": {
              "model_id": "2bab63a726264bf9bc6be7dfaf38a25b",
              "version_minor": 0,
              "version_major": 2
            },
            "text/plain": [
              "HBox(children=(FloatProgress(value=0.0, max=510.0), HTML(value='')))"
            ]
          },
          "metadata": {
            "tags": []
          }
        },
        {
          "output_type": "stream",
          "text": [
            "\n"
          ],
          "name": "stdout"
        },
        {
          "output_type": "display_data",
          "data": {
            "application/vnd.jupyter.widget-view+json": {
              "model_id": "6de0390dfbf847c98dfcb90c19bd13cd",
              "version_minor": 0,
              "version_major": 2
            },
            "text/plain": [
              "HBox(children=(FloatProgress(value=0.0, max=386.0), HTML(value='')))"
            ]
          },
          "metadata": {
            "tags": []
          }
        },
        {
          "output_type": "stream",
          "text": [
            "\n",
            "Category politics Num Samples: 417\n",
            "Category sport Num Samples: 511\n",
            "Category tech Num Samples: 401\n",
            "Category business Num Samples: 510\n",
            "Category entertainment Num Samples: 386\n",
            "Total Num Files: 2225 , Num Samples: 2225\n"
          ],
          "name": "stdout"
        }
      ]
    },
    {
      "cell_type": "markdown",
      "metadata": {
        "id": "ZG38MBVs5gdM"
      },
      "source": [
        "Check data retrived is sane"
      ]
    },
    {
      "cell_type": "code",
      "metadata": {
        "id": "df6-1KHE4IGO",
        "colab": {
          "base_uri": "https://localhost:8080/"
        },
        "outputId": "608b1240-2e26-4925-ce42-0916cf2b45a3"
      },
      "source": [
        "  for cat in data_categories:\n",
        "    print(cat,data_categories[cat][:5])"
      ],
      "execution_count": 52,
      "outputs": [
        {
          "output_type": "stream",
          "text": [
            "politics ['Guantanamo pair\\'s passport ban\\n\\nThe government has written to two of the British men freed from Guantanamo Bay telling them they will not be allowed passports.\\n\\nA letter sent to Martin Mubanga said his British passport would not be issued in the light of evidence gathered against him by the US. This suggested he was likely to take part in action against UK or allied targets if he left Britain, it said. An identical letter has been sent to Feroz Abbasi, the men\\'s solicitor says.\\n\\nIt is not known whether the other two men released from the Cuba detention camp in January - Richard Belmar and Moazzam Begg - have also received letters. The government is implementing the rarely used Royal Prerogative in order to withdraw the men\\'s passports. It is only the 13th time the power has been used since 1947 - the last time was in 1976. The letter, from the Home Office, says: \"I am writing to inform you that on the basis of the information which has come to light during your detention by the United States, the home secretary considered that there are strong grounds for believing that, on leaving the United Kingdom, you would take part in activities against the United Kingdom, or allied targets.\"\\n\\nThe Home Office said it could not comment on individual cases.\\n\\nThe Liberal Democrats say they suspect the move is part of a package of security measures agreed with the US in order for the men to be allowed home from Guantanamo Bay.\\n\\nHome Affairs spokesman Mark Oaten also demanded assurances that the evidence against the men was not gained under torture. He added: \"The power should only be used in absolute extreme circumstances and I find it hard to believe that these conditions have been met this time.\" He said the move also raised complex questions about the use of the Royal Prerogative. The Liberal Democrats have promised to raise the issue in Parliament.\\n\\nAmnesty International UK also questioned whether the decisions had been based on \"torture evidence\" obtained at Guantanamo Bay. \"Furthermore, we believe there should be an investigation into the role played by the UK in the detention of UK residents and nationals and possibly many others at Guantanamo Bay,\" said director Kate Allen. The men\\'s solicitor, Louise Christian, has raised questions about whether the evidence was gathered through torture. But the Pentagon told BBC News US policy \"condemns and prohibits\" torture and said there was no evidence that any British detainee was tortured or abused. Mr Abbasi, 23, from Croydon, south London, was taken to Guantanamo Bay after being captured in Afghanistan in 2001. Mr Mubanga, 29, from north London, was originally detained in Zambia.\\n', 'Kennedy questions trust of Blair\\n\\nLib Dem leader Charles Kennedy has said voters now have a \"fundamental lack of trust\" of Tony Blair as prime minister.\\n\\nHe said backing his party was not a wasted vote, adding that with the Lib Dems \"what you see is what you get\". He made his comments at the start of a day of appearances on Channel Five in a session on The Wright Stuff programme. Questions from callers, a studio audience and the show\\'s presenter covered Lib Dem tax plans, anti-terror laws and immigration.\\n\\nMr Kennedy said during his nearly 22 years in Parliament he had seen prime ministers and party leaders come and go and knew the pitfalls of British politics. \"1983 was when I was first elected as an MP - so Tony Blair, Michael Howard and myself were all class of \\'83 - and over that nearly quarter of a century the world has changed out of recognition,\" he said. \"We don\\'t actually hear the argument any longer: \\'Lib Dems, good people, reasonable ideas but only if we thought they could win around here - it\\'s a wasted vote\\'. \"You don\\'t hear that because the evidence of people\\'s senses demonstrates that it isn\\'t a wasted vote.\" But he said Mr Blair had lost the trust of the British people. \"There is a fundamental lack of trust in Tony Blair as prime minister and in his government,\" he said.\\n\\n\"What we\\'ve got to do as a party - what I\\'ve got to do as a leader of this party - is to convey to people that what you see is what you get.\" Mr Kennedy also used his TV appearance to defend his party\\'s plans to increase income tax to 50% for those earning more than £100,000, saying it would apply to just 1% of the population. He said the extra revenue would allow his party to get rid of tuition and top-up fees, introduce free personal care for the elderly and replace the council tax with a local income tax. Mr Blair has already spent a day with Five and Michael Howard is booked for a similar session.\\n', 'Wales \\'must learn health lessons\\'\\n\\nThe new health minister for Wales says there are lessons to learn from England in tackling waiting lists.\\n\\nDr Brian Gibbons, on his first full day in the job after Jane Hutt was sacked, admitted \"big challenges\" but insisted the \"essentials\" were in place. But both Plaid Cymru and the Liberal Democrats said Dr Gibbons needed to change policy. Meanwhile Ms Hutt defended her record, saying waiting times and lists were \"only 10% of the health agenda. Dr Gibbons, who was a GP in Blaengwynfi, in the Upper Afan Valley, before becoming AM for Aberavon, said NHS staff wanted a period of consolidation after \"tremendous change and reform\". One of the biggest problems which had faced Ms Hutt during her five-and-a-half years as the assembly\\'s first health minister was the length of waiting lists in Wales.\\n\\nIn November the British Medical Association said NHS staff were \"weeping with despair\" as figures showed 311,000 people were waiting for treatment in Wales, up by 2,400 on the previous month. In the same month lists in England were at their lowest for 17 years, with 856,600 people waiting for treatment. Dr Gibbons told Radio Wales: \"There is no doubt that, in managing waiting lists, England has done a lot of very very useful work, and we do need to learn from that.\"\\n\\nBut he said the NHS in Wales also needed to create a healthier population rather than respond only to ill health, and a balanced view of priorities was important. \"We do need a consistent across-the-board approach, recognising the patients\\' experience of how they use the service is going to be, at the end of the day, the main test of how the service is working.\" He said NHS staff wanted a period of consolidation after \"tremendous change and reform\". Later, Dr Gibbons praised the work of Ms Hutt, saying he \"agreed with everything she\\'s done\" to change the health service in Wales. Dr Gibbons said he accepted there was a problem, but his job now was to build on the foundations put in place by his predecessor. He also acknowledged that until the waiting list issue was sorted out, the rest of the assembly government\\'s health policy would be overshadowed.\\n\\nOpposition members and some Labour MPs had long called for Ms Hutt\\'s removal after sustained criticism over extended hospital waiting times. First Minister Rhodri Morgan told BBC Wales he had agreed with Ms Hutt in 2003 that she would not be health minister in the run-up to the 2007 elections. \"She\\'s been doing the job for five years and eight months and, apart from Nye Bevan himself, (architect of the NHS), I don\\'t think anybody has ever done the job for so long.\" Mr Morgan said he had only told Ms Hutt of the reshuffle on Monday morning, and said the NHS in Wales was Dr Gibbons\\' \"baby\" now. In response to Dr Gibbons\\' comments, Ieuan Wyn Jones, leader of the Plaid Cymru group in the assembly, said: \"It is apparent that this reshuffle by the first minister was just changing the deckchairs on a sinking Titanic.\" Kisrty Williams, for the Lib Dems, added: \"If the underlying policy is going to continue, then changing the minister will serve no purpose, other than to deflect flak from Labour\\'s MPs,\" she said. Meanwhile Ms Hutt said she hoped \"that the people of Wales would benefit from my investment of the past five years and eight months\" Asked about waiting lists, she said that waiting times and lists were \"only 10% of the health agenda\" and that the Welsh Assembly Government had \"turned the corner\" on the issue.\\n', 'Lib Dems target the student vote\\n\\nStudents can decide the fate of MPs in some seats at the next election, Liberal Democrat leader Charles Kennedy has claimed.\\n\\nThe party says the votes of students can win it 27 new seats at the poll. The figures assume all students will vote in their university town. In fact, some may vote where the parents live. The Lib Dems say scrapping university fees wins them student support. But the Tories would also end fees and Labour says both would cap people\\'s ambitions.\\n\\nThe Lib Dems have named the 14 seats where there are enough students to take the Lib Dems from second place to beat Labour, and the 13 where they could go from second to beat the Tories. Launching his campaign to win students\\' votes at the London School of Economics, Mr Kennedy urged students to \"make their mark\". He underlined Lib Dem plans to scrap university fees and reintroduce maintenance grants of up to £2,000. He said: \"Top-up fees put students off university, especially those from a poorer background. \"And is it really right that so many young people are starting out in life with mortgage-style debts hanging round their necks?\" Mr Kennedy also said students want action on the environment and see the Iraq war, which his party opposed, as a defining issue.\\n\\nLabour has pushed through plans to let universities charge fees of up to £3,000 a year, with the poorest students eligible for non-repayable support of up to £3,000. Ahead of Mr Kennedy\\'s launch, a Labour spokesperson said: \"Like the Tories, the Liberal Democrats would restrict access to higher education and put a cap on aspiration, closing the door to students with good grades and restricting their life ambitions. \"They are committed to abandoning Labour\\'s targets of getting 50% of 18 to 30-year-olds going into higher education and under Lib Dem plans students would even have to study near home.\" The Conservatives say they would abolish university tuition fees and instead offer large student loans at commercial rates of interest.\\n\\nThey say the Lib Dem policy would leave universities wholly dependent for their income on the \"goodwill\" of the chancellor.\\n\\nShadow education secretary Tim Collins is on Thursday setting out a new scheme of vocational grants for 14 to 16-year-olds to tackle what he says are \"crippling skills shortages\". The Lib Dem analysis of the difference students could make to its election chances is based on all students being registered to vote near their university, not in their home towns. Although the expected 5 May election would be during term time, students can vote by post. The Electoral Commission and National Union of Students are worried students in halls of residence can find it hard to register to vote. Some hall wardens are reluctant to register students because of data protection fears - but students can get themselves registered. If the election is on 5 May, voters need to register by 11 March.\\n\\n\\n - The seats where the Lib Dems say student votes can swing the election for them are: Bristol West, Cardiff Central, Leeds North West, Cambridge, Manchester Gorton, Sheffield Central, Oxford East, Newcastle-upon-Tyne Central, Liverpool Riverside, Holborn and St Pancras, Oldham East and Saddleworth, Manchester Withington, Islington South and Finsbury, Birmingham Yardley, Surrey South West, Taunton, Orpington, Haltemprice and Howden, Eastbourne, Isle of Wight, Dorset West, Bournemouth East, Wells, Canterbury, Cities of London and Westminster, Bournemouth West, Westmorland and Lonsdale.\\n', 'Straw backs ending China embargo\\n\\nUK Foreign Secretary Jack Straw has defended plans to end the European Union\\'s arms embargo on China, despite opposition from the US and Japan.\\n\\nMr Straw, visiting Beijing, noted arms embargoes applied to China, Burma and Zimbabwe but not to North Korea, which he said had a terrible rights record. The EU imposed its arms ban on China in 1989 after troops opened fire on protestors in Tiananmen Square. Mr Straw also signed a deal on China-UK tourism. It is expected this would increase the number of Chinese tourists by 40,000 per year, providing $120m in revenue. China has in the past said it sees the weapons ban as politically driven, and does not want it lifted in order to buy more weapons. Mr Straw, speaking at a joint news conference with Chinese Foreign Minister Li Zhaoxing, stressed this point. \"The result of any decision [to lift the arms embargo] should not be an increase in arms exports from European Union member states to China, either in quantitative or qualitative terms,\" Mr Straw said. Earlier this week he said he expected the embargo to be lifted within six months.\\n\\nBut Mr Straw faces tough opposition to the move. Tory foreign affairs spokesman Michael Ancram said lifting the arms embargo would be \"irresponsible\" and would damage Britain\\'s relations with the US. He said Mr Straw was \"naive beyond belief\" if he accepted China\\'s claim it does not want the ban lifted in order to buy weapons. The French want the embargo lifted because they want to sell arms to China; the Chinese want it lifted because they want to buy arms and battlefield technology from Europe.\" When he was in Tokyo earlier this week, Japanese Foreign Minister Nobutaka Machimura told the British minister that his plan to remove the embargo was \" a worrying issue that concerns the security and environment of not only Japan, but also East Asia overall\". Washington argues that if the embargo is lifted, it could lead to a buying spree for arms that China could use to threaten its diplomatic rival Taiwan. Beijing says Taiwan is part of Chinese territory and wants to unite it with the mainland, by force if necessary. The US is bound by law to help Taiwan defend itself. Washington has also voiced concern that the human rights conditions in China have not improved enough to merit an end to the embargo. It is an issue raised by human rights groups too. Brad Adams, from the UK\\'s Human Rights Watch, said: \"This is a huge political signal from Europe that they are willing to forget about Tiananmen Square.\" But Mr Straw insisted the EU\\'s code of conduct on arms exports meant tough criteria on human rights still had to be met if the embargo was lifted.\\n']\n",
            "sport ['Radcliffe will compete in London\\n\\nPaula Radcliffe will compete in the Flora London Marathon this year after deciding her schedule for 2005.\\n\\nThe 31-year-old won the race in 2002 on her marathon debut, defended her title 12 months later and will now seek a third title in the 17 April race. \"It doesn\\'t get any better than this for the 25th anniversary,\" said race director David Bedford. \"After announcing the greatest men\\'s field ever we now have the greatest women\\'s distance runner ever.\" Three years ago Radcliffe smashed the women\\'s world record in two hours 18 minutes 15 seconds.\\n\\nThe Bedford star returned to London 12 months later, lowering her mixed-race world record of 2:17:18, which she set in Chicago in October 2003, by one minute 53 secs. Radcliffe\\'s career took a setback when she failed to complete the Olympic marathon and later dropped out of the Athens 10,000m last August. But the 31-year-old bounced back to win the New York Marathon in November. Radcliffe, however, passed up the chance to go for the \"Big City\" marathon grand slam. With wins in Chicago, London and New York, only the Boston Marathon remains to be conquered but that takes place a day after London. \"Boston is definitely a race I want to do at some point, but London is very special to me,\" said Radcliffe. \"I don\\'t pick races thinking about things like pressure. I pick the ones in my heart I really want to do. \"I love the atmosphere, crowds and course and know it will always be a great quality race. \"It is also the 25th anniversary this year which adds to the occasion.\"\\n', 'Benitez delight after crucial win\\n\\nLiverpool manager Rafael Benitez admitted victory against Deportivo La Coruna was vital in their tight Champions League group.\\n\\nJorge Andrade\\'s early own goal gave Liverpool a 1-0 win. And Benitez said: \"We started at a very high tempo and had many chances. It is a very important win for us and we could have scored more goals. \"We were very good defensively and also good on the counter attack. We are pleased but move on to the next game.\" Igor Biscan was outstanding in midfield after replacing injured Xabi Alonso, and Benitez said: \"He played very well. \"It is important to have all the players ready and a good squad so you can play more games at a high level.\" Benitez added: \"It is all back in our own hands now, it was a great win for us and I was delighted with what I feel was the best Liverpool I have seen. \"As far as my feelings about winning in Spain, that is really not important. \"I want to see us win away matches in the Champions League, that it was in Spain was not my first consideration. \"As far as I am concerned it is important for Liverpool to win, it is not important in what country it is in.\" Benitez added: Benitez said: \"We had a problem before the start, it was decided that Xabi could not play more than 45 minutes. \"But in the end because of the way that (Dietmar) Hamann and (Igor) Biscan performed, we did not need to change things until right at the end of the match. \"Depor are a good team and if you allow them to keep possession they can be very dangerous indeed. \"But we knew that if we hit them on the counter-attack it would make them nervous, and that is how it worked out.\" Deportivo coach Javier Irureta said: \"Liverpool played very well and we just could not break them down. \"I know we have now gone six games at home in Europe without scoring, but that does not reflect our overall performances. \"But this time we did not play well and we lacked imagination. \"The goal was a bad mistake and a big blow to our confidence. Players who usually want the ball at that stage did not want it. \"I know we are bottom of the group, but as long as there is hope of qualifying, we will hang on to that.\"\\n', 'Ferdinand casts doubt over Glazer\\n\\nRio Ferdinand has said he is unsure of Malcolm Glazer\\'s motives after the American billionaire launched a new offer to buy Manchester United.\\n\\nThe club have confirmed that the Glazer Family Partnership have submitted proposals of a third bid. \"A lot of people want the club\\'s interest to be with people who have grown up with the club and have got its interests at heart,\" said Ferdinand. \"No one knows what this guy will be bringing to the table.\" The central defender added on BBC Radio Five Live: \"We will have to wait and see what Glazer comes with. \"I would like to see the situation resolved either way. \"I think people are getting bored with him coming in and out of the news with new proposals. \"The other stuff off the pitch takes the shine off what is going on the pitch.\"\\n\\nGlazer, currently owns a 28.1% stake in the club, and United\\'s statement to the stock exchange said: \"The board has noted the recent press speculation on this subject. \"The board can confirm that it has now received a detailed proposal subject to various pre-conditions which may form the basis of an offer for Manchester United from Glazer. \"A further announcement will be made in due course.\" Glazer\\'s previous bids for the club, which United supporters opposed, were rejected by the board because of the high level of debt they would incur. But it is believed that Glazer has substantially reduced the borrowing required for his latest move. He will still need the approval of major shareholders John Magnier and JP McManus, who own 28.9% of the club to succeed. But the Irish duo have cut off talks with Glazer over the proposed sale of their stake, while fans remain opposed to his involvement.\\n', 'Jansen suffers a further setback\\n\\nBlackburn striker Matt Jansen faces three weeks out after surgery to treat a cartilage problem.\\n\\nBut central defender Lorenzo Amoruso is moving closer to fitness following a knee operation. Rovers\\' assistant manager Mark Bowen said: \"Matt had a small operation to trim knee cartilage. \"It\\'s a tiny piece of work, which should be a fairly quick recovery. Lorenzo is also jogging for the first time, along with kicking a ball.\" Jansen\\'s career has been dogged by injury since a freak scooter accident two years ago.\\n\\nHe returned to first-team action soon after Mark Hughes\\' appointment as Blackburn boss and marked it with a goal against Portsmouth in his first appearance of the season. Bowen added: \"I\\'m guessing, but I reckon maybe two to three weeks before he is back in action completely.\" The Rovers assistant boss forecast a longer time spell for Amoruso\\'s availability for first-team duties. Bowen said: \"There\\'s still some scar tissue present so it will be some weeks. \"It\\'s a case of see how he goes. You can\\'t put a real time on a comeback, we\\'ll see how he progresses.\"\\n', \"Nadal marches on in Mexico\\n\\nRafael Nadal continued his run of fine form to beat Guillermo Canas and reach the Mexican Open semis in Acapulco.\\n\\nEighth seed Nadal, who picked up his second ATP title when he beat Alberto Martin in last week's Brazil Open, saw off the Argentine third seed 7-5 6-3. He now meets Argentine wild card Mariano Puerta, who followed up his win over top seed Carlos Moya by overcoming Spain's Felix Mantilla, 6-4 3-6 7-6. Czech fifth seed Czech Jiri Novak was eliminated 7-5 6-1 by Agustin Calleri. The unseeded Argentine, who won the tournament two years ago, now plays Spain's Albert Montanes. Montanes advanced to his first semi-final of the year with a 4-6 6-3 6-4 triumph over sixth-seeded Italian Filippo Volandri. Argentina's Agustin Calleri beat fourth seed Jiri Novak 7-5 6-1 in a battle of former champions at the Mexican Open. Calleri won his only ATP title in Acapulco two years ago while Novak won the singles and doubles titles in 1998. Calleri will face Albert Montanes in the semi-finals after the Spaniard ousted sixth seed Filippo Volandri of Italy 4-6 6-3 6-4. Argentine wild card Mariano Puerta continued his improbable run, outlasting Felix Mantilla 6-4 3-6 7-6.\\n\"]\n",
            "tech ['Yahoo celebrates a decade online\\n\\nYahoo, one of the net\\'s most iconic companies, is celebrating its 10th anniversary this week.\\n\\nThe web portal has undergone remarkable change since it was set up by Stanford University students David Filo and Jerry Yang in a campus trailer. The students wanted a way of keeping track of their web-based interests. The categories lists they devised soon became popular to hundreds of people and the two saw business potential in their idea.\\n\\nOriginally dubbed \"Jerry\\'s Guide to the World Wide Web\" the firm adopted the moniker Yahoo because the founders liked the dictionary definition of a yahoo as a rude, unsophisticated, uncouth person. The term was popularised by the 18th Century satirist Jonathan Swift in his classic novel, Gulliver\\'s Travels. \"We were certainly not sophisticated or civilised,\" Mr Yang told reporters ahead of the anniversary, which will be officially recognised on 2 March.\\n\\nThey did have business brains however, and in April 1995 persuaded venture capitalists Sequoia Capital, which also invested in Apple Computer and Cisco Systems, to fund Yahoo to the tune of $2m (£1.04m). A second round of funding followed in the autumn and the company floated in April 1996 with less than 50 employees. Now the firm employs 7,600 workers and insists its dot com culture of \"work hard, play hard\" still remains. It is one of just a handful of survivors of the dot-com crash although it now faces intense rivalry from firms such as Google, MSN and AOL. Jerry Yang, who remains the firm\\'s \"Chief Yahoo\", is proud of what the company has achieved. \"In just one decade, the internet has changed the way consumers do just about everything - and it\\'s been a remarkable and wonderful experience,\" he said. Through it all, we wanted to build products that satisfied our users wants and needs, but it\\'s even more than that - it\\'s to help every one of us to discover, get more done, share and interact.\"\\n', 'Satellite mapping aids Darfur relief\\n\\nAid workers trying to house, feed and clothe millions of homeless refugees in the Sudanese region of Darfur are getting a helping hand from advanced mapping technology.\\n\\nA European consortium of companies and university groups known as Respond is working to provide accurate and up to date maps. The aim is to overcome some of the huge logistical challenges in getting supplies to where they are needed. Respond is using satellite imagery to produce accurate maps that can be used in the field rapidly. \"Respond has produced very detailed maps for example for the road networks, for the rivers and for the villages, to more large-scale maps useful for very general planning purposes,\" said Einar Bjorgo from Unosat, the UN satellite mapping organisation that is part of the Respond consortium.\\n\\nThe group uses satellites from Nasa, the European Space Agency and the Disaster Monitoring Constellation. The satellite data is transmitted to ground stations. From there, the information makes its way to Respond organisations that specialise in interpreting such data. \"You have to convert the data into images, then the interpreter has to convert all this into crisis, damage, or situation maps,\" said Stefan Voigt, who works in the remote sensing department of one of those organisations, the German Aerospace Centre.\\n\\nThis kind of detailed analysis usually takes a couple of months but Respond gets it done in about 12 hours. \"Our users are usually not so much familiar with reading satellite imagery, reading satellite maps, so it\\'s our task to transfer the data into information that non-technical people can read and understand easily and very, very efficiently,\" said Mr Voigt. Respond supplies maps to aid groups via the web, and on compact disc. But the best map is one you can hold in your hands, especially in remote areas where internet connections and laptops are scarce. \"A map is a working document,\" explains Herbert Hansen of Respond\\'s Belgian partner Keyobs. \"You need to use it, you need to write on it, correct, give feedback and so on, so you need paper to write on. \"We print maps, we laminate the maps, we encapsulate the maps if needed so you can take a shower with the map, it\\'s completely protected.\"\\n\\nHumanitarian groups in Darfur have been making good use of Respond\\'s maps. They have come in especially handy during Sudan\\'s rainy season, when normally dry riverbeds, or wadis, became flooded. \"These wadis had a very small amount of flooding, generally, in terms of depth, but greatly impeded the transport capabilities and capacities of the humanitarian groups on the ground,\" says Stephen Candillon of Respond imaging partner Sertit. Respond\\'s rapid imaging has allowed aid groups to find ways around the wadis, allowing then to mark on their maps which roads were washed out at which times. Aid groups say that combination of satellite technology and on-the-ground observation helped keep relief flowing to those who needed it.\\n\\nClark Boyd is technology correspondent for The World, a BBC World Service and WGBH-Boston co-production\\n', 'Loyalty cards idea for TV addicts\\n\\nViewers could soon be rewarded for watching TV as loyalty cards come to a screen near you.\\n\\nAny household hooked up to Sky could soon be using smartcards in conjunction with their set-top boxes. Broadcasters such as Sky and ITV could offer viewers loyalty points in return for watching a particular channel or programme. Sky will activate a spare slot on set-top boxes in January, marketing magazine New Media Age reported.\\n\\nSky set-top boxes have two slots. One is for the viewer\\'s decryption card, while the other has been dormant until now.\\n\\nLoyalty cards have become a common addition to most wallets, as High Street brands rush to keep customers with a series of incentives offered by store cards. Now similar schemes look set to enter the highly competitive world of multi-channel TV. Viewers who stay loyal to a particular TV channel could be rewarded by free TV content or freebies from retail partners. Broadcasters aiming content at children could offer smartcards which gives membership to exclusive content and clubs. \"Parents could pre-pay for some content, as a kind of TV pocket money card,\" said Nigel Whalley, managing director of media consultancy Decipher.\\n\\nViewers could even be rewarded for watching ad breaks, with ideas such as ad bingo being touted by firms keen to make money out of the new market, said Mr Whalley. Credit cards that have been chipped could be used in set-top boxes to pay for movies, gambling and gaming. \"The idea of an intelligent card in boxes offers a lot of possibilities. It will be down to the ingenuity of the content players,\" said Mr Whalley. For the BBC, revenue-generating activity will be of little interest but the new development may prompt changes to Freeview set-top boxes, said Mr Whalley. Currently most Freeview boxes do not have a slot which would allow viewers to use a smartcard. Some 7.4 million households have Sky boxes and Sky is hoping to increase this to 10 million by 2010. Loyalty cards could play a role in this, particularly in reducing the number of people who cancel their Sky subscriptions, said Ian Fogg, an analyst with Jupiter Research.\\n', 'Search sites get closer to users\\n\\nSearch sites want to get to know you better.\\n\\nNot content with providing access to the millions of websites, many now offer ways that do a better job of remembering, cataloguing and managing all the information you come across. Some of the latest to update their search systems are Ask Jeeves and Blinkx, which have both released a series of utilities that try to help people get more from the web. \"The future is all about developing your own personal web,\" said Tony Macklin, spokesman for Ask Jeeves.\\n\\nMr Macklin said that too often when people use a search engine it was like the first time they ever used it, because there was no memory of what they had searched for before. \"Each time you go back in you have to start all over again,\" he said. The series of updates to its service, collected under the My Ask Jeeves banner, would help people remember where they had been before.\\n\\nAsk Jeeves has added the ability to \"save\" websites of interest so the next time a users visits the site they can search through the sites they have previously found. Sites saved in this way can be arranged in folders and have notes attached to them to explain why they were saved. Mr Macklin said many people wanted to save sites they had seen but did not want to add them to their bookmarks or favourites not least because such lists cannot be easily searched. On average, said Mr Macklin, users conduct between five and 10 searches per day and the tools in My Ask Jeeves should stop them having to do searches twice and get to what they want much more easily. Under My Ask Jeeves users can search the web or through the results they have already noted as interesting. \"It\\'s about finding again what you found before,\" he said. The My Ask Jeeves service lets people store up to a 1000 web links or 5000 if they sign up to the free service. By way of comparison Google\\'s Desktop search tool catalogues search histories informally and lets people look through the sites they have visited.\\n\\nAt the same time, search start-up Blinkx has released a second version of its eponymous software. Blinkx is desktop search software that watches what someone is working on, be it a document or e-mail, and suggests websites, video clips, blogs or documents on a PC that are relevant to it.\\n\\nSince Blinkx launched it has faced increased competition from firms such as Google, Copernic, Enfish, X1 and Apple all of whom now have programs that let people search their PC as well as the web. \"The competition has validated the problem we tackle,\" said Suranga Chandratillake, co-founder of Blinkx. In the latest release of Blinkx, the company has added what it calls smart folders. Once created the folders act as persistent queries that automatically sweep the web for pages related to their subject and catalogues relevant information, documents or incoming e-mails, on hard drives too. What users do with Blinkx and other desktop search engines shows that people tend to be very promiscuous in their use of search engines. \"Blinkx users do not stop using other web search systems,\" he said. \"They might use Google to look up a company, or Yahoo for travel because they know they are good at that,\" he said. \"The classic thing we have seen recently, is people using Blinkx to look at the things they have searched on,\" he said. The variety of ways to search data was only helping users, said Mr Chandratillake and that it was likely that in the future people would use different ones for different tasks.\\n', 'Video phones act as dating tools\\n\\nTechnologies, from e-mail, to net chatrooms, instant messaging and mobiles, have proved to be a big pull with those looking for love.\\n\\nThe lure once was that you could hide behind the technology, but now video phones are in on the act to add vision. Hundreds have submitted a mobile video profile to win a place at the world\\'s first video mobile dating event. The top 100 meet their match on 30 November at London\\'s Institute of Contemporary Arts (ICA). The event, organised by the 3G network, 3, could catch on as the trend for unusual dating events, like speed dating, continues. \"It\\'s the beginning of the end of the blind date as we know it,\" said Graeme Oxby, 3\\'s marketing director. The response has been so promising that 3 says it is planning to launch a proper commercial dating service soon. Hundreds of hopefuls submitted their profiles, and special booths were set up in a major London department store for two weeks where expert tips were given on how to visually improve their chances. The 100 most popular contestants voted by the public will gather at the ICA in separate rooms and \"meet\" by phone.\\n\\nDating services and other more adult match-making services are proving to be a strong stream of revenue worth millions for mobile companies. Whether it does actually provide an interesting match for video phone technologies remains to be seen. Flic Everett, journalist and dating expert for Company magazine and the Daily Express, thinks technology has been liberating for some nervous soul-mate seekers. There are currently about 1.3 million video phones in use in the UK and three times more single people in Britain than there were 30 years ago, With more people buying video mobiles, 3G dating could be the basis for a successful and safe way to meet people.\\n\\n\"One of the problems with video phones is people don\\'t really know what to video. It is a weird technology. We have not quite worked out what it is for. This gives it a focus and a useful one,\" she told BBC News. \"I would never have thought online dating would take off the way it did,\" she said. \"Lots of people find it easier to be honest writing e-mail or text than face-to-face. Lots people are quite shy and they feel vulnerable.\" \"When you are writing, it comes directly onto the page so they tend to be more honest.\" But the barrier that comes with SMS chat and online match-making is that the person behind the profile may not be who they really are. Scare stories have put people off as a result, according to Ms Everett. Many physical clues, body language, odd twitches, are obviously missing with SMS and online dating services. Still images do not necessarily provide all those necessary cues. \"It could really take off because you do get the whole package. With a static e-mail picture, you don\\'t know who the person is behind it is.\" So checking out a potential date by video phone also gives singletons a different kind of barrier, an extra layer of protection; a case of WLTS before WLTM. \"If you are trapped in real-life blind date context, you can\\'t get away and you feel embarrassed. \"With a video meeting, you really have the barrier of the phone so if you don\\'t like them you don\\'t have to suffer the embarrassment.\"\\n\\nThere is a more serious side to this new use of technology though. With money being made through more adult-themes content and services which let people meet and chat, the revenue streams for mobile carriers will grow with 3G, thinks Paolo Pescatore mobile industry specialist for analysts IDC. \"Wireless is a medium that is being exploited with a number of features and services. One is chatting and the dating element is key there,\" he said. \"The foundation has been set by SMS and companies are using media like MMS and video to grow the market further.\" But carriers need to be wary and ensure that if they do launch such 3G dating services, they ensure mechanism are in place to monitor and be aware who is registers and accesses these services on regular basis, he cautioned. In July, Vodafone introduced a content control system to protect children from such adult content. The move was as a result of a code of practice agreed by the UK\\'s six largest mobile phone operators in January. The system means Vodafone users need to prove they are over 18 before firewalls are lifted on explicit websites or chat rooms dealing with adult themes. The impetus was the growing number of people with handsets that could access the net, and the growth of 3G technologies.\\n']\n",
            "business ['EU aiming to fuel development aid\\n\\nEuropean Union finance ministers meet on Thursday to discuss proposals, including a tax on jet fuel, to boost development aid for poorer nations.\\n\\nThe policy makers are to ask for a report into how more development money can be raised, the EU said. The world\\'s richest countries have said they want to increase the amount of aid they give to 0.7% of their annual gross national income by 2015. Airlines have reacted strongly against the proposed fuel levy.\\n\\nProfits have been under pressure in the airline industry, with low-cost firms driving down prices and demand dipping after the 11 September terrorist attacks and the outbreak of the killer SARS virus.\\n\\nThings have picked up, but some European and US companies are teetering on the brink of bankruptcy. At present, the fuel used by airlines enjoys either a very low tax rate or is untaxed in EU member states. \"Of course we applaud humanitarian initiatives, but why target the airlines?\" said Ulrich Schulte-Strathaus, secretary general of the Association of European Airlines. \"Our industry is in the midst of a fundamental crisis...only to be once again confronted with a measure designed to increase our costs,\" he continued.\\n\\nThe EU sought to allay the airlines\\' fears, stressing that Thursday\\'s meeting was only a first step and that other proposals were also under consideration. It added that any plan to levy taxes on jet fuel \"should not hinder the competitiveness of the airlines and that they themselves will not be solely funding development\". Any tax would only be implemented after full consultation with the airlines, the EU said. There is thought to be widespread support for the plan - tabled by France and Germany following the recent G7 meeting of the world\\'s richest nations - from EU ministers. The issue of poverty in Africa and South Asia has forced itself to the top of the politicial agenda, with politicians and campaigners calling for more to be done. At their meeting in London, G7 finance ministers backed plans to write off up to 100% of the debts of some of the world\\'s poorest countries.\\n', 'Gaming firm to sell UK dog tracks\\n\\nSix UK greyhound tracks have been put up for sale by gaming group Wembley as part of a move which will lead to the break-up of the group.\\n\\nWembley announced the planned sale as it revealed it was to offload its US gaming division to BLB Investors. US gaming consortium BLB will pay $339m (£182.5m) for the US unit, although the deal is subject to certain conditions. BLB holds a 22% stake in Wembley and last year came close to buying the whole firm in a £308m takeover deal. Shares in Wembley were up 56 pence, or 7.6%, at 797p by mid-morning.\\n\\nThe sale of the US gaming unit will leave Wembley with its UK business. This includes greyhound tracks at Wimbledon in London, Belle Vue in Manchester, Perry Barr and Hall Green in Birmingham, Oxford and Portsmouth. Analysts have valued the six tracks at between £40m-£50m. The US business accounts for about 90% of Wembley\\'s operating profit and consists of operations in Rhode Island and Colorado. BLB\\'s purchase of the US unit is subject to the agreement of a revenue-sharing deal being struck with Rhode Island authorities. Wembley said that, once the deal was completed, it anticipated returning surplus cash to shareholders. \"Whilst the completion of the sale of the US Gaming Division remains subject to a number of conditions, we believe this development is a positive step towards the maximisation of value for shareholders,\" said Wembley chairman Claes Hultman. Wembley sold the English national football stadium in 1999 to concentrate on its gaming operations.\\n', 'Bargain calls widen Softbank loss\\n\\nJapanese communications firm Softbank has widened losses after heavy spending on a new cut-rate phone service.\\n\\nThe service, launched in December and dubbed \"Otoku\" or \"bargain\", has had almost 900,000 orders, Softbank said. The firm, a market leader in high-speed internet, had an operating loss for the three months to December of 7.5bn yen ($71.5m; £38.4m). But without the Otoku marketing spend it would have made a profit - and expects to move into the black in 2006. The firm did not give a figure for the extent of profits it expected to make next year. It was born in the 1990s tech boom, investing widely and becoming a fast-rising star, till the end of the tech bubble hit it hard. Its recent return to a high profile came with the purchase of Japan Telecom, the country\\'s third-biggest fixed-line telecoms firm. The acquisition spurred its broadband internet division to pole position in the Japanese market, with more than 5.1 million subscribers at the end of December.\\n', 'US bank boss hails \\'genius\\' Smith\\n\\nUS Federal Reserve chairman Alan Greenspan has given a speech at a Scottish church in honour of the pioneering economist, Adam Smith.\\n\\nHe delivered the 14th Adam Smith Lecture in Kirkcaldy, Fife. The Adam Smith Lecture celebrates the author of 1776\\'s Wealth of Nations, which became a bible of capitalism. Dr Greenspan was invited by Chancellor Gordon Brown, whose minister father John used to preach at the St Bryce Kirk church. Mr Brown introduced Dr Greenspan to the 400 invited guests as the \"the world\\'s greatest economist\". Dr Greenspan, 79, who has been in the UK to attend the G7 meeting in London, said the world could never repay the debt of gratitude it owed to Smith, whose genius he compared to that of Mozart.\\n\\nHe said the philosopher was a \"towering contributor to the modern world\". \"Kirkcaldy, the birthplace in 1723 of Adam Smith and, by extension, of modern economics, is also of course, where your chancellor was reared. \"I am led to ponder to what extent the chancellor\\'s renowned economic and financial skills are the result of exposure to the subliminal intellect-enhancing emanation in this area.\" He continued: \"Smith reached far beyond the insights of his predecessors to frame a global view of how market economics, just then emerging, worked. \"In so doing he supported changes in societal organisation that were to measurably enhance standards of living.\"\\n\\nDr Greenspan said Smith\\'s revolutionary philosophy on human self-interest, laissez-faire economics and competition had been a force for good in the world. \"The incredible insights of a handful of intellectuals of the Enlightenment - especially with Smith toiling in the environs of Kirkcaldy - created the modern vision of people free to choose and to act according to their individual self-interest,\" he said. Following his lecture, Dr Greenspan - who received an honorary knighthood from the Queen at Balmoral in 2002 - was awarded an honorary fellowship of the Royal Society of Edinburgh. He later opened an exhibition dedicated to Smith in the atrium of Fife College of Further and Higher Education. Joyce Johnston, principal of the college, said: \"It is very fitting that the world\\'s premier economist delivered this lecture in tribute to the world\\'s first economist.\" Dr Greenspan - who became chairman of the Federal Reserve for an unprecedented fifth term in June 2004 - will step down in January next year. He has served under Presidents George W Bush, Bill Clinton, George Bush, and Ronald Reagan. He was also chairman of the council of economic advisors to Gerald Ford.\\n', 'US trade gap ballooned in October\\n\\nThe US trade deficit widened by more than expected in October, hitting record levels after higher oil prices raised import costs, figures have shown\\n\\nThe trade shortfall was $55.5bn (£29bn), up 9% from September, the Commerce Department said. That pushed the 10 month deficit to $500.5bn. Imports rose by 3.4%, while exports increased by only 0.6%. A weaker dollar also increased the cost of imports, though this should help drive export demand in coming months. \"Things are getting worse, but that\\'s to be expected,\" said David Wyss of Standard & Poor\\'s in New York. \"The first thing is that when the dollar goes down, it increases the price of imports. \"We are seeing improved export orders. Things seem to be going in the right direction.\"\\n\\nDespite this optimism, significant concerns remain as to how the US will fund its trade and budget deficits should they continue to widen. Another problem highlighted by analysts was the growing trade gap with China, which has been accused of keeping its currency artificially weak in order to boost exports. The US imported almost $20bn worth of goods from China during October, exporting a little under $3bn. \"It seems the key worry that has existed in the currency market still remains,\" said Anthony Crescenzi, a bond strategist at Miller Tabak in New York. The trade deficit and the shortfall with China \"are big issues going forward\". The Commerce Department figures caused the dollar to weaken further despite widespread expectations that the Federal Reserve will raise interest rates for a fifth time this year. Borrowing costs are tipped to rise by a quarter of a percentage point to 2.25% at a Fed meeting later on Tuesday.\\n']\n",
            "entertainment [\"Animation charms Japan box office\\n\\nOscar-winning director Hayao Miyazaki's latest film has set a new Japanese box office record, with 1.5bn yen ($14.3m) in two days, according to reports.\\n\\nHowl's Moving Castle is the follow-up to Miyazaki's Spirited Away, which won best animation at last year's Oscars. It is based on the children's book by English writer Diana Wynne Jones. It has registered the highest opening weekend takings of any Japanese film in the country, according to trade publication Screen Daily.\\n\\nThe film is about an 18-year-old girl who is trapped in an old woman's body after being put under a spell by a witch. Its two-day takings represented 1.1 million cinema admissions, Screen Daily said. The film's distributor Toho expects 40 million people to see it in total - almost one third of the country's population - it added. The film won the Golden Osella for outstanding technical contribution at this year's Venice Film Festival.\\n\", 'Singer Ferguson \\'facing eviction\\'\\n\\nThree Degrees star Sheila Ferguson is the favourite to be evicted from ITV\\'s I\\'m A Celebrity... Get Me Out Of Here on Monday.\\n\\nBookmakers Ladbrokes says the singer has even odds of being the first contestant to be voted off the show. \"It\\'s going to be close but Sheila is favourite as she has shown herself to be a bit of a troublemaker,\" said Ladbrokes\\' Warren Lush. Comic Joe Pasquale remains odds on favourite to win the reality show. Mr Lush added that Nancy Sorrell\\'s chances of an early departure had increased since the surprise arrival of husband Vic Reeves in the jungle camp last Wednesday. Notwithstanding, comedian Reeves remains 3/1 favourite to win the show, after Pasquale.\\n\\nHuggy Bear actor Antonio Fargas also remains a contender for eviction having \"done nothing to live up to the pre-show hype\". \"There has been a big gamble on Natalie [Appleton] to go... but bookies fancy the millions at home will keep piling on the misery by putting her through more bushtucker trials,\" added Mr Lush. The former All Saint star has performed dismally in bushtucker trials which have seen her plunged into glass tanks containing putrid waste and challenged to eat fish eyes. On Friday, Ladbrokes suspended betting after singer Brian Harvey quit the show folllowing a blazing row with Janet Street-Porter. Harvey, who entered the camp a day later than other contestants after learning that his grandmother had died, reached the end of his tether following days of meagre rations and rows.\\n', \"Byrds producer Melcher dies at 62\\n\\nRecord producer Terry Melcher, who was behind hits by the Byrds, Ry Cooder and the Beach Boys, has died aged 62.\\n\\nThe son of actress Doris Day, he helped write Kokomo for the Beach Boys, which was used in the movie Cocktail, earning a 1988 Golden Globe nomination. He also produced Mr Tambourine Man for the Byrds, as well as other his such as Turn, Turn Turn. Melcher died on Friday night at his home in Beverly Hills, California, after a long battle with skin cancer. He joined Columbia Records as a producer in the mid-1960s, and also worked with Gram Parsons and the Mamas and the Papas.\\n\\nEarlier in his career, Melcher had hits as part of duo called Bruce & Terry, with future Beach Boy Bruce Johnston, which evolved into the Rip Chords group. Melcher also worked closely with his mother, producing The Doris Day Show and helping to run her charitable activities. In 1969 his name became linked with the Charles Manson murders, which saw the deaths of actress Sharon Tate and four of her friends at a home which Melcher once rented. Rumours circulated that Melcher - who knew Manson - was the killer's real target, because he had turned him down for a record contract. But Los Angeles police discounted the rumours, pointing out Melcher had moved to Malibu, and Manson knew of his new address.\\n\", 'TV show unites Angolan families\\n\\nAngolan families who are attempting to track each other down, after being separated by nearly 30 years of war, are succeeding thanks to a hugely popular TV show.\\n\\nMeeting Point has become one of TV Angola\\'s most watched programmes, and has reunited hundreds of families. It runs daily, not only on the television but also on the radio. Every Friday, hundreds of people gather in Luanda\\'s Independence Square to record a message in front of the TV cameras, in the hope that a lost relative will see it. Many relatives have been reunited on air. \"At the beginning there was an absolute explosion - huge, huge crowds,\" Sergio Gera, the programme\\'s chief co-ordinator, told BBC World Service\\'s Assignment programme. \"Now things are a little calmer, there are slightly less people - but, after two and a half years of broadcasting, there are still a lot of people going.\"\\n\\nThe media in the southern African country, twice the size of France, has been gripped by the quest of so many people to find their relatives. Hundreds of thousands of people died in Angola\\'s 30-year civil war, which finally ended in 2002, and tens of thousands of people are still missing. Many have not heard anything for 10 or more years - in all, 90% of Angolan families have lost someone.\\n\\nThe idea of recording in Independence Square was modelled on a square in the Argentine capital Buenos Aries, where mothers go to talk about the dead and the missing, and to exchange news. One woman, Victoria Lapete, found her sister - the only remaining member of her family - in Independence Square live on Meeting Point. She had not seen her sibling for 28 years. \"When we saw each other, we threw ourselves into each other\\'s arms,\" she told Assignment. \"We started to cry. I felt very, very happy, because I\\'d spent so long without any family. Suddenly I had a sister again.\" However, Angola is one of the poorest countries in Africa, and the number of people with access to either a television or radio is comparatively few. This means that elsewhere in the country, the task of reuniting families lies primarily with the International Committee of the Red Cross (ICRC). In the city of Wambo, the ICRC runs the Gazetta - a 200-page, tabloid-size book which contains 13,000 names of missing or displaced.\\n\\nTheir task is made much harder by the huge number of landmines dotted around the country. \"It\\'s very difficult - there are many displaced,\" stated Joaquim Sahundi, head of tracing in Wambo.\\n\\n\"As they try to go back [home], others are trying to relocate their relatives. Many people are getting injured because of that - in the villages, in the bush, there has been no clearance of mines. \"When people are crossing these areas, they step on mines.\" The ICRC also uses the media where it can, running four daily broadcasts of their lists of the missing on Radio Angola. Meanwhile, there remain massive challenges to Angolan families even once they are reunited. \"The programme of family reunification is extremely important, but for these families to remain reunified, there has to be social integration, job access, education, healthcare,\" said Rafael Marques of the pro-democracy George Soros Foundation for Southern Africa. \"Essentially the government is waiting for the international community to pay for the reconstruction - that\\'s why it has been persistently calling for a donor\\'s conference. That is just a way of detaching itself from its political responsibilities.\"\\n', 'Buffy creator joins Wonder Woman\\n\\nThe creator of Buffy the Vampire Slayer is to take on a new female superhero after signing up to write and direct the Wonder Woman movie.\\n\\nJoss Whedon described the DC Comics character as \"the most iconic female heroine of our time\". \"In a way, no one has met her yet,\" he said. \"What I love most about icons is finding out what\\'s behind them, exploring the price of their power.\" Linda Carter played the character in the 1970s TV series. The character of Wonder Woman, famed for her red and gold costume, was born on Paradise Island, and was blessed with the powers of strength and flight. The film is being produced by Joel Silver, producer of the Matrix trilogy.\\n\\n\"There\\'s no one better than Joss to adapt the legendary Wonder Woman comic book character created in the 1940s into a dynamic feature film for 21st Century audiences,\" said Silver. \"Wonder Woman was the first great female superhero to emerge from comic books and later inspire millions of fans in her television incarnation... but this groundbreaking heroine has yet to be reinvented for the feature film arena.\" Whedon created the character of Buffy in the screenplay for the 1992 film. He distanced himself from the movie because of the direction it eventually took, and the film bombed. But he did not give up on the Slayer and went on to write and executive produce seven seasons of the cult TV series. He also produced the spin-off Angel series. He is currently directing the film Serenity, based on his short-lived sci-fi series Firefly.\\n']\n"
          ],
          "name": "stdout"
        }
      ]
    },
    {
      "cell_type": "markdown",
      "metadata": {
        "id": "bNpasygP2qAQ"
      },
      "source": [
        "## Model Selection"
      ]
    },
    {
      "cell_type": "markdown",
      "metadata": {
        "id": "I21aeh4Y5qbk"
      },
      "source": [
        "Combine into full dataset"
      ]
    },
    {
      "cell_type": "code",
      "metadata": {
        "id": "DAYENPN54IHy",
        "colab": {
          "base_uri": "https://localhost:8080/"
        },
        "outputId": "86463001-72e3-4b2d-f02a-e855ec46faa5"
      },
      "source": [
        "X_full, Y_full = format_data_categories(data_categories)"
      ],
      "execution_count": 53,
      "outputs": [
        {
          "output_type": "stream",
          "text": [
            "2225 ['Guantanamo pair\\'s passport ban\\n\\nThe government has written to two of the British men freed from Guantanamo Bay telling them they will not be allowed passports.\\n\\nA letter sent to Martin Mubanga said his British passport would not be issued in the light of evidence gathered against him by the US. This suggested he was likely to take part in action against UK or allied targets if he left Britain, it said. An identical letter has been sent to Feroz Abbasi, the men\\'s solicitor says.\\n\\nIt is not known whether the other two men released from the Cuba detention camp in January - Richard Belmar and Moazzam Begg - have also received letters. The government is implementing the rarely used Royal Prerogative in order to withdraw the men\\'s passports. It is only the 13th time the power has been used since 1947 - the last time was in 1976. The letter, from the Home Office, says: \"I am writing to inform you that on the basis of the information which has come to light during your detention by the United States, the home secretary considered that there are strong grounds for believing that, on leaving the United Kingdom, you would take part in activities against the United Kingdom, or allied targets.\"\\n\\nThe Home Office said it could not comment on individual cases.\\n\\nThe Liberal Democrats say they suspect the move is part of a package of security measures agreed with the US in order for the men to be allowed home from Guantanamo Bay.\\n\\nHome Affairs spokesman Mark Oaten also demanded assurances that the evidence against the men was not gained under torture. He added: \"The power should only be used in absolute extreme circumstances and I find it hard to believe that these conditions have been met this time.\" He said the move also raised complex questions about the use of the Royal Prerogative. The Liberal Democrats have promised to raise the issue in Parliament.\\n\\nAmnesty International UK also questioned whether the decisions had been based on \"torture evidence\" obtained at Guantanamo Bay. \"Furthermore, we believe there should be an investigation into the role played by the UK in the detention of UK residents and nationals and possibly many others at Guantanamo Bay,\" said director Kate Allen. The men\\'s solicitor, Louise Christian, has raised questions about whether the evidence was gathered through torture. But the Pentagon told BBC News US policy \"condemns and prohibits\" torture and said there was no evidence that any British detainee was tortured or abused. Mr Abbasi, 23, from Croydon, south London, was taken to Guantanamo Bay after being captured in Afghanistan in 2001. Mr Mubanga, 29, from north London, was originally detained in Zambia.\\n', 'Kennedy questions trust of Blair\\n\\nLib Dem leader Charles Kennedy has said voters now have a \"fundamental lack of trust\" of Tony Blair as prime minister.\\n\\nHe said backing his party was not a wasted vote, adding that with the Lib Dems \"what you see is what you get\". He made his comments at the start of a day of appearances on Channel Five in a session on The Wright Stuff programme. Questions from callers, a studio audience and the show\\'s presenter covered Lib Dem tax plans, anti-terror laws and immigration.\\n\\nMr Kennedy said during his nearly 22 years in Parliament he had seen prime ministers and party leaders come and go and knew the pitfalls of British politics. \"1983 was when I was first elected as an MP - so Tony Blair, Michael Howard and myself were all class of \\'83 - and over that nearly quarter of a century the world has changed out of recognition,\" he said. \"We don\\'t actually hear the argument any longer: \\'Lib Dems, good people, reasonable ideas but only if we thought they could win around here - it\\'s a wasted vote\\'. \"You don\\'t hear that because the evidence of people\\'s senses demonstrates that it isn\\'t a wasted vote.\" But he said Mr Blair had lost the trust of the British people. \"There is a fundamental lack of trust in Tony Blair as prime minister and in his government,\" he said.\\n\\n\"What we\\'ve got to do as a party - what I\\'ve got to do as a leader of this party - is to convey to people that what you see is what you get.\" Mr Kennedy also used his TV appearance to defend his party\\'s plans to increase income tax to 50% for those earning more than £100,000, saying it would apply to just 1% of the population. He said the extra revenue would allow his party to get rid of tuition and top-up fees, introduce free personal care for the elderly and replace the council tax with a local income tax. Mr Blair has already spent a day with Five and Michael Howard is booked for a similar session.\\n', 'Wales \\'must learn health lessons\\'\\n\\nThe new health minister for Wales says there are lessons to learn from England in tackling waiting lists.\\n\\nDr Brian Gibbons, on his first full day in the job after Jane Hutt was sacked, admitted \"big challenges\" but insisted the \"essentials\" were in place. But both Plaid Cymru and the Liberal Democrats said Dr Gibbons needed to change policy. Meanwhile Ms Hutt defended her record, saying waiting times and lists were \"only 10% of the health agenda. Dr Gibbons, who was a GP in Blaengwynfi, in the Upper Afan Valley, before becoming AM for Aberavon, said NHS staff wanted a period of consolidation after \"tremendous change and reform\". One of the biggest problems which had faced Ms Hutt during her five-and-a-half years as the assembly\\'s first health minister was the length of waiting lists in Wales.\\n\\nIn November the British Medical Association said NHS staff were \"weeping with despair\" as figures showed 311,000 people were waiting for treatment in Wales, up by 2,400 on the previous month. In the same month lists in England were at their lowest for 17 years, with 856,600 people waiting for treatment. Dr Gibbons told Radio Wales: \"There is no doubt that, in managing waiting lists, England has done a lot of very very useful work, and we do need to learn from that.\"\\n\\nBut he said the NHS in Wales also needed to create a healthier population rather than respond only to ill health, and a balanced view of priorities was important. \"We do need a consistent across-the-board approach, recognising the patients\\' experience of how they use the service is going to be, at the end of the day, the main test of how the service is working.\" He said NHS staff wanted a period of consolidation after \"tremendous change and reform\". Later, Dr Gibbons praised the work of Ms Hutt, saying he \"agreed with everything she\\'s done\" to change the health service in Wales. Dr Gibbons said he accepted there was a problem, but his job now was to build on the foundations put in place by his predecessor. He also acknowledged that until the waiting list issue was sorted out, the rest of the assembly government\\'s health policy would be overshadowed.\\n\\nOpposition members and some Labour MPs had long called for Ms Hutt\\'s removal after sustained criticism over extended hospital waiting times. First Minister Rhodri Morgan told BBC Wales he had agreed with Ms Hutt in 2003 that she would not be health minister in the run-up to the 2007 elections. \"She\\'s been doing the job for five years and eight months and, apart from Nye Bevan himself, (architect of the NHS), I don\\'t think anybody has ever done the job for so long.\" Mr Morgan said he had only told Ms Hutt of the reshuffle on Monday morning, and said the NHS in Wales was Dr Gibbons\\' \"baby\" now. In response to Dr Gibbons\\' comments, Ieuan Wyn Jones, leader of the Plaid Cymru group in the assembly, said: \"It is apparent that this reshuffle by the first minister was just changing the deckchairs on a sinking Titanic.\" Kisrty Williams, for the Lib Dems, added: \"If the underlying policy is going to continue, then changing the minister will serve no purpose, other than to deflect flak from Labour\\'s MPs,\" she said. Meanwhile Ms Hutt said she hoped \"that the people of Wales would benefit from my investment of the past five years and eight months\" Asked about waiting lists, she said that waiting times and lists were \"only 10% of the health agenda\" and that the Welsh Assembly Government had \"turned the corner\" on the issue.\\n', 'Lib Dems target the student vote\\n\\nStudents can decide the fate of MPs in some seats at the next election, Liberal Democrat leader Charles Kennedy has claimed.\\n\\nThe party says the votes of students can win it 27 new seats at the poll. The figures assume all students will vote in their university town. In fact, some may vote where the parents live. The Lib Dems say scrapping university fees wins them student support. But the Tories would also end fees and Labour says both would cap people\\'s ambitions.\\n\\nThe Lib Dems have named the 14 seats where there are enough students to take the Lib Dems from second place to beat Labour, and the 13 where they could go from second to beat the Tories. Launching his campaign to win students\\' votes at the London School of Economics, Mr Kennedy urged students to \"make their mark\". He underlined Lib Dem plans to scrap university fees and reintroduce maintenance grants of up to £2,000. He said: \"Top-up fees put students off university, especially those from a poorer background. \"And is it really right that so many young people are starting out in life with mortgage-style debts hanging round their necks?\" Mr Kennedy also said students want action on the environment and see the Iraq war, which his party opposed, as a defining issue.\\n\\nLabour has pushed through plans to let universities charge fees of up to £3,000 a year, with the poorest students eligible for non-repayable support of up to £3,000. Ahead of Mr Kennedy\\'s launch, a Labour spokesperson said: \"Like the Tories, the Liberal Democrats would restrict access to higher education and put a cap on aspiration, closing the door to students with good grades and restricting their life ambitions. \"They are committed to abandoning Labour\\'s targets of getting 50% of 18 to 30-year-olds going into higher education and under Lib Dem plans students would even have to study near home.\" The Conservatives say they would abolish university tuition fees and instead offer large student loans at commercial rates of interest.\\n\\nThey say the Lib Dem policy would leave universities wholly dependent for their income on the \"goodwill\" of the chancellor.\\n\\nShadow education secretary Tim Collins is on Thursday setting out a new scheme of vocational grants for 14 to 16-year-olds to tackle what he says are \"crippling skills shortages\". The Lib Dem analysis of the difference students could make to its election chances is based on all students being registered to vote near their university, not in their home towns. Although the expected 5 May election would be during term time, students can vote by post. The Electoral Commission and National Union of Students are worried students in halls of residence can find it hard to register to vote. Some hall wardens are reluctant to register students because of data protection fears - but students can get themselves registered. If the election is on 5 May, voters need to register by 11 March.\\n\\n\\n - The seats where the Lib Dems say student votes can swing the election for them are: Bristol West, Cardiff Central, Leeds North West, Cambridge, Manchester Gorton, Sheffield Central, Oxford East, Newcastle-upon-Tyne Central, Liverpool Riverside, Holborn and St Pancras, Oldham East and Saddleworth, Manchester Withington, Islington South and Finsbury, Birmingham Yardley, Surrey South West, Taunton, Orpington, Haltemprice and Howden, Eastbourne, Isle of Wight, Dorset West, Bournemouth East, Wells, Canterbury, Cities of London and Westminster, Bournemouth West, Westmorland and Lonsdale.\\n', 'Straw backs ending China embargo\\n\\nUK Foreign Secretary Jack Straw has defended plans to end the European Union\\'s arms embargo on China, despite opposition from the US and Japan.\\n\\nMr Straw, visiting Beijing, noted arms embargoes applied to China, Burma and Zimbabwe but not to North Korea, which he said had a terrible rights record. The EU imposed its arms ban on China in 1989 after troops opened fire on protestors in Tiananmen Square. Mr Straw also signed a deal on China-UK tourism. It is expected this would increase the number of Chinese tourists by 40,000 per year, providing $120m in revenue. China has in the past said it sees the weapons ban as politically driven, and does not want it lifted in order to buy more weapons. Mr Straw, speaking at a joint news conference with Chinese Foreign Minister Li Zhaoxing, stressed this point. \"The result of any decision [to lift the arms embargo] should not be an increase in arms exports from European Union member states to China, either in quantitative or qualitative terms,\" Mr Straw said. Earlier this week he said he expected the embargo to be lifted within six months.\\n\\nBut Mr Straw faces tough opposition to the move. Tory foreign affairs spokesman Michael Ancram said lifting the arms embargo would be \"irresponsible\" and would damage Britain\\'s relations with the US. He said Mr Straw was \"naive beyond belief\" if he accepted China\\'s claim it does not want the ban lifted in order to buy weapons. The French want the embargo lifted because they want to sell arms to China; the Chinese want it lifted because they want to buy arms and battlefield technology from Europe.\" When he was in Tokyo earlier this week, Japanese Foreign Minister Nobutaka Machimura told the British minister that his plan to remove the embargo was \" a worrying issue that concerns the security and environment of not only Japan, but also East Asia overall\". Washington argues that if the embargo is lifted, it could lead to a buying spree for arms that China could use to threaten its diplomatic rival Taiwan. Beijing says Taiwan is part of Chinese territory and wants to unite it with the mainland, by force if necessary. The US is bound by law to help Taiwan defend itself. Washington has also voiced concern that the human rights conditions in China have not improved enough to merit an end to the embargo. It is an issue raised by human rights groups too. Brad Adams, from the UK\\'s Human Rights Watch, said: \"This is a huge political signal from Europe that they are willing to forget about Tiananmen Square.\" But Mr Straw insisted the EU\\'s code of conduct on arms exports meant tough criteria on human rights still had to be met if the embargo was lifted.\\n']\n",
            "2225 ['politics', 'politics', 'politics', 'politics', 'politics']\n"
          ],
          "name": "stdout"
        }
      ]
    },
    {
      "cell_type": "markdown",
      "metadata": {
        "id": "Ikqat4QdDIvE"
      },
      "source": [
        "Split into training, testing and dev\n"
      ]
    },
    {
      "cell_type": "code",
      "metadata": {
        "id": "RLJn5fId6ajP",
        "colab": {
          "base_uri": "https://localhost:8080/"
        },
        "outputId": "8c392d37-aaa4-417d-c2af-515cbc16b08f"
      },
      "source": [
        "X_train_data, Y_train, X_test_data, Y_test, X_dev_data, Y_dev = train_test_dev_split(X_full, Y_full)"
      ],
      "execution_count": 54,
      "outputs": [
        {
          "output_type": "stream",
          "text": [
            "first split 0.4 second split 0.5\n",
            "Total size:  2225\n",
            "\n",
            "TRAINING SET\n",
            "\n",
            "Size training set: 1335, 60%\n",
            "cat: business\n",
            "Fresh hope after Argentine crisis  Three years after Argentina was hit by a deadly economic crisis, there is fresh hope.  The country's economy is set to grow about 8% this year after seeing 9% growth...\n",
            "cat: business\n",
            "Yukos heading back to US courts  Russian oil and gas company Yukos is due in a US court on Thursday as it continues to fight for its survival.  The firm is in the process of being broken up by Russian...\n",
            "cat: tech\n",
            "Blind student 'hears in colour'  A blind student has developed software that turns colours into musical notes so that he can read weather maps.  Victor Wong, a graduate student from Hong Kong studying...\n",
            "cat: business\n",
            "Japanese growth grinds to a halt  Growth in Japan evaporated in the three months to September, sparking renewed concern about an economy not long out of a decade-long trough.  Output in the period gre...\n",
            "cat: sport\n",
            "Isinbayeva heads for Birmingham  Olympic pole vault champion Yelena Isinbayeva has confirmed she will take part in the 2005 Norwich Union Grand Prix in Birmingham on 18 February.  \"Everybody knows how...\n",
            "\n",
            "TEST SET\n",
            "\n",
            "Size test set: 445, 20%\n",
            "cat: tech\n",
            "IBM puts cash behind Linux push  IBM is spending $100m (£52m) over the next three years beefing up its commitment to Linux software.  The cash injection will be used to help its customers use Linux on...\n",
            "cat: sport\n",
            "European medal chances improve  What have the European Indoor trials told us? Well, I think we could be heading to the European Championships with half a dozen medal prospects.  It was good to see ath...\n",
            "cat: tech\n",
            "IBM frees 500 software patents  Computer giant IBM says 500 of its software patents will be released into the open development community.  The move means developers will be able to use the technologie...\n",
            "cat: tech\n",
            "Google's toolbar sparks concern  Search engine firm Google has released a trial tool which is concerning some net users because it directs people to pre-selected commercial websites.  The AutoLink fea...\n",
            "cat: tech\n",
            "Apple attacked over sources row  Civil liberties group the Electronic Frontier Foundation (EFF) has joined a legal fight between three US online journalists and Apple.  Apple wants the reporters to re...\n",
            "\n",
            "DEV SET\n",
            "\n",
            "Size development set: 445, 20%\n",
            "cat: sport\n",
            "White admits to Balco drugs link  Banned American sprinter Kelli White says she knowingly took steroids given to her by Bay Area Lab Co-Operative (Balco) president Victor Conte.  Conte faces a federal...\n",
            "cat: sport\n",
            "Hamm bows out for US  Women's football legend Mia Hamm has played her final game.  Hamm, 32, who officially retired after this year's Athens Olympics, took to the field for the last time to help the U...\n",
            "cat: sport\n",
            "Healey targets England comeback  Leicester wing Austin Healey hopes to use Sunday's return Heineken Cup clash with Wasps as a further springboard to an England recall for the Six Nations.  Healey, who...\n",
            "cat: tech\n",
            "Wi-fi web reaches farmers in Peru  A network of community computer centres, linked by wireless technology, is providing a helping hand for poor farmers in Peru.  The pilot scheme in the Huaral Valley,...\n",
            "cat: tech\n",
            "'Brainwave' cap controls computer  A team of US researchers has shown that controlling devices with the brain is a step closer.  Four people, two of them partly paralysed wheelchair users, successfull...\n"
          ],
          "name": "stdout"
        }
      ]
    },
    {
      "cell_type": "markdown",
      "metadata": {
        "id": "0nFAjlI8y6BI"
      },
      "source": [
        "## Feature engineering"
      ]
    },
    {
      "cell_type": "markdown",
      "metadata": {
        "id": "RPrK5n0LdTIH"
      },
      "source": [
        "Tokenise the data using NLTK word tokenizer "
      ]
    },
    {
      "cell_type": "code",
      "metadata": {
        "id": "tuG63_MadTRH",
        "colab": {
          "base_uri": "https://localhost:8080/",
          "height": 168,
          "referenced_widgets": [
            "50636ecac10c42e7bf65409866f9d90a",
            "560b0ccbf7104815a7d341223881e6d2",
            "45fa82cc9bd8494aa1fe37da99b6cec2",
            "86af33f1746d4df8bf8d0c81daa3776e",
            "fece9c14638940dab4a7139f4002c5e9",
            "38e1e1c803d34a6cbfa8f4e9c6a87f26",
            "7db483c669d14c41a32d959beb853c11",
            "8f9fc390ff8646cdb76f122210d63fad",
            "1bef850956134ce6a531d95162793aae",
            "da1eeab4ed454962a0937f7029c2a0ec",
            "a41b829358484c9ba8226bd8fd06439f",
            "595be51bf0754ce482eff7fff1083cec",
            "52d4aa6d3d3b4de4b51a94ce7a5a1722",
            "97d85c9dbd0948bd8ab43b3616358684",
            "f427e2af49f14af0bb3ec1ef317932d9",
            "cc98a7efa83b43da9d07787a9dc69cb8",
            "a1e59a066d38401fa78880894a9e57c2",
            "6cf1cdf347604bda8e6990b63dea8962",
            "aaf05ca3a77a4dd7af1b9246dc135fa9",
            "b00fa3e8125d4a8d9899f4f8506741da",
            "fc1f2fc7e55e4abb8da6c4258942485a",
            "516d06820e32462c80ada6d22594d9c3",
            "9726581306c64a2c95e94d47b2ec1092",
            "1485d638c4664fd385f5b195c27de8d8"
          ]
        },
        "outputId": "781dc96d-7b7a-4a79-f35b-bf89db4c72d9"
      },
      "source": [
        "X_train_token_data = tokenise_data(X_train_data)\n",
        "X_test_token_data = tokenise_data(X_test_data)\n",
        "X_dev_token_data = tokenise_data(X_dev_data)"
      ],
      "execution_count": 55,
      "outputs": [
        {
          "output_type": "display_data",
          "data": {
            "application/vnd.jupyter.widget-view+json": {
              "model_id": "50636ecac10c42e7bf65409866f9d90a",
              "version_minor": 0,
              "version_major": 2
            },
            "text/plain": [
              "HBox(children=(FloatProgress(value=0.0, max=1335.0), HTML(value='')))"
            ]
          },
          "metadata": {
            "tags": []
          }
        },
        {
          "output_type": "stream",
          "text": [
            "\n"
          ],
          "name": "stdout"
        },
        {
          "output_type": "display_data",
          "data": {
            "application/vnd.jupyter.widget-view+json": {
              "model_id": "1bef850956134ce6a531d95162793aae",
              "version_minor": 0,
              "version_major": 2
            },
            "text/plain": [
              "HBox(children=(FloatProgress(value=0.0, max=445.0), HTML(value='')))"
            ]
          },
          "metadata": {
            "tags": []
          }
        },
        {
          "output_type": "stream",
          "text": [
            "\n"
          ],
          "name": "stdout"
        },
        {
          "output_type": "display_data",
          "data": {
            "application/vnd.jupyter.widget-view+json": {
              "model_id": "a1e59a066d38401fa78880894a9e57c2",
              "version_minor": 0,
              "version_major": 2
            },
            "text/plain": [
              "HBox(children=(FloatProgress(value=0.0, max=445.0), HTML(value='')))"
            ]
          },
          "metadata": {
            "tags": []
          }
        },
        {
          "output_type": "stream",
          "text": [
            "\n"
          ],
          "name": "stdout"
        }
      ]
    },
    {
      "cell_type": "markdown",
      "metadata": {
        "id": "7mdMnSnVzH8T"
      },
      "source": [
        "Tag the datasets using NLTK part-of-speech tagging "
      ]
    },
    {
      "cell_type": "code",
      "metadata": {
        "id": "dnEM_DPpKa9N",
        "colab": {
          "base_uri": "https://localhost:8080/",
          "height": 168,
          "referenced_widgets": [
            "530a8cc7e6e34165bc5d23ceb4d147f8",
            "bc4bc7bb0b7e4dbdbe03ae1f3dacfc09",
            "3acdd37481514633b6c756932ffa7f9b",
            "6246e766e11b4d8fbc20c0af7c5abbe9",
            "147c2b07149b4dc981205da05c2cf3e5",
            "2b376878abe7478fb50bcbc4ec87975b",
            "defcae376859415db36cab9e06c59620",
            "bcf95147fb124c118826f14eb30e128c",
            "5667fff218694df0b878fe9d1450b1e1",
            "4fa02d78a1944709bf5e69c36591f6b9",
            "4786d65b2226453f8b20353e0079c87b",
            "32124ac922414aecbe0f5e3a6988cd20",
            "706b398c909f40a4b9351049f242f578",
            "f1310a62ad914da594b730404b53f8bc",
            "b520cb97cb4244859814118448da643d",
            "d009477dc47a488c85eeaf5ad8c25dd9",
            "46be2e73fd6a48678a3dc9cfccb12de4",
            "612d3cfeebc14511ae11d55f29c95175",
            "f9f40cc882c946ed80b97d9726647935",
            "537778facb2d4062ab6c0e6f415cf8d5",
            "acc734434d5043da95b0a94f450cec13",
            "19cb498dbaef4b2f8b01971dfb9bd4a1",
            "58d85665cc614855b67b362ce146b381",
            "5089df10cb8c4261bdfc7a4f649f1695"
          ]
        },
        "outputId": "be55d94f-b95b-4fba-d134-ecd37cef8e71"
      },
      "source": [
        "X_train_tag_data = tag_data(X_train_token_data)\n",
        "X_test_tag_data = tag_data(X_test_token_data)\n",
        "X_dev_tag_data = tag_data(X_dev_token_data)"
      ],
      "execution_count": 56,
      "outputs": [
        {
          "output_type": "display_data",
          "data": {
            "application/vnd.jupyter.widget-view+json": {
              "model_id": "530a8cc7e6e34165bc5d23ceb4d147f8",
              "version_minor": 0,
              "version_major": 2
            },
            "text/plain": [
              "HBox(children=(FloatProgress(value=0.0, max=1335.0), HTML(value='')))"
            ]
          },
          "metadata": {
            "tags": []
          }
        },
        {
          "output_type": "stream",
          "text": [
            "\n"
          ],
          "name": "stdout"
        },
        {
          "output_type": "display_data",
          "data": {
            "application/vnd.jupyter.widget-view+json": {
              "model_id": "5667fff218694df0b878fe9d1450b1e1",
              "version_minor": 0,
              "version_major": 2
            },
            "text/plain": [
              "HBox(children=(FloatProgress(value=0.0, max=445.0), HTML(value='')))"
            ]
          },
          "metadata": {
            "tags": []
          }
        },
        {
          "output_type": "stream",
          "text": [
            "\n"
          ],
          "name": "stdout"
        },
        {
          "output_type": "display_data",
          "data": {
            "application/vnd.jupyter.widget-view+json": {
              "model_id": "46be2e73fd6a48678a3dc9cfccb12de4",
              "version_minor": 0,
              "version_major": 2
            },
            "text/plain": [
              "HBox(children=(FloatProgress(value=0.0, max=445.0), HTML(value='')))"
            ]
          },
          "metadata": {
            "tags": []
          }
        },
        {
          "output_type": "stream",
          "text": [
            "\n"
          ],
          "name": "stdout"
        }
      ]
    },
    {
      "cell_type": "markdown",
      "metadata": {
        "id": "BZVnRNLEgRXb"
      },
      "source": [
        "Get volcabularies for count vectorisations"
      ]
    },
    {
      "cell_type": "code",
      "metadata": {
        "id": "uQwTBjus_Pc5",
        "colab": {
          "base_uri": "https://localhost:8080/"
        },
        "outputId": "bb94ffb7-1b95-4566-d3dd-15e5f493e192"
      },
      "source": [
        "vocabularies={}\n",
        "#\n",
        "vocabularies['gen_basic'] = token_vocabulary(X_train_token_data,token_max)\n",
        "\n",
        "vocabularies['bigram'] = ngrams_vocabulary(X_train_data,(2,2),ngram_max)\n",
        "vocabularies['trigram'] = ngrams_vocabulary(X_train_data,(3,3),ngram_max)\n",
        "\n",
        "vocabularies['word_tagged'] = tagged_vocabulary(X_train_tag_data,word_tags,tagged_max)\n",
        "vocabularies['verb'] = tagged_vocabulary(X_train_tag_data,['VB'],tagged_max)\n",
        "vocabularies['adj'] = tagged_vocabulary(X_train_tag_data,['JJ'],tagged_max)\n",
        "vocabularies['adjverb'] = tagged_vocabulary(X_train_tag_data,['VB','JJ'],tagged_max)"
      ],
      "execution_count": 57,
      "outputs": [
        {
          "output_type": "stream",
          "text": [
            "Token Vocabulary Length:  2000\n",
            "['hope', 'after', 'crisis', 'Three', 'years', 'Argentina', 'was', 'hit', 'by', 'a', 'economic', ',', 'there', 'is', '.', 'The', 'country', \"'s\", 'economy', 'set', 'to', 'grow', 'about', '8', '%', 'this', 'year', 'seeing', '9', 'growth', 'last', 'from', '2002', 'when', 'output', 'fell', '11', 'unemployment', 'rate', 'improving', 'too', ':', 'It', 'below', '13', 'the', 'end', 'of', 'down', '20', 'in', 'May', 'problems', 'remain', 'but', 'overall', 'picture', 'one', 'Even', 'International', '(', ')', '``', 'authorities', 'are', 'should', 'be', 'strong', 'performance', \"''\", 'Thomas', 'an', 'director', 'said', 'earlier', 'month', 'has', 'made', 'recovery', 'and', 'which', '2001', 'government', 'debt', 'its', 'private', 'at', 'least', 'decisions', 'were', 'bank', 'accounts', 'as', 'part', 'measures', 'introduced', 'deal', 'with', 'massive', 'In', 'response', 'took', 'where', 'lives', 'lost', 'police', 'Two', 'three', 'finance', 'minister', 'less', 'than', 'on', 'found', 'markets', 'US', 'dollar', 'February', 'saw', 'thousands', 'people', 'life', 'savings', 'companies', 'went', 'ago', 'every', 'sector', '[', ']', 'really', 'But', 'since', 'then', 'general', 'ground', 'improved', 'because', 'helped', 'direct', 'investment', 'business', 'within', 'helping', 'Mr', 'who', 'United', 'States', 'grew', 'up', 'At', 'time', 'his', 'held', 'now', 'he', 'using', 'money', 'help', 'trading', 'company', 'He', 'that', 'firm', 'going', 'building', 'Spain', 'would', 'like', 'other', 'areas', 'market', 'sense', 'many', 'lot', 'firms', 'closed', 'during', 'not', 'all', 'gold', 'still', 'failure', 'pay', 'President', 'trying', 'out', 'agreement', \"'\", 'value', 'around', '$', 'it', 'easy', 'make', 'further', 'both', 'difficult', 'expensive', 'current', 'offer', 'get', 'just', '25', 'for', 'each', 'they', 'according', 'want', 'more', 'until', 'do', 'others', 'continue', 'For', 'challenge', 'Real', 'losses', 'have', 'been', 'suffered', 'Jack', 'needs', 'keep', 'mind', 'cost', 'society', 'will', 'reached', 'continues', 'paid', 'any', 'With', 'international', 'being', 'little', 'domestic', 'situation', 'remains', 'well', 'This', 'account', 'some', 'their', 'bad', 'those', 'had', 'previously', 'chosen', 'save', 'president', 'half', 'estimated', 'or', 'once', 'future', 'A', 'them', 'good', 'state', 'taking', 'most', 'legal', 'system', 'On', 'Court', 'ruled', 'against', 'interests', 'says', 'can', 'People', 'banks', 'trust', 'crime', 'so', 'high', 'homes', 'agreed', 'If', 'I', 'local', 'much', 'problem', 'think', 'before', 'Yukos', 'back', 'courts', 'Russian', 'oil', 'gas', 'due', 'court', 'Thursday', 'fight', 'process', 'broken', 'order', 'tax', 'bill', 'filed', 'bankruptcy', 'hoping', 'use', 'law', 'forced', 'sale', 'key', 'production', 'unit', 'however', 'sold', 'only', 'auction', 'say', 'main', 'shareholders', 'go', 'assets', 'means', 'wants', 'claiming', 'hear', 'different', 'including', 'Deutsche', 'Bank', 'German', 'six', 'Gazprom', 'expected', 'win', 'also', 'called', 'decision', 'provide', 'protection', 'case', 'position', 'analysts', 'Analysts', 'optimistic', 'chances', 'no', 'over', 'top', 'limited', 'won', 'small', 'we', 'ability', 'influence', 'what', '?', 'We', 'Mike', 'spokesman', 'real', 'analyst', 'driven', 'political', 'boss', 'charges', 'fraud', 'developed', 'software', 'into', 'musical', 'read', 'University', 'New', 'York', 'research', 'To', 'study', 'space', 'needed', 'minute', 'create', 'models', 'number', 'tried', 'having', 'idea', 'individual', 'music', 'computer', 'graphics', 'another', 'work', 'images', 'find', 'way', 'myself', 'told', 'BBC', 'News', 'website', 'my', 'own', '-', 'felt', 'develop', 'could', 'us', 'colour', 'version', 'screen', 'device', 'used', 'lower', 'red', 'very', 'useful', 'created', \"n't\", 'age', 'seven', 'thinks', 'makes', 'never', 'As', 'increase', 'know', 'getting', 'appears', 'yet', 'available', 'believes', 'several', 'together', 'hopes', 'day', 'give', 'access', 'Japanese', 'Japan', 'months', 'September', 'concern', 'long', 'period', 'annual', 'engine', 'while', 'demand', 'corporate', 'short', 'expectations', 'does', 'mark', 'straight', 'quarter', 'throughout', 'amid', 'One', 'result', 'prices', 'falling', 'rather', 'rising', 'kept', 'spending', 'effect', 'leave', 'ever', 'exports', 'recent', 'off', 'products', 'becoming', 'third', 'first', 'showed', 'second', 'showing', '2', 'capital', 'became', 'chief', 'economist', 'looks', 'such', 'Olympics', 'light', 'may', 'raise', 'taxes', 'policy', 'public', 'Birmingham', 'Olympic', 'champion', 'confirmed', 'she', 'take', '2005', 'Union', 'Grand', '18', 'knows', 'how', 'competing', 'Britain', 'always', 'break', 'records', 'me', 'record', 'Kelly', 'Holmes', 'among', 'Athens', 'winners', 'rival', 'fellow', 'event', 'pair', 'battle', 'ended', 'world', 'claim', '22', '10', 'come', 'British', 'return', 'success', 'album', 'UK', 'chart', 'debut', 'best', 'title', 'Tuesday', 'moved', 'places', 'eight', 'Also', 'whose', 'two', 'latest', 'single', 'You', 'spot', 'singles', 'ahead', 'Elvis', 'track', 'How', 'An', 'series', 'There', 'currently', '40', 'Now', '27', 'Rock', 'four', 'former', 'star', 'Brian', 'Delta', 'five', 'follow', 'rock', 'act', 'group', 'week', 'Their', 'Last', 'TV', 'host', 'television', 'Los', 'Angeles', 'presented', 'show', 'American', 'game', 'shows', 'produced', 'award', 'Year', 'network', 'job', 'done', 'better', 'lead', 'Times', 'Paul', 'cause', 'Golden', 'Music', 'Awards', 'His', 'popular', 'broadcast', 'audience', 'million', 'picked', 'came', 'industry', 'responsible', 'drama', 'executive', 'producer', 'ceremony', 'place', '16', 'January', 'Howard', 'attacks', 'later', 'Budget', 'Tory', 'leader', 'Michael', 'Gordon', 'Brown', 'vote', 'plans', 'simple', 'fact', 'under', 'new', 'Labour', 'election', 'financial', 'black', 'see', 'chancellor', 'these', 'rises', 'hard', 'working', 'families', 'campaign', 'added', 'party', 'giving', 'hand', 'away', 'urged', 'millions', 'net', 'duty', 'if', 'wins', 'accused', 'running', 'faced', 'answer', 'spend', 'air', 'bid', 'nation', 'brought', 'based', 'numbers', 'next', 'billion', ';', 'prime', 'council', 'Tories', 'offering', 'nothing', 'put', 'parents', 'wanted', 'schools', 'face', 'clear', 'choice', 'either', 'higher', 'Conservatives', 'That', 'bring', 'Blunkett', 'call', 'Secretary', 'David', 'given', 'announced', 'Monday', 'Radio', 'Five', \"'m\", 'ready', 'announcement', 'weekend', 'meant', 'Tony', 'Blair', 'tipped', 'ask', 'Queen', 'Parliament', '5', 'poll', 'Iraq', 'major', 'contract', 'efforts', 'officials', 'Its', 'November', 'thought', 'largest', 'date', 'original', 'denied', 'reports', 'completely', 'committed', 'look', 'construction', 'opportunities', 'statement', 'Office', 'taken', 'management', 'projects', 'workers', 'targets', 'security', 'concerns', 'reason', 'slow', 'pace', 'Of', 'funds', 'spent', 'news', 'agency', 'did', 'Some', 'whole', 'things', 'judge', 'attempt', 'giant', 'Yugansk', 'ruling', 'claims', 'began', 'Friday', 'trial', 'guilty', 'him', 'criminal', '15', 'successful', 'rise', 'bought', 'turn', 'almost', 'enough', 'majority', 'Russia', 'her', 'continued', 'argued', 'officer', 'claimed', 'European', 'offered', 'likely', 'considered', 'role', 'simply', 'decide', 'trade', 'overseas', 'remained', 'consider', 'However', 'backed', 'issues', 'believe', 'our', 'Steven', 'Our', 'calls', 'Martin', 'team', 'Manchester', 'shot', 'clearly', 'line', 'referee', 'already', 'why', 'ca', 'stop', 'right', 'draw', 'feel', '50', 'ball', 'talking', 'couple', 'inside', 'goal', 'What', 'here', 'something', 'seconds', 'play', 'particularly', 'am', 'even', 'point', 'although', 'My', \"'ve\", 'seen', 'career', 'you', 'though', 'score', 'manager', 'Sir', 'Ferguson', 'need', 'video', 'technology', 'home', 'suggested', '30', 'carry', 'same', 'amount', 'takes', 'So', 'start', 'opening', 'area', 'football', 'Arsenal', 'When', 'evidence', 'great', 'example', 'asked', 'hits', 'nominated', 'awards', 'programmes', 'dominated', 'category', '4', 'Street', 'festival', 'faces', 'competition', 'separate', 'comedy', 'compete', 'become', 'nominations', 'Henry', 'performed', 'total', 'effort', 'produce', 'London', 'countries', 'across', 'Europe', 'shown', 'included', '&', 'Saturday', 'French', 'receive', 'actor', 'actress', '2004', 'sales', 'previous', 'weak', 'worldwide', 'rivals', 'General', 'rose', 'brand', 'question', 'started', '1998', 'model', 'hold', 'through', 'film', 'Oscars', 'late', 'Ray', 'Charles', 'playing', 'Million', 'Dollar', 'Baby', 'Aviator', 'prize', 'often', 'supporting', 'Morgan', 'turned', 'living', 'making', 'Taylor', 'chance', \"'re\", 'full', 'talent', 'beyond', 'person', 'Both', 'Hollywood', 'theatre', 'Meanwhile', 'members', 'Academy', 'voting', 'days', 'box', 'office', 'sequel', 'starring', 'George', 'gone', 'studio', 'follows', 'try', 'National', 'Christmas', 'December', 'release', 'films', 'Lord', 'beat', 'Matt', 'Andy', 'movie', 'critics', 'project', 'review', 'ban', 'ensure', 'proposed', 'America', 'released', 'machines', 'Bill', 'Ms', 'legislation', 'She', 'quite', 'They', 'run', 'rules', \"'ll\", 'allow', 'risk', 'players', 'remaining', 'free', 'food', 'Association', 'fears', 'foreign', 'certain', 'level', 'certainly', 'Yahoo', 'search', 'Internet', 'launched', 'e-mail', 'files', 'PCs', 'following', 'Microsoft', 'Google', 'similar', 'services', 'looking', 'web', 'bigger', 'storage', 'users', 'important', 'designed', 'alongside', 'programs', 'effectively', 'increasingly', 'especially', 'spam', 'increases', 'According', 'message', 'Group', 'businesses', 'critical', 'information', 'name', 'size', 'promised', 'versions', 'data', 'commercial', 'opportunity', 'content', 'Smith', 'relationship', 'consumers', 'internet', 'your', 'engines', 'onto', 'human', 'rights', 'groups', 'concerned', 'And', 'everyone', 'technologies', 'product', 'features', 'More', 'tools', 'stock', 'media', 'issue', 'executives', 'operating', 'subject', 'selling', 'investors', 'basis', 'watchdog', 'men', 'reported', 'aware', 'interest', 'Davis', 'rejected', 'board', 'whether', 'knew', 'buy', 'shares', 'charge', 'saying', 'possibility', 'euros', 'allegations', 'programme', 'wrong', 'Alan', 'striker', 'beating', 'talk', 'interested', 'summer', 'clubs', 'squad', 'got', 'goals', 'early', 'sure', 'happy', 'criticism', 'fans', 'recently', 'thing', 'club', 'direction', 'happened', 'sides', 'Lions', 'admitted', 'love', 'rugby', 'union', 'Chris', 'Sport', \"'d\", 'Cup', 'confident', 'young', 'league', 'understand', 'move', 'everything', 'serious', 'games', 'weeks', 'lack', 'rest', 'linked', 'forward', 'Williams', 'player', 'big', 'defence', 'might', 'happen', 'Jones', 'World', 'drugs', 'Committee', 'athletes', '2000', 'action', 'centre', 'investigation', 'named', 'field', 'man', 'winner', 'house', 'women', 'Germany', 'changed', 'panel', 'voters', 'national', 'able', 'global', 'organisation', 'Republic', 'China', 'Italy', 'Ireland', 'March', 'August', 'side', 'Chinese', 'Israel', 'visit', '17', 'meeting', 'Irish', 'victory', 'played', 'June', 'winning', 'progress', 'few', 'opposition', 'Asian', 'teams', 'traditional', 'powers', 'round', 'France', '7', 'October', '12', 'UKIP', 'By', 'else', 'worked', 'politicians', 'Party', 'politics', 'despite', 'EU', 'Roger', 'written', 'English', 'Many', 'art', 'threat', 'surprise', 'coming', 'post', 'experts', 'anything', 'pledged', 'store', 'basic', 'member', 'Robert', 'Kilroy-Silk', 'No', 'aim', 'large', 'huge', 'constitution', 'euro', 'plan', 'decided', 'seats', 'target', 'significant', 'Commons', 'possible', 'blogs', 'views', 'online', 'moment', 'drawn', 'left', 'room', 'voice', 'suggests', 'holding', 'power', 'elections', 'Six', 'Nations', 'Slam', 'far', 'Scotland', 'England', 'Paris', 'race', 'display', 'along', 'Wales', 'Celtic', 'nations', 'impressive', 'de', '26', 'form', 'matches', 'coach', 'announce', 'starting', 'match', 'injury', 'tournament', 'doubt', 'received', 'Fox', 'head', 'fall', 'pick', 'natural', 'cash', 'caused', 'season', '3', 'disappointing', 'dropped', 'drop', 'fourth', 'unveiled', 'strategy', 'launch', 'met', 'poor', 'accept', 'instead', 'DVD', 'Film', 'tsunami', 'disaster', 'profits', 'relief', 'fund', 'planned', 'focus', 'change', 'night', 'goes', 'continuing', 'victims', 'support', 'aid', 'organisations', 'low', 'figures', 'wide', 'range', 'titles', 'Oscar', 'Vera', 'Drake', 'proved', 'positive', 'city', 'Sunday', 'names', 'Stone', 'stars', 'questioned', 'let', 'West', 'events', 'South', 'soon', 'fast', 'road', 'itself', '24', 'ran', 'site', 'allowed', 'links', 'appeal', 'build', 'confidence', 'school', '1999', 'facing', 'between', 'visitors', 'Sony', 'test', '2003', 'published', 'responsibility', 'illegal', 'piracy', 'accepted', 'songs', 'via', 'cases', 'so-called', 'John', 'computers', 'gadget', 'environment', 'buying', 'Consumer', 'Intel', 'Apple', 'IBM', 'consumer', 'old', 'gadgets', 'energy', 'particular', 'growing', 'portable', 'devices', 'predicted', 'reach', 'nearly', 'send', 'community', 'powerful', 'force', 'meet', 'mobile', 'handsets', 'actually', 'report', 'messages', 'phones', 'mobiles', 'behaviour', 'terms', 'moving', 'towards', 'Wilson', 'highest', 'comes', 'returned', 'design', 'common', 'goods', '2006', 'biggest', 'vital', 'personal', 'digital', 'cameras', 'Although', 'developing', 'themselves', '1', 'standards', 'Commission', 'These', 'Most', 'alone', 'finding', 'supply', 'Andrew', 'must', 'quickly', 'Law', 'Lords', 'terror', 'suspects', 'without', 'Robinson', 'Today', 'Home', 'Clarke', 'present', 'secretary', 'address', 'raised', 'House', 'opinion', 'citizens', 'warned', 'Madrid', 'leaders', 'Spanish', 'probably', 'discuss', 'looked', 'step', 'limit', 'fair', 'immigration', 'heard', 'nine', 'Richard', 'choose', 'books', 'book', 'boost', 'term', 'include', 'Robbie', 'known', 'works', 'extremely', 'list', 'tough', 'Her', 'led', 'employees', 'earnings', 'Wednesday', 'passed', 'technical', 'questions', 'himself', 'Scott', 'committee', 'followed', 'official', 'anyone', 'adding', 'challenges', 'sent', 'comments', 'faster', 'employment', 'involved', 'impact', 'standard', 'makers', 'times', 'ways', 'increasing', 'speed', 'putting', 'While', 'car', 'slightly', 'Radcliffe', 'wo', 'character', 'experience', 'hours', 'minutes', 'course', 'cards', 'reasons', 'conditions', 'finish', 'After', 'Sydney', 'v', 'charity', 'July', 'Australian', 'tour', 'Zealand', 'behind', 'Africa', 'Australia', 'captain', 'feature', 'partner', 'radio', 'DVDs', 'special', 'marketing', 'final', 'Open', 'tennis', 'Hewitt', 'debate', 'Kennedy', 'ministers', 'matter', 'proposal', 'viewers', 'watch', 'Bush', 'directly', 'backing', 'policies', 'service', 'independent', 'body', 'true', '1997', 'conference', 'gaming', 'finished', 'Life', 'Halo', 'developers', 'open', 'PC', 'favour', 'detailed', 'DS', 'Nintendo', 'writing', 'touch', 'capacity', '!', 'wait', 'handheld', 'past', 'Once', 'again', 'expect', 'cut', 'Xbox', 'Chancellor', 'fuel', 'speech', 'inflation', 'seek', 'welcomed', 'price', 'per', 'Air', 'control', 'failed', 'stake', 'costs', 'airline', 'serve', 'Minister', 'senior', 'staff', 'view', 'region', 'Day', 'extra', 'affected', 'stage', 'benefit', 'forecast', 'Despite', 'trend', 'health', '...', 'Service', 'activity', 'systems', 'Windows', 'attack', 'viruses', 'virus', 'Stephen', 'rule', 'Media', 'maker', 'row', 'criticised', 'civil', 'reform', 'jobs', 'suggest', 'reforms', 'Under', 'Treasury', 'Milburn', 'sign', 'figure', 'add', 'shadow', 'benefits', 'rates', 'index', 'leading', 'increased', 'strength', 'Peter', 'Prince', 'joined', 'newspaper', 'secure', 'died', 'Man', 'Earlier', 'friends', 'Jackson', 'singer', 'potential', 'child', '100', 'abuse', 'family', 'Those', 'Jason', 'pop', 'children', 'nominees', 'Among', 'Other', 'movies', 'Award', 'credit', 'San', 'entry', '14', 'losing', 'older', 'Lee', 'Top', 'seed', 'Roddick', 'lose', 'Foreign', 'compared', 'unlikely', 'talks', 'unions', 'cutting', 'ID', 'controversial', 'introduce', 'revealed', 'tackle', 'Liberal', 'Democrats', 'scheme', 'Conservative', 'source', 'insisted', 'press', 'deliver', 'decade', 'Lib', 'Dem', 'affairs', 'Mark', 'signs', 'chairman', 'Council', 'hands', 'live', 'appeared', 'Love', 'described', 'kind', 'Sun', 'offers', 'hour', 'customers', 'worth', 'development', 'existing', 'pensions', 'Johnson', 'central', 'believed', 'Downing', 'comment', 'fine', 'widely', 'song', 'James', 'band', 'minimum', 'Black', 'entertainment', 'asylum', 'Democrat', 'absolutely', 'laws', 'centres', 'close', 'seeking', 'points', 'join', 'heart', 'worried', 'words', 'Financial', 'paper', 'crucial', 'speculation', 'mean', 'machine', 'Department', 'results', 'managed', 'charts', 'chip', 'consoles', 'fit', 'achieved', 'Another', 'Research', 'improve', 'manufacturing', 'doing', 'operations', 'gives', 'fully', '80', 'Mac', 'gets', 'share', 'iPod', 'editor', 'magazine', 'paying', 'websites', 'Ian', 'broadband', 'sell', 'drive', 'style', 'aimed', 'changes', 'care', 'pretty', 'decline', 'fear', 'sort', 'console', 'greater', 'Steve', 'levels', 'gave', 'penalty', \"O'Gara\", 'scored', 'Edinburgh', 'pressure', 'White', 'carried', 'pass', 'missed', 'advantage', 'S', 'G', 'J', 'R', 'B', 'M', 'average', 'April', 'reduce', 'Reuters', 'social', 'population', 'phone', 'keen', 'Dr', 'language', 'camera', 'lets', 'Only', 'Digital', 'Championships', 'training', '100m', 'Tim', 'favourite', 'struggling', 'death', 'bit', 'profit', 'revenue', 'appear', 'Westminster', 'Scottish', 'Glasgow', 'built', 'parties', 'documentary', 'Best', 'Harry', 'transfer', 'longer', 'High', 'approach', 'war', 'defeat', 'supporters', 'Cabinet', 'refused', 'Liverpool', 'Leicester', 'contest', 'Dems', 'networks', 'stay', 'handed', 'William', 'includes', '1980s', 'uses', 'download', 'easier', 'artists', 'spread', 'beginning', 'protect', 'survey', 'pension', 'manifesto', 'difference', 'unless', 'voted', 'takeover', 'Chelsea', 'GMT', 'Premiership', 'stadium', 'proposals', 'lawyer', 'details', 'tell', 'League', 'stronger', 'strike', 'deficit', 'inquiry', 'signed', 'advice', 'material', 'someone', 'above', 'spokeswoman', 'warning', 'sport', 'loss', 'specific', 'prevent', 'Green', 'Cardiff', 'front', 'plays', 'hoped', 'Dallaglio', 'Owen', 'All', 'retirement', 'poverty', 'generation', 'communities', 'replace', 'trouble', 'avoid', 'cinema', 'budget', 'fighting', 'long-term', 'Prime', 'East', 'Former', 'India', 'Indian', 'blamed', 'Straw', 'Ruddock', 'Swiss', 'Asia', 'insurance', 'Sri', 'Indonesia', 'worst', 'travel', 'damage', 'cover', 'Welsh', 'prepared', 'wrote', 'Not', 'Shares', '60', '19', 'Italian', 'planning', 'allowing', 'exchange', 'Stock', 'Exchange', 'LSE', 'outside', 'station', 'retail', 'wireless', 'story', 'drug', 'failing', 'City', 'North', 'education', '6', 'income', 'Park', 'near', 'copies', 'high-definition', 'Games', 'leadership', 'funding', 'GM', 'sports', 'Newcastle', 'PSP', 'sites', 'seems', 'miss', 'Simon', 'stand', 'yen', 'history', 'multimedia', 'e-mails', 'BT', 'program', 'arrest', 'Souness', 'morning', 'MP', 'King', 'hearing', 'quality', 'Mobile', '3G', 'Gerrard', 'Parry', 'Champions', 'leaving', 'agree', 'murder', 'MPs', 'drinking', 'format', 'card', 'lawsuit', 'cuts', 'housing', 'orders', 'Rangers', 'pictures', 'operators', 'traffic', 'tests', 'missing', 'sound', 'wage', 'today', 'property', 'Sky', 'famous', 'African', 'Campbell', 'poster', 'issued', 'double', 'suspended', 'Greek', 'quit', 'cross', 'Southampton', 'gamers', 'artist', 'Joss', 'urban', 'Bellamy', 'tie', 'stability', 'Kenteris', 'Thanou', 'IAAF', 'Turkey', 'blog', 'Euronext', 'Boerse', 'ink', 'Forsyth', 'Glazer']\n",
            "n-grams Vocabulary Length: \n",
            "['growth year', 'unemployment rate', 'end year', 'international monetary', 'monetary fund', 'earlier month', 'debt repayments', 'bank accounts', 'finance minister', 'thousands people', 'years ago', 'united states', 'managing director', 'supreme court', 'court ruled', 'people money', 'russian oil', 'oil gas', 'russian authorities', 'filed bankruptcy', 'forced sale', 'production unit', 'oil firm', 'deutsche bank', 'chapter 11', '11 bankruptcy', 'state owned', 'bankruptcy protection', 'analysts said', 'vladimir putin', 'political ambitions', 'mikhail khodorkovsky', 'mr khodorkovsky', 'fraud tax', 'tax evasion', 'hong kong', 'new york', 'mr wong', 'told bbc', 'bbc news', 'news website', 'people work', 'work make', 'months september', 'annual rate', 'domestic demand', 'high oil', 'oil prices', 'growth rate', 'earlier year', 'chief economist', 'raise taxes', 'norwich union', 'union grand', 'grand prix', 'prix birmingham', '18 february', 'olympic champion', 'kelly holmes', 'world record', 'gold medal', 'award winning', 'debut album', 'took best', 'best british', 'places number', 'scissor sisters', 'singles chart', 'atomic bomb', 'entered chart', 'chart number', 'jailhouse rock', 'franz ferdinand', 'won best', 'best rock', 'act best', 'self titled', 'los angeles', 'year old', 'long running', 'new year', 'time lead', 'golden globe', 'music awards', 'million people', 'elvis presley', 'came end', 'rock roll', 'hall fame', 'music industry', 'executive producer', 'taking place', 'tory leader', 'leader michael', 'michael howard', 'gordon brown', 'spending plans', 'new labour', 'labour government', 'black hole', 'mr howard', 'howard said', 'tax rises', 'hard working', 'said labour', 'election campaign', 'added mr', 'mr brown', 'labour party', 'leader said', 'millions people', 'stamp duty', 'prime minister', 'weapons mass', 'mass destruction', 'council tax', 'higher taxes', 'lower taxes', 'value money', 'home secretary', 'secretary david', 'david blunkett', 'general election', 'bbc radio', 'radio live', 'tony blair', 'joint venture', 'said statement', 'told associated', 'associated press', 'news agency', 'oil giant', 'giant yukos', 'pleaded guilty', '15 years', 'help pay', 'oil company', 'said yukos', 'russian government', 'european court', 'human rights', 'yukos said', 'said chief', 'chief executive', 'manchester united', 'right said', 'end day', 'watching tv', 've seen', 'manager sir', 'sir alex', 'alex ferguson', 'lot people', 'play game', 'free kick', 'lot time', 'arsene wenger', 'old trafford', 'little britain', 'best tv', 'uk music', '11 nominations', 'saturday night', 'pop idol', 'won award', 'previous year', 'company said', 'new models', 'general motors', 'sales rose', 'jamie foxx', 'hilary swank', 'awards best', 'best male', 'soul singer', 'ray charles', 'million dollar', 'dollar baby', 'comedy sideways', 'prize best', 'cate blanchett', 'best supporting', 'supporting actress', 'supporting actor', 'come said', 'film director', 'clint eastwood', 'earlier week', 'motion picture', 'box office', 'ticket sales', 'lord rings', 'oscar winning', 'culture secretary', 'super casinos', 'said government', 'las vegas', 'said way', 'foreign companies', 'desktop search', 'allow people', 'ask jeeves', 'according research', 'research firm', 'search engines', 'rights groups', 'vice president', 'people like', 'stock market', 'chief operating', 'operating officer', 'said believe', 'right buy', 'don want', 'want people', 'people taking', 'great britain', 'rugby union', 'tri nations', 'bbc sport', 'year said', 'young players', 'rugby league', 'team mate', 'couple years', 'international rugby', 'great player', 'best players', 'world anti', 'anti doping', 'doping agency', 'marion jones', 'victor conte', 'years said', 'pound said', 'international olympic', 'olympic committee', 'legal action', 'thierry henry', 'opera house', 'national team', 'republic ireland', 'lansdowne road', 'brian kerr', 'just days', 'world cup', 'tel aviv', 'second time', 'uk independence', 'independence party', 'viktor yushchenko', 'leader roger', 'roger knapman', '11 september', 'don believe', 'world trade', 'trade organisation', 'world bank', 'european union', 'want make', 'make clear', 'decision making', 'robert kilroy', 'kilroy silk', 'mr kilroy', 'good idea', 'government said', 'said does', 'presidential election', 'small number', 'people just', 'labour tories', 'european elections', 'grand slam', 'scotland england', 'wales france', 'rbs nations', 'stade france', '26 february', '12 march', 'scrum half', 'going happen', 'france coach', 'coach bernard', 'bernard laporte', 'starting line', 'knee injury', 'reality tv', 'tv network', 'tv shows', '600 000', 'said think', 'unveiled new', 'launch new', 'film festival', 'year event', 'asian tsunami', 'tsunami disaster', 'executive director', 'feel like', 'wide range', 'mike leigh', 'vera drake', 'golden globes', 'big names', 'said thought', 'south korea', 'festival runs', '100 000', 'court appeal', 'association america', 'peer peer', 'technology firms', 'gadget lovers', 'hi tech', 'consumer electronics', 'electronics las', 'tech firms', 'portable devices', '18 months', '15 million', 'billion people', '28 year', 'year olds', 'mobile phones', 'just months', 'rest world', 'highest level', 'digital cameras', 'digital music', 'music players', 'european commission', 'code conduct', 'urged government', 'law lords', 'lords ruling', 'foreign terror', 'terror suspects', 'suspects trial', 'robinson said', 'radio today', 'work said', 'said home', 'secretary charles', 'charles clarke', 'clarke said', 'mr clarke', 'house lords', 'said law', 'legal opinion', 'british citizens', 'british government', 'lords said', 'world leaders', 'home office', 'european convention', 'convention human', 'anti terrorism', 'case heard', 'best selling', 'robbie williams', 'sold million', 'time said', 'better said', 'mr ebbers', 'wall street', '2001 2002', 'lawyers said', 'said mr', 'mr sullivan', 'boss sir', 'games like', 'gary neville', 'football association', 'association said', 'said look', 'van nistelrooy', 'car maker', 'help people', 'czech republic', 'according reports', 'united nations', 'york marathon', 'doesn make', 'look forward', 'people say', '10 000m', 'said wednesday', 'lions tour', 'tour new', 'new zealand', 'raise funds', 'rugby board', 'south africa', 'england wales', 'scotland coach', 'clive woodward', '80 000', 'passion christ', 'year academy', 'academy awards', 'recent years', '21 year', 'earlier season', 'lleyton hewitt', 'pre election', 'charles kennedy', 'said chairman', 'lord holme', 'make decision', 'said lord', 'able watch', 'president george', 'george bush', 'takes place', 'mr blair', 'did want', 'mr kennedy', 'kennedy said', 'minister said', 'public service', 'electoral commission', 'said party', 'party leader', 'said answer', 'news conference', 'half life', 'nintendo ds', 'handheld gaming', 'past years', 'looks like', 'xbox live', 'looks set', 'star wars', 'chancellor gordon', 'pre budget', 'thursday mr', 'financial year', 'market said', 'public services', 'climate change', 'said spokesman', 'make money', 'high fuel', 'fuel costs', 'economy said', '000 year', 'martin neill', 'boxing day', 'time added', 'end 2004', 'official figures', 'seasonally adjusted', 'economic growth', 'central bank', 'industrial output', 'good said', 'said david', 'pc users', 'internet explorer', 'media player', 'did rule', 'company announced', 'security software', 'civil servants', 'chancellor said', 'mr baume', 'civil service', 'today programme', 'frontline services', 'brown said', 'don think', 'budget report', 'number 10', 'alan milburn', 'secretary state', 'said ministers', 'blair mr', 'tory shadow', 'shadow chancellor', 'chancellor oliver', 'oliver letwin', 'letwin said', 'rate rises', 'according report', 'public spending', 'bank england', 'rates hold', 'later year', 'second quarter', 'quarter 2005', 'october year', 'inflationary pressures', 'end 2005', 'west end', 'spokesman said', 'film star', '500 000', 'months ago', '10 years', 'south wales', 'lot money', 'come forward', '40 years', 'years time', 've got', 'said happy', 'friday night', 'michael jackson', 'said really', 'superior court', 'monday mr', 'mr jackson', 'day said', 'pop star', 'best film', 'aviator million', 'baby sideways', '31 december', 'martin scorsese', 'scorsese aviator', 'leonardo dicaprio', 'christmas day', 'finding neverland', 'liam neeson', 'february 2005', 'ceremony held', '27 february', 'australian open', 'andy roddick', 'second seed', 'andre agassi', 'semi finals', 'gross domestic', 'domestic product', 'product gdp', 'office said', 'said economy', 'labour market', 'second half', 'world economy', 'cost cutting', 'id cards', 'government plans', 'plans introduce', 'shadow cabinet', 'commons vote', 'liberal democrats', 'democrats said', 'conservative party', 'said despite', 'lib dem', 'dem home', 'home affairs', 'affairs spokesman', 'spokesman mark', 'mark oaten', 'oaten said', 'uk film', 'film council', 'film award', 'film makers', 'summer love', 'thing said', 'hardware software', 'financial services', 'labour election', 'work pensions', 'mr milburn', 'claimed mr', 'said wanted', 'say tories', 'sunday telegraph', 'claims mr', 'mr johnson', 'downing street', 'sir paul', 'super bowl', 'janet jackson', 'half time', 'tv viewers', 'james bond', 'black eyed', 'eyed peas', 'alicia keys', 'high profile', 'year half', 'tory plans', 'plans cut', 'genuine refugees', 'said help', 'say plans', 'blair said', 'liberal democrat', 'chairman matthew', 'matthew taylor', 'asylum seekers', 'national security', '000 people', 'said plans', 'did think', 'according financial', 'financial times', 'paper said', 'job losses', 'nearly half', 'foreign investment', '000 jobs', 'blue gene', 'games consoles', 'ibm said', 'senior vice', 'mr donofrio', '10 times', 'mac mini', 'low cost', 'analysts say', 'long way', 'home computer', 'new products', 'jupiter research', 'said said', 'hard drive', 'video recorder', 'music movies', 'said don', 'market share', 'october 2004', 'cell processor', 'sony playstation', 'san francisco', 'expected 2006', 'increase number', 'new technology', 'group said', 'games console', 'microsoft windows', 'ronan gara', 'eddie sullivan', 'matt williams', '10 minutes', 'fly half', 'drop goal', 'brian driscoll', 'jobless rate', 'december 2003', 'december 2004', 'april 2004', 'strong economic', 'growth 2004', 'told reuters', 'reuters news', 'research suggests', 'using technology', 'technology said', 'said dr', 'mobile phone', 'people said', 'older people', 'people using', 'mobile owners', 'camera phone', 'numbers people', 'people uk', 'said people', 'camera phones', 'double olympic', '34 year', 'european championships', 'make sure', 'mark lewis', 'lewis francis', 'record holder', 'jason gardener', 'win said', 'set new', 'new world', 'days ago', '22 year', 'personal best', 'women 60m', 'time world', 'start season', '60m hurdles', '25 year', 'season best', 'el guerrouj', 'world indoor', 'long jump', 'second place', 'want win', 'chief financial', 'financial officer', 'time mr', 'short term', 'opposition parties', 'scottish executive', 'new law', 'scottish national', 'national party', 'tories say', 'independent film', 'film awards', 'stiff competition', 'critically acclaimed', 'film making', 'seven years', 'best actor', 'nominated best', 'year best', 'best actress', 'imelda staunton', 'award best', 'best director', 'harry potter', 'special award', 'create jobs', 'said looking', 'large scale', '000 staff', 'year deal', 'high court', '20 year', 'tie break', 'world number', 'second set', 'tory chairman', 'chairman liam', 'liam fox', 'blair told', 'labour members', 'dr fox', 'lord ashcroft', 'spring conference', 'did know', 'widely expected', '10 downing', 'accused mr', 'dem leader', 'leader charles', 'labour liberal', 'south west', 'lib dems', 'public trust', 'p2p networks', 'file sharers', 'file sharing', 'good way', 'copy protection', 'new media', 'film studios', 'seven days', 'half million', 'music download', 'download services', 'services like', '12 months', 'anti piracy', 'net users', 'political parties', 'age concern', '24 year', 'aged 18', 'state pension', 'people want', 'make difference', 'want government', 'club said', 'said delighted', 'hard work', 'based company', 'past year', 'said deal', 'long term', 'believe mr', 'stamford bridge', 'charlie hodgson', 'just didn', 'olly barkley', 'andy robinson', 'england coach', 'jason robinson', 'said lot', 'information commissioner', 'dems say', 'people signed', 'voting intentions', 'party says', 'legal advice', 'run general', 'seven million', 'appeal decision', 'spokesman told', 'changed mind', 'said time', 'said going', 'josh lewsey', 'far concerned', 'looked like', 'time time', 'lords ruled', 'civil rights', 'took place', 'high levels', 'said human', 'eastern europe', 'amnesty international', 'mathew tait', 'martyn williams', 'richard hill', 'lawrence dallaglio', 'defended decision', 'mixed doubles', 'french open', 'second round', 'daniela hantuchova', 'band aid', 'number spot', 'went number', 'new entry', 'weeks ago', 'think tank', 'national insurance', 'said new', 'chief constable', 'said liberal', 'local people', 'party spokesman', 'secretary said', 'plans include', 'world cinema', 'low budget', 'sci fi', 'speaking bbc', 'britain said', 'people think', 'war terror', 'minister tony', 'newspaper said', 'said tuesday', 'al qaeda', 'middle east', 'important thing', 'time years', 'wimbledon champion', '18 year', 'open champion', 'looking forward', 'said did', 'foreign secretary', 'secretary jack', 'jack straw', 'straw said', '15 year', 'tiananmen square', 'mr straw', 'select committee', 'german chancellor', 'chancellor gerhard', 'gerhard schroeder', 'president jacques', 'said eu', 'newport gwent', 'right wing', 'neath swansea', 'wales coach', 'coach mike', 'mike ruddock', 'graham henry', 'said ruddock', 'later month', 'don know', 'elena dementieva', 'northern ireland', 'european indoor', 'indoor championships', 'world leading', 'world biggest', 'double digit', 'world largest', 'sri lanka', 'said paul', '10 000', 'silicon used', 'generate amplify', 'amplify laser', 'laser light', 'make easier', 'dr paniccia', 'used make', 'fibre optic', 'optic cables', 'despite fact', 'final quarter', 'world class', 'michael owen', 'gavin henson', 'players like', 'gareth thomas', 'agreed pay', 'natural gas', 'second largest', 'really good', 'november said', 'refused comment', '5bn euros', 'year ago', 'total number', 'number people', 'web users', 'internet access', 'high speed', 'internet users', 'said report', 'report said', 'year year', 'firm said', 'bank america', '4bn euros', 'stock exchange', 'party said', 'following year', 'working class', 'air china', 'london stock', 'lse said', 'china aviation', 'air travel', 'share price', 'working hard', 'clara furse', 'said ve', 'red tape', 'deal worth', 'radio station', 'booming economy', 'merrill lynch', 'jet fuel', 'world said', 'report says', 'higher education', 'tuition fees', 'young people', 'education secretary', 'said clear', 'fuel prices', 'pre tax', 'year earlier', 'executive said', 'said results', 'march 2005', 'year march', 'said ms', 'announced plans', 'europe biggest', 'days later', 'aguas argentinas', 'buenos aires', 'added government', 'second biggest', 'online communities', 'uk government', 'central government', 'services said', 'lets people', 'letting people', 'new anti', 'current dvd', 'said firm', 'macrovision said', 'dvd players', 'film industry', 'digital home', 'high definition', 'general manager', 'bbc breakfast', 'breakfast frost', 'said comments', 'long time', 'labour leader', 'performance enhancing', 'enhancing drugs', 'recent weeks', 'sales fell', 'north american', 'north america', '17 year', 'favourite win', 'win best', 'best picture', '20 years', 'said million', 'coach john', 'wooden spoon', 'jamie noon', 'year low', 'sir clive', 'survey conducted', 'security firm', 'junk mail', 'sony psp', 'spam mail', 'firm sophos', 'anti spam', 'spam mails', 'kenenisa bekele', '4x100m relay', 'head head', 'mr blunkett', 'number new', 'new record', 'new figures', 'mr schroeder', '000 new', 'jobs created', 'recently announced', 'red carpet', 'eastwood million', 'film year', 'mike tindall', 'final decision', 'coach andy', 'jonny wilkinson', 'millennium stadium', 'best interests', '30 years', 'old school', 'president bush', 'berlin film', 'iraq war', '20 february', 'digital radio', 'previous years', 'start year', 'personal video', 'video recorders', 'spending power', 'mp3 players', 'new ways', 'sony said', 'went sale', 'sale japan', 'carling cup', 'denied claims', 'tsunami aid', 'emergency committee', 'fake site', 'committee said', 'soon possible', 'let people', 'confidential information', 'anti virus', 'mail messages', 'early days', 'record label', 'elton john', 'winn dixie', 'wal mart', 'graeme souness', 'transfer window', 'better expected', 'dow jones', 'consumer spending', 'federal reserve', 'job creation', 'trade deficit', 'labour mp', 'mr pound', 'said got', 'oscar nominated', 'named best', 'manchester city', '30 year', 'told daily', 'lord callaghan', 'peer lord', 'democrat leader', 'british troops', 'british politics', 'margaret thatcher', 'health care', 'concentration camp', 'tories said', 'said glad', 'shadow foreign', 'secretary michael', 'michael ancram', 'ancram said', 'prince harry', 'net based', 'people watch', 'mr fischer', 'local government', 'people make', 'tv channel', 'want want', 'video clips', 'london based', 'people use', 'steven gerrard', 'champions league', 'real madrid', 'said want', 'rafael benitez', 'future said', 'spokeswoman said', 'shadow home', 'david davis', 'report published', 'office minister', 'binge drinking', 'said believed', 'mr mcconnell', 'people drunk', 'insisted mr', 'political editor', 'did say', 'said accepted', 'people need', 'years prison', 'state law', 'prosecutors said', 'using internet', 'credit card', 'attorney general', 'lawsuit said', 'told court', 'went ahead', 'founder mikhail', 'richest man', 'bush administration', 'care elderly', 'tax cuts', 'new stadium', 'said say', 'point view', 'semi final', 'old firm', 'ms jamieson', 'police officers', 'van der', 'hugely popular', 'quarter 2004', '2004 according', 'according analysts', 'july september', 'september 2004', 'audio video', 'figures gathered', 'phone users', 'multimedia messages', 'questioned said', 'mobile network', 'multimedia customers', 'week said', 'white paper', 'great opportunity', 'said need', 'quarter finals', 'felt like', '17 january', 'grand slams', 'securities exchange', 'exchange commission', 'dot com', 'government spokesman', 'said company', 'ftse 100', 'anti terror', 'house arrest', 'control orders', 'telephone internet', 'internet use', 'andrew marr', 'marr said', 'house commons', 'england twickenham', 'games industry', 'said growth', 'right direction', 'june 2003', 'analysts expected', 'wonderful life', 'spend spend', 'held london', 'said idea', 'said film', 'thursday night', 'dustin hoffman', 'film maker', 'british film', 'time year', 'retail sales', 'months 2004', 'said bank', 'early 2005', 'home game', 'faroe islands', 'latin america', 'strong growth', 'economy grew', 'best performance', 'development bank', 'helped boost', 'clive owen', 'kate winslet', 'told reporters', 'told audience', 'motorcycle diaries', 'best foreign', 'film best', 'eternal sunshine', 'sunshine spotless', 'spotless mind', 'best original', 'potter prisoner', 'prisoner azkaban', 'minimum wage', 'government announced', 'second year', 'government says', 'minister john', 'national minimum', 'david frost', 'cable said', 'said conservative', 'conservative leader', 'income tax', 'people making', 'local councils', 'increase minimum', 'good news', 'business leaders', 'house prices', 'years old', 'work hard', 'service jobs', 'large companies', 'local authorities', 'blair government', 'howard hughes', '40 year', 'captain jason', 'said uk', 'sales growth', 'injury time', 'best chance', 'didier drogba', 'just like', 'subs used', 'said added', 'fannie mae', 'senior executives', 'mortgage market', 'wi fi', 'london frankfurt', 'growing popularity', '19th century', 'people world', 'investment bank', 'said year', 'said cuts', 'longer term', 'analysts believe', 'high street', 'south african', 'uefa cup', 'grammy awards', 'uk singles', 'rock band', 'record company', 'number uk', 'year day', 'widely seen', 'dance music', 'phone calls', 'weak dollar', 'finance ministers', 'voiced concern', 'comments come', 'secretary john', 'said strong', 'budget deficit', 'alastair campbell', 'mandelson said', 'mr campbell', 'mr mandelson', 'director general', 'fox said', 'people thought', 'microsoft said', 'chairman chief', 'keynote speech', 'mr gates', 'anti spyware', 'versions windows', 'windows operating', 'search engine', 'november 2004', 'people able', 'able access', 'rock star', 'hold 75', 'monetary policy', 'november 2003', 'rate rise', 'housing market', 'recent months', 'game said', 'good game', 'said current', 'free speech', 'olympic gold', 'peer networks', '250 000', 'net service', 'details new', 'mps said', 'committee chairman', 'leigh said', 'said britain', 'labour campaign', 'year mr', 'rule law', 'change direction', 'coming months', 'spokesman mr', 'british people', 'job cuts', 'public sector', 'public commercial', 'commercial services', 'services union', 'general secretary', 'paula radcliffe', 'extra time', 'world cross', 'cross country', 'country championships', '31 year', 'london marathon', 'british team', 'hayley yelling', 'european cross', 'country champion', 'people buy', 'jose mourinho', 'said just', 'open source', 'source software', 'add ons', 'press conference', 'unremittingly new', 'new deal', 'years later', 'academy award', 'guantanamo bay', 'said agreed', 'foreign affairs', 'sir menzies', 'menzies campbell', 'campbell said', 'mr mubanga', 'charge trial', 'research development', 'marat safin', 'roger federer', 'nations championship', 'period year', 'triple crown', 'poor people', 'said confident', 'serena williams', 'snow patrol', 'brit awards', 'star trek', 'tens thousands', 'european parliament', 'told mr', 'virus software', '10 million', 'bank said', 'standard poor', 'fierce competition', 'think going', '000 copies', 'little known', 'lead role', '10 year', 'minutes left', 'did win', 'little bit', 'computer users', 'report suggests', 'goods services', 'organised crime', 'personal information', 'net security', 'stock markets', 'shares fell', 'christmas sales', 'said difficult', 'share prices', 'fa cup', 'aston villa', 'west brom', 'west ham', 'man utd', 'music video', 'short range', 'said week', 'daily telegraph', 'news corp', 'said research', 'way mr', 'look like', 'tim henman', 'british number', 'davis cup', 'lindsay davenport', 'walk away', 'hopman cup', 'really wanted', 'action taken', 'assembly government', 'welsh assembly', '30 000', '20th century', 'joss stone', 'won awards', 'urban act', 'don like', 'award ceremony', 'uk charts', 'close range', 'end season', 'said expected', 'like like', 'store sales', 'lycos europe', 'available comment', 'denial service', 'said received', 'national audit', 'audit office', 'hundreds millions', 'police said', 'heavy metal', '20th anniversary', '50 years', 'phone lines', 'credit cards', 'prince charles', 'parker bowles', 'mrs parker', 'ireland lead', 'dal maso', 'debt relief', '50 cent', 'mr yushchenko', 'said result', 'natalie portman', 'video games', 'according figures', 'figures released', 'san andreas', 'million copies', 'video game', 'year end', 'electronic arts', 'generation consoles', 'did make', 'spider man', 'widely used', 'way getting', 'bt retail', 'came despite', 'going really', 'world champions', 'election labour', 'june 2004', '2004 compared', 'heineken cup', 'martin corry', 'quarter final', 'ministry said', 'british public', 'told mps', 'eu constitution', 'foreign office', 'office says', 'tory spokesman', 'united kingdom', 'level playing', 'playing field', 'immigration asylum', 'developing countries', 'greek sprinters', 'sprinters kostas', 'kostas kenteris', 'kenteris katerina', 'katerina thanou', 'independent tribunal', 'ruling body', 'drugs tests', 'athens olympics', 'coach christos', 'christos tzekos', 'end february', 'court arbitration', 'arbitration sport', 'athens games', 'missing drugs', 'kenteris thanou', 'tests tel', 'aviv chicago', 'trial date', 'date set', 'october 2003', 'mary poppins', 'sir john', 'sir alan', 'growth slowed', 'consumer confidence', 'uk housing', 'programme mr', 'economic activity', 'private sector', 'aer lingus', 'mr walsh', 'sales figures', 'jobs lost', 'european countries', 'manufacturing sector', 'new contract', 'robert niro', 'hide seek', 'office film', 'hotel rwanda', 'meet fockers', 'including best', 'things like', 'said surprised', '24 hours', 'international development', 'growing economy', 'foreign investors', 'wide ranging', 'prize money', 'said tim', 'bbc world', 'world service', 'phonographic industry', 'industrialised nations', 'developing nations', 'british music', 'hip hop', 'football club', 'happy mondays', 'mobile pc', 'remote control', 'marine chronometer', 'mp3 player', 'digital camera', 'apple ipod', 'swiss army', 'army knife', 'pocket calculator', 'modern age', 'voted best', 'deserved win', 'society said', 'number blogs', 'year high', 'cup final', 'england captain', 'sale sharks', 'best new', 'history boys', 'best musical', 'boy band', 'best international', 'takeover bid', 'deutsche boerse', 'offer lse', 'bidding war', 'talks lse', 'district court', '15 january', 'statement said', 'cut costs', 'said important', 'answer questions', '50 000', 'home computers', 'bot nets', 'service attacks', 'fourth quarter', 'jones said', 'belgrave harriers', 'said real', 'half year', '2004 growth', 'million shares', 'good performance', 'technology companies', 'comedy meet', 'century fox', 'world economic', 'abn amro', 'current account', 'account deficit', 'fahrenheit 11', 'long engagement', 'gameboyzz orchestra', 'orchestra project', 'quite sure', 'want play', 'party election', 'key role', 'guardian newspaper', 'asked mr', 'said decision', 'decision taken', 'chancellor role', 'labour manifesto', 'hewlett packard', 'declined comment', 'blair prime', 'suggested mr', 'local income', 'best thing', 'people know', '2005 according', 'coming year', 'video images', 'quarter year', 'net income', 'record high', 'economic recovery', 'digital sales', 'medium sized', 'government spending', 'tough game', 'relief effort', 'spyware tool', 'windows xp', 'conservative mp', 'new book', 'lord goldsmith', 'democrats say', 'parliamentary answer', '17 march', 'march 2003', 'military action', 'according mr', 'lord falconer', 'goldsmith said', 'official spokesman', 'mitsubishi motors', 'new order', 'community service', 'committed suicide', 'world tour', '150 000', 'music scene', 'figures showed', 'uk economy', 'office national', 'national statistics', 'said wants', 'making sure', 'portable media', 'media players', 'uk biggest', 'pension age', 'sector unions', '23 march', 'choice choice', '800 000', '70 000', '20 000', 'deputy prime', 'john prescott', '200 000', 'companies like', 'london thursday', 'development new', 'new machines', 'tv comedy', 'south east', 'economists said', 'millions dollars', 'world champion', 'failed win', 'dr nielsen', 'search sites', 'power 1997', 'week mr', 'million customers', 'term care', 'mr bush', 'financial markets', 'war iraq', 'election issue', 'davis said', '25 000', 'new rules', 'minister questions', 'brown britain', 'robert peston', 'mutual animosity', 'went pledge', 'cabinet allies', 'says mr', 'mr peston', 'poster launch', 'minister chancellor', 'tuesday mr', 'later week', 'parliamentary labour', 'later said', 'digital divide', 've heard', 'net profits', 'best known', 'minister mr', 'global poverty', 'hiv aids', 'sunday times', 'thinks mr', 'dressing room', 'lot work', 'definition tv', 'digital video', 'high quality', 'european football', 'election widely', 'queen sky', 'ms simonetti', 'run election', 'good song', 'battery life', 'held talks', 'lse euronext', 'market operator', 'critics say', 'million tonnes', 'wells fargo', 'tax profits', 'ben stiller', 'tories lib', 'testing positive', 'year ban', 'gorges dam', 'said hoped', 'defending champion', 'eighth seed', 'wayne rooney', 'party mr', 'election said', 'mr hockney', 'time come', 'sir edward', 'mr wilson', 'mr thorpe', 'falconer said', 'constitutional affairs', 'new powers', 'moving castle', 'tells story', 'ethnic minority', 'ethnic minorities', 'best comedy', 'winning best', 'foreign language', 'stan lee', 'anti semitism', 'milburn said', 'anti semitic', 'greek athletics', 'athletics federation', 'silver medallist', 'motorcycle accident', 'pew internet', 'air deccan', 'fast growing', 'plans increase', 'business model', 'governing body', 'trade industry', 'mr mcletchie', 'majority people', 'civil liberties', 'voting age', 'khan said', 'bethnal green', 'anti war', '2001 election', 'sony pictures', 'tv programmes', 'online gaming', 'mobile games', 'uk based', 'time buyers', 'mr cable', 'say lib', 'big brother', 'mr flynn', 'flynn said', '23 year', 'drugs test', 'minister told', 'mr irish', 'real time', 'digital tv', 'tight head', 'martin johnson', 'rugby football', 'football union', 'arms park', 'given chance', 'said speech', 'ms kite', 'economic conditions', 'lord chancellor', 'tory mp', '2005 said', 'said evidence', 'early season', 'air force', 'world war', 'labour mps', 'told today', 'visual radio', 'music downloads', 'anti social', 'mr bell', 'trade gap', 'mr spector', 'borussia dortmund', 'said adding', 'foreign exchange', 'personal care', 'going make', 'tell people', 'free personal', 'said good', 'standard trust', 'iron maiden', 'green day', 'big parties', 'scottish football', 'radio technology', 'john peel', 'black music', 'campaign said', 'bad weather', 'stand election', 'journalist robert', 'said prime', 'mind june', 'suspicion chancellor', 'marshall plan', 'just weeks', 'got right', 'use ink', '24 hour', 'police chief', 'standard life', 'bonus rates', 'handheld console', 'home entertainment', 'music player', 'crude oil', 'saudi arabia', 'big screen', 'van gogh', '25 years', 'western europe', 'north east', 'blair gordon', 'government going', 'mr prescott', 'lost trust', 'vice chairman', 'black sabbath', 'mr hague', 'mobile music', 'mr sayeed', 'exchange rates', 'think important', 'election mr', 'people don', 'shark tale', 'rising oil', 'price oil', 'prices rose', 'minutes later', 'shaun wright', 'wright phillips', 'wild card', 'mr mallon', 'pension scheme', 'beastie boys', 'conservative shadow', 'replace council', 'left foot', 'islamic banking', 'oscar nominees', 'japanese films', 'far away', 'mr houston', 'wasted vote', 'people mr', 'sky plus', 'set box', 'digital terrestrial', 'terrestrial tv', 'lord archer', 'mr balls', 'album year', 'kanye west', 'best pop', 'best song', 'playing games', 'home video', 'dvd technology', 'mr dean', 'hollywood studios', 'widely tipped', 'mobile operators', 'criminal charges', 'jp morgan', 'countries like', 'united board', 'malcolm glazer', 'mr glazer', 'shareholders united', '300p share', 'british library', 'really like', 'cabinet minister', 'joy division', 'glazer latest', 'pretty good', 'prof reddy', 'song past', 'past 25', 'bob geldof', 'song 25', 'laura ashley', 'mr ghosn', 'william hill', '20 march', 'blu ray', 'hd dvd', 'dvd format', 'frederick forsyth', 'mr forsyth', 'tuesday said', 'maternity pay', 'mr curry', 'video demand', 'pay tv', 'achievement award', 'labour mr', 'urban music', 'foster carers', 'tv content', 'commodore 64', 'jeeves said', 'mr lanzone', 'near future', 'paid results', 'software patents', 'mr flight', 'general meeting', 'mr galloway', 'service providers', 'lg card', 'lg group', 'mr livingstone', 'evening standard', 'camp guard', 'ms druyun', 'dr reddy', 'nicolas anelka', 'best way', 'def jam', 'mr sigarchi', 'foo fighters', 'mr elgindy', 'free air', 'set boxes', 'stade toulousain', 'music black', 'ms villalba', 'lord scarman', 'dr carpenter']\n",
            "n-grams Vocabulary Length: \n",
            "['international monetary fund', 'monetary fund imf', 'yukos filed bankruptcy', 'state oil firm', 'oil firm rosneft', 'judge letitia clark', 'chapter 11 bankruptcy', 'yuganskneftegas deutsche bank', 'russian president vladimir', 'president vladimir putin', 'credit suisse boston', 'ex yukos boss', 'yukos boss mikhail', 'mikhail khodorkovsky mr', 'khodorkovsky mr khodorkovsky', 'mr khodorkovsky jail', 'fraud tax evasion', 'university new york', 'new york state', 'told bbc news', 'bbc news website', 'high oil prices', 'norwich union grand', 'union grand prix', 'grand prix birmingham', 'prix birmingham 18', 'birmingham 18 february', 'fellow russian svetlana', 'album dismantle atomic', 'dismantle atomic bomb', 'like toy soldiers', 'entered chart number', 'series 18 reissues', 'brian mcfadden delta', 'mcfadden delta goodrem', 'act best british', 'best british group', 'self titled album', 'new york times', 'tory leader michael', 'leader michael howard', 'mr howard said', 'hard working families', 'tory leader said', 'weapons mass destruction', 'council tax rebate', 'clear choice election', 'choice election waste', 'home secretary david', 'secretary david blunkett', 'told bbc radio', 'bbc radio live', 'election tony blair', 'told associated press', 'associated press news', 'press news agency', 'russian oil giant', 'oil giant yukos', 'chapter 11 protection', 'trial fraud tax', 'pleaded guilty charges', 'pay 27 5bn', '27 5bn 14', '5bn 14 5bn', 'state controlled oil', 'russian government yukos', 'local bank accounts', 'officer bruce misamore', 'european court human', 'court human rights', 'gas monopoly gazprom', 'said chief executive', 'chief executive steven', 'executive steven theede', 'manchester united manager', 'united manager sir', 'manager sir alex', 'sir alex ferguson', 'arsenal boss arsene', 'boss arsene wenger', 'strictly come dancing', 'uk music hall', 'music hall fame', 'ant dec saturday', 'dec saturday night', 'saturday night takeaway', 'screen actors guild', 'singer ray charles', 'golden globe award', 'million dollar baby', 'best supporting actress', 'best supporting actor', 'supporting actor award', 'academy motion picture', 'motion picture arts', 'picture arts sciences', 'box office chart', 'according studio estimates', 'rounding animated fable', 'comedy christmas kranks', 'oscar winning director', 'project los angeles', 'los angeles times', 'culture secretary tessa', 'secretary tessa jowell', 'tessa jowell said', 'google ask jeeves', 'analyst research firm', 'human rights groups', 'stock market regulator', 'chief executive jean', 'chief operating officer', 'news agency reported', 'don want people', 'told bbc sport', '19 year old', 'world anti doping', 'anti doping agency', 'doping agency wada', 'international olympic committee', 'olympic committee ioc', 'uk independence party', 'ukip leader roger', 'leader roger knapman', 'world trade organisation', 'robert kilroy silk', 'blair decision hold', 'mr kilroy silk', 'kilroy silk mr', 'nations grand slam', 'win grand slam', 'wales france ireland', 'half dimitri yachvili', 'france coach bernard', 'coach bernard laporte', 'ms berman said', 'international film festival', 'asian tsunami disaster', 'ray charles biopic', 'charles biopic ray', 'abortion drama vera', 'drama vera drake', 'facing legal action', 'consumer electronics las', 'electronics las vegas', 'consumer electronics market', 'environmental protection agency', 'consumer electronics association', 'digital music players', 'law lords ruling', 'foreign terror suspects', 'terror suspects trial', 'told radio today', 'home secretary charles', 'secretary charles clarke', 'charles clarke said', 'following david blunkett', 'david blunkett resignation', 'mr clarke said', 'clarke said asking', 'said asking parliament', 'asking parliament renew', 'parliament renew legislation', 'renew legislation new', 'legislation new year', 'new year meantime', 'year meantime studying', 'carefully possible modify', 'possible modify legislation', 'modify legislation address', 'legislation address concerns', 'address concerns raised', 'concerns raised house', 'raised house lords', 'law lords said', 'detainees took case', 'took case house', 'case house lords', 'house lords court', 'lords court appeal', 'court appeal backed', 'appeal backed home', 'backed home office', 'home office powers', 'office powers hold', 'powers hold limit', 'hold limit charge', 'limit charge government', 'charge government opted', 'government opted european', 'opted european convention', 'european convention human', 'convention human rights', 'human rights concerning', 'rights concerning right', 'concerning right fair', 'right fair trial', 'fair trial order', 'trial order bring', 'order bring anti', 'bring anti terrorism', 'anti terrorism legislation', 'terrorism legislation response', 'legislation response 11', 'response 11 september', '11 september attacks', 'said rules incompatible', 'rules incompatible european', 'incompatible european convention', 'human rights allowed', 'rights allowed detentions', 'allowed detentions way', 'detentions way discriminates', 'way discriminates ground', 'discriminates ground nationality', 'ground nationality immigration', 'nationality immigration status', 'ms cooper said', 'mr ebbers face', 'sentence 85 years', '85 years convicted', 'years convicted charges', 'convicted charges facing', 'emerged bankruptcy protection', 'united boss sir', 'boss sir alex', 'jose antonio reyes', 'ruud van nistelrooy', 'sony qrio robot', 'new york marathon', 'marathon 10 000m', 'lions tour new', 'tour new zealand', 'international rugby board', 'new zealand australia', 'victims asian tsunami', 'year academy awards', '21 year old', 'year old played', 'tony blair michael', 'blair michael howard', 'said lord holme', 'president george bush', 'challenger john kerry', 'howard mr kennedy', 'mr kennedy said', 'prime minister said', 'monthly news conference', 'release date confirmed', 'chancellor gordon brown', 'mr brown told', 'high fuel costs', '35 year old', 'european central bank', 'critical security holes', 'software maker sybari', 'maker sybari software', 'row gordon brown', 'mr brown mr', 'brown mr blair', 'bbc radio today', 'radio today programme', '000 civil servants', 'frontline services mr', 'mr brown said', 'mr blair making', 'pre budget report', 'budget report mr', 'mr blair mr', 'blair mr brown', 'shadow chancellor oliver', 'chancellor oliver letwin', 'oliver letwin said', 'bdo stoy hayward', 'later year rates', 'anticipated general election', 'general election bdo', 'increase public spending', 'people come forward', 'best film oscar', 'aviator million dollar', 'dollar baby sideways', 'director martin scorsese', 'martin scorsese aviator', 'aviator starring leonardo', 'starring leonardo dicaprio', 'seed andy roddick', 'fastest rate years', 'gross domestic product', 'domestic product gdp', 'product gdp rose', 'cost cutting measures', 'backing id cards', 'id cards tories', 'government plans introduce', 'plans introduce id', 'introduce id cards', 'liberal democrats said', 'party told bbc', 'howard favour id', 'favour id cards', 'id cards tried', 'cards tried introduce', 'tried introduce home', 'introduce home secretary', 'insisted hold ministers', 'hold ministers account', 'ministers account precise', 'account precise purpose', 'precise purpose scheme', 'purpose scheme said', 'scheme said press', 'said press labour', 'press labour objectives', 'labour objectives met', 'objectives met home', 'met home office', 'deliver pledged assess', 'pledged assess cost', 'assess cost effectiveness', 'cost effectiveness id', 'effectiveness id cards', 'id cards people', 'cards people privacy', 'people privacy properly', 'privacy properly protected', 'properly protected important', 'protected important remember', 'important remember decade', 'remember decade come', 'decade come effect', 'come effect spokesman', 'effect spokesman said', 'lib dem home', 'dem home affairs', 'home affairs spokesman', 'affairs spokesman mark', 'spokesman mark oaten', 'mark oaten said', 'said signs michael', 'signs michael howard', 'michael howard overruling', 'howard overruling colleagues', 'overruling colleagues concerns', 'colleagues concerns id', 'concerns id cards', 'chairman bar council', 'bar council guy', 'council guy mansfield', 'guy mansfield qc', 'mansfield qc warned', 'qc warned real', 'warned real risk', 'real risk people', 'risk people margins', 'people margins society', 'margins society driven', 'society driven hands', 'driven hands extremists', 'hands extremists going', 'extremists going happen', 'going happen young', 'happen young asian', 'young asian men', 'asian men bomb', 'men bomb gone', 'bomb gone going', 'gone going stopped', 'going stopped haven', 'stopped haven id', 'haven id cards', 'id cards going', 'cards going detained', 'uk film council', 'utilities electricity water', 'alan milburn labour', 'claimed mr brown', 'mr johnson told', 'sir paul mccartney', '62 year old', 'perform super bowl', 'black eyed peas', 'super bowl watched', '144 million people', 'michael howard said', 'turned away quotas', 'away quotas filled', 'tony blair said', 'attacked tory plans', 'said mr blair', 'mr blair liberal', 'blair liberal democrat', 'liberal democrat chairman', 'democrat chairman matthew', 'chairman matthew taylor', 'matthew taylor said', 'commission racial equality', 'according financial times', 'blue gene machine', 'senior vice president', 'vice president technology', 'analyst jupiter research', 'said mr fogg', 'said don think', 'times faster current', 'conference san francisco', 'coach matt williams', 'flanker jason white', 'flanker johnny connor', 'hickie gara stringer', 'gara stringer corrigan', 'stringer corrigan byrne', 'corrigan byrne hayes', 'byrne hayes kelly', 'hayes kelly connell', 'kelly connell easterby', 'easterby connor foley', 'connor foley sheahan', 'foley sheahan horan', 'sheahan horan callaghan', 'horan callaghan miller', 'callaghan miller easterby', 'miller easterby humphreys', 'strong economic growth', 'economy expected grow', 'lula da silva', 'told reuters news', 'reuters news agency', 'dr bjorn said', 'phones different ways', 'numbers people taking', 'double olympic champion', '34 year old', 'mark lewis francis', 'national indoor arena', '22 year old', '25 year old', 'hicham el guerrouj', 'olympic 10 000m', '10 000m champion', 'world indoor champion', '2012 olympic bid', 'chief financial officer', 'chief executive mr', 'pleaded guilty fraud', 'scottish national party', 'faces stiff competition', 'dead man shoes', 'life death peter', 'death peter sellers', 'nominated best supporting', 'won best director', 'low cost carriers', '20 year old', 'set tie break', 'tory chairman liam', 'chairman liam fox', 'mr blair told', 'fox told bbc', 'reports party repaid', 'party repaid 500', 'repaid 500 000', 'party spring conference', 'insisted did know', 'mr blair said', '10 downing street', 'michael howard mr', 'accused mr blair', 'treasurer lord ashcroft', 'lib dem leader', 'dem leader charles', 'leader charles kennedy', 'labour liberal democrats', 'michael chicoine pleaded', 'chicoine pleaded guilty', 'guilty charges infringed', 'charges infringed copyright', 'infringed copyright illegally', 'copyright illegally sharing', 'illegally sharing music', 'sharing music movies', 'music movies software', 'digital rights management', 'file sharing networks', 'music download services', 'vote general election', '18 24 year', '24 year olds', 'gordon lishman said', 'people aged 18', 'told bbc live', 'fly half charlie', 'half charlie hodgson', '18 17 defeat', '17 defeat france', 'lib dems say', 'people voting intentions', 'run general election', 'telephone preference service', 'information commissioner office', 'spokesman told bbc', 'coach luis aragones', 'spain anti violence', 'anti violence commission', 'england black players', 'referee jonathan kaplan', 'law lords ruled', 'rights group liberty', 'home office said', 'home office spokesman', 'office spokesman said', 'said human rights', 'said house lords', 'won grand slam', 'band aid 20', 'new entry 10', 'party leader michael', 'said liberal democrat', 'liberal democrat home', 'democrat home affairs', 'labour party spokesman', 'home secretary said', 'box office hit', 'pakistani community manchester', 'prime minister tony', 'minister tony blair', 'wimbledon champion conchita', 'champion conchita martinez', '18 year old', 'foreign secretary jack', 'secretary jack straw', 'jack straw said', '15 year old', 'countries zimbabwe burma', 'german chancellor gerhard', 'chancellor gerhard schroeder', 'french president jacques', 'president jacques chirac', 'mr straw said', 'neath swansea ospreys', 'wales coach mike', 'coach mike ruddock', 'couple years ago', 'captain fabien pelous', 'volvo women open', 'women open pattaya', 'said don know', '24 year old', 'new personal best', 'european indoor championships', '28 year old', 'sri lanka indonesia', 'told financial times', 'sri lanka maldives', 'used generate amplify', 'generate amplify laser', 'amplify laser light', 'used make computer', 'fibre optic cables', 'silicon used make', 'dr paniccia said', '2003 world cup', 'new zealand summer', 'wall street journal', 'past 12 months', 'total number people', 'high speed internet', 'taken legal action', 'offshore account did', 'account did fact', 'did fact exist', 'main political parties', 'signed year deal', 'london stock exchange', 'stock exchange lse', 'demand air travel', 'lse chief executive', 'chief executive clara', 'executive clara furse', 'china booming economy', 'china aviation oil', 'non profit organisation', 'university tuition fees', 'shadow education secretary', 'education secretary tim', 'secretary tim collins', 'high fuel prices', 'pre tax profit', 'chief executive said', 'dresdner kleinwort wasserstein', 'year march 2005', '11 september 2001', 'major cost cutting', 'cost cutting drive', 'said new technology', 'taking legal action', 'digital home upcoming', 'executive vice president', 'macrovision said ripguard', 'bbc breakfast frost', 'gave performance enhancing', 'performance enhancing drugs', 'form recent weeks', 'general motors gm', 'sports utility vehicles', 'favourite win best', 'best director award', 'win best actress', 'tipped win best', 'second time years', 'centre mathew tait', 'coach john kirwan', 'sir clive woodward', 'security firm sophos', 'said graham cluley', 'graham cluley senior', 'champion kenenisa bekele', 'jason gardener mark', 'gardener mark lewis', 'don think say', 'said mr blunkett', 'europe biggest economy', 'international labour organisation', 'labour organisation ilo', 'best actor category', 'ray star jamie', 'star jamie foxx', 'saving private ryan', 'aviator finding neverland', 'clint eastwood million', 'eastwood million dollar', 'england coach andy', 'coach andy robinson', 'fly half jonny', 'half jonny wilkinson', 'best interests shareholders', 'year berlin film', 'berlin film festival', 'runs 20 february', 'digital kirsten pfeifer', 'consumer electronics ces', 'high definition tvs', 'portable digital music', 'personal video recorders', 'research firm npd', 'firm npd group', 'tiny wearable mp3', 'wearable mp3 players', 'microsoft chief gates', 'generation xbox games', 'xbox games console', 'went sale japan', 'hold times data', 'ces las vegas', 'disasters emergency committee', 'ms sanders said', 'people donate money', 'anti virus firm', 'virus firm sophos', 'firm sophos said', 'microsoft outlook mail', 'chart topping singer', 'prize golden bear', 'filed bankruptcy protection', 'new chief executive', 'chief executive peter', 'manager graeme souness', '26 year old', 'dow jones index', 'quarter percentage point', 'win best film', 'named best film', 'best director best', 'awards ceremony held', 'house flying daggers', '30 year old', 'labour prime minister', 'gordon brown said', 'liberal democrat leader', 'democrat leader charles', 'charles kennedy said', 'said glad mr', 'shadow foreign secretary', 'foreign secretary michael', 'secretary michael ancram', 'michael ancram said', 'human rights group', 'lets people watch', '3g mobile phone', 'chief executive rick', 'manager rafael benitez', 'shadow home secretary', 'secretary david davis', 'mandatory life sentence', 'home office minister', 'mr mcconnell speaking', 'problems binge drinking', 'encouraging young people', 'young people drunk', 'insisted mr mcconnell', 'recognition people drunk', 'holyrood leader nicola', 'leader nicola sturgeon', '75 hour working', 'russian oil firm', 'political ambitions founder', 'ambitions founder mikhail', 'founder mikhail khodorkovsky', 'striker fernando morientes', 'champions league football', 'speaking bbc radio', 'bbc radio scotland', 'cameras colour screens', 'phones sold quarter', 'sold quarter 2004', 'analyst carolina milanesi', 'camera phone users', 'phone users sent', 'users sent multimedia', 'sent multimedia message', 'multimedia message mms', 'message mms 2003', 'mobile phone users', 'send multimedia messages', 'squeeze cash customers', 'executive chairman messaging', 'chairman messaging firm', 'messaging firm mblox', 'said mobile phone', 'mobile phone operators', 'known wap push', 'department education skills', 'australian hardcourt championships', 'hardcourt championships adelaide', 'juan ignacio chela', 'technology dominated nasdaq', 'securities exchange commission', 'ftse 100 index', 'oil giant shell', 'proposes control orders', 'curfews tagging bans', 'tagging bans telephone', 'bans telephone internet', 'telephone internet use', 'internet use replace', 'use replace current', 'replace current powers', 'current powers detain', 'powers detain foreign', 'detain foreign terror', 'suspects trial law', 'trial law lords', 'clarke told bbc', 'house lords said', 'political editor andrew', 'editor andrew marr', 'andrew marr said', 'just add monsters', 'bbc news online', 'ism index national', 'index national manufacturing', 'national manufacturing activity', 'anti virus firewall', 'spend spend spend', 'van doren stern', 'federal communications commission', 'communications commission fcc', 'yen weaker exports', 'manager brian kerr', 'israel faroe islands', 'switzerland faroe islands', 'faroe islands switzerland', 'republic ireland israel', 'faroe islands cyprus', 'economy grew 2004', 'grew 2004 best', '2004 best performance', 'economic commission latin', 'commission latin america', 'latin america caribbean', 'inter american development', 'american development bank', 'won best actor', 'role vera drake', 'included motorcycle diaries', 'best foreign film', 'eternal sunshine spotless', 'sunshine spotless mind', 'best original screenplay', 'best british film', 'harry potter prisoner', 'potter prisoner azkaban', 'british academy film', '21 year olds', 'northern ireland minister', 'pay minimum wage', 'national minimum wage', '16 17 year', '17 year olds', 'david frost director', 'british chambers commerce', 'conservative leader michael', 'increase minimum wage', 'step right direction', 'minimum wage increases', '20 years ago', '10 years ago', 'mr blair government', 'howard hughes biopic', 'best director prize', 'star imelda staunton', '40 year old', 'told bbc wales', 'striker didier drogba', 'keeper petr cech', 'cech paulo ferreira', 'wi fi networks', 'san francisco used', 'chief technology officer', 'wi fi hotspots', 'british retail consortium', 'uk singles chart', 'new year day', 'electronic dance music', 'treasury secretary john', 'secretary john snow', 'media chief alastair', 'chief alastair campbell', 'mr mandelson said', 'conservative chairman liam', 'liam fox said', 'oscar nominated film', 'version internet explorer', 'mr gates said', 'leave rates hold', 'rates hold 75', 'monetary policy committee', 'policy committee mpc', 'times november 2003', 'bank england governor', 'england governor mervyn', 'governor mervyn king', 'said david frost', 'janet jackson wardrobe', 'jackson wardrobe malfunction', 'said ve got', 'peer peer networks', 'public accounts committee', 'said home office', 'mr leigh said', 'howard said britain', 'labour campaign spokesman', 'campaign spokesman fraser', 'spokesman fraser kemp', 'coming general election', 'civil service jobs', 'public commercial services', 'commercial services union', 'compete world cross', 'world cross country', 'cross country championships', '31 year old', 'european cross country', 'cross country champion', 'boss jose mourinho', 'open source software', 'general election campaign', 'unremittingly new labour', 'work pensions secretary', 'pensions secretary alan', 'held guantanamo bay', 'foreign affairs spokesman', 'sir menzies campbell', 'menzies campbell said', 'mr mubanga said', 'human rights laws', 'low cost airlines', 'ireland coach eddie', 'coach eddie sullivan', 'half million people', 'mercury music prize', 'star trek enterprise', 'mep robert kilroy', 'ukip spokesman said', 'told bbc breakfast', 'breakfast frost programme', 'kilroy silk said', 'anti virus software', '32 year old', 'glean personal information', 'respondents said concerned', '000 people killed', 'index leading shares', 'european indoors madrid', 'holders manchester united', 'white hart lane', 'man utd exeter', '15 games available', 'handheld gaming market', 'play music video', 'short range wireless', 'liberal democrat spokesman', 'arts council wales', 'welsh assembly government', 'won awards best', 'best british female', 'best urban act', 'prize joss stone', 'don know right', 'reached number uk', 'bankruptcy protection court', 'main production arm', 'punishment political ambitions', 'like like sales', 'anti spam campaign', 'make love spam', 'bandwidth bills spammers', 'monitoring firm netcraft', 'distributed denial service', 'denial service attack', 'child support agency', 'national audit office', 'press conference tuesday', 'sir elton john', 'anti racketeering laws', 'rj reynolds tobacco', 'said mr makower', 'camilla parker bowles', 'mrs parker bowles', 'prime minister john', '100 000 people', 'president viktor yushchenko', 'wednesday prime minister', 'prime minister yulia', 'minister yulia tymoshenko', 'yulia tymoshenko said', 'video games consoles', 'according figures released', 'gta san andreas', 'sold million copies', 'entertainment leisure software', 'leisure software publishers', 'software publishers association', 'roger bennett director', 'bennett director general', 'manchester united fans', 'high speed net', 'according figures gathered', 'asymmetric digital subscriber', 'digital subscriber line', 'technology lets ordinary', 'lets ordinary copper', 'ordinary copper phone', 'copper phone lines', 'phone lines support', 'lines support high', 'support high data', 'high data speeds', 'chief executive bt', 'people using bt', 'baikal finance group', '11 bankruptcy protection', 'ex chat host', 'veritas latin truth', 'quit uk independence', 'defence secretary geoff', 'secretary geoff hoon', 'june european elections', 'forthcoming general election', 'glad mr kilroy', 'london assembly members', 'hockney veritas deputy', 'veritas deputy leader', 'ukip chairman petrina', 'chairman petrina holdsworth', 'leadership gone awol', 'place june european', 'roger knapman said', 'remarkable ability influence', 'ability influence people', 'influence people sadly', 'people sadly european', 'sadly european election', 'european election clear', 'election clear interested', 'clear interested robert', 'interested robert kilroy', 'kilroy silk party', 'silk party uk', 'party uk independence', 'independence party nice', 'party nice knowing', 'nice knowing goodbye', 'taxpayer subsidised propaganda', 'subsidised propaganda exercise', 'new white paper', 'referendum eu constitution', 'said mr straw', 'foreign office says', 'british people said', 'united kingdom approve', 'kingdom approve treaty', 'approve treaty establishing', 'treaty establishing constitution', 'establishing constitution european', 'constitution european union', 'level playing field', 'immigration asylum controls', 'common agricultural policy', 'china tiananmen square', 'greek sprinters kostas', 'sprinters kostas kenteris', 'kostas kenteris katerina', 'kenteris katerina thanou', 'athletics ruling body', 'ruling body iaaf', 'failing drugs tests', 'drugs tests athens', 'tests athens olympics', 'coach christos tzekos', 'court arbitration sport', 'missing drugs tests', 'eve opening ceremony', 'tests tel aviv', 'tel aviv chicago', 'tzekos banned years', 'trial date set', 'kenteris lawyer gregory', 'lawyer gregory ioannidis', 'harry potter film', 'ex lover nanny', 'sir alan budd', 'department work pensions', 'uk housing market', 'today programme mr', 'second half 2004', 'year old won', 'young players coming', 'world class players', 'uk box office', 'box office film', 'including best film', 'best film best', 'film best director', 'world number lindsay', 'number lindsay davenport', 'equal prize money', 'prize money women', 'told bbc world', 'bbc world service', 'international federation phonographic', 'food agriculture organisation', 'people developing world', 'hip hop beats', 'breached human rights', 'apple powerbook 100', 'control gadgets needed', 'personal video recorder', 'swiss army knife', 'way mp3 player', 'important gadget modern', 'set apps programmable', 'make easy people', 'web journals blogs', 'number blogs existence', 'blog analysis firm', 'analysis firm technorati', 'estimates number blogs', '19 13 defeat', 'captain jason robinson', 'andrew lloyd webber', 'named best new', 'producers theatre royal', 'theatre royal drury', 'royal drury lane', 'picked best international', 'best international album', 'slowdown housing market', 'european stock market', 'offer deutsche boerse', 'biggest stock market', 'combines paris amsterdam', 'paris amsterdam lisbon', 'amsterdam lisbon stock', 'lisbon stock exchanges', 'make cash bid', 'jean francois theodore', 'country richest man', 'higher year ago', 'grand slam 1948', 'scotland coach matt', 'denial service attacks', 'final quarter 2004', 'australian open champion', 'grand slam titles', 'woodford green essex', 'green essex ladies', 'shaftesbury barnet harriers', 'strategic health authorities', 'frontbencher john redwood', 'john redwood said', 'change direction needed', '100 000 civil', 'year old set', 'north american box', 'american box office', 'comedy meet fockers', 'plays widower daughter', '20th century fox', 'road trip comedy', 'starring dennis quaid', 'assault precinct 13', 'current account deficit', 'categories including best', 'film best actor', 'best film year', 'thomas haden church', 'scrubs star zach', 'star zach braff', 'gameboyzz orchestra project', 'clark boyd technology', 'boyd technology correspondent', 'technology correspondent world', 'correspondent world bbc', 'world bbc world', 'world service wgbh', 'service wgbh boston', 'wgbh boston production', 'general election bid', 'guardian newspaper mr', 'make clear labour', 'bbc political editor', 'marr said mr', 'said mr brown', 'mr brown article', 'prime minister asked', 'minister asked mr', 'asked mr brown', 'said decision taken', 'office fair trading', 'budget mr brown', 'blair prime minister', 'suggested mr brown', 'mr letwin said', 'local income tax', '000 people expected', 'fourth quarter year', 'chairman chief executive', 'higher start 2004', 'british phonographic industry', 'phonographic industry bpi', 'uk music industry', 'best selling album', 'italian prime minister', 'prime minister silvio', 'minister silvio berlusconi', 'small medium sized', 'medium sized businesses', 'consumer spending accounts', 'tsunami relief effort', 'tools clean pcs', 'clean pcs harbouring', 'pcs harbouring viruses', 'harbouring viruses spyware', 'virus fighting program', 'fighting program updated', 'program updated monthly', 'updated monthly precursor', 'monthly precursor microsoft', 'dedicated anti virus', 'help users remove', 'users remove spyware', 'anti spyware tool', 'microsoft windows operating', 'viruses malicious programs', 'malicious programs existence', 'new york based', 'closed security loopholes', 'appearance home soil', 'home soil winning', 'soil winning double', 'winning double olympic', 'double olympic gold', 'norwich union international', 'world economic forum', 'conservatives liberal democrats', 'liberal democrats say', 'publication legal advice', 'legal advice given', 'advice given attorney', 'given attorney general', 'saying papers kept', 'papers kept confidential', 'short statement lord', 'statement lord goldsmith', 'lord goldsmith position', 'goldsmith position presented', 'position presented written', 'presented written parliamentary', 'written parliamentary answer', 'parliamentary answer 17', 'answer 17 march', '17 march 2003', 'march 2003 just', '2003 just crucial', 'just crucial commons', 'crucial commons vote', 'commons vote military', 'vote military action', 'philippe sands qc', 'lord goldsmith warned', 'goldsmith warned tony', 'warned tony blair', 'second resolution sanctioning', 'resolution sanctioning military', 'sanctioning military action', 'lord goldsmith said', 'genuinely held independent', 'held independent view', 'independent view military', 'view military action', 'military action lawful', 'action lawful existing', 'lawful existing security', 'existing security council', 'security council resolutions', 'prime minister official', 'minister official spokesman', 'foreign secretary robin', 'secretary robin cook', 'attorney general advice', 'new york city', '12 year old', 'rapper 50 cent', '50 cent second', 'year mr brown', 'treasury select committee', 'office national statistics', 'national statistics ons', 'portable media players', '50 000 new', '000 new gadgets', 'action public sector', 'public sector unions', 'earmarked 23 march', 'pcs leader mark', 'leader mark serwotka', 'mark serwotka warned', 'walkouts unless government', 'unless government rethink', 'government rethink government', 'rethink government lectures', 'government lectures choice', 'lectures choice choice', 'choice choice public', 'choice public service', 'public service choice', 'service choice choice', 'choice choice isn', 'choice isn ironic', 'isn ironic saying', 'ironic saying public', 'saying public sector', 'public sector workers', 'sector workers choice', 'workers choice said', 'choice said want', 'said want pension', 'want pension promised', 'pension promised started', 'promised started work', 'started work extra', 'work extra years', 'extra years working', 'years working people', 'working people drop', 'people drop 20th', 'drop 20th century', '20th century completely', 'century completely unacceptable', 'correspondent stephen cape', 'unison 800 000', '800 000 workers', '000 workers transport', 'workers transport general', 'transport general workers', 'general workers union', 'workers union 70', 'union 70 000', '70 000 amicus', '000 amicus 20', 'amicus 20 000', '20 000 balloted', '000 balloted 23', 'balloted 23 march', '23 march walkout', 'deputy prime minister', 'minister john prescott', 'prescott held private', 'held private meeting', 'private meeting senior', 'meeting senior union', 'senior union figures', 'understood deal offered', 'deal offered meeting', 'offered meeting room', 'meeting room negotiations', 'said abn amro', 'south east asia', 'hundreds millions dollars', 'said dr nielsen', 'world service programme', 'service programme digital', 'home office says', 'unaccompanied asylum seeking', 'asylum seeking children', 'best interests child', 'barrel new york', 'david davis said', 'ahead general election', 'community support officers', 'support officers csos', 'sarbanes oxley act', 'sir digby jones', 'bbc today programme', 'prime minister questions', 'new book brown', 'book brown britain', 'cabinet allies suspicion', 'mr peston book', 'told mr blair', 'mr blair say', 'blair say believe', 'believe mr blair', 'prime minister chancellor', 'mr brown joined', 'controversially charge election', 'charge election planning', 'week mr blair', 'minister chancellor faced', 'chancellor faced backbench', 'faced backbench discontent', 'backbench discontent monday', 'discontent monday meeting', 'monday meeting parliamentary', 'meeting parliamentary labour', 'parliamentary labour party', 'labour party claims', 'said mr goodman', 'year old actor', 'prime minister mr', 'howard said mr', 'standards privileges committee', 'g8 industrialised nations', 'department international development', 'international finance facility', 'mr hasson said', 'slogan britain working', 'world wide web', 'screen high definition', 'game halo released', 'high definition tv', 'election widely expected', 'airline airline attendant', 'anonymous semi fictional', 'semi fictional account', 'fictional account life', 'account life sky', 'ms simonetti told', 'simonetti told bbc', 'highlighted concerns growing', 'concerns growing blogging', 'growing blogging community', 'blogging community conflicts', 'community conflicts employment', 'conflicts employment law', 'employment law free', 'law free speech', 'free speech personal', 'speech personal websites', 'suspended 25 september', 'equal employment opportunity', 'employment opportunity commission', 'fictional names cities', 'names cities companies', 'queen sky developed', 'sky developed months', 'developed months character', 'months character right', 'character right according', 'right according ms', 'according ms simonetti', 'meant harm company', 'harm company don', 'company don understand', 'don understand think', 'understand think did', 'think did harm', 'did harm ms', 'harm ms simonetti', 'ms simonetti said', 'showed ms simonetti', 'ms simonetti flight', 'simonetti flight wings', 'speculated delta concerned', 'delta concerned fictional', 'concerned fictional content', 'fictional content blog', 'content blog linked', 'blog linked airline', 'linked airline images', 'grief grows old', 'deal bidder create', 'bidder create biggest', 'create biggest stock', 'stock market operator', 'market operator europe', 'operator europe second', 'europe second biggest', 'second biggest world', 'biggest world new', 'world new york', 'new york stock', 'york stock exchange', 'clearstream unit clearing', 'unit clearing house', 'clearing house processes', 'house processes securities', 'processes securities transactions', 'lower transaction fees', 'charles clarke told', 'japan south korea', 'pre tax profits', 'meet fockers sequel', 'dustin hoffman barbra', 'hoffman barbra streisand', 'lemony snicket series', 'snicket series unfortunate', 'series unfortunate events', 'tories lib dems', 'testing positive thg', 'year ban testing', 'ban testing positive', 'world cup winner', 'built jinshajiang river', 'jinshajiang river golden', 'river golden sand', 'golden sand upper', 'sand upper reaches', 'upper reaches yangtze', 'reaches yangtze known', 'million people relocated', 'criticism environmental groups', 'environmental groups overseas', 'groups overseas human', 'overseas human rights', 'human rights activists', 'winners meet final', 'meet final match', 'flanker colin charvis', 'general election said', 'points leaders barcelona', 'mr thorpe colleagues', 'rbs nations championship', 'community service orders', 'lord falconer said', 'said constitutional affairs', 'constitutional affairs secretary', 'lord falconer told', 'disappointing got cynical', 'rangers manager alex', 'manager alex mcleish', 'howl moving castle', 'spirited away japan', 'quirky comedy sideways', 'foreign language film', 'named best tv', 'best tv comedy', 'labour election chief', 'election chief alan', 'chief alan milburn', 'mr milburn said', 'series ideas shown', 'ideas shown labour', 'shown labour members', 'labour members asked', 'mr howard shadow', 'howard shadow chancellor', 'spokesman later said', 'greek athletics federation', 'women 100m silver', '100m silver medallist', 'credit rating agencies', 'pew internet american', 'internet american life', 'blog created seconds', 'department trade industry', 'ban smoking public', 'smoking public places', 'mr mcconnell said', 'dr tamimi said', 'labour mp george', 'mp george galloway', 'win general election', 'chief secretary treasury', 'say lib dems', 'lib dem spokesman', 'mr brown insisted', 'mr cable said', 'people did know', 'new 50 tax', 'earning 100 000', '100 000 year', 'council tax rises', 'leave door open', 'celebrity big brother', 'mr flynn said', 'said mr flynn', 'said new rules', 'new rules came', 'rules came force', 'flynn said mr', 'computer video games', '23 year old', 'year old play', 'independent spirit awards', 'service lets people', 'irresponsible drinks promotions', 'said mr irish', 'tony blair official', 'blair official spokesman', 'official spokesman said', 'angels robbie williams', 'new zealand rugby', 'rugby football union', 'bank told reuters', 'week prime minister', 'said agreed terms', 'ms kite said', 'party plans increase', 'institute fiscal studies', 'party sums add', 'value money lower', 'money lower taxes', 'coordinator alan milburn', 'lord chancellor lord', 'set answer genuinely', 'government foreign secretary', 'robin cook said', 'said lord goldsmith', 'tony blair dismissed', 'missing drugs test', 'faking motorcycle accident', 'begins 17 january', 'world war ii', 'suspects house arrest', 'house arrest trial', 'house arrest powers', 'house lords government', 'anti social behaviour', 'office minister hazel', 'minister hazel blears', 'gordon brown issued', 'general election chancellor', 'election chancellor said', 'labour spring conference', 'spring conference gateshead', 'taking britain forward', '100 debt relief', 'charlie hodgson olly', 'hodgson olly barkley', 'said mr bell', 'figures commerce department', 'deal worth 8bn', 'president hugo chavez', 'united states canada', 'disappointing business figures', 'mr schroeder said', 'elderly disabled people', 'free long term', 'long term care', 'free personal care', 'day box office', 'comedy meet parents', 'said paul dergarabedian', 'lord rings return', 'rings return king', 'premiership leaders chelsea', 'motion picture association', 'picture association america', 'scottish football association', 'short range radio', 'range radio technology', 'john peel bbc', 'peel bbc radio', 'rob da bank', 'music huw stephens', 'best hip hop', 'computer implemented inventions', 'patenting computer programs', 'bush cheney campaign', 'sluggish european economy', 'tony blair promised', 'brown stand election', 'claims prime minister', 'following intervention allies', 'intervention allies cabinet', 'sunday telegraph journalist', 'telegraph journalist robert', 'journalist robert peston', 'said pair mutual', 'pair mutual animosity', 'mutual animosity contempt', 'lost voters trust', 'said prime minister', 'changed mind june', 'mind june 2004', 'june 2004 following', '2004 following intervention', 'allies cabinet suspicion', 'cabinet suspicion chancellor', 'suspicion chancellor deliberately', 'chancellor deliberately manoeuvring', 'book claims mr', 'fresh speculation rift', 'speculation rift recently', 'separate responses asian', 'responses asian tsunami', 'asian tsunami rumours', 'monthly media conference', 'media conference time', 'conference time long', 'time long planned', 'long planned speech', 'planned speech mr', 'speech mr brown', 'mr brown uk', 'brown uk plans', 'uk plans tackle', 'plans tackle global', 'tackle global poverty', 'global poverty new', 'poverty new marshall', 'new marshall plan', 'marshall plan africa', 'plan africa speculation', 'africa speculation pair', 'speculation pair trying', 'pair trying outdo', 'trying outdo response', 'outdo response disaster', 'mr brown did', 'bbc news 24', 'betting exchanges allow', '24 hour drinking', 'bbc radio world', 'tony blair defended', '17 year old', 'axa sun life', 'uk games charts', 'grand theft auto', 'rock band u2', 'new domain names', '29 year old', 'privacy advocates concerned', 'security firm 3ami', 'national hi tech', 'hi tech crime', 'tech crime unit', 'theo van gogh', 'van gogh film', 'van gogh shot', 'gogh shot stabbed', 'won award best', 'venice film festival', 'breach human rights', 'captain steven gerrard', 'play champions league', 'tony blair gordon', 'blair gordon brown', 'labour election campaign', 'know cabinet government', 'cabinet government going', 'government going way', 'going way unified', 'way unified labour', 'unified labour party', 'labour party unified', 'party unified position', 'unified position winning', 'position winning term', 'winning term people', 'term people desperately', 'people desperately need', 'mr blair went', 'blair went pledge', 'went pledge make', 'pledge make way', 'make way mr', 'way mr brown', 'labour paul flynn', 'paul flynn said', 'told prime minister', 'mr prescott said', 'told clearly troops', 'clearly troops telling', 'troops telling leaders', 'telling leaders line', 'new book claims', 'claims mr prescott', 'mr prescott hosted', 'prescott hosted dinner', 'hosted dinner november', 'dinner november 2003', 'november 2003 prime', '2003 prime minister', 'prime minister told', 'minister told mr', 'told mr brown', 'mr brown stand', 'stand election lost', 'election lost trust', 'lost trust iraq', 'trust iraq war', 'suspicion chancellor manoeuvring', 'chancellor manoeuvring writes', 'manoeuvring writes mr', 'writes mr peston', 'mr peston mr', 'mr blair insisted', 'sony playstation portable', 'mr brien said', 'ambition prime minister', 'told daily telegraph', 'second half replacement', 'blair told bbc', 'annual pre tax', 'world cup winners', 'mr babinet said', 'trading new york', 'president chief executive', 'biggest box office', 'anti doping officials', 'manchester united arsenal', 'bbc sport understands', 'cabinet allies intervened', 'don deals jobs', 'deals jobs like', 'mr blair decision', 'michael howard accused', 'accused prime minister', 'minister mr brown', 'according office national', 'general election mr', 'juan carlos ferrero', 'french open champion', 'campaign mr blair', 'constitutional affairs minister', 'minister christopher leslie', 'general election widely', 'shaun wright phillips', 'workers 60 65', 'basic state pension', 'term care elderly', 'care elderly replace', 'elderly replace council', 'replace council tax', 'control digital media', 'rising oil prices', 'trust prime minister', 'robert peston new', 'peston new book', 'japan box office', 'box office total', 'rugby world cup', 'world number roger', 'number roger federer', 'patty schnyder switzerland', 'nathalie dechy france', 'jelena jankovic serbia', 'jankovic serbia montenegro', 'fundamental lack trust', 'lack trust tony', 'trust tony blair', 'tony blair prime', 'immigration mr kennedy', 'mr kennedy used', 'increase income tax', 'personal care elderly', 'council tax local', 'tax local income', 'digital video recorders', 'digital terrestrial tv', 'ahead expected election', 'house prices rising', 'big election issue', 'final months 2004', 'actor jamie foxx', 'album college dropout', 'past 10 years', 'high definition dvds', 'high definition films', 'says mr dean', 'said lib dem', 'mr dams said', 'jp morgan chase', 'ms diemont says', 'europe north america', 'tories say lib', 'tycoon malcolm glazer', 'board detailed proposals', 'group shareholders united', 'mr glazer family', 'glazer family hold', 'tampa bay buccaneers', 'jp mcmanus john', 'mcmanus john magnier', 'john magnier 29', 'magnier 29 united', 'values club 800m', 'club 800m 5bn', 'pitched 300p share', 'box office takings', 'mr herren says', 'chief executive michael', 'need look carefully', 'lord chancellor role', 'news website sound', 'magazine reviews editor', 'franz ferdinand uk', '24 hour party', 'hour party people', 'received detailed proposal', 'supporters group shareholders', 'mr glazer previous', 'mr glazer latest', 'sons avi joel', 'uk equities standard', 'equities standard life', 'standard life investments', 'mr glazer owns', 'support united largest', 'united largest shareholders', 'largest shareholders irish', 'year mr glazer', 'ms simonetti longer', 'confirmed clear rules', 'united doubled lead', 'best song past', 'song past 25', 'past 25 years', 'best pop act', 'hip hop artist', 'matt lucas david', 'lucas david walliams', 'best song 25', 'song 25 years', 'angels best song', 'love tear apart', 'best 25 years', 'song best song', 'voted best song', 'jean pierre jeunet', 'showbusiness newspaper variety', 'culture media sport', 'ms mohd saaid', 'say lib dem', 'workers lose jobs', 'world record holder', 'best film award', 'weren quite sure', 'says mr donofrio', 'mr williams said', 'said mr seagrave', 'thompson regular commentator', 'regular commentator bbc', 'commentator bbc world', 'aviv chicago athens', 'blu ray disc', 'toshiba hd dvd', 'paramount universal warner', 'toshiba nec backed', 'sony pictures entertainment', 'twentieth century fox', 'hd dvd format', 'agree frederick forsyth', 'agree wholeheartedly mr', 'wholeheartedly mr forsyth', 'agree mr forsyth', 'mr forsyth views', 'british music rights', 'director general british', 'fourth quarter 2004', 'hundreds millions pounds', 'britain biggest union', 'biggest union unison', 'belmarsh prison london', 'july september period', 'double digit growth', 'trade industry secretary', 'ms hewitt said', 'frost director general', 'general british chambers', 'carling cup final', 'rss really simple', 'really simple syndication', 'daily source code', 'harry potter half', 'potter half blood', 'half blood prince', 'handed round bye', 'outside western europe', 'later prime minister', 'refused comment reports', 'file sharing systems', 'mtv europe awards', 'international development secretary', 'jean philippe grandclaude', 'children young people', 'lord chancellor said', 'ask jeeves said', 'said mr lanzone', 'stop stansted expansion', 'search engine users', 'manager jose mourinho', 'hans christian andersen', 'federal reserve chairman', 'high speed downlink', 'speed downlink packet', 'downlink packet access', 'human rights watch', 'conservative shadow foreign', 'bethnal green bow', 'lifetime achievement award', 'internet service providers', 'insurance broker marsh', 'broker marsh mclennan', 'new york attorney', 'york attorney general', 'credit card firm', 'creditors lg group', 'mr livingstone says', 'livingstone says standing', 'says standing remarks', 'evening standard journalist', 'concentration camp guard', 'labour mr livingstone', 'mr livingstone said', 'portable hard drive', 'country championships march', 'net service firms', 'children playing games', 'high levels violence', '14 year old', 'british board film', 'board film classification', 'eu referendum question', 'copies half life', 'annual general meeting', 'real madrid striker', 'january transfer window', 'christmas day new', 'day new year', 'economy growing fast', 'world cinema award', 'human rights movement', 'ms khan said', 'corporate social responsibility', 'grand don come', 'don come free', 'powys local health', 'local health board', 'set economic growth', 'credit card bills', 'prof aynsley green', '200 council tax', 'save scottish regiments', 'new labour manifesto', 'music rich list', 'face house arrest', 'lg card creditors', 'ms lomax said', 'hot 100 chart', 'changes local government', 'ms short said', 'want government withdraw', 'government withdraw regulations', 'raise pension age', 'local government workers', 'spain davis cup', 'joss stone won', 'stone won urban', 'music black origin', 'dame alicia markova', 'said mr whalley', 'long term oil', 'said lord scarman', 'like concentration camp', 'german war criminal', 'open source movement']\n",
            "Tagged Vocabulary Length:  2000\n",
            "['hope/NN', 'crisis/NN', 'years/NNS', 'Argentina/NNP', 'was/VBD', 'hit/VBN', 'economic/JJ', 'there/EX', 'is/VBZ', 'country/NN', 'economy/NN', 'set/VBN', 'grow/VB', '%/NN', 'year/NN', 'seeing/VBG', 'growth/NN', 'last/JJ', 'when/WRB', 'output/NN', 'fell/VBD', 'unemployment/NN', 'rate/NN', 'improving/VBG', 'too/RB', 'It/PRP', 'end/NN', 'down/RB', 'May/NNP', 'problems/NNS', 'remain/VBP', 'overall/JJ', 'picture/NN', 'Even/RB', 'International/NNP', 'IMF/NNP', 'authorities/NNS', 'are/VBP', 'should/MD', 'be/VB', 'strong/JJ', 'performance/NN', 'Thomas/NNP', 'director/NN', 'said/VBD', 'earlier/RBR', 'month/NN', 'has/VBZ', 'made/VBN', 'recovery/NN', 'which/WDT', 'government/NN', 'debt/NN', 'its/PRP$', 'private/JJ', 'creditors/NNS', 'least/JJS', 'initially/RB', 'decisions/NNS', 'payments/NNS', 'were/VBD', 'bank/NN', 'accounts/NNS', 'part/NN', 'measures/NNS', 'introduced/VBN', 'deal/VB', 'massive/JJ', 'response/NN', 'took/VBD', 'where/WRB', 'lives/NNS', 'lost/VBN', 'police/NN', 'finance/NN', 'minister/NN', 'less/JJR', 'found/VBN', 'currency/NN', 'markets/NNS', 'US/NNP', 'dollar/NN', 'February/NNP', 'saw/VBD', 'thousands/NNS', 'people/NNS', 'life/NN', 'savings/NNS', 'companies/NNS', 'went/VBD', 'ago/RB', 'sector/NN', ']/NNP', 'really/RB', 'then/RB', 'general/JJ', 'ground/NN', 'helped/VBD', 'investment/NN', 'abroad/RB', 'business/NN', 'helping/VBG', 'Mr/NNP', 'who/WP', 'United/NNP', 'States/NNPS', 'grew/VBD', 'up/RP', 'time/NN', 'his/PRP$', 'held/VBN', 'now/RB', 'he/PRP', 'using/VBG', 'money/NN', 'help/VB', 'trading/NN', 'company/NN', 'He/PRP', 'firm/NN', 'going/VBG', 'building/NN', 'Spain/NNP', 'would/MD', 'like/VB', 'other/JJ', 'areas/NNS', 'market/NN', 'sense/NN', 'many/JJ', 'lot/NN', 'firms/NNS', 'not/RB', 'all/PDT', 'still/RB', 'failure/NN', 'pay/VB', 'President/NNP', 'administration/NN', 'trying/VBG', 'out/RP', 'agreement/NN', 'value/NN', 'it/PRP', 'easy/JJ', 'make/VBP', 'further/JJ', 'difficult/JJ', 'expensive/JJ', 'current/JJ', 'offer/NN', 'get/VB', 'just/RB', 'they/PRP', 'according/VBG', 'want/VBP', 'more/JJR', 'do/VBP', 'others/NNS', 'continue/VB', 'challenge/NN', 'losses/NNS', 'have/VBP', 'been/VBN', 'Jack/NNP', 'needs/VBZ', 'keep/VB', 'mind/NN', 'cost/NN', 'society/NN', 'that/WDT', 'will/MD', 'have/VB', 'reached/VBN', 'continues/VBZ', 'paid/VBN', 'international/JJ', 'being/VBG', 'little/JJ', 'help/NN', 'domestic/JJ', 'situation/NN', 'remains/VBZ', 'as/RB', 'well/RB', 'account/NN', 'their/PRP$', 'bad/JJ', 'had/VBD', 'previously/RB', 'chosen/VBN', 'save/VB', 'president/NN', 'once/RB', 'set/VBD', 'future/NN', 'safe/JJ', 'them/PRP', 'good/JJ', 'state/NN', 'taking/VBG', 'most/JJS', 'legal/JJ', 'system/NN', 'Court/NNP', 'ruled/VBN', 'interests/NNS', 'says/VBZ', 'can/MD', 'People/NNS', 'banks/NNS', 'crime/NN', 'so/RB', 'high/JJ', 'homes/NNS', 'agreed/VBD', 'I/PRP', 'local/JJ', 'much/JJ', 'problem/NN', 'think/VB', 'twice/RB', 'before/RB', 'Yukos/NNP', 'back/RB', 'courts/NNS', 'Russian/JJ', 'oil/NN', 'gas/NN', 'due/JJ', 'court/NN', 'Thursday/NNP', 'fight/VB', 'process/NN', 'order/NN', 'tax/NN', 'bill/NN', 'bankruptcy/NN', 'hoping/VBG', 'use/VB', 'law/NN', 'sale/NN', 'key/JJ', 'production/NN', 'unit/NN', 'however/RB', 'sold/VBN', 'Rosneft/NNP', 'only/RB', 'auction/NN', 'lawyers/NNS', 'say/VBP', 'main/JJ', 'shareholders/NNS', 'go/VB', 'assets/NNS', 'wants/VBZ', 'damages/NNS', 'claiming/VBG', 'different/JJ', 'including/VBG', 'Deutsche/NNP', 'Bank/NNP', 'German/JJ', 'providing/VBG', 'Gazprom/NNP', 'expected/VBN', 'win/VB', 'also/RB', 'called/VBN', 'decision/NN', 'provide/VB', 'protection/NN', 'case/NN', 'position/NN', 'analysts/NNS', 'Analysts/NNS', 'optimistic/JJ', 'chances/NNS', 'top/NN', 'won/VBN', 'small/JJ', 'we/PRP', 'ability/NN', 'what/WP', 'We/PRP', 'think/VBP', 'Mike/NNP', 'spokesman/NN', 'risks/NNS', 'real/JJ', 'analyst/NN', 'driven/VBN', 'political/JJ', 'boss/NN', 'charges/NNS', 'fraud/NN', 'A/NNP', 'developed/VBN', 'software/NN', 'musical/JJ', 'University/NNP', 'New/NNP', 'York/NNP', 'State/NNP', 'research/NN', 'space/NN', 'needed/VBD', 'create/VB', 'models/NNS', 'number/NN', 'having/VBG', 'hit/VBD', 'idea/NN', 'individual/JJ', 'music/NN', 'computer/NN', 'graphics/NNS', 'do/VB', 'work/NN', 'images/NNS', 'find/VB', 'way/NN', 'myself/PRP', 'told/VBD', 'BBC/NNP', 'News/NNP', 'website/NN', 'my/PRP$', 'own/JJ', 'study/NN', 'felt/VBD', 'develop/VB', 'could/MD', 'us/PRP', 'tried/VBD', 'version/NN', 'screen/NN', 'device/NN', 'used/VBN', 'lower/JJR', 'very/RB', 'much/RB', 'useful/JJ', 'created/VBN', 'used/VBD', \"n't/RB\", 'work/VB', 'age/NN', 'thinks/VBZ', 'makes/VBZ', 'more/RBR', 'never/RB', 'had/VBN', 'know/VBP', 'getting/VBG', 'red/JJ', 'appears/VBZ', 'yet/RB', 'available/JJ', 'believes/VBZ', 'several/JJ', 'together/RB', 'make/VB', 'hopes/VBZ', 'day/NN', 'give/VB', 'access/NN', 'Japanese/JJ', 'Japan/NNP', 'months/NNS', 'September/NNP', 'concern/NN', 'long/RB', 'period/NN', 'annual/JJ', 'engine/NN', 'demand/NN', 'corporate/JJ', 'short/JJ', 'expectations/NNS', 'does/VBZ', 'quarter/NN', 'long/JJ', 'result/NN', 'prices/NNS', 'falling/VBG', 'rather/RB', 'rising/VBG', 'made/VBD', 'spending/NN', 'effect/NN', 'leave/VB', 'ever/RB', 'exports/NNS', 'recent/JJ', 'products/NNS', 'becoming/VBG', 'third/JJ', 'first/JJ', 'showed/VBD', 'second/JJ', 'around/RB', 'capital/NN', 'became/VBD', 'chief/JJ', 'economist/NN', 'Securities/NNPS', 'looks/VBZ', 'such/JJ', 'Olympics/NNPS', 'light/NN', 'may/MD', 'raise/VB', 'taxes/NNS', 'policy/NN', 'public/JJ', 'Birmingham/NNP', 'Olympic/NNP', 'champion/NN', 'confirmed/VBN', 'she/PRP', 'take/VB', 'Union/NNP', 'Grand/NNP', 'knows/VBZ', 'how/WRB', 'competing/VBG', 'Britain/NNP', 'always/RB', 'records/NNS', 'there/RB', 'attention/NN', 'me/PRP', 'record/NN', 'Kelly/NNP', 'Holmes/NNP', 'Athens/NNP', 'winners/NNS', 'fellow/JJ', 'event/NN', 'pair/NN', 'battle/NN', 'ended/VBD', 'world/NN', 'gold/NN', 'come/VBN', 'British/JJ', 'success/NN', 'helped/VBN', 'return/VB', 'album/NN', 'UK/NNP', 'chart/NN', 'debut/NN', 'best/JJS', 'title/NN', 'Tuesday/NNP', 'places/NNS', 'Also/RB', 'whose/WP$', 'latest/JJS', 'single/JJ', 'You/PRP', 'top/JJ', 'spot/NN', 'singles/NNS', 'ahead/RB', 'Elvis/NNP', 'track/NN', 'series/NN', 'There/EX', 'currently/RB', \"'s/VBZ\", 'Now/RB', 'Rock/NNP', 'former/JJ', 'star/NN', 'Brian/NNP', 'Delta/NNP', 'up/RB', 'won/VBD', 'rock/NN', 'act/NN', 'group/NN', 'week/NN', 'Their/PRP$', 'Last/JJ', 'TV/NN', 'host/NN', 'television/NN', 'Los/NNP', 'Angeles/NNP', 'show/NN', 'American/JJ', 'game/NN', 'shows/NNS', 'Year/NNP', 'network/NN', 'job/NN', 'done/VBN', 'better/RBR', 'lead/VB', 'Times/NNP', 'Paul/NNP', 'Golden/NNP', 'American/NNP', 'Music/NNP', 'Awards/NNP', 'His/PRP$', 'popular/JJ', 'audience/NN', 'came/VBD', 'industry/NN', 'responsible/JJ', 'producer/NN', 'ceremony/NN', 'place/NN', 'January/NNP', 'Howard/NNP', 'attacks/NNS', 'later/RB', 'Budget/NNP', 'Tory/NNP', 'leader/NN', 'Michael/NNP', 'Gordon/NNP', 'Brown/NNP', 'vote/NN', 'pay/NN', 'plans/NNS', 'simple/JJ', 'fact/NN', 'new/JJ', 'Labour/JJ', 'election/NN', 'financial/JJ', 'black/JJ', 'see/VB', 'chancellor/NN', 'hard/JJ', 'working/VBG', 'families/NNS', 'Labour/NNP', 'campaign/NN', 'added/VBD', 'party/NN', 'giving/VBG', 'hand/NN', 'away/RB', 'urged/VBD', 'millions/NNS', 'net/JJ', 'duty/NN', 'wins/NNS', 'accused/VBD', 'running/VBG', 'only/JJ', 'answer/NN', 'spend/VB', 'vote/VB', 'off/RP', 'air/NN', 'bid/NN', 'nation/NN', 'based/VBN', 'numbers/NNS', 'next/JJ', 'no/RB', 'better/JJR', 'prime/JJ', 'council/NN', 'Tories/NNPS', 'offering/VBG', 'nothing/NN', 'put/VB', 'parents/NNS', 'wanted/VBD', 'schools/NNS', 'face/VB', 'clear/JJ', 'choice/NN', 'higher/JJR', 'Conservatives/NNPS', 'call/NN', 'Secretary/NNP', 'David/NNP', 'Blunkett/NNP', 'given/VBN', 'announced/VBN', 'Monday/NNP', 'Radio/NNP', 'Live/NNP', \"'m/VBP\", 'ready/JJ', 'announcement/NN', 'weekend/NN', 'Sheffield/NNP', 'expected/VBD', 'Tony/NNP', 'Blair/NNP', 'ask/VB', 'Queen/NNP', 'Parliament/NNP', 'poll/NN', 'US/JJ', 'Iraq/NNP', 'major/JJ', 'contract/NN', 'efforts/NNS', 'officials/NNS', 'Its/PRP$', 'November/NNP', 'thought/VBN', 'largest/JJS', 'date/NN', 'original/JJ', 'denied/VBD', 'reports/NNS', 'completely/RB', 'look/VB', 'construction/NN', 'opportunities/NNS', 'statement/NN', 'Office/NNP', 'taken/VBN', 'over/RP', 'management/NN', 'projects/NNS', 'workers/NNS', 'targets/NNS', 'security/NN', 'concerns/NNS', 'reason/NN', 'pace/NN', 'funds/NNS', 'spent/VBN', 'news/NN', 'agency/NN', 'did/VBD', 'movement/NN', 'whole/JJ', 'things/NNS', 'judge/NN', 'attempt/NN', 'giant/NN', 'Yugansk/NNP', 'ruling/NN', 'claims/NNS', 'began/VBD', 'Friday/NNP', 'trial/NN', 'guilty/JJ', 'brought/VBN', 'him/PRP', 'criminal/JJ', 'successful/JJ', 'bought/VBN', 'bought/VBD', 'almost/RB', 'immediately/RB', 'majority/NN', 'Russia/NNP', 'her/PRP$', 'officer/NN', 'claimed/VBD', 'European/JJ', 'Human/NNP', 'offered/VBN', 'likely/JJ', 'agencies/NNS', 'considered/VBN', 'role/NN', 'simply/RB', 'decide/VB', 'consider/VB', 'However/RB', 'issues/NNS', 'believe/VBP', 'our/PRP$', 'executive/NN', 'Steven/NNP', 'Our/PRP$', 'calls/NNS', 'Martin/NNP', 'team/NN', 'Manchester/NNP', 'shot/NN', 'clearly/RB', 'line/NN', 'referee/NN', 'already/RB', 'why/WRB', 'ca/MD', 'stop/VB', 'right/NN', 'draw/NN', 'feel/VBP', 'ball/NN', 'net/NN', 'talking/VBG', 'couple/NN', 'goal/NN', 'What/WP', 'here/RB', 'watching/VBG', 'something/NN', 'seconds/NNS', 'told/VBN', 'play/VB', 'particularly/RB', 'am/VBP', 'even/RB', 'point/NN', 'believe/VB', 'My/PRP$', \"'ve/VBP\", 'seen/VBN', 'career/NN', 'you/PRP', 'manager/NN', 'Sir/NNP', 'Alex/NNP', 'Ferguson/NNP', 'need/NN', 'technology/NN', 'home/NN', 'asking/VBG', 'video/NN', 'suggested/VBD', 'carry/VB', 'same/JJ', 'amount/NN', 'takes/VBZ', 'start/VB', 'opening/NN', 'area/NN', 'football/NN', 'Arsenal/NNP', 'When/WRB', 'evidence/NN', 'great/JJ', 'example/NN', 'asked/VBN', 'nominated/VBN', 'awards/NNS', 'reality/NN', 'category/NN', 'Street/NNP', 'festival/NN', 'faces/VBZ', 'competition/NN', 'Show/NNP', 'separate/JJ', 'comedy/NN', 'One/NNP', 'My/NNP', 'compete/VB', 'become/VB', 'nominations/NNS', 'Henry/NNP', 'total/NN', 'programmes/NNS', 'effort/NN', 'produce/VB', 'London/NNP', 'countries/NNS', 'Europe/NNP', 'shown/VBN', 'Saturday/NNP', 'receive/VB', 'actor/NN', 'actress/NN', 'award/NN', 'sales/NNS', 'rise/VB', 'previous/JJ', 'weak/JJ', 'rivals/NNS', 'General/NNP', 'lost/VBD', 'rose/VBD', 'brand/NN', 'question/NN', 'started/VBD', 'model/NN', 'hold/NN', 'regular/JJ', 'win/VBP', 'film/NN', 'late/JJ', 'Ray/NNP', 'Charles/NNP', 'playing/VBG', 'Million/NNP', 'Dollar/NNP', 'Baby/NNP', 'Aviator/NNP', 'prize/NN', 'often/RB', 'go/VBP', 'Oscars/NNP', 'Morgan/NNP', 'turned/VBD', 'making/VBG', 'Taylor/NNP', 'chance/NN', \"'re/VBP\", 'full/JJ', 'down/RP', 'person/NN', 'talent/NN', 'know/VB', 'Hollywood/NNP', 'theatre/NN', 'Meanwhile/RB', 'members/NNS', 'Academy/NNP', 'voting/NN', 'end/VB', 'days/NNS', 'box/NN', 'office/NN', 'sequel/NN', 'starring/VBG', 'George/NNP', 'gone/VBN', 'studio/NN', 'follows/VBZ', 'National/NNP', 'Christmas/NNP', 'December/NNP', 'release/NN', 'films/NNS', 'Lord/NNP', 'beat/VBD', 'total/JJ', 'hit/NN', 'Matt/NNP', 'Andy/NNP', 'movie/NN', 'critics/NNS', 'project/NN', 'review/NN', 'face/NN', 'ban/NN', 'trade/NN', 'ensure/VB', 'proposed/VBN', 'America/NNP', 'released/VBN', 'machines/NNS', 'Bill/NNP', 'Ms/NNP', 'legislation/NN', 'She/PRP', 'quite/RB', 'They/PRP', 'run/VBN', 'rules/NNS', \"'ll/MD\", 'allow/VB', 'risk/NN', 'players/NNS', 'remaining/VBG', 'free/JJ', 'food/NN', 'Association/NNP', 'fears/NNS', 'foreign/JJ', 'certain/JJ', 'most/RBS', 'level/NN', 'certainly/RB', 'search/NN', 'Internet/NNP', 'Yahoo/NNP', 'launched/VBN', 'e-mail/JJ', 'files/NNS', 'PCs/NNS', 'following/VBG', 'Microsoft/NNP', 'Google/NNP', 'Ask/NNP', 'similar/JJ', 'services/NNS', 'become/VBN', 'looking/VBG', 'web/NN', 'bigger/JJR', 'storage/NN', 'users/NNS', 'need/VB', 'important/JJ', 'designed/VBN', 'programs/NNS', 'effectively/RB', 'increasingly/RB', 'especially/RB', 'spam/NN', 'According/VBG', 'message/NN', 'Group/NNP', 'businesses/NNS', 'critical/JJ', 'information/NN', 'e-mail/NN', 'name/NN', 'size/NN', 'future/JJ', 'versions/NNS', 'data/NN', 'commercial/JJ', 'opportunity/NN', 'content/NN', 'Smith/NNP', 'relationship/NN', 'consumers/NNS', 'internet/NN', 'your/PRP$', 'engines/NNS', 'human/JJ', 'rights/NNS', 'groups/NNS', 'concerned/VBN', 'everyone/NN', 'technologies/NNS', 'product/NN', 'tools/NNS', 'word/NN', 'French/JJ', 'stock/NN', 'media/NNS', 'giant/JJ', 'issue/NN', 'executives/NNS', 'selling/VBG', 'investors/NNS', 'basis/NN', 'watchdog/NN', 'men/NNS', 'reported/VBD', 'aware/JJ', 'interest/NN', 'Davis/NNP', 'board/NN', 'knew/VBD', 'considering/VBG', 'buy/VB', 'shares/NNS', 'charge/NN', 'saying/VBG', 'possibility/NN', 'public/NN', 'euros/NNS', 'allegations/NNS', 'wrong/JJ', 'Alan/NNP', 'striker/NN', 'beating/VBG', 'win/NN', 'interested/JJ', 'summer/NN', 'clubs/NNS', 'squad/NN', 'got/VBD', 'goals/NNS', 'early/RB', 'sure/JJ', 'happy/JJ', 'criticism/NN', 'fans/NNS', 'recently/RB', 'thing/NN', 'club/NN', 'got/VBN', 'direction/NN', 'want/VB', 'sides/NNS', 'Lions/NNP', 'union/NN', 'Chris/NNP', 'Sport/NNP', \"'d/MD\", 'Cup/NNP', 'confident/JJ', 'young/JJ', 'rugby/NN', 'league/NN', 'understand/VB', 'move/VB', 'everything/NN', 'set/VB', 'called/VBD', 'serious/JJ', 'games/NNS', 'willing/JJ', 'weeks/NNS', 'lack/NN', 'rest/NN', 'move/NN', 'forward/RB', 'Williams/NNP', 'come/VB', 'player/NN', 'big/JJ', 'hit/VB', 'defence/NN', 'might/MD', 'happen/VB', 'Jones/NNP', 'World/NNP', 'chief/NN', 'claims/VBZ', 'drugs/NNS', 'Committee/NNP', 'athletes/NNS', 'action/NN', 'centre/NN', 'investigation/NN', 'continued/VBD', 'named/VBN', 'field/NN', 'man/NN', 'run/VB', 'winner/NN', 'house/NN', 'women/NNS', 'Germany/NNP', 'changed/VBN', 'panel/NN', 'voters/NNS', 'national/JJ', 'able/JJ', 'global/JJ', 'organisation/NN', 'Republic/NNP', 'China/NNP', 'Italy/NNP', 'Ireland/NNP', 'March/NNP', 'August/NNP', 'side/NN', 'Chinese/JJ', 'Israel/NNP', 'meeting/NN', 'Irish/NNP', 'victory/NN', 'played/VBN', 'June/NNP', 'Irish/JJ', 'winning/VBG', 'progress/NN', 'few/JJ', 'opposition/NN', 'teams/NNS', 'return/NN', 'traditional/JJ', 'powers/NNS', 'France/NNP', 'October/NNP', 'UKIP/NNP', 'else/RB', 'worked/VBN', 'politicians/NNS', 'Party/NNP', 'candidate/NN', 'politics/NNS', 'So/RB', 'EU/NNP', 'Roger/NNP', 'written/VBN', 'English/NNP', 'Many/JJ', 'threat/NN', 'terrorism/NN', 'surprise/NN', 'coming/VBG', 'post/NN', 'experts/NNS', 'European/NNP', 'anything/NN', 'basic/JJ', 'member/NN', 'Robert/NNP', 'Kilroy-Silk/NNP', 'large/JJ', 'enough/JJ', 'huge/JJ', 'hold/VB', 'referendum/NN', 'constitution/NN', 'euro/NN', 'plan/NN', 'How/WRB', 'decided/VBN', 'seats/NNS', 'significant/JJ', 'Commons/NNPS', 'possible/JJ', 'blogs/NNS', 'views/NNS', 'online/JJ', 'moment/NN', 'drawn/VBN', 'room/NN', 'voice/NN', 'suggests/VBZ', 'lead/NN', 'holding/VBG', 'power/NN', 'task/NN', 'elections/NNS', 'Six/NNP', 'Nations/NNPS', 'Slam/NNP', 'far/RB', 'Scotland/NNP', 'England/NNP', 'Paris/NNP', 'played/VBD', 'race/NN', 'display/NN', 'Wales/NNP', 'Nations/NNP', 'nations/NNS', 'impressive/JJ', 'form/NN', 'start/NN', 'matches/NNS', 'coach/NN', 'announce/VB', 'starting/VBG', 'match/NN', 'injury/NN', 'tournament/NN', 'doubt/NN', 'received/VBN', 'Fox/NNP', 'head/NN', 'fall/NN', 'woman/NN', 'natural/JJ', 'father/NN', 'cash/NN', 'season/NN', 'expects/VBZ', 'work/VBP', 'drop/NN', 'fourth/JJ', 'unveiled/VBN', 'strategy/NN', 'launch/VB', 'met/VBN', 'poor/JJ', 'accept/VB', 'instead/RB', 'DVD/NNP', 'Film/NNP', 'tsunami/NN', 'disaster/NN', 'profits/NNS', 'relief/NN', 'planned/VBN', 'happened/VBD', 'asked/VBD', 'focus/NN', 'change/VB', 'night/NN', 'sold/VBD', 'goes/VBZ', 'turned/VBN', 'continuing/VBG', 'victims/NNS', 'support/VB', 'aid/NN', 'organisations/NNS', 'low/JJ', 'figures/NNS', 'support/NN', 'programme/NN', 'wide/JJ', 'range/NN', 'titles/NNS', 'Oscar/NNP', 'Leigh/NNP', 'drama/NN', 'Vera/NNP', 'Drake/NNP', 'positive/JJ', 'city/NN', 'Sunday/NNP', 'forced/VBN', 'names/NNS', 'directors/NNS', 'Stone/NNP', 'stars/NNS', 'such/PDT', 'thought/VBD', 'let/VB', 'culture/NN', 'get/VBP', 'West/NNP', 'events/NNS', 'held/VBD', 'South/NNP', 'Korea/NNP', 'soon/RB', 'road/NN', 'itself/PRP', 'ran/VBD', 'site/NN', 'links/NNS', 'appeal/NN', 'build/VB', 'confidence/NN', 'school/NN', 'host/VB', 'As/RB', 'visitors/NNS', 'Sony/NNP', 'test/NN', 'published/VBN', 'responsibility/NN', 'illegal/JJ', 'piracy/NN', 'songs/NNS', 'cases/NNS', 'so-called/JJ', 'John/NNP', 'computers/NNS', 'connections/NNS', 'gadget/NN', 'environment/NN', 'announced/VBD', 'bringing/VBG', 'Intel/NNP', 'Apple/NNP', 'IBM/NNP', 'consumer/NN', 'needed/VBN', 'old/JJ', 'gadgets/NNS', 'energy/NN', 'particular/JJ', 'growing/VBG', 'portable/JJ', 'devices/NNS', 'reach/VB', 'nearly/RB', 'send/VB', 'community/NN', 'powerful/JJ', 'force/NN', 'meet/VB', 'additional/JJ', 'mobile/JJ', 'adults/NNS', 'handsets/NNS', 'actually/RB', 'mobile/NN', 'report/NN', 'messages/NNS', 'phones/NNS', 'mobiles/NNS', 'behaviour/NN', 'terms/NNS', 'change/NN', 'moving/VBG', 'Wilson/NNP', 'right/RB', 'rise/NN', 'highest/JJS', 'comes/VBZ', 'common/JJ', 'goods/NNS', 'means/VBZ', 'biggest/JJS', 'vital/JJ', 'personal/JJ', 'digital/JJ', 'cameras/NNS', 'developing/VBG', 'themselves/PRP', 'standards/NNS', 'Commission/NNP', 'Most/JJS', 'use/NN', 'alone/RB', 'finding/VBG', 'Andrew/NNP', 'must/MD', 'quickly/RB', 'Law/NNP', 'Lords/NNP', 'terror/NN', 'Robinson/NNP', 'UN/NNP', 'Today/NN', 'Home/NNP', 'Clarke/NNP', 'present/JJ', 'Speaking/VBG', 'secretary/NN', 'raised/VBN', 'House/NNP', 'Lords/NNPS', 'opinion/NN', 'citizens/NNS', 'warned/VBD', 'Madrid/NNP', 'leaders/NNS', 'Spanish/JJ', 'probably/RB', 'discuss/VB', 'step/NN', 'limit/NN', 'fair/JJ', 'bring/VB', 'immigration/NN', 'heard/VBN', 'Richard/NNP', 'books/NNS', 'book/NN', 'boost/NN', 'term/NN', 'include/VBP', 'Robbie/NNP', 'increase/VB', 'known/VBN', 'extremely/RB', 'list/NN', 'Ross/NNP', 'tough/JJ', 'Her/PRP$', 'led/VBN', 'employees/NNS', 'earnings/NNS', 'Wednesday/NNP', 'early/JJ', 'technical/JJ', 'questions/NNS', 'himself/PRP', 'Scott/NNP', 'committee/NN', 'sentence/NN', 'facing/VBG', 'deal/NN', 'followed/VBD', 'official/JJ', 'anyone/NN', 'adding/VBG', 'highly/RB', 'Gary/NNP', 'sent/VBN', 'comments/NNS', 'employment/NN', 'impact/NN', 'run/NN', 'standard/NN', 'makers/NNS', 'times/NNS', 'ways/NNS', 'increasing/VBG', 'speed/NN', 'putting/VBG', 'mark/NN', 'take/VBP', 'car/NN', 'design/NN', 'slightly/RB', 'industrial/JJ', 'Radcliffe/NNP', 'wo/MD', 'Paula/NNP', 'character/NN', 'offer/VB', 'experience/NN', 'hours/NNS', 'minutes/NNS', 'course/NN', 'speaking/VBG', 'say/VB', 'cards/NNS', 'reasons/NNS', 'conditions/NNS', 'finish/VB', 'Sydney/NNP', 'charity/NN', 'July/NNP', 'Australian/JJ', 'Rugby/NNP', 'include/VB', 'tour/NN', 'Zealand/NNP', 'need/VBP', 'Africa/NNP', 'Australia/NNP', 'option/NN', 'partner/NN', 'radio/NN', 'DVDs/NNP', 'special/JJ', 'marketing/NN', 'studios/NNS', 'final/JJ', 'Open/NNP', 'hope/VBP', 'tennis/NN', 'Hewitt/NNP', 'debate/NN', 'Kennedy/NNP', 'argued/VBD', 'ministers/NNS', 'matter/NN', 'proposal/NN', 'viewers/NNS', 'watch/VB', 'Bush/NNP', 'less/RBR', 'directly/RB', 'left/VBN', 'policies/NNS', 'service/NN', 'independent/JJ', 'body/NN', 'reported/VBN', 'true/JJ', 'conference/NN', 'gaming/NN', 'Life/NNP', 'Halo/NNP', 'gaming/VBG', 'developers/NNS', 'hugely/RB', 'open/VB', 'PC/NN', 'favour/NN', 'right/JJ', 'look/VBP', 'DS/NNP', 'Nintendo/NNP', 'capacity/NN', 'past/JJ', 'see/VBP', 'again/RB', 'cut/NN', 'set/NN', 'Chancellor/NNP', 'fuel/NN', 'speech/NN', 'inflation/NN', 'price/NN', 'Air/NNP', 'control/NN', 'failed/VBN', 'stake/NN', 'costs/NNS', 'airline/NN', 'Minister/NNP', 'senior/JJ', 'staff/NN', 'Celtic/NNP', 'region/NN', 'FA/NNP', 'Day/NNP', 'extra/JJ', 'affected/VBN', 'stage/NN', 'show/VBP', 'hopes/NNS', 'trend/NN', 'health/NN', 'target/NN', 'showing/VBG', 'Service/NNP', 'activity/NN', 'about/RB', 'warned/VBN', 'systems/NNS', 'Windows/NNP', 'open/JJ', 'viruses/NNS', 'virus/NN', 'data/NNS', 'one/NN', 'Stephen/NNP', 'Media/NNP', 'maker/NN', 'row/NN', 'criticised/VBN', 'civil/JJ', 'reform/NN', 'jobs/NNS', 'reforms/NNS', 'Treasury/NNP', 'Milburn/NNP', 'figure/NN', 'add/VB', 'Royal/NNP', 'benefits/NNS', 'rates/NNS', 'index/NN', 'increase/NN', 'back/RP', 'strength/NN', 'Peter/NNP', 'play/NN', 'hits/NNS', 'joined/VBN', 'estimated/VBN', 'needs/NNS', 'call/VB', 'left/VBD', 'newspaper/NN', 'first/RB', 'found/VBD', 'Prince/NNP', 'decided/VBD', 'Man/NNP', 'died/VBD', 'worked/VBD', 'friends/NNS', 'moved/VBN', 'Jackson/NNP', 'singer/NN', 'potential/JJ', 'cost/VB', 'child/NN', 'family/NN', 'Jason/NNP', 'pop/NN', 'children/NNS', 'try/VB', 'nominees/NNS', 'Other/JJ', 'movies/NNS', 'Award/NNP', 'presented/VBN', 'credit/NN', 'San/NNP', 'entry/NN', 'losing/VBG', 'older/JJR', 'admitted/VBD', 'Lee/NNP', 'seed/NN', 'Roddick/NNP', 'lose/VB', 'Foreign/NNP', 'increased/VBN', 'compared/VBN', 'unlikely/JJ', 'half/NN', 'expect/VB', 'talks/NNS', 'unions/NNS', 'ID/NNP', 'controversial/JJ', 'revealed/VBD', 'claim/NN', 'tackle/VB', 'Liberal/NNP', 'Democrats/NNPS', 'scheme/NN', 'Conservative/NNP', 'source/NN', 'insisted/VBD', 'deliver/VB', 'decade/NN', 'Lib/NNP', 'Dem/NNP', 'affairs/NNS', 'Mark/NNP', 'signs/NNS', 'colleagues/NNS', 'chairman/NN', 'Council/NNP', 'hands/NNS', 'her/PRP', 'live/JJ', 'appeared/VBD', 'Love/NNP', 'described/VBD', 'kind/NN', 'Sun/NNP', 'hour/NN', 'customers/NNS', 'development/NN', 'Why/WRB', 'operating/NN', 'existing/VBG', 'rival/JJ', 'denied/VBN', 'pensions/NNS', 'Johnson/NNP', 'central/JJ', 'Conservative/JJ', 'Telegraph/NNP', 'Downing/NNP', 'comment/VB', 'Super/NNP', 'widely/RB', 'song/NN', 'James/NNP', 'band/NN', 'closed/VBD', 'Black/NNP', 'entertainment/NN', 'controversy/NN', 'included/VBD', 'put/VBD', 'asylum/NN', 'plans/VBZ', 'cut/VB', 'detailed/JJ', 'cutting/VBG', 'Democrat/NNP', 'absolutely/RB', 'turn/VB', 'laws/NNS', 'documents/NNS', 'centres/NNS', 'close/RB', 'seeking/VBG', 'points/NNS', 'join/VB', 'heart/NN', 'put/VBN', 'words/NNS', 'Financial/NNP', 'paper/NN', 'crucial/JJ', 'owner/NN', 'speculation/NN', 'mean/VB', 'machine/NN', 'Department/NNP', 'results/NNS', 'chip/NN', 'consoles/NNS', 'confirmed/VBD', 'achieved/VBN', 'Research/NNP', 'improve/VB', 'manufacturing/NN', 'doing/VBG', 'operations/NNS', 'physical/JJ', 'gives/VBZ', 'fully/RB', 'Mac/NNP', 'gets/VBZ', 'share/NN', 'iPod/NN', 'editor/NN', 'magazine/NN', 'appeal/VB', 'paying/VBG', 'buying/VBG', 'suffered/VBD', 'Ian/NNP', 'broadband/NN', 'sell/VB', 'larger/JJR', 'drive/NN', 'style/NN', 'aimed/VBN', 'pretty/RB', 'decline/NN', 'influence/NN', 'led/VBD', 'sort/NN', 'boost/VB', 'Cell/NNP', 'console/NN', 'greater/JJR', 'Steve/NNP', 'levels/NNS', 'smaller/JJR', 'enough/RB', 'try/NN', 'gave/VBD', 'penalty/NN', \"O'Gara/NNP\", 'come/VBP', 'Edinburgh/NNP', 'pressure/NN', 'White/NNP', 'allowed/VBN', 'minute/NN', 'break/NN', 'sent/VBD', 'missed/VBD', 'advantage/NN', 'looked/VBD', 'ideas/NNS', 'S/NNP', 'D/NNP', 'G/NNP', 'J/NNP', 'R/NNP', 'B/NNP', 'M/NNP', 'Institute/NNP', 'average/JJ', 'April/NNP', 'reached/VBD', 'reduce/VB', 'Reuters/NNP', 'social/JJ', 'population/NN', 'phone/NN', 'shows/VBZ', 'Dr/NNP', 'language/NN', 'use/VBP', 'camera/NN', 'Only/RB', 'innovation/NN', 'Digital/NNP', 'competitive/JJ', 'Championships/NNP', 'training/NN', 'beat/VB', 'Tim/NNP', 'favourite/NN', 'failed/VBD', 'dropped/VBD', 'struggling/VBG', 'death/NN', 'bit/NN', 'profit/NN', 'revenue/NN', 'Westminster/NNP', 'Scottish/JJ', 'Glasgow/NNP', 'built/VBN', 'parties/NNS', 'involved/VBN', 'Scottish/NNP', 'received/VBD', 'founder/NN', 'Harry/NNP', 'Potter/NNP', 'remain/VB', 'More/JJR', 'approach/NN', 'war/NN', 'defeat/NN', 'live/VB', 'supporters/NNS', 'fight/NN', 'Cabinet/NNP', 'refused/VBD', 'Liverpool/NNP', 'Leicester/NNP', 'Dems/NNP', 'trust/NN', 'networks/NNS', 'stay/VB', 'keen/JJ', 'William/NNP', 'close/VB', 'accused/VBN', 'includes/VBZ', 'usually/RB', 'uses/VBZ', 'download/NN', 'easier/JJR', 'online/NN', 'artists/NNS', 'protect/VB', 'survey/NN', 'pension/NN', 'effective/JJ', 'difference/NN', 'voted/VBD', 'focus/VB', 'takeover/NN', 'Leeds/NNP', 'Chelsea/NNP', 'GMT/NNP', 'Premiership/NNP', 'stadium/NN', 'proposals/NNS', 'agreed/VBN', 'lawyer/NN', 'details/NNS', 'tell/VB', 'League/NNP', 'stronger/JJR', 'strike/NN', 'deficit/NN', 'inquiry/NN', 'signed/VBN', 'advice/NN', 'telephone/NN', 'material/NN', 'someone/NN', 'spokeswoman/NN', 'sport/NN', 'loss/NN', 'specific/JJ', 'prevent/VB', 'seek/VB', 'Green/NNP', 'Cardiff/NNP', 'front/NN', 'plays/VBZ', 'Dallaglio/NNP', 'Owen/NNP', 'retirement/NN', 'round/NN', 'Wimbledon/NNP', 'followed/VBN', 'charts/NNS', 'poverty/NN', 'fall/VB', 'generation/NN', 'communities/NNS', 'replace/VB', 'Police/NNP', 'manifesto/NN', 'trouble/NN', 'avoid/VB', 'minimum/JJ', 'cinema/NN', 'budget/NN', 'view/NN', 'fighting/VBG', 'long-term/JJ', 'met/VBD', 'Prime/NNP', 'East/NNP', 'past/NN', 'Former/NNP', 'India/NNP', 'Indian/JJ', 'Straw/NNP', 'Commons/NNP', 'code/NN', 'v/NN', 'changes/NNS', 'Ruddock/NNP', 'show/VB', 'face/VBP', 'Asia/NNP', 'insurance/NN', 'Sri/NNP', 'Lanka/NNP', 'Indonesia/NNP', 'worst/JJS', 'damage/NN', 'appear/VB', 'produced/VBN', 'close/JJ', 'Welsh/NNP', 'writing/VBG', 'signed/VBD', 'Will/NNP', 'wrote/VBD', 'Not/RB', 'websites/NNS', 'Italian/JJ', 'planning/VBG', 'allowing/VBG', 'exchange/NN', 'Stock/NNP', 'Exchange/NNP', 'LSE/NNP', 'station/NN', 'retail/JJ', 'wireless/NN', 'story/NN', 'drug/NN', 'failing/VBG', 'fees/NNS', 'City/NNP', 'North/NNP', 'raising/VBG', 'education/NN', 'gap/NN', 'cut/VBN', 'employers/NNS', 'income/NN', 'concert/NN', 'Park/NNP', 'adds/VBZ', 'lets/VBZ', 'leading/VBG', 'copies/NNS', 'high-definition/NN', 'works/VBZ', 'rule/NN', 'revealed/VBN', 'leadership/NN', 'funding/NN', 'GM/NNP', 'sports/NNS', 'Newcastle/NNP', 'All/NNP', 'broke/VBD', 'trip/NN', 'PSP/NNP', 'sites/NNS', 'seems/VBZ', 'press/NN', 'producers/NNS', 'Simon/NNP', 'stand/VB', 'yen/NNS', 'history/NN', 'donations/NNS', 'BT/NNP', 'e-mails/NNS', 'program/NN', 'arrest/NN', 'morning/NN', 'MP/NNP', 'believed/VBD', 'King/NNP', 'Liberal/JJ', 'judges/NNS', 'care/NN', 'quality/NN', 'Gerrard/NNP', 'Parry/NNP', 'Champions/NNP', 'leaving/VBG', 'Real/NNP', 'Benitez/NNP', 'murder/NN', 'MPs/NNP', 'drinking/NN', 'feel/VB', 'format/NN', 'card/NN', 'lawsuit/NN', 'cuts/NNS', 'housing/NN', 'interview/NN', 'captain/NN', 'worth/JJ', 'orders/NNS', 'pictures/NNS', 'operators/NNS', 'traffic/NN', 'tests/NNS', 'suspects/NNS', 'electronic/JJ', 'treatment/NN', 'missing/VBG', 'sound/NN', 'wage/NN', 'today/NN', 'property/NN', 'mortgage/NN', 'Sky/NNP', 'launch/NN', 'back/NN', 'attack/NN', 'famous/JJ', 'African/JJ', 'Campbell/NNP', 'poster/NN', 'effects/NNS', 'issued/VBN', 'suspended/VBN', 'prove/VB', 'Mourinho/NNP', 'Greek/JJ', 'creating/VBG', 'Federer/NNP', 'Standard/NNP', 'cross/NN', 'Everton/NNP', 'Southampton/NNP', 'gamers/NNS', 'journalists/NNS', 'Henman/NNP', 'Joss/NNP', 'urban/JJ', 'Bellamy/NNP', 'tie/NN', 'stability/NN', 'Kenteris/NNP', 'Thanou/NNP', 'IAAF/NNP', 'Turkey/NNP', 'modern/JJ', 'blog/NN', 'artist/NN', 'Euronext/NNP', 'Boerse/NNP', 'ink/NN', 'Forsyth/NNP', 'Rooney/NNP', 'Glazer/NNP']\n",
            "Tagged Vocabulary Length:  2000\n",
            "['was/VBD', 'hit/VBN', 'is/VBZ', 'set/VBN', 'grow/VB', 'seeing/VBG', 'fell/VBD', 'improving/VBG', 'remain/VBP', 'admits/VBZ', 'are/VBP', 'be/VB', 'said/VBD', 'has/VBZ', 'made/VBN', 'sparked/VBD', 'were/VBD', 'halted/VBN', 'introduced/VBN', 'deal/VB', 'took/VBD', 'lost/VBN', 'resigned/VBD', 'found/VBN', 'saw/VBD', 'went/VBD', 'improved/VBN', 'helped/VBD', 'attract/VB', 'helping/VBG', 'born/VBN', 'grew/VBD', 'held/VBN', 'using/VBG', 'help/VB', 'explained/VBD', 'going/VBG', 'like/VB', 'depending/VBG', 'closed/VBN', 'pay/VB', 'trying/VBG', 'standing/VBG', 'proving/VBG', 'make/VBP', 'negotiate/VB', 'get/VB', 'owed/VBN', 'according/VBG', 'want/VBP', 'do/VBP', 'continue/VB', 'proves/VBZ', 'have/VBP', 'been/VBN', 'suffered/VBN', 'managing/VBG', 'needs/VBZ', 'keep/VB', 'have/VB', 'endured/VBN', 'reached/VBN', 'continues/VBZ', 'paid/VBN', 'being/VBG', 'remains/VBZ', 'waiting/VBG', 'recover/VB', 'had/VBD', 'chosen/VBN', 'save/VB', 'represents/VBZ', 'recovered/VBN', 'estimated/VBD', 'pointing/VBG', 'set/VBD', 'taking/VBG', 'ruled/VBN', 'says/VBZ', 'insisting/VBG', 'trusted/VBN', 'trust/VBP', 'agreed/VBD', 'think/VB', 'heading/VBG', 'fight/VB', 'broken/VBN', 'filed/VBD', 'hoping/VBG', 'use/VB', 'halt/VB', 'sold/VBN', 'disrupted/VBN', 'say/VBP', 'go/VB', 'buys/VBZ', 'wants/VBZ', 'claiming/VBG', 'hear/VB', 'including/VBG', 'throw/VB', 'barred/VBN', 'providing/VBG', 'expected/VBN', 'win/VB', 'called/VBN', 'overturn/VB', 'provide/VB', 'remove/VB', 'limited/VBN', 'won/VBN', 'Do/VBP', 'influence/VB', 'happens/VBZ', 'think/VBP', 'driven/VBN', 'developed/VBN', 'turns/VBZ', 'read/VB', 'studying/VBG', 'study/VB', 'needed/VBD', 'explore/VB', 'create/VB', 'tried/VBN', 'having/VBG', 'attempting/VBG', 'print/VB', 'hit/VBD', 'do/VB', 'find/VB', 'reading/VBG', 'told/VBD', 'felt/VBD', 'develop/VB', 'tried/VBD', 'used/VBN', 'ranging/VBG', 'created/VBN', 'used/VBD', 'recognise/VB', 'work/VB', 'thinks/VBZ', 'makes/VBZ', 'had/VBN', 'increase/VBP', 'know/VBP', 'getting/VBG', 'appears/VBZ', 'believes/VBZ', 'make/VB', 'hopes/VBZ', 'give/VB', 'renewed/VBN', 'stayed/VBD', 'falls/VBZ', 'does/VBZ', 'mark/VB', 'experiencing/VBG', 'falling/VBG', 'rising/VBG', 'made/VBD', 'kept/VBD', 'leave/VB', 'knocked/VBN', 'shipped/VBN', 'becoming/VBG', 'marks/VBZ', 'showed/VBD', 'predicting/VBG', 'slowed/VBD', 'became/VBD', 'looks/VBZ', 'raise/VB', 'implement/VB', 'picks/VBZ', 'confirmed/VBN', 'take/VB', 'knows/VBZ', 'enjoy/VBP', 'competing/VBG', 'seem/VBP', 'break/VB', 'respond/VB', 'ended/VBD', 'claim/VB', 'come/VBN', 'return/VBP', 'helped/VBN', 'return/VB', 'moved/VBD', 'chart/VBP', 'Dismantle/VB', 'pushed/VBD', 'entered/VBD', \"'s/VBZ\", 'won/VBD', 'suffering/VBG', 'hosted/VBN', 'produced/VBD', 'scheduled/VBN', 'welcome/VB', 'done/VBN', 'lead/VB', 'recovering/VBG', 'produces/VBZ', 'attracted/VBD', 'picked/VBN', 'featured/VBD', 'came/VBD', 'act/VB', 'dismissed/VBN', 'see/VB', 'working/VBG', 'added/VBD', 'giving/VBG', 'urged/VBD', 'admit/VB', 'accused/VBD', 'running/VBG', 'faced/VBD', 'spend/VB', 'vote/VB', 'liked/VBD', 'convince/VB', 'brought/VBD', 'based/VBN', 'offering/VBG', 'put/VB', 'wanted/VBD', 'face/VB', 'concluded/VBD', 'given/VBN', 'announced/VBN', \"'m/VBP\", 'meant/VBD', 'expected/VBD', 'tipped/VBN', 'ask/VB', 'pulled/VBN', 'rebuild/VB', 'thought/VBN', 'denied/VBD', 'committed/VBN', 'look/VB', 'taken/VBN', 'approved/VBN', 'spent/VBN', 'did/VBD', 'happening/VBG', 'gain/VB', 'began/VBD', 'pleaded/VBD', 'brought/VBN', 'rise/VBP', 'bought/VBN', 'bought/VBD', 'establish/VB', 'continue/VBP', 'argued/VBN', 'entitled/VBN', 'declare/VB', 'lives/VBZ', 'claimed/VBD', 'sought/VBD', 'offered/VBN', 'indicated/VBN', 'acknowledged/VBD', 'considered/VBN', 'decide/VB', 'challenged/VBN', 'merge/VB', 'trade/VB', 'remained/VBD', 'consider/VB', 'backed/VBN', 'believe/VBP', 'wearing/VBG', 'stop/VB', 'feel/VBP', 'talking/VBG', 'watching/VBG', 'told/VBN', 'play/VB', 'am/VBP', 'believe/VB', 'celebrate/VB', \"'ve/VBP\", 'seen/VBN', 'count/VB', 'highlighted/VBD', 'asking/VBG', 'read/VBP', 'suggested/VBD', 'carry/VB', 'takes/VBZ', 'organise/VB', 'start/VB', 'highlight/VB', 'asked/VBN', 'hits/VBZ', 'nominated/VBN', 'dominated/VBD', 'overlooked/VBN', 'gained/VBD', 'faces/VBZ', 'compete/VB', 'become/VB', 'screened/VBN', 'performed/VBN', 'gaining/VBG', 'leads/VBZ', 'produce/VB', 'picked/VBD', 'overcome/VB', 'shown/VBN', 'owned/VBN', 'included/VBN', 'receive/VB', 'rewarded/VBN', 'rise/VB', 'totalled/VBD', 'avoided/VBD', 'lost/VBD', 'rose/VBD', 'controlled/VBN', 'started/VBD', 'trading/VBG', 'win/VBP', 'boosting/VBG', 'earned/VBN', 'triumphed/VBD', 'playing/VBG', 'knocked/VBD', 'go/VBP', 'supporting/VBG', 'turned/VBD', 'living/VBG', 'making/VBG', 'accepting/VBG', 'praised/VBD', \"'re/VBP\", 'know/VB', 'end/VB', 'starring/VBG', 'gone/VBN', 'follows/VBZ', 'try/VBP', 'pull/VB', 'beat/VBD', 'opening/VBG', 'directed/VBN', 'direct/VB', 'joins/VBZ', 'dubbed/VBD', 'banned/VBN', 'ensure/VB', 'suggested/VBN', 'proposed/VBN', 'released/VBN', 'encourage/VB', 'removed/VBN', 'becomes/VBZ', 'ban/VB', 'run/VBN', 'allow/VB', 'subjected/VBN', 'remaining/VBG', 'offer/VBP', 'betting/VBG', 'awarded/VBN', 'launched/VBN', 'search/VB', 'following/VBG', 'become/VBN', 'looking/VBG', 'extend/VB', 'need/VB', 'licensed/VBN', 'designed/VBN', 'According/VBG', 'stored/VBN', 'searching/VBG', 'promised/VBN', 'lies/VBZ', 'extending/VBG', 'concerned/VBN', 'impressed/VBN', 'emerging/VBG', 'enter/VB', 'keeping/VBG', 'combine/VB', 'filed/VBN', 'begun/VBN', 'operating/VBG', 'selling/VBG', 'surrounding/VBG', 'reported/VBD', 'investigating/VBG', 'rejected/VBN', 'knew/VBD', 'considering/VBG', 'exercising/VBG', 'buy/VB', 'saying/VBG', 'fined/VBN', 'paid/VBD', 'beating/VBG', 'got/VBD', 'delighted/VBN', 'got/VBN', 'happened/VBN', 'want/VB', 'admitted/VBN', 'love/VB', 'succeed/VB', 'switch/VB', 'wanted/VBN', 'follow/VB', 'pushing/VBG', 'understand/VB', 'move/VB', 'blame/VB', 'set/VB', 'called/VBD', 'expressed/VBN', 'linked/VBN', 'come/VB', 'hit/VB', 'happen/VB', 'stripped/VBN', 'claims/VBZ', 'enhance/VB', 'Asked/VBN', 'caught/VBN', 'denies/VBZ', 'doping/VBG', 'continued/VBD', 'tipped/VBD', 'named/VBN', 'run/VB', 'retired/VBD', 'regain/VB', 'changed/VBN', 'ranked/VBD', 'visit/VB', 'played/VBN', 'winning/VBG', 'witnessed/VBD', 'love/VBP', 'worked/VBN', 'returning/VBG', 'levelled/VBD', 'looming/VBG', 'written/VBN', 'coming/VBG', 'letting/VBG', 'determined/VBN', 'pledged/VBN', 'walking/VBG', 'proceed/VB', 'shoot/VB', 'seeks/VBZ', 'oppose/VB', 'destroy/VB', 'declared/VBN', 'withdraw/VB', 'move/VBP', 'refusing/VBG', 'shift/VB', 'hold/VB', 'stands/VBZ', 'achieve/VB', 'decided/VBN', 'target/VB', 'drawn/VBN', 'suggests/VBZ', 'holding/VBG', 'sustain/VB', 'played/VBD', 'click/VB', 'rely/VB', 'play/VBP', 'announce/VB', 'starting/VBG', 'sustained/VBN', 'centre/VBP', 'received/VBN', 'relied/VBN', 'tries/VBZ', 'pick/VB', 'caused/VBD', 'expects/VBZ', 'work/VBP', 'pulled/VBD', 'dropped/VBN', 'established/VBN', 'unveiled/VBN', 'promising/VBG', 'launch/VB', 'met/VBN', 'accept/VB', 'launching/VBG', 'donated/VBN', 'continued/VBN', 'planned/VBN', 'happened/VBD', 'asked/VBD', 'cancel/VB', 'change/VB', 'sold/VBD', 'goes/VBZ', 'turned/VBN', 'depends/VBZ', 'continuing/VBG', 'encouraging/VBG', 'support/VB', 'Given/VBN', 'contains/VBZ', 'proved/VBN', 'attending/VBG', 'generated/VBN', 'forced/VBN', 'attracted/VBN', 'attend/VB', 'questioned/VBD', 'thought/VBD', 'spoke/VBD', 'encouraged/VBN', 'let/VB', 'get/VBP', 'invited/VBN', 'held/VBD', 'predicts/VBZ', 'grown/VBN', 'runs/VBZ', 'ruling/VBG', 'ran/VBD', 'linked/VBD', 'ordered/VBN', 'allowed/VBD', 'submit/VB', 'cleared/VBN', 'build/VB', 'associated/VBN', 'host/VB', 'visiting/VBG', 'performing/VBG', 'ruled/VBD', 'cleared/VBD', 'occurred/VBD', 'posted/VBD', 'stated/VBD', 'published/VBN', 'accepted/VBN', 'alleged/VBN', 'traded/VBN', 'copyrighted/VBN', 'distributing/VBG', 'identified/VBN', 'urged/VBN', 'recognised/VBN', 'announced/VBD', 'bringing/VBG', 'promote/VB', 'recycling/VBG', 'needed/VBN', 'growing/VBG', 'predicted/VBN', 'reach/VB', 'send/VB', 'meet/VB', 'replaced/VBN', 'worldwide/VBP', 'own/VB', 'targeting/VBG', 'allows/VBZ', 'collected/VBN', 'moving/VBG', 'comes/VBZ', 'puts/VBZ', 'returned/VBN', 'design/VB', 'contain/VB', 'means/VBZ', 'provide/VBP', 'developing/VBG', 'unveiled/VBD', 'labelled/VBN', 'meaning/VBG', 'finding/VBG', 'suspects/VBZ', 'freed/VBN', 'Speaking/VBG', 'renew/VB', 'address/VB', 'raised/VBN', 'acknowledge/VB', 'amounted/VBD', 'apply/VB', 'warned/VBD', 'discuss/VB', 'looked/VBN', 'backed/VBD', 'opted/VBD', 'concerning/VBG', 'bring/VB', 'suspected/VBN', 'detained/VBN', 'heard/VBN', 'choose/VBP', 'created/VBD', 'include/VBP', 'increase/VB', 'known/VBN', 'defending/VBG', 'led/VBN', 'pleaded/VBN', 'hide/VB', 'arguing/VBG', 'passed/VBD', 'ordered/VBD', 'telling/VBG', 'mentioned/VBN', 'convicted/VBN', 'facing/VBG', 'emerged/VBD', 'valued/VBN', 'describes/VBZ', 'lifted/VBN', 'followed/VBD', 'thrown/VBN', 'adding/VBG', 'like/VBP', 'tackling/VBG', 'sent/VBN', 'Following/VBG', 'explain/VB', 'involved/VBD', 'landing/VBG', 'slipping/VBG', 'claim/VBP', 'defined/VBN', 'increasing/VBG', 'putting/VBG', 'walk/VB', 'attended/VBD', 'travelling/VBG', 'developed/VBD', 'take/VBP', 'gathered/VBD', 'fulfil/VB', 'offer/VB', 'draw/VB', 'speaking/VBG', 'say/VB', 'drop/VB', 'beaten/VBN', 'kept/VBN', 'finish/VB', 'include/VB', 'inspired/VBN', 'need/VBP', 'captain/VBP', 'feature/VB', 'raised/VBD', 'campaigning/VBG', 'judged/VBN', 'spends/VBZ', 'spent/VBD', 'formed/VBD', 'restore/VB', 'threatening/VBG', 'set/VBP', 'feared/VBD', 'hope/VBP', 'marry/VB', 'fix/VB', 'argued/VBD', 'watch/VB', 'left/VBN', 'televised/VBN', 'refuse/VB', 'reported/VBN', 'obliged/VBN', 'finished/VBN', 'worry/VB', 'gaming/VBG', 'topping/VBG', 'open/VB', 'Released/VBN', 'expand/VB', 'scrapped/VBN', 'look/VBP', 'wait/VB', 'featuring/VBG', 'see/VBP', 'eating/VBG', 'expect/VBP', 'seek/VBP', 'reducing/VBG', 'fund/VB', 'match/VB', 'welcomed/VBD', 'calling/VBG', 'sends/VBZ', 'fails/VBZ', 'blocking/VBG', 'threatened/VBD', 'failed/VBN', 'serve/VB', 'earning/VBG', 'block/VB', 'view/VB', 'speak/VB', 'handle/VBP', 'meeting/VBG', 'affected/VBN', 'organised/VBN', 'mentioned/VBD', 'pay/VBP', 'show/VBP', 'fallen/VBN', 'leaves/VBZ', 'showing/VBG', 'send/VBP', 'hitting/VBG', 'releases/VBZ', 'warned/VBN', 'update/VB', 'attack/VB', 'affect/VBP', 'updated/VBN', 'exploit/VB', 'rule/VB', 'follow/VBP', 'leave/VBP', 'criticised/VBN', 'judge/VB', 'suggest/VB', 'battling/VBG', 'sign/VBP', 'add/VB', 'governing/VBG', 'preventing/VBG', 'prosper/VB', 'trigger/VB', 'reap/VB', 'edged/VBD', 'remained/VBN', 'noted/VBD', 'risen/VBN', 'climbed/VBD', 'prepare/VB', 'slow/VB', 'star/VB', 'stepping/VBG', 'replacing/VBG', 'opens/VBZ', 'begin/VB', 'joined/VBN', 'estimated/VBN', 'listed/VBD', 'surprised/VBN', 'call/VB', 'left/VBD', 'found/VBD', 'decided/VBD', 'excited/VBN', 'secure/VB', 'dies/VBZ', 'died/VBN', 'aged/VBN', 'write/VB', 'died/VBD', 'joined/VBD', 'worked/VBD', 'producing/VBG', 'moved/VBN', 'covering/VBG', 'completed/VBN', 'cost/VB', 'commit/VB', 'selecting/VBG', 'delayed/VBN', 'thinking/VBG', 'try/VB', 'ensuring/VBG', 'urging/VBG', 'remember/VB', 'choosing/VBG', 'presented/VBN', 'proved/VBD', 'losing/VBG', 'top/VB', 'admitted/VBD', 'Being/VBG', 'defeated/VBD', 'launches/VBZ', 'lose/VB', 'sharing/VBG', 'increased/VBN', 'compared/VBN', 'predict/VBP', 'expect/VB', 'reform/VB', 'back/VB', 'introduce/VB', 'revealed/VBD', 'tackle/VB', 'opposed/VBN', 'flawed/VBN', 'insisted/VBD', 'account/VB', 'press/VB', 'deliver/VB', 'pledged/VBD', 'assess/VB', 'protected/VBN', 'solve/VB', 'stopped/VBN', 'pays/VBZ', 'commissioned/VBN', 'stars/VBZ', 'appeared/VBD', 'described/VBD', 'receiving/VBG', 'requiring/VBG', 'computing/VBG', 'rent/VB', 'costs/VBZ', 'maintained/VBN', 'persuade/VB', 'adopt/VB', 'processed/VBN', 'existing/VBG', 'test/VB', 'argues/VBZ', 'denied/VBN', 'preparing/VBG', 'oust/VB', 'suggest/VBP', 'believed/VBN', 'comment/VB', 'exposed/VBD', 'causing/VBG', 'perform/VB', 'performed/VBD', 'recorded/VBD', 'closed/VBD', 'squeeze/VB', 'removed/VBD', 'disappointed/VBN', 'provided/VBN', 'upset/VB', 'fined/VBD', 'included/VBD', 'watched/VBN', 'put/VBD', 'unveils/VBZ', 'plans/VBZ', 'cut/VB', 'filled/VBN', 'attacked/VBD', 'cutting/VBG', 'turn/VB', 'talk/VB', 'controlling/VBG', 'seeking/VBG', 'wanting/VBG', 'join/VB', 'breaking/VBG', 'worried/VBN', 'receive/VBP', 'put/VBN', 'intended/VBD', 'centre/VB', 'result/VB', 'awaiting/VBG', 'mean/VB', 'required/VBN', 'poised/VBN', 'push/VB', 'managed/VBN', 'confirmed/VBD', 'fit/VB', 'dedicated/VBN', 'clocked/VBD', 'achieved/VBN', 'improve/VB', 'help/VBP', 'doing/VBG', 'sees/VBZ', 'understand/VBP', 'gives/VBZ', 'installed/VBN', 'gets/VBZ', 'welcomed/VBN', 'appeal/VB', 'paying/VBG', 'buying/VBG', 'websites/VBZ', 'struggled/VBD', 'cope/VB', 'gathered/VBN', 'suffered/VBD', 'install/VB', 'changed/VBD', 'sell/VB', 'aimed/VBN', 'release/VB', 'increases/VBZ', 'appealed/VBD', 'starts/VBZ', 'acquired/VBD', 'led/VBD', 'fear/VBP', 'boost/VB', 'drive/VB', 'described/VBN', 'cautioned/VBD', 'mobile/VB', 'marketing/VBG', 'confirm/VB', 'tested/VBN', 'challenge/VB', 'run/VBP', 'maintained/VBD', 'gave/VBD', 'wing/VBG', 'kicked/VBD', 'extended/VBD', 'scored/VBD', 'come/VBP', 'carried/VBN', 'conceded/VBD', 'touch/VB', 'allowed/VBN', 'deserved/VBD', 'sent/VBD', 'missed/VBD', 'grabbed/VBD', 'delivered/VBD', 'looked/VBD', 'combined/VBN', 'represent/VBP', 'reached/VBD', 'reduce/VB', 'elected/VBN', 'pursued/VBN', 'sell/VBP', 'keen/VBP', 'shows/VBZ', 'fits/VBZ', 'use/VBP', 'helps/VBZ', 'reflects/VBZ', 'dubbed/VBN', 'encouraged/VBD', 'passed/VBN', 'tends/VBZ', 'seemed/VBD', 'entered/VBN', 'clinched/VBD', 'defend/VB', 'beat/VB', 'stormed/VBD', 'finished/VBD', 'fought/VBN', 'failed/VBD', 'dropped/VBD', 'finishing/VBG', 'recorded/VBN', 'struggling/VBG', 'surging/VBG', 'portray/VB', 'referring/VBG', 'sentenced/VBN', 'appearing/VBG', 'insisted/VBN', 'soaring/VBG', 'appear/VBP', 'cut/VBD', 'insist/VBP', 'built/VBN', 'control/VB', 'involved/VBN', 'received/VBD', 'recognise/VBP', 'reflect/VBP', 'Commenting/VBG', 'wins/VBZ', 'transfer/VB', 'quoted/VBN', 'afford/VB', 'remain/VB', 'criticised/VBD', 'affect/VB', 'recruit/VB', 'quoted/VBD', 'increased/VBD', 'stressed/VBD', 'employed/VBN', 'reacted/VBD', 'posed/VBN', 'lied/VBD', 'lying/VBG', 'offered/VBD', 'lie/VB', 'predicted/VBD', 'walked/VBD', 'live/VB', 'reaching/VBG', 'attacking/VBG', 'refused/VBD', 'enjoyed/VBD', 'begins/VBZ', 'accelerating/VBG', 'stay/VB', 'exploited/VBN', 'resolved/VBN', 'handed/VBN', 'close/VB', 'blaming/VBG', 'started/VBN', 'accused/VBN', 'distribute/VB', 'includes/VBZ', 'uses/VBZ', 'embrace/VB', 'aims/VBZ', 'locked/VBN', 'downloaded/VBN', 'rushed/VBN', 'lure/VB', 'shared/VBN', 'discover/VB', 'ignore/VB', 'sign/VB', 'Looking/VBG', 'protect/VB', 'granted/VBN', 'struck/VBN', 'aged/VBD', 'combat/VB', 'carried/VBD', 'voted/VBD', 'focus/VB', 'training/VBG', 'ensures/VBZ', 'succeeded/VBN', 'agreed/VBN', 'tell/VB', 'stretching/VBG', 'stepped/VBD', 'invest/VB', 'withdrew/VBD', 'stage/VB', 'kicking/VBG', 'convert/VB', 'missed/VBN', 'hurts/VBZ', 'score/VB', 'investigated/VBN', 'signed/VBN', 'accusing/VBG', 'voting/VBG', 'Using/VBG', 'Labour/VB', 'tells/VBZ', 'engaging/VBG', 'targeted/VBN', 'calls/VBZ', 'complain/VB', 'examining/VBG', 'examine/VB', 'warning/VBG', 'issue/VB', 'ask/VBP', 'contacted/VBN', 'declined/VBN', 'meant/VBN', 'intended/VBN', 'claimed/VBN', 'touched/VBD', 'let/VBP', 'scooped/VBD', 'stopping/VBG', 'pointed/VBD', 'entering/VBG', 'prevented/VBN', 'sitting/VBG', 'treated/VBN', 'acting/VBG', 'prevent/VB', 'justified/VBN', 'seek/VB', 'Responding/VBG', 'deny/VB', 'plays/VBZ', 'form/VB', 'hoped/VBD', 'defended/VBN', 'retiring/VBG', 'reflected/VBN', 'resume/VB', 'reveal/VB', 'slipped/VBD', 'followed/VBN', 'branded/VBN', 'saving/VBG', 'fall/VB', 'policing/VBG', 'replace/VB', 'avoid/VB', 'insists/VBZ', 'building/VBG', 'honour/VB', 'dominated/VBN', 'founded/VBN', 'put/VBP', 'features/VBZ', 'earned/VBD', 'directing/VBG', 'programme/VBZ', 'listen/VB', 'fighting/VBG', 'resolve/VB', 'met/VBD', 'contained/VBD', 'creates/VBZ', 'blamed/VBD', 'serving/VBG', 'served/VBD', 'deciding/VBG', 'imposed/VBN', 'fear/VB', 'threaten/VB', 'coach/VBP', 'show/VB', 'react/VB', 'support/VBP', 'ranked/VBN', 'qualify/VB', 'matters/VBZ', 'sought/VBN', 'face/VBP', 'killed/VBN', 'cover/VB', 'caused/VBN', 'pass/VB', 'buy/VBP', 'killed/VBD', 'suffer/VB', 'covered/VBN', 'overcome/VBN', 'generate/VB', 'amplify/VB', 'appear/VB', 'Writing/VBG', 'prefer/VB', 'produced/VBN', 'tuned/VBN', 'carry/VBP', 'process/VB', 'prepared/VBN', 'recovered/VBD', 'reverse/VB', 'learning/VBG', 'emerge/VB', 'threw/VBD', 'writing/VBG', 'sealed/VBN', 'imported/VBN', 'strike/VB', 'signed/VBD', 'lower/VB', 'fixed/VBN', 'shut/VB', 'insist/VB', 'secured/VBN', 'revised/VBN', 'wrote/VBD', 'contact/VB', 'reduced/VBN', 'viewing/VBG', 'online/VBP', 'turning/VBG', 'doubling/VBG', 'fuelled/VBN', 'adapt/VB', 'retain/VB', 'browse/VB', 'changing/VBG', 'challenging/VBG', 'spending/VBG', 'sued/VBN', 'collapsed/VBD', 'earn/VB', 'planning/VBG', 'exist/VBP', 'allowing/VBG', 'trailed/VBN', 'ratified/VBN', 'gather/VB', 'hosted/VBD', 'handle/VB', 'listing/VBG', 'choose/VB', 'opened/VBD', 'offers/VBZ', 'engaged/VBN', 'signing/VBG', 'booming/VBG', 'transformed/VBN', 'communicate/VBP', 'manage/VB', 'arrived/VBN', 'incorporated/VBN', 'enable/VB', 'brings/VBZ', 'enabling/VBG', 'Shares/VBZ', 'mounting/VBG', 'failing/VBG', 'hoped/VBN', 'involving/VBG', 'appointed/VBN', 'drawing/VBG', 'deprived/VBN', 'raising/VBG', 'seem/VB', 'disadvantaged/VBN', 'blamed/VBN', 'offset/VB', 'introduced/VBD', 'decline/VB', 'forecast/VBN', 'anticipated/VBN', 'cut/VBN', 'promises/VBZ', 'related/VBN', 'maintaining/VBG', 'swapping/VBG', 'casting/VBG', 'owns/VBZ', 'forced/VBD', 'sued/VBD', 'arrived/VBD', 'spark/VB', 'Is/VBZ', 'asks/VBZ', 'funded/VBN', 'engage/VB', 'adds/VBZ', 'setting/VBG', 'lets/VBZ', 'leading/VBG', 'strengthened/VBD', 'copy/VB', 'resulting/VBG', 'applied/VBN', 'relying/VBG', 'stepped/VBN', 'works/VBZ', 'find/VBP', 'pointed/VBN', 'require/VB', 'demonstrates/VBZ', 'selected/VBN', 'opened/VBN', 'vowed/VBD', 'revealed/VBN', 'issuing/VBG', 'aiming/VBG', 'favourites/VBZ', 'matched/VBN', 'maintains/VBZ', 'write/VBP', 'concentrating/VBG', 'rebuilding/VBG', 'fall/VBP', 'jumped/VBD', 'prompted/VBD', 'launched/VBD', 'overtaken/VBN', 'scored/VBN', 'regarded/VBN', 'inspired/VBD', 'released/VBD', 'broke/VBD', 'cost/VBP', 'conducted/VBN', 'sending/VBG', 'explains/VBZ', 'phishing/VBG', 'downloading/VBG', 'hidden/VBN', 'responded/VBD', 'sets/VBZ', 'chasing/VBG', 'contest/VB', 'resigned/VBN', 'topped/VBD', 'benefit/VB', 'shake/VB', 'criticising/VBG', 'halve/VB', 'echoed/VBD', 'seems/VBZ', 'announcing/VBG', 'representing/VBG', 'bears/VBZ', 'affected/VBD', 'force/VB', 'miss/VB', 'stand/VB', 'aim/VB', 'withdrawn/VBN', 'conclude/VB', 'accept/VBP', 'lived/VBD', 'returned/VBD', 'represented/VBN', 'fill/VB', 'talk/VBP', 'complained/VBD', 'reflected/VBD', 'surpassed/VBN', 'showcasing/VBG', 'embarrassing/VBG', 'charged/VBN', 'injured/VBN', 'sparked/VBN', 'throwing/VBG', 'employs/VBZ', 'formed/VBN', 'collect/VB', 'contained/VBN', 'circulating/VBG', 'confuse/VB', 'donate/VB', 'registered/VBN', 'hosting/VBG', 'shut/VBD', 'accompanied/VBN', 'carries/VBZ', 'spread/VB', 'screen/VB', 'discussing/VBG', 'backing/VBG', 'generating/VBG', 'closing/VBG', 'strengthen/VB', 'added/VBN', 'meets/VBZ', 'assist/VB', 'adopted/VBN', 'believed/VBD', 'married/VBN', 'realised/VBD', 'ending/VBG', 'battled/VBD', 'trim/VB', 'appeared/VBN', 'limit/VB', 'earmarked/VBN', 'frustrated/VBN', 'read/VBN', 'expressed/VBD', 'produce/VBP', 'forgot/VBD', 'hearing/VBG', 'represented/VBD', 'resign/VB', 'delivered/VBN', 'lifted/VBD', 'apologised/VBN', 'wear/VB', 'testing/VBG', 'represent/VB', 'covers/VBZ', 'download/VB', 'watch/VBP', 'educating/VBG', 'enjoy/VB', 'billed/VBN', 'broadcast/VBN', 'evening/VBG', 'learn/VB', 'dip/VB', 'persuading/VBG', 'satisfy/VB', 'stand/VBP', 'leaving/VBG', 'monitoring/VBG', 'challenges/VBZ', 'agree/VB', 'settle/VB', 'progress/VB', 'branded/VBD', 'answer/VB', 'repeated/VBN', 'recommended/VBD', 'feel/VB', 'accepted/VBD', 'drink/VB', 'promoting/VBG', 'informed/VBN', 'bound/VBN', 'apologise/VB', 'disappointing/VBG', 'contributed/VBN', 'supposed/VBN', 'lived/VBN', 'transferred/VBN', 'bid/VB', 'suing/VBG', 'threatened/VBN', 'sue/VB', 'questioned/VBN', 'ignored/VBN', 'punished/VBN', 'laid/VBN', 'finance/VB', 'faced/VBN', 'recall/VB', 'driving/VBG', 'balance/VB', 'abandoned/VBN', 'matter/VB', 'responding/VBG', 'argue/VB', 'forget/VB', 'investigate/VB', 'care/VB', 'pending/VBG', 'Having/VBG', 'rallied/VBD', 'recording/VBG', 'banning/VBG', 'plan/VBP', 'identify/VB', 'indicated/VBD', 'scoring/VBG', 'replied/VBD', 'replaced/VBD', 'grab/VB', 'catch/VB', 'sporting/VBG', 'doubled/VBD', 'Getting/VBG', 'understanding/VBG', 'pushed/VBN', 'messaging/VBG', 'broadcast/VB', 'rolling/VBG', 'feeling/VBG', 'felt/VBP', 'striking/VBG', 'focused/VBN', 'operates/VBZ', 'poured/VBD', 'revive/VB', 'listed/VBN', 'proposes/VBZ', 'impose/VB', 'tagging/VBG', 'detain/VB', 'debated/VBN', 'rush/VB', 'fail/VB', 'scared/VBN', 'limped/VBD', 'expecting/VBG', 'Playing/VBG', 'placed/VBN', 'fired/VBN', 'saved/VBN', 'manufacturing/VBG', 'indicates/VBZ', 'slowing/VBG', 'compiled/VBN', 'eased/VBN', 'eased/VBD', 'infected/VBN', 'spread/VBN', 'prefer/VBP', 'managed/VBD', 'secured/VBD', 'dating/VBG', 'sacked/VBN', 'train/VB', 'totalling/VBG', 'adjusted/VBN', 'worrying/VBG', 'missing/VBG', 'v/VBZ', 'pose/VB', 'Winning/VBG', 'thanked/VBD', 'collecting/VBG', 'boosted/VBN', 'read/VBD', 'thank/VB', 'apologised/VBD', 'benefiting/VBG', 'damage/VB', 'recommended/VBN', 'refuse/VBP', 'hinted/VBD', 'questioning/VBG', 'cost/VBN', 'clean/VB', 'deserve/VBP', 'award/VB', 'struggle/VB', 'remember/VBP', 'employ/VB', 'earn/VBP', 'carrying/VBG', 'lose/VBP', 'exposed/VBN', 'discussed/VBN', 'live/VBP', 'keeps/VBZ', 'cause/VB', 'rises/VBZ', 'maintain/VB', 'guaranteed/VBN', 'suffer/VBP', 'regarding/VBG', 'favour/VBP', 'detect/VB', 'emerged/VBN', 'impress/VB', 'requested/VBN', 'posted/VBN', 'blocked/VBN', 'struck/VBD', 'stood/VBD', 'Used/VBD', 'relating/VBG', 'protect/VBP', 'spot/VB', 'become/VBP', 'online/VB', 'feels/VBZ', 'reflect/VB', 'confirming/VBG', 'groundbreaking/VBG', 'hold/VBP', 'knocking/VBG', 'determined/VBD', 'attracting/VBG', 'rejected/VBD', 'reach/VBP', 'Have/VBP', 'marked/VBD', 'flying/VBG', 'voiced/VBD', 'joining/VBG', 'advised/VBN', 'concentrate/VB', 'presented/VBD', 'scrap/VB', 'handing/VBG', 'awarded/VBD', 'prompted/VBN', 'issued/VBN', 'report/VBP', 'dominates/VBZ', 'double/VB', 'passing/VBG', 'attached/VBN', 'extended/VBN', 'plan/VB', 'borrowing/VBG', 'suggesting/VBG', 'convinced/VBN', 'realise/VB', 'complete/VB', 'defended/VBD', 'suspended/VBN', 'landed/VBD', 'chairs/VBZ', 'agreeing/VBG', 'free/VB', 'holds/VBZ', 'prove/VB', 'demanded/VBD', 'act/VBP', 'swap/VB', 'involve/VBP', 'exploring/VBG', 'protecting/VBG', 'abused/VBN', 'denying/VBG', 'Let/VB', 'voted/VBN', 'forgotten/VBN', 'stolen/VBN', 'stayed/VBN', 'discovered/VBN', 'creating/VBG', 'practise/VB', 'manufactured/VBN', 'inherit/VB', 'felt/VBN', 'step/VB', 'fought/VBD', 'dropping/VBG', 'raced/VBD', 'contribute/VB', 'wish/VB', 'viewed/VBN', 'fears/VBZ', 'promised/VBD', 'publish/VB', 'enjoyed/VBN', 'depend/VB', 'pressing/VBG', 'rejects/VBZ', 'declining/VBG', 'picking/VBG', 'air/VB', 'dying/VBG', 'priced/VBN', 'sounds/VBZ', 'challenged/VBD', 'quit/VBD', 'spreading/VBG', 'call/VBP', 'express/VB', 'criticise/VB', 'spend/VBP', 'planned/VBD', 'outlined/VBD', 'present/VB', 'drew/VBD', 'pursue/VB', 'directed/VBD', 'lasted/VBD', 'head/VB', 'laid/VBD', 'recalled/VBN', 'saved/VBD', 'kick/VB', 'obtained/VBN', 'covered/VBD', 'sliding/VBG', 'speculated/VBD', 'reflecting/VBG', 'hit/VBP', 'blew/VBD', 'travel/VB', 'v/VBP', 'attacked/VBN', 'reviewed/VBN', 'dealing/VBG', 'supports/VBZ', 'investing/VBG', 'enables/VBZ', 'demonstrated/VBD', 'jailed/VBN', 'deserve/VB', 'introducing/VBG', 'proposed/VBD', 'give/VBP', 'avoiding/VBG', 'binding/VBG', 'defeat/VB', 'retire/VB', 'point/VB', 'quit/VB', 'rest/VB', 'prosecuted/VBN', 'consulted/VBN', 'regulate/VB', 'intends/VBZ', 'fail/VBP', 'demonstrated/VBN', 'pursuing/VBG', 'affects/VBZ', 'guarantee/VB', 'funding/VBG', 'allow/VBP', 'connected/VBN', 'transmitted/VBN', 'report/VB', 'sites/VBZ', 'scrapping/VBG', 'describing/VBG', 'enforce/VB', 'chase/VB', 'stabbed/VBN', 'shot/VBN', 'hurt/VBN', 'tackled/VBN', 'celebrating/VBG', 'reject/VB', 'smoking/VBG', 'reviewing/VBG', 'exceed/VB', 'gained/VBN', 'triggered/VBD', 'estimates/VBZ', 'tend/VBP', 'die/VB', 'built/VBD', 'reassure/VB', 'charging/VBG', 'labelled/VBD', 'dominate/VBP', 'achieved/VBD', 'reports/VBZ', 'broadband/VB', 'provides/VBZ', 'sells/VBZ', 'provided/VBD', 'imposing/VBG', 'exclude/VB', 'beginning/VBG', 'agree/VBP', 'declined/VBD', 'ashamed/VBN', 'knowing/VBG', 'argue/VBP', 'jumped/VBN', 'invite/VB', 'operate/VB', 'condemned/VBD', 'approve/VB', 'establishing/VBG', 'lift/VB', 'dominate/VB', 'endured/VBD', 'motivated/VBN', 'killing/VBG', 'broadcasting/VBG', 'postponed/VBN', 'refused/VBN', 'dipped/VBD', 'delivering/VBG', 'enjoying/VBG', 'shocked/VBD', 'cast/VBD', 'beat/VBP', 'ended/VBN', 'exciting/VBG', 'review/VB', 'shocked/VBN', 'debate/VB', 'supported/VBN', 'steal/VB', 'handling/VBG', 'counted/VBN', 'drove/VBD', 'seize/VB', 'expanding/VBG', 'hear/VBP', 'warns/VBZ', 'divided/VBN', 'declared/VBD', 'record/VB', 'slopping/VBG', 'accelerated/VBN', 'settled/VBN', 'dealt/VBN', 'chose/VBD', 'suspect/VBP', 'resulted/VBN', 'define/VB', 'remote/VB', 'worry/VBP', 'paved/VBD', 'Are/VBP', 'reveals/VBZ', 'wish/VBP', 'curb/VB', 'damaging/VBG', 'finds/VBZ', 'Based/VBN', 'doubled/VBN', 'collected/VBD', 'breached/VBN', 'name/VB', 'miss/VBP', 'starred/VBD', 'honoured/VBN', 'halved/VBN', 'forecast/VBD', 'approached/VBN', 'combines/VBZ', 'own/VBP', 'overturned/VBD', 'issued/VBD', 'opting/VBG', 'hurt/VB', 'cancelled/VBN', 'ease/VB', 'headed/VBN', 'regained/VBD', 'topped/VBN', 'disappear/VB', 'realise/VBP', 'recruited/VBN', 'tracking/VBG', 'survived/VBD', 'knock/VB', 'retired/VBN', 'promotes/VBZ', 'stick/VB', 'doubt/VB', 'start/VBP', 'Defending/VBG', 'attended/VBN', 'abolish/VB', 'squeezed/VBN', 'respected/VBN', 'backs/VBZ', 'surged/VBD', 'straight/VBD', 'estimate/VBP', 'highlighted/VBN', 'agrees/VBZ', 'implemented/VBN', 'defer/VB', 'named/VBD', 'purchased/VBN', 'advise/VB', 'register/VB', 'fit/VBN', 'impact/VB', 'sticking/VBG', 'points/VBZ', 'surprised/VBD', 'drafted/VBN', 'communicate/VB', 'committing/VBG', 'offset/VBN', 'unveil/VB', 'involve/VB', 'Downing/VBG', 'releasing/VBG', 'kill/VB', 'split/VBN', 'served/VBN', 'requires/VBZ', 'damaged/VBN', 'struggled/VBN', 'lacking/VBG', 'committed/VBD', 'qualifying/VBG', 'staged/VBD', 'headed/VBD', 'prepared/VBD', 'cited/VBD', 'understood/VBD', 'figure/VB', 'turn/VBP', 'swapped/VBN', 'co-ordinate/VB', 'avoided/VBN', 'mean/VBP', 'exceeds/VBZ', 'clashed/VBD', 'considered/VBD', 'declaring/VBG', 'copied/VBN', 'abandoning/VBG', 'police/VB', 'suspend/VB', 'sack/VB', 'relax/VB', 'listening/VBG', 'dismissed/VBD', 'manoeuvring/VBG', 'acquire/VB', 'Finding/VBG', 'profit/VB', 'endorsed/VBN', 'centred/VBN', 'outsourcing/VBG', 'printed/VBN', 'sort/VB', 'convincing/VBG', 'harm/VB', 'spotted/VBN', 'processes/VBZ', 'supply/VB', 'Meet/VB', 'indicted/VBN', 'deserves/VBZ', 'spoken/VBN', 'understands/VBZ', 'determine/VB', 'revealing/VBG', 'reduced/VBD', 'seal/VB', 'prompting/VBG', 'Asked/VBD', 'tempted/VBN', 'opposed/VBD', 'comply/VB', 'handed/VBD', 'fly/VB', 'tell/VBP', 'filling/VBG', 'account/VBP', 'Leading/VBG', 'racing/VBG', 'marketed/VBN', 'trust/VB', 'conducted/VBD', 'land/VB', 'indexing/VBG', 'monitor/VB', 'clamp/VB', 'consider/VBP', 'arrested/VBN', 'Know/VBP', 'surveyed/VBN', 'booked/VBN', 'sit/VB', 'singing/VBG', 'experience/VB', 'discovered/VBD', 'toured/VBD', 'visited/VBD', 'compensate/VB', 'focusing/VBG', 'citing/VBG', 'faking/VBG', 'controls/VBZ', 'rallying/VBG', 'counter/VB', 'intend/VB', 'participate/VB', 'interact/VB', 'radio/VB', 'opposes/VBZ', 'teach/VB', 'educated/VBN', 'shooting/VBG', 'forcing/VBG', 'shared/VBD', 'select/VB', 'check/VB', 'assured/VBN', 'aim/VBP', 'demanding/VBG', 'hunting/VBG', 'imagine/VB', 'disclose/VB', 'exist/VB', 'undermine/VB', 'indicating/VBG', 'refuses/VBZ', 'lay/VB', 'protects/VBZ', 'gather/VBP', 'demonstrate/VB', 'ignored/VBD', 'influenced/VBN', 'learned/VBN', 'store/VB', 'acknowledges/VBZ', 'obtain/VB', 'writes/VBZ', 'joked/VBD', 'squabbling/VBG', 'beats/VBZ', 'embracing/VBG', 'featured/VBN', 'distracted/VBN', 'snapped/VBN', 'hope/VB', 'wasted/VBD', 'intend/VBP', 'steering/VBG', 'cool/VB', 'suppose/VBP', 'gearing/VBG', 'costed/VBN', 'describe/VB', 'deport/VB', 'add/VBP', 'wonder/VBP', 'demand/VB', 'consulting/VBG', 'rapper/VBP', 'sidelined/VBN', 'demands/VBZ', 'appreciate/VB', 'shortlisted/VBN', 'criticises/VBZ', 'podcasting/VBG', 'slowed/VBN', 'gathering/VBG']\n",
            "Tagged Vocabulary Length:  2000\n",
            "['deadly/JJ', 'economic/JJ', 'fresh/JJ', 'last/JJ', 'sharp/JJ', 'overall/JJ', 'vast/JJ', 'proud/JJ', 'strong/JJ', 'remarkable/JJ', 'lengthy/JJ', 'private/JJ', 'deep/JJ', 'prolonged/JJ', 'least/JJS', 'frozen/JJ', 'massive/JJ', 'angry/JJ', 'ordinary/JJ', 'less/JJR', 'subsequent/JJ', 'general/JJ', 'direct/JJ', 'fortunate/JJ', 'other/JJ', 'many/JJ', 'gold/JJ', 'nominal/JJ', 'easy/JJ', 'further/JJ', 'difficult/JJ', 'expensive/JJ', 'current/JJ', 'more/JJR', 'Real/JJ', 'enormous/JJ', 'international/JJ', 'little/JJ', 'domestic/JJ', 'bad/JJ', 'Few/JJ', 'safe/JJ', 'good/JJ', 'most/JJS', 'legal/JJ', 'high/JJ', 'local/JJ', 'much/JJ', 'Russian/JJ', 'due/JJ', 'forced/JJ', 'key/JJ', 'main/JJ', 'different/JJ', 'German/JJ', 'state-owned/JJ', 'optimistic/JJ', 'small/JJ', 'bullish/JJ', 'real/JJ', 'political/JJ', 'ex-Yukos/JJ', 'musical/JJ', 'graduate/JJ', 'coloured/JJ', 'upper/JJ', 'minute/JJ', 'mathematical/JJ', 'individual/JJ', 'own/JJ', 'colour/JJ', 'prototype/JJ', 'exact/JJ', 'lower/JJR', 'useful/JJ', 'random/JJ', 'red/JJ', 'available/JJ', 'several/JJ', 'viable/JJ', 'Japanese/JJ', 'annual/JJ', 'usual/JJ', 'corporate/JJ', 'short/JJ', 'sixth/JJ', 'straight/JJ', 'brief/JJ', 'long/JJ', 'cautious/JJ', 'dependent/JJ', 'recent/JJ', 'third/JJ', 'first/JJ', 'second/JJ', 'weaker/JJR', 'chief/JJ', 'temporary/JJ', 'such/JJ', 'public/JJ', 'fellow/JJ', 'thrilling/JJ', 'British/JJ', 'award-winning/JJ', 'album/JJ', 'best/JJS', 'eponymous/JJ', 'latest/JJS', 'single/JJ', 'top/JJ', '70th/JJ', 're-released/JJ', 'former/JJ', 'self-titled/JJ', 'Last/JJ', 'mild/JJ', 'long-running/JJ', 'American/JJ', 'award/JJ', 'hopeful/JJ', 'popular/JJ', 'weekly/JJ', 'responsible/JJ', 'drama/JJ', 'executive/JJ', 'upcoming/JJ', 'simple/JJ', 'new/JJ', 'Labour/JJ', 'financial/JJ', 'black/JJ', 'hard/JJ', 'net/JJ', 'hard-working/JJ', 'inevitable/JJ', 'only/JJ', 'magical/JJ', 'thin/JJ', 'next/JJ', 'better/JJR', 'prime/JJ', 'cleaner/JJR', 'clear/JJ', 'higher/JJR', 'ready/JJ', 'US/JJ', 'major/JJ', 'largest/JJS', 'original/JJ', 'joint/JJ', 'ongoing/JJ', 'slow/JJ', 'whole/JJ', 'unsuccessful/JJ', 'guilty/JJ', 'criminal/JJ', 'successful/JJ', 'unpaid/JJ', 'state-controlled/JJ', 'Such/JJ', 'continued/JJ', 'bankrupt/JJ', 'European/JJ', 'unfriendly/JJ', 'likely/JJ', 'overseas/JJ', 'unclear/JJ', '0-0/JJ', 'obvious/JJ', 'incredible/JJ', 'pleased/JJ', 'nice/JJ', 'video/JJ', 'same/JJ', 'free-kick/JJ', 'great/JJ', 'Little/JJ', 'numerous/JJ', 'prestigious/JJ', 'separate/JJ', 'dark/JJ', 'mainstream/JJ', 'nominee/JJ', 'Previous/JJ', 'honorary/JJ', 'US-German/JJ', 'previous/JJ', 'solid/JJ', 'weak/JJ', 'compact/JJ', 'regular/JJ', 'female/JJ', 'late/JJ', 'complex/JJ', 'interesting/JJ', 'full/JJ', 'talent/JJ', 'ultimate/JJ', 'festive/JJ', 'fourth-biggest/JJ', 'total/JJ', 'trivial/JJ', 'aggressive/JJ', 'psychological/JJ', 'free/JJ', 'UK/JJ', 'foreign/JJ', 'certain/JJ', 'respected/JJ', 'lowest/JJS', 'desktop/JJ', 'e-mail/JJ', 'similar/JJ', 'lucrative/JJ', 'bigger/JJR', 'important/JJ', 'US-based/JJ', 'critical/JJ', 'future/JJ', 'web-based/JJ', 'commercial/JJ', 'human/JJ', 'suspicious/JJ', 'French/JJ', 'giant/JJ', 'upheld/JJ', 'aware/JJ', 'costly/JJ', 'wrong/JJ', 'interested/JJ', 'sure/JJ', 'happy/JJ', 'confident/JJ', 'young/JJ', 'serious/JJ', 'willing/JJ', 'brilliant/JJ', '19-year-old/JJ', 'big/JJ', 'Brazilian/JJ', 'national/JJ', 'able/JJ', 'global/JJ', 'professional/JJ', 'Chinese/JJ', 'Irish/JJ', '1-0/JJ', 'few/JJ', 'Asian/JJ', 'welcome/JJ', 'traditional/JJ', 'ideal/JJ', 'secret/JJ', 'sensational/JJ', 'electoral/JJ', 'UKIP/JJ', 'wider/JJR', 'Many/JJ', 'greatest/JJS', 'correct/JJ', 'basic/JJ', 'entire/JJ', 'large/JJ', 'enough/JJ', 'huge/JJ', 'presidential/JJ', 'limited/JJ', 'significant/JJ', 'possible/JJ', 'decisive/JJ', 'online/JJ', 'inherent/JJ', 'lacklustre/JJ', '18-17/JJ', 'perfect/JJ', 'unbeaten/JJ', 'Celtic/JJ', 'impressive/JJ', 'scrum-half/JJ', 'efficient/JJ', 'line-up/JJ', 'knee/JJ', 'thigh/JJ', 'winger/JJR', 'natural/JJ', 'disappointing/JJ', 'fourth/JJ', 'quiet/JJ', 'poor/JJ', 'animated/JJ', 'careful/JJ', 'respectful/JJ', 'terrible/JJ', 'low/JJ', 'symbolic/JJ', 'administrative/JJ', 'promotional/JJ', 'wide/JJ', 'positive/JJ', 'busy/JJ', 'screen/JJ', 'glad/JJ', 'quicker/JJR', 'equal/JJ', 'fast/JJ', 'Norwegian/JJ', 'downloadable/JJ', 'napster.no/JJ', 'Music/JJ', 'facing/JJ', 'copyright/JJ', 'illegal/JJ', 'so-called/JJ', 'hi-tech/JJ', 'old/JJ', 'particular/JJ', 'portable/JJ', 'fastest/JJS', 'initiative/JJ', 'loyal/JJ', 'influential/JJ', 'powerful/JJ', 'additional/JJ', 'used/JJ', 'mobile/JJ', 'predicted/JJ', 'younger/JJR', 'unused/JJ', 'advanced/JJ', 'robust/JJ', 'lead/JJ', 'highest/JJS', 'electrical/JJ', 'harmful/JJ', 'common/JJ', 'biggest/JJS', 'vital/JJ', 'personal/JJ', 'digital/JJ', 'improved/JJ', 'external/JJ', 'Most/JJS', 'neat/JJ', 'unlawful/JJ', 'present/JJ', 'discriminatory/JJ', 'Spanish/JJ', 'fundamental/JJ', 'fair/JJ', 'anti-terrorism/JJ', 'incompatible/JJ', 'constitutional/JJ', 'best-selling/JJ', 'lesser/JJR', 'tough/JJ', 'internal/JJ', 'early/JJ', 'green/JJ', 'technical/JJ', 'uncomfortable/JJ', 'jail/JJ', 'official/JJ', 'intense/JJ', 'daily/JJ', 'capable/JJ', 'tech/JJ', 'technological/JJ', 'industrial/JJ', 'toughest/JJS', 'niggling/JJ', 'north/JJ', 'south/JJ', 'northern/JJ', 'hemisphere/JJ', 'Australian/JJ', 'southern/JJ', 'artistic/JJ', 'special/JJ', 'gross/JJ', 'multi-million/JJ', 'final/JJ', '21-year-old/JJ', 'wrist/JJ', 'Belgian/JJ', 'pessimistic/JJ', 'televised/JJ', 'dubious/JJ', 'incumbent/JJ', 'empty/JJ', 'acceptable/JJ', 'independent/JJ', 'third-party/JJ', 'true/JJ', 'preferable/JJ', 'hidden/JJ', 'forthcoming/JJ', 'monthly/JJ', 'multiplayer/JJ', 'accessible/JJ', 'striking/JJ', 'atmospheric/JJ', 'spiritual/JJ', 'charismatic/JJ', 'right/JJ', 'teenage/JJ', 'familiar/JJ', 'launch/JJ', 'touch/JJ', 'past/JJ', 'first-person/JJ', 'intriguing/JJ', 'playable/JJ', 'acclaimed/JJ', 'moral/JJ', 'environmental/JJ', 'sustained/JJ', 'concerned/JJ', 'practical/JJ', 'Jamaican/JJ', '35-year-old/JJ', 'senior/JJ', 'unhappy/JJ', 'friendly/JJ', 'Bulgarian/JJ', 'extra/JJ', 'quarterly/JJ', 'apparent/JJ', 'flash/JJ', 'seven-month/JJ', 'open/JJ', 'instant/JJ', 'vulnerable/JJ', 'malicious/JJ', 'install/JJ', 'unprotected/JJ', 'civil/JJ', 'planned/JJ', 'honest/JJS', 'pre-Budget/JJ', 'shadow/JJ', 'anticipated/JJ', 'leading/JJ', 'increased/JJ', 'inflationary/JJ', 'unchanged/JJ', 'theatre/JJ', 'oldest/JJS', 'undisclosed/JJ', 'nearby/JJ', 'beautiful/JJ', 'immediate/JJ', 'memorable/JJ', 'long-standing/JJ', 'satisfied/JJ', 'awful/JJ', 'actress/JJ', 'potential/JJ', 'child/JJ', 'estimated/JJ', 'innocent/JJ', 'wicked/JJ', 'eligible/JJ', 'consecutive/JJ', 'Other/JJ', '18th/JJ', 'junior/JJ', '6-2/JJ', '2-1/JJ', 'older/JJR', 'youngest/JJS', 'impressed/JJ', 'talented/JJ', 'quick/JJ', 'Earlier/JJR', 'South/JJ', 'Korean/JJ', '6-3/JJ', '7-6/JJ', '7-5/JJ', 'Canadian/JJ', 'qualifier/JJR', '4-6/JJ', '7-3/JJ', '6-7/JJ', 'Top/JJ', 'statistical/JJ', 'sluggish/JJ', 'unlikely/JJ', 'Major/JJ', 'controversial/JJ', 'compulsory/JJ', 'precise/JJ', 'live/JJ', 'unable/JJ', 'overwhelming/JJ', 'So-called/JJ', 'grid/JJ', 'idle/JJ', 'rival/JJ', 'cheaper/JJR', 'behind-the-scenes/JJ', 'central/JJ', 'back/JJ', 'Conservative/JJ', 'various/JJ', '62-year-old/JJ', 'half-time/JJ', 'specially-written/JJ', 'mellow/JJ', 'high-profile/JJ', 'tight/JJ', 'purple/JJ', 'record/JJ', 'federal/JJ', 'racist/JJ', 'genuine/JJ', 'detailed/JJ', 'workable/JJ', 'front-line/JJ', 'firm/JJ', 'essential/JJ', 'substantial/JJ', 'unfair/JJ', 'poorer/JJR', 'dangerous/JJ', 'ill/JJ', 'irresponsible/JJ', 'disgraceful/JJ', 'tie-up/JJ', 'proposed/JJ', 'crucial/JJ', 'fast-tracked/JJ', 'recognised/JJ', 'nuclear/JJ', 'underground/JJ', 'seismic/JJ', 'Linux-based/JJ', 'physical/JJ', 'interactive/JJ', 'innovative/JJ', '21st/JJ', 'understood/JJ', 'warm/JJ', 'tiny/JJ', 'low-cost/JJ', 'affordable/JJ', 'cheap/JJ', 'deputy/JJ', 'adequate/JJ', 'premium/JJ', 'larger/JJR', 'odd/JJ', 'sleek/JJ', 'flat/JJ', 'embattled/JJ', 'greater/JJR', 'high-end/JJ', 'mass-market/JJ', 'flexible/JJ', 'smaller/JJR', 'hot/JJ', 'slower/JJR', 'slowest/JJS', 'neutral/JJ', 'multiple/JJ', 'inside/JJ', 'Six/JJ', 'tremendous/JJ', 'eighth/JJ', 'fly-half/JJ', 'false/JJ', 'jobless/JJ', 'average/JJ', 'favourable/JJ', 'conservative/JJ', 'social/JJ', 'metropolitan/JJ', 'in-depth/JJ', 'convenient/JJ', 'everyday/JJ', '34-year-old/JJ', 'competitive/JJ', 'disappointed/JJ', 'record-breaking/JJ', '22-year-old/JJ', 'seventh/JJ', 'indoor/JJ', 'outstanding/JJ', 'two-time/JJ', '25-year-old/JJ', 'emphatic/JJ', 'surprised/JJ', 'unaware/JJ', 'improper/JJ', 'two-year/JJ', 'Crucial/JJ', 'super-casinos/JJ', 'Scottish/JJ', 'internet/JJ', 'stiff/JJ', 'nominated/JJ', 'harder/JJR', 'documentary/JJ', 'rare/JJ', 'profitable/JJ', 'More/JJR', 'considerable/JJ', 'unnecessary/JJ', 'tense/JJ', 'dramatic/JJ', '20-year-old/JJ', 'delighted/JJ', 'nervous/JJ', 'tie-break/JJ', 'superior/JJ', 'co-chairman/JJ', 'Tory/JJ', 'fear/JJ', 'smear/JJ', 'vacuous/JJ', 'worried/JJ', 'constructive/JJ', 'nationwide/JJ', 'three-party/JJ', 'rural/JJ', 'principal/JJ', 'touchy-feely/JJ', 'keen/JJ', 'expert/JJ', 'legitimate/JJ', 'file-sharing/JJ', 'dedicated/JJ', 'easier/JJR', 'golden/JJ', 'anti-piracy/JJ', 'hungry/JJ', \"vote'/JJ\", 'Political/JJ', 'effective/JJ', 'Older/JJR', 'over-65s/JJ', 'united/JJ', 'fantastic/JJ', 'content/JJ', 'smooth/JJ', 'new-look/JJ', 'stronger/JJR', 'frustrating/JJ', 'fine/JJ', '17-6/JJ', 'second-half/JJ', 'cold/JJ', 'Lib/JJ', 'unsolicited/JJ', 'initial/JJ', 'postal/JJ', 'large-scale/JJ', 'voter/JJ', 'disciplinary/JJ', 'anti-violence/JJ', 'offensive/JJ', 'negative/JJ', 'referee/JJ', 'non-Roma/JJ', 'racial/JJ', 'would-be/JJ', 'specific/JJ', 'unnamed/JJ', 'High/JJ', 'objectionable/JJ', 'short-term/JJ', 'ineligible/JJ', 'ironic/JJ', 'sensible/JJ', 'first-choice/JJ', 'debutant/JJ', 'fit/JJ', '50th/JJ', 'injured/JJ', 'team-mate/JJ', 'mixed/JJ', 'sorry/JJ', 'Next/JJ', 'inadequate/JJ', 'broken/JJ', 'working/JJ', 'Local/JJ', 'extreme/JJ', 'extravagant/JJ', 'operational/JJ', 'accountable/JJ', 'visible/JJ', 'minimum/JJ', 'fantasy/JJ', 'festival/JJ', 'Finnish/JJ', 'Palestinian/JJ', 'Several/JJ', 'quirky/JJ', 'sci-fi/JJ', 'religious/JJ', 'moderate/JJ', 'strategic/JJ', 'long-term/JJ', 'sensitive/JJ', 'confidential/JJ', 'stable/JJ', 'democratic/JJ', 'first-round/JJ', '8-6/JJ', '6-4/JJ', '18-year-old/JJ', '6-1/JJ', 'Indian/JJ', '15-year-old/JJ', 'appropriate/JJ', 'website/JJ', 'tedious/JJ', 'promising/JJ', 'proper/JJ', '24-year-old/JJ', 'qualified/JJ', '28-year-old/JJ', 'successive/JJ', 'outdoor/JJ', 'world-leading/JJ', 'developed/JJ', 'Swiss/JJ', 'double-digit/JJ', 'worst/JJS', 'Western/JJ', 'fifth-largest/JJ', 'tsunami-related/JJ', 'tidal/JJ', 'heavy/JJ', 'minimal/JJ', 'affected/JJ', 'Early/JJ', 'laser/JJR', 'continuous/JJ', 'optic/JJ', 'exotic/JJ', 'light-moving/JJ', 'fibre/JJ', 'narrow/JJ', 'close/JJ', 'rugby/JJ', 'surreal/JJ', 'Welsh/JJ', 'unstoppable/JJ', 'mental/JJ', 'consistent/JJ', 'infamous/JJ', 'upward/JJ', 'superb/JJ', 'regional/JJ', 'Ukrainian/JJ', 'second-largest/JJ', 'potent/JJ', 'hit/JJ', 'labour/JJ', 'wonderful/JJ', 'novel/JJ', 'three-month/JJ', 'premier/JJR', 'whisky/JJ', 'high-speed/JJ', 'web/JJ', 'spare/JJ', 'Italian/JJ', 'unidentified/JJ', 'placatory/JJ', 'coastal/JJ', 'following/JJ', 'dual/JJ', 'ambitious/JJ', 'regulatory/JJ', 'three-day/JJ', 'long-awaited/JJ', 'sole/JJ', 'retail/JJ', 'primary/JJ', 'secondary/JJ', 'wary/JJ', 'wireless/JJ', 'panda/JJ', 'precious/JJ', 'floppy/JJ', 'cultural/JJ', 'non-profit/JJ', 'clinical/JJ', 'Higher/JJR', 'richest/JJS', 'poorest/JJS', 'rich/JJ', 'educational/JJ', 'stark/JJ', 'encouraging/JJ', 'disadvantaged/JJ', 'opposite/JJ', 'worse/JJR', 'pre-tax/JJ', 'respectable/JJ', 'full-year/JJ', 'pretty/JJ', 'modest/JJ', 'cost-cutting/JJ', 'salary/JJ', 'risky/JJ', 'staggering/JJ', 'widespread/JJ', 'rescheduled/JJ', 'Regular/JJ', 'suitable/JJ', 'truly/JJ', 'unique/JJ', 'coming/JJ', 'civic/JJ', 'peer-to-peer/JJ', 'virtual/JJ', 'interact/JJ', 'intermediary/JJ', 'pirated/JJ', 'conclusive/JJ', 'performance-enhancing/JJ', 'no-nonsense/JJ', 'decent/JJ', 'shrewd/JJ', 'focused/JJ', 'Overall/JJ', 'North/JJ', 'ninth/JJ', 'hybrid/JJ', 'mid-size/JJ', 'favourite/JJ', 'emotional/JJ', 'gorgeous/JJ', 'acting/JJ', 'showbusiness/JJ', 'last-gasp/JJ', 'normal/JJ', 'miserable/JJ', 'much-needed/JJ', 'centre/JJ', 'in-form/JJ', 'seven-year/JJ', 'spam/JJ', 'alert/JJ', 'ten/JJ', 'attractive/JJ', 'preliminary/JJ', 'surprising/JJ', 'casual/JJ', 'unwanted/JJ', 'anti-spam/JJ', 'no-one/JJ', 'Ethiopian/JJ', 'Swedish/JJ', 'head-to-head/JJ', 'relaxed/JJ', 'exclusive/JJ', 'earlier/JJR', 'seasonal/JJ', 'unemployed/JJ', 'wild/JJ', 'sick/JJ', 'colourful/JJ', 'comedian/JJ', 'prompted/JJ', 'near/JJ', 'constant/JJ', 'dead/JJ', 'rosy/JJ', 'comic/JJ', 'foot/JJ', 'specialist/JJ', 'medical/JJ', 'fierce/JJ', 'third-largest/JJ', 'later/JJ', 'profound/JJ', 'serial/JJ', 'wow/JJ', 'lifestyle/JJ', 'multimedia/JJ', 'wearable/JJ', 'much-anticipated/JJ', 'conventional/JJ', 'crowd/JJ', 'alleged/JJ', 'disabled/JJ', 'abusive/JJ', 'violent/JJ', 'provocative/JJ', 'tsunami/JJ', 'Net/JJ', 'scam/JJ', 'plausible/JJ', 'fake/JJ', 'subject/JJ', 'e-mails/JJ', 'anti-virus/JJ', 'contact/JJ', 'chart-topping/JJ', 'Different/JJ', 'turbulent/JJ', 'lewd/JJ', 'historical/JJ', 'necessary/JJ', '26-year-old/JJ', 'horrible/JJ', 'anonymous/JJ', 'supportive/JJ', 'Oscar-nominated/JJ', 'spent/JJ', 'closer/JJR', 'first-team/JJ', '30-year-old/JJ', 'Mexican/JJ', 'anniversary/JJ', 'all-time/JJ', 'continental/JJ', 'longest/JJS', 'Former/JJ', 'immense/JJ', 'Liberal/JJ', 'literary/JJ', 'inaugural/JJ', 'Nazi/JJ', 'Austrian/JJ', 'fixed/JJ', 'net-based/JJ', 'uploaded/JJ', 'broadcast/JJ', 'London-based/JJ', 'spectacular/JJ', '3-1/JJ', 'straightforward/JJ', 'committed/JJ', 'partial/JJ', 'mandatory/JJ', 'formal/JJ', 'jealous/JJ', 'drunk/JJ', 'ill-advised/JJ', 'stupid/JJ', 'voluntary/JJ', 'furious/JJ', 'bulk/JJ', 'snake/JJ', 'useless/JJ', 'nine-year/JJ', 'recommended/JJ', 'outrageous/JJ', 'two-day/JJ', 'unknown/JJ', 'fiscal/JJ', 'gratuitous/JJ', 'military/JJ', 'feasible/JJ', 'routine/JJ', 'elderly/JJ', 'wholesale/JJ', 'balanced/JJ', 'realistic/JJ', 'lifelong/JJ', 'complete/JJ', '£100m/JJ', 'worth/JJ', 'palatable/JJ', 'shared/JJ', 'emotive/JJ', 'failed/JJ', 'exciting/JJ', 'clever/JJ', 'smart/JJ', 'foolish/JJ', 'worrying/JJ', 'semi-final/JJ', 'needless/JJ', 'thankful/JJ', 'productive/JJ', 'inappropriate/JJ', 'desperate/JJ', 'harsh/JJ', 'Mobile/JJ', 'slinkier/JJR', 'dinkier/JJR', 'funky/JJ', 'regarded/JJ', 'interoperable/JJ', 'user/JJ', 'finite/JJ', 'comfortable/JJ', 'select/JJ', 'vocational/JJ', 'structural/JJ', 'academic/JJ', 'ministerial/JJ', 'brightest/JJS', 'functional/JJ', 'technology-dominated/JJ', 'nose-diving/JJ', 'bubble/JJ', 'control/JJ', 'intercept/JJ', 'sufficient/JJ', 'veteran/JJ', 'severe/JJ', 'electronic/JJ', 'Anti-virus/JJ', 'crude/JJ', 'infected/JJ', 'Happy/JJ', 'Musical/JJ', 'classic/JJ', 'Wonderful/JJ', '£7m/JJ', 'low-budget/JJ', 'contentious/JJ', 'murdered/JJ', 'Turkish/JJ', 'audio/JJ', '2-0/JJ', 'v/JJ', 'Strong/JJ', 'Latin/JJ', 'agricultural/JJ', 'empty-handed/JJ', 'grateful/JJ', 'extraordinary/JJ', 'Best/JJS', '£6/JJ', 'slight/JJ', 'tougher/JJR', 'above/JJ', 'low-paid/JJ', 'downward/JJ', 'fat/JJ', 'funny/JJ', 'Great/JJ', 'equivalent/JJ', 'lazy/JJ', 'Good/JJ', 'prepared/JJ', 'medium/JJ', 'blatant/JJ', 'reasonable/JJ', 'complacent/JJ', 'contrary/JJ', 'fought/JJ', 'stand-up/JJ', '40-year-old/JJ', 'torrential/JJ', 'timely/JJ', 'English/JJ', 'provincial/JJ', 'four-year/JJ', 'left-footed/JJ', 'injury-time/JJ', 'lively/JJ', 'crowded/JJ', 'Colombian/JJ', 'Senior/JJ', 'Recent/JJ', 'extensive/JJ', 'impossible/JJ', 'woeful/JJ', 'wi-fi/JJ', 'intentional/JJ', 'famous/JJ', 'offline/JJ', '19th/JJ', 'librarian/JJ', 'disruptive/JJ', 'meaningful/JJ', 'longer/JJR', 'strange/JJ', 'African/JJ', 'sudden/JJ', 'third-round/JJ', 'intelligent/JJ', 'raw/JJ', 'formidable/JJ', 'four-piece/JJ', 'electric/JJ', 'parallel/JJ', 'unanimous/JJ', 'monetary/JJ', 'afraid/JJ', 'Today/JJ', 'like/JJ', 'fast/JJS', 'libel/JJ', 'browser/JJR', 'tech-savvy/JJ', 'scant/JJ', 'spoof/JJ', 'identical/JJ', 'anti-spyware/JJ', 'persistent/JJ', 'vary/JJ', 'compatible/JJ', 'buoyant/JJ', 'Slower/JJR', 'broader/JJR', 'healthy/JJ', 'goalkeeper/JJ', 'skipper/JJ', 'else/JJ', 'liable/JJ', 'maximum/JJ', 'closest/JJS', 'sound/JJ', 'biometric/JJ', 'Nigerian/JJ', 'thorough/JJ', 'visa/JJ', 'Romanian/JJ', 'valid/JJ', 'generous/JJ', 'clean/JJ', 'Rather/JJR', 'Public/JJ', '31-year-old/JJ', 'licensed/JJ', 'fewer/JJR', 'old-fashioned/JJ', 'Portuguese/JJ', 'open-source/JJ', 'preview/JJ', 'alternative/JJ', 'vibrant/JJ', 'Greek/JJ', 'intensive/JJ', 'terrorist/JJ', 'unsustainable/JJ', 'sizeable/JJ', 'overdue/JJ', 'plasma/JJ', 'intellectual/JJ', 'rapid/JJ', 'alive/JJ', '3-6/JJ', '4-1/JJ', 'awesome/JJ', 'tournament/JJ', 'mad/JJ', 'double/JJ', 'Already/JJ', 'tsunami-hit/JJ', 'intact/JJ', 'tragic/JJ', 'indebted/JJ', 'sister/JJ', 'hardest/JJS', 'fifth/JJ', 'troubled/JJ', 'lost/JJ', 'instrumental/JJ', 'vocal/JJ', 'mine/JJ', 'worthwhile/JJ', 'outdated/JJ', 'broad/JJ', 'left-wing/JJ', 'second-biggest/JJ', 'sovereign/JJ', '32-year-old/JJ', 'Open/JJ', 'spread/JJ', 'misleading/JJ', 'little-known/JJ', '10-year/JJ', '2-2/JJ', 'frantic/JJ', 'right-footed/JJ', 'one-way/JJ', 'tempt/JJ', 'sophisticated/JJ', 'illegitimate/JJ', 'spyware/JJ', 'light/JJ', 'concrete/JJ', 'Indonesian/JJ', 'lucky/JJ', 'side/JJ', 'non-League/JJ', 'well-known/JJ', 'text/JJ', 'tabloid/JJ', 'Guardian/JJ', 'accurate/JJ', 'non-invasive/JJ', 'motivated/JJ', 'last-minute/JJ', 'reduced/JJ', 'grave/JJ', 'animal/JJ', 'irreversible/JJ', 'legislative/JJ', 'rough/JJ', 'artist/JJ', 'assembly/JJ', 'Free/JJ', 'inaccurate/JJ', 'actual/JJ', '20th/JJ', 'momentous/JJ', '25th/JJ', 'urban/JJ', 'home-grown/JJ', 'unavailable/JJ', 'archive/JJ', 'diverse/JJ', 'newcomer/JJ', 'extended/JJ', 'end-of-year/JJ', 'pre-Christmas/JJ', 'like-for-like/JJ', 'five-month/JJ', 'numerical/JJ', 'absent/JJ', 'on-going/JJ', 'frontline/JJ', 'diet/JJ', 'pharmaceutical/JJ', 'shot/JJ', 'pure/JJ', 'amazing/JJ', 'terrific/JJ', 'anti-racketeering/JJ', 'fraudulent/JJ', 'nicotine/JJ', 'targeted/JJ', 'multi-billion/JJ', 'three-judge/JJ', 'comprehensive/JJ', 'remedial/JJ', 'eastern/JJ', 'Daily/JJ', 'queen/JJ', 'supreme/JJ', '[/JJ', 'outside/JJ', '18-12/JJ', 'missed/JJ', 'tricky/JJ', 'five-year/JJ', 'residential/JJ', 'humorous/JJ', 'Electronic/JJ', 'Xbox/JJ', '10th/JJ', 'nine-month/JJ', 'standard/JJ', 'faster/JJ', 'non-BT/JJ', 'lawful/JJ', 'forcible/JJ', 'Campese/JJ', 'typical/JJ', 'full-back/JJ', 'clear-cut/JJ', 'stunning/JJ', 'full-time/JJ', 'admirable/JJ', 'quarter-final/JJ', 'wise/JJ', 'managerial/JJ', 'scared/JJ', 'justified/JJ', 'level/JJ', 'season-ending/JJ', 'unheralded/JJ', '3-2/JJ', 'historic/JJ', 'provisional/JJ', 'tribunal/JJ', 'prohibited/JJ', 'unacceptable/JJ', 'unsubstantiated/JJ', 'procedural/JJ', 'real-life/JJ', 'active/JJ', 'Victorian/JJ', 'lesbian/JJ', 'one-off/JJ', 'terrestrial/JJ', 'nanny/JJ', 'collective/JJ', 'permanent/JJ', 'longest-running/JJ', 'rate-setting/JJ', 'Economic/JJ', 'softer/JJR', 'EU/JJ', 'dynamic/JJ', 'urgent/JJ', 'unsure/JJ', 'hamstring/JJ', 'unfortunate/JJ', 'top-10/JJ', 'sad/JJ', 'teen/JJ', 'Big/JJ', 'grand/JJ', 'calm/JJ', 'passive/JJ', 'late-night/JJ', 'involved/JJ', 'vicious/JJ', 'wide-ranging/JJ', 'insulting/JJ', 'prize/JJ', 'recordable/JJ', 'damaging/JJ', 'fun/JJ', 'developing/JJ', 'industrialised/JJ', 'Global/JJ', 'wealthy/JJ', 'small-scale/JJ', 'mutual/JJ', 'remote/JJ', 'unusual/JJ', 'indie/JJ', 'rigorous/JJ', 'Much/JJ', 'lightweight/JJ', 'self-contained/JJ', 'marine/JJ', 'newest/JJS', 'quartz/JJ', 'bizarre/JJ', 'revolutionised/JJ', 'laptop/JJ', 'modern/JJ', 'excellent/JJ', 'multi-takings/JJ', 'rubbish/JJ', 'swiss/JJ', 'usable/JJ', 'removable/JJ', 'programmable/JJ', 'partisan/JJ', 'deserved/JJ', 'faster/JJR', 'west/JJS', 'frequent/JJ', 'wave/JJ', 'file-trading/JJ', 'beneficial/JJ', 'ridiculous/JJ', 'upload/JJ', 'half/JJ', '19-13/JJ', 'under-21/JJ', 'supporting/JJ', 'Special/JJ', 'male/JJ', 'Euronext/JJ', '£1.4/JJ', 'attempted/JJ', 'fallible/JJ', 'former-President/JJ', 'euro/JJ', 'full-scale/JJ', 'short-lived/JJ', 'Long/JJ', 'frustrated/JJ', 'vociferous/JJ', 'explosive/JJ', 'defensive/JJ', 'e-mailed/JJ', 'file/JJ', 'preventable/JJ', 'reckless/JJ', 'Adrian/JJ', 'valuable/JJ', \"'bot/JJ\", 'automatic/JJ', 'marginal/JJ', 'shocked/JJ', 'happier/JJR', 'favoured/JJ', 'inclined/JJ', 'inexperienced/JJ', '£4.3bn/JJR', 'slimmer/JJ', 'forgotten/JJ', 'bureaucratic/JJ', 'upbeat/JJ', 'scrappy/JJ', 'bruising/JJ', 'losing/JJ', '28-17/JJ', 'uncapped/JJ', 'loose-head/JJ', 'eager/JJ', 'imaginary/JJ', 'expected/JJ', 'marked/JJ', 'gritty/JJ', 'newer/JJR', 'experimental/JJ', 'sustainable/JJ', 'outright/JJ', 're-filling/JJ', 'predetermined/JJ', 'unusable/JJ', 'built-in/JJ', '18-month/JJ', 'inkjet/JJ', 'disillusioned/JJ', 'middle/JJ', 'pre-election/JJ', 'gloomy/JJ', 'club/JJ', 'preferred/JJ', 'match-day/JJ', 'tour/JJ', 'integral/JJ', 'handheld/JJ', 'hands-free/JJ', 'paid-for/JJ', '8-1/JJ', 'front/JJ', 'Casual/JJ', 'square/JJ', 'year-ago/JJ', 'fourth-quarter/JJ', 'Paris-based/JJ', 'medium-sized/JJ', 'reluctant/JJ', 'negligible/JJ', 'strongest/JJS', 'logistical/JJ', 'virus-fighting/JJ', 'ubiquitous/JJ', 'tempting/JJ', 'surreptitious/JJ', 'York-based/JJ', 'five-way/JJ', 'flamboyant/JJ', 'rid/JJ', 'write/JJ', 'singer/JJR', 'hip-hop/JJ', 'parliamentary/JJ', 'material/JJ', 'fullest/JJS', '1-1/JJ', 'extra-time/JJ', 'retired/JJ', 'slid/JJ', 'rampant/JJ', 'glorious/JJ', 'musician/JJ', 'left/JJ', 'erratic/JJ', 'mid-February/JJ', 'song/JJ', 'unreasonable/JJ', 'rigid/JJ', 'varied/JJ', 'wish/JJ', 'Windows-based/JJ', 'smarter/JJR', 'shortened/JJ', 'one-day/JJ', 'PCS/JJ', 'combined/JJ', 'evil/JJ', 'unauthorised/JJ', 'secure/JJ', 'signal/JJ', 'graphical/JJ', 'polish/JJ', 'sceptical/JJ', 'funeral/JJ', 'finest/JJS', 'worst-affected/JJ', 'listed/JJ', 'tsunami-affected/JJ', 'Between/JJ', 'lasting/JJ', 'text-based/JJ', 'relevant/JJ', 'chaotic/JJ', 'satellite/JJ', 'non-technical/JJ', 'give/JJ', 'dry/JJ', 'humanitarian/JJ', 'Spider-Man/JJ', 'unaccompanied/JJ', 'Albanian/JJ', 'well-documented/JJ', 'longer-term/JJ', 'statutory/JJ', 'questionable/JJ', 'east/JJ', 'law-abiding/JJ', 'police/JJ', 'constable/JJ', 'foreign-based/JJ', 'backbench/JJ', 'finished/JJ', 'revamped/JJ', 'graphic/JJ', 'up-to-date/JJ', 'unseeded/JJ', 'first-set/JJ', 'sweet/JJ', '6-0/JJ', 'mean/JJ', 'co-star/JJ', 'best-known/JJ', 'cool/JJ', 'Parliamentary/JJ', 'richer/JJR', 'tackling/JJ', 'bilateral/JJ', 'related/JJ', 'watched/JJ', 'portal/JJ', 'seminal/JJ', 'theirs/JJ', 'broadband/JJ', 'after-school/JJ', 'overnight/JJ', 'seamless/JJ', 'phenomenal/JJ', 'high-definition/JJ', 'vice-president/JJ', 'all-party/JJ', 'semi-fictional/JJ', 'fictional/JJ', 'non-US/JJ', 'famine/JJ', 'monopoly/JJ', 'transparent/JJ', 'Jewish/JJ', 'al-Qaeda/JJ', 'naked/JJ', 'Iranian/JJ', 'California-based/JJ', 'whereas/JJ', 'box/JJ', 'out-of-competition/JJ', 'Clive/JJ', 'unexpected/JJ', 'part-time/JJ', 'respective/JJ', 'mountainous/JJ', 'notorious/JJ', 'wee/JJ', '3-0/JJ', 'ankle/JJ', 'slim/JJ', 'assistant/JJ', 'very/JJ', 'indirect/JJ', 'painful/JJ', 'parental/JJ', 'informal/JJ', 'contested/JJ', 'cynical/JJ', 'radical/JJ', 'prior/JJ', 'white/JJ', 'all-black/JJ', 'ethnic/JJ', 'humble/JJ', 'creative/JJ', 'anti-Tory/JJ', 'anti-Semitic/JJ', 'wider/JJ', 'silver/JJ', 'ex-chief/JJ', 'first-hand/JJ', 'fast-growing/JJ', 'excessive/JJ', 'brave/JJ', 'unjustified/JJ', 'tactical/JJ', 'anti-war/JJ', 'ideological/JJ', 'UK-based/JJ', 'value-added/JJ', 'ripe/JJ', 'stamp/JJ', 'first-time/JJ', 'reported/JJ', 'informed/JJ', 'unbiased/JJ', 'endless/JJ', 'one-and-a-half/JJ', 'significantly-improved/JJ', 'indicative/JJ', 'OK/JJ', 'supernatural/JJ', 'tactic/JJ', 'swift/JJ', 'Christian/JJ', 'draconian/JJ', 'universal/JJ', 'associate/JJ', 'anxious/JJ', 'three-year/JJ', '23-year-old/JJ', 'amateur/JJ', 'Rival/JJ', 'credible/JJ', 'anti-doping/JJ', 'under-age/JJ', 'binge/JJ', 'iPod/JJ', 'all-singing/JJ', 'all-dancing/JJ', 'football-playing/JJ', 'fashionable/JJ', 'multi-talented/JJ', 'gaming/JJ', 'must-have/JJ', 'real-time/JJ', 'soft/JJ', 'sublime/JJ', 'civilian/JJ', 'judicial/JJ', 'unreleased/JJ', 'treasured/JJ', 'tight-head/JJ', 'experienced/JJ', 'absurd/JJ', 'native/JJ', 'proved/JJ', 'fearful/JJ', 'militant/JJ', 'phased/JJ', 'mere/JJ', 'imminent/JJ', 'Islamic/JJ', 'absolute/JJ', 'Californian/JJ', 'opening/JJ', 'wasteful/JJ', 'authentic/JJ', 'summary/JJ', 'worldwide/JJ', 'groin/JJ', 'first-half/JJ', 'sky-high/JJ', 'resisted/JJ', 'visual/JJ', 'adamant/JJ', 'Visual/JJ', 'dial-up/JJ', 'revolutionary/JJ', 'anti-social/JJ', 'protest/JJS', '£35bn/JJ', 'packed/JJ', 'poorest/JJ', 'faith/JJ', 'intolerant/JJ', 'monumental/JJ', 'loose/JJ', 'cross/JJ', 'four-time/JJ', 'definite/JJ', 're-signed/JJ', 'frenetic/JJ', 'life-threatening/JJ', 'clumsy/JJ', 'foreign-owned/JJ', 'telecoms/JJ', 'western/JJ', 'volatile/JJ', 'automated/JJ', '25-yard/JJ', 'unified/JJ', 'chart/JJ', 'tribute/JJ', '1,000th/JJ', 'disastrous/JJ', 'occasional/JJ', 'yellow/JJ', 'one-match/JJ', 'invaluable/JJ', 'pathetic/JJ', 'looked-up/JJ', 'printed/JJ', 'updated/JJ', 'hostile/JJ', 'short-range/JJ', 'Symbian/JJ', 'legendary/JJ', 'unpredictable/JJ', 'non-commercial/JJ', 'up-and-coming/JJ', 'likeable/JJ', 'one-click/JJ', 'further/JJR', 'mineral/JJ', 'wet/JJ', 'exceptional/JJ', 'organic/JJ', 'iconic/JJ', 'alright/JJ', 'long-planned/JJ', 'interior/JJ', 'immersive/JJ', 'console/JJ', 'forensic/JJ', 'invisible/JJ', 'long-time/JJ', '5-4/JJ', 'quickest/JJS', '24-hour/JJ', '17-year-old/JJ', 'preferential/JJ', 'strict/JJ', 'recognisable/JJ', 'with-profit/JJ', 'with-profits/JJ', 'impending/JJ', 'disproportionate/JJ', 'liberal/JJ', 'stagnant/JJ', 'adjusted/JJ', 'suspect/JJ', 'deliberate/JJ', 'false-start/JJ', 'enlarged/JJ', 'Dutch/JJ', 'downloaded/JJ', 'Portable/JJ', 'magnetic/JJ', 'lavish/JJ', 'premature/JJ', 'soulful/JJ', 'pornographic/JJ', 'generic/JJ', '29-year-old/JJ', 'epic/JJ', 'three-time/JJ', 'imperative/JJ', 'invasive/JJ', 'start-up/JJ', 'bottom/JJ', 'spree/JJ', 'fastest-growing/JJ', 'fish/JJ', 'Simple/JJ', 'dominant/JJ', 'anti-retroviral/JJ', 'theatrical/JJ', 'cameo/JJ', 'sin-binned/JJ', 'non-EU/JJ', 'sham/JJ', 'proportionate/JJ', '£4bn/JJ', '£1,000/JJR', 'sexier/JJR', 'government-commissioned/JJ', 'liberating/JJ', 'doubtful/JJ', 'definitive/JJ', 'pointless/JJ', 'leg/JJ', 'scan/JJ', 'relative/JJ', 'radio/JJ', 'brutal/JJ', 'polite/JJ', '£200/JJ', 'terror/JJ', 're-elected/JJ', 'secretive/JJ', 'eleven/JJ', 'steady/JJ', 'uncertain/JJ', 'unprecedented/JJ', 'Israeli/JJ', 'republican/JJ', 'four-month/JJ', 'fuel/JJ', 'underlying/JJ', '4-2/JJ', 'six-year/JJ', 'minor/JJ', 'paparazzi/JJ', 'Oscar-winning/JJ', 'two-and-a-half/JJ', 'two-bit/JJ', 'prominent/JJ', 'two-disc/JJ', 'footwear/JJ', 'Green/JJ', 'excited/JJ', 'Interest/JJS', 'classical/JJ', 'four-day/JJ', 'blue/JJ', 'registered/JJ', 'lock-up/JJ', 'anti-terror/JJ', 'gentle/JJ', 'feud/JJ', 'vested/JJ', 'romantic/JJ', 'finishing/JJ', 'five-set/JJ', 'wasted/JJ', 'prospective/JJ', 'near-record/JJ', 'prudent/JJ', 'nose/JJ', 'rapper/JJ', 'tougher/JJ', 'soul/JJ', 'contemporary/JJ', 'counterfeit/JJ', 'renovated/JJ', 'make-up/JJ', 'set-top/JJ', 'month-long/JJ', 'pirate/JJ', 'time-shifting/JJ', 'scary/JJ', \"'best/JJS\", 'council/JJ', 'personalised/JJ', 'insensitive/JJ', 'tighter/JJR', 'pre-recorded/JJ', 'comparable/JJ', 'grey/JJ', '£3.3/JJ', 'smallest/JJS', 'impartial/JJ', 'spiky/JJ', 'proof/JJ', 'pretty-boy/JJ', 'nimble/JJ', 'second-placed/JJ', 'non-resident/JJ', 'Huge/JJ', 'diary/JJ', 'wrongful/JJ', 'Texas-based/JJ', 'non-fictional/JJ', 'illiterate/JJ', 'reliable/JJ', 'uphill/JJ', 'long-range/JJ', 'sentimental/JJ', 'inept/JJ', 'dreadful/JJ', 'year-old/JJ', 'laughable/JJ', 'regressive/JJ', 'redundant/JJ', 'gruesome/JJ', 'non-executive/JJ', 'interim/JJ', 'liberalised/JJ', 'garment/JJ', 'pervasive/JJ', 'unveiled/JJ', 'deeper/JJR', '1-6/JJ', 'upset/JJ', 'fragile/JJ', 'governmental/JJ', 'representative/JJ', 'ready-made/JJ', 'finish/JJ', 'wholehearted/JJ', 'Blu-ray/JJ', 'format/JJ', 'mortal/JJ', 'silly/JJ', 'habeas/JJ', 'fascist/JJ', 'naive/JJ', 'perceived/JJ', 'libertarian/JJ', 'wartime/JJ', 'world-wide/JJ', 'slower-than-expected/JJ', 'trade-driven/JJ', 'prosperous/JJ', 'half-hourly/JJ', 'edited/JJ', 'internet-based/JJ', 'renewable/JJ', 'Cable/JJ', 'scheduled/JJ', 'pregnant/JJ', 'unfounded/JJ', 'pivotal/JJ', 'post-war/JJ', 'wake-up/JJ', 'slick/JJ', 'fancy/JJ', 'responsive/JJ', 'graphics-intensive/JJ', 'triple/JJ', 'irrelevant/JJ', 'tier/JJR', 'nasty/JJ', 'pioneering/JJ', 'nascent/JJ', 'pan-European/JJ', 'file-swapping/JJ', 'back-up/JJ', '22-man/JJ', 'foster/JJ', 'left-foot/JJ', 'five-point/JJ', 'watershed/JJ', 'unlucky/JJ', 'artificial/JJ', 'unveils/JJ', 'once-famous/JJ', 'athlete/JJ', 'acrobatic/JJ', 'flashy/JJ', 'imaginative/JJ', 'inefficient/JJ', 'year-long/JJ', 'chest/JJ', 'infectious/JJ', 'lord/JJ', 'search/JJ', 'sponsored/JJ', 'week-long/JJ', 'seventh-seeded/JJ', '10-8/JJ', 'so-so/JJ', 'windy/JJ', 'art/JJ', 'rat-eating/JJ', 'crazy/JJ', 'liquid/JJ', 'lifetime/JJ', 'left-hand/JJ', 'required/JJ', 'missing/JJ', 'S/JJ', 'non-Indian/JJ', 'patent/JJ', 'super/JJR', 'first-week/JJ', '18-rated/JJ', '14-year-old/JJ', 'Native/JJ', 'yes/JJ', 'flawed/JJ', 'Half-Life/JJ', 'critic/JJ', 'transatlantic/JJ', 'pre-selected/JJ', 'simpler/JJ', 'title/JJ', 'non-financial/JJ', 'super-fast/JJ', 'giddy/JJ', 'gradual/JJ', 'slumping/JJ', 'unfavourable/JJ', 'fluctuating/JJ', 'table/JJ', 'looming/JJ', 'convincing/JJ', 'winning/JJ', 'plastic/JJ', 'venerable/JJ', 'scientific/JJ', 'utterly/JJ', 'pole/JJ', 'fixed-line/JJ', 'remote-controlled/JJ', 'loss-making/JJ', 'noticeable/JJ', 'six-cylinder/JJ', '£1bn/JJ', 'supervisory/JJ', 'free-to-air/JJ', 'pay-TV/JJ', 'frank/JJ', 'Nalbandian/JJ', 'Finest/JJS', 'weird/JJ', 'inner/JJ', 'learning/JJ']\n",
            "Tagged Vocabulary Length:  2000\n",
            "['was/VBD', 'hit/VBN', 'economic/JJ', 'is/VBZ', 'fresh/JJ', 'set/VBN', 'grow/VB', 'seeing/VBG', 'last/JJ', 'sharp/JJ', 'fell/VBD', 'improving/VBG', 'remain/VBP', 'overall/JJ', 'vast/JJ', 'are/VBP', 'proud/JJ', 'be/VB', 'strong/JJ', 'said/VBD', 'has/VBZ', 'made/VBN', 'remarkable/JJ', 'private/JJ', 'sparked/VBD', 'deep/JJ', 'least/JJS', 'were/VBD', 'halted/VBN', 'introduced/VBN', 'deal/VB', 'massive/JJ', 'angry/JJ', 'ordinary/JJ', 'took/VBD', 'lost/VBN', 'resigned/VBD', 'less/JJR', 'found/VBN', 'subsequent/JJ', 'saw/VBD', 'went/VBD', 'general/JJ', 'improved/VBN', 'helped/VBD', 'attract/VB', 'direct/JJ', 'helping/VBG', 'born/VBN', 'grew/VBD', 'held/VBN', 'using/VBG', 'help/VB', 'explained/VBD', 'going/VBG', 'like/VB', 'other/JJ', 'depending/VBG', 'many/JJ', 'closed/VBN', 'pay/VB', 'trying/VBG', 'standing/VBG', 'proving/VBG', 'easy/JJ', 'make/VBP', 'further/JJ', 'difficult/JJ', 'expensive/JJ', 'negotiate/VB', 'current/JJ', 'get/VB', 'owed/VBN', 'according/VBG', 'want/VBP', 'more/JJR', 'do/VBP', 'continue/VB', 'proves/VBZ', 'Real/JJ', 'have/VBP', 'been/VBN', 'suffered/VBN', 'managing/VBG', 'needs/VBZ', 'keep/VB', 'enormous/JJ', 'have/VB', 'reached/VBN', 'continues/VBZ', 'paid/VBN', 'international/JJ', 'being/VBG', 'little/JJ', 'domestic/JJ', 'remains/VBZ', 'waiting/VBG', 'recover/VB', 'bad/JJ', 'had/VBD', 'chosen/VBN', 'save/VB', 'represents/VBZ', 'recovered/VBN', 'pointing/VBG', 'set/VBD', 'safe/JJ', 'good/JJ', 'taking/VBG', 'most/JJS', 'legal/JJ', 'ruled/VBN', 'says/VBZ', 'insisting/VBG', 'high/JJ', 'agreed/VBD', 'local/JJ', 'much/JJ', 'think/VB', 'heading/VBG', 'Russian/JJ', 'due/JJ', 'fight/VB', 'broken/VBN', 'filed/VBD', 'hoping/VBG', 'use/VB', 'forced/JJ', 'key/JJ', 'sold/VBN', 'say/VBP', 'main/JJ', 'go/VB', 'wants/VBZ', 'claiming/VBG', 'hear/VB', 'different/JJ', 'including/VBG', 'throw/VB', 'German/JJ', 'providing/VBG', 'state-owned/JJ', 'expected/VBN', 'win/VB', 'called/VBN', 'provide/VB', 'remove/VB', 'optimistic/JJ', 'limited/VBN', 'won/VBN', 'small/JJ', 'Do/VBP', 'influence/VB', 'happens/VBZ', 'think/VBP', 'real/JJ', 'driven/VBN', 'political/JJ', 'developed/VBN', 'turns/VBZ', 'musical/JJ', 'read/VB', 'studying/VBG', 'upper/JJ', 'needed/VBD', 'create/VB', 'tried/VBN', 'having/VBG', 'attempting/VBG', 'hit/VBD', 'individual/JJ', 'do/VB', 'find/VB', 'reading/VBG', 'told/VBD', 'own/JJ', 'felt/VBD', 'develop/VB', 'tried/VBD', 'exact/JJ', 'used/VBN', 'ranging/VBG', 'lower/JJR', 'useful/JJ', 'created/VBN', 'used/VBD', 'recognise/VB', 'work/VB', 'thinks/VBZ', 'makes/VBZ', 'had/VBN', 'know/VBP', 'getting/VBG', 'red/JJ', 'appears/VBZ', 'available/JJ', 'believes/VBZ', 'several/JJ', 'make/VB', 'hopes/VBZ', 'give/VB', 'Japanese/JJ', 'renewed/VBN', 'annual/JJ', 'usual/JJ', 'corporate/JJ', 'falls/VBZ', 'short/JJ', 'does/VBZ', 'mark/VB', 'sixth/JJ', 'straight/JJ', 'long/JJ', 'falling/VBG', 'rising/VBG', 'made/VBD', 'cautious/JJ', 'kept/VBD', 'leave/VB', 'recent/JJ', 'knocked/VBN', 'becoming/VBG', 'third/JJ', 'marks/VBZ', 'first/JJ', 'showed/VBD', 'second/JJ', 'became/VBD', 'weaker/JJR', 'chief/JJ', 'looks/VBZ', 'temporary/JJ', 'such/JJ', 'raise/VB', 'public/JJ', 'confirmed/VBN', 'take/VB', 'knows/VBZ', 'competing/VBG', 'seem/VBP', 'break/VB', 'respond/VB', 'fellow/JJ', 'ended/VBD', 'claim/VB', 'come/VBN', 'British/JJ', 'return/VBP', 'helped/VBN', 'return/VB', 'best/JJS', 'moved/VBD', 'latest/JJS', 'single/JJ', 'top/JJ', 'chart/VBP', 'pushed/VBD', 'entered/VBD', \"'s/VBZ\", 'former/JJ', 'won/VBD', 'self-titled/JJ', 'Last/JJ', 'suffering/VBG', 'long-running/JJ', 'American/JJ', 'hosted/VBN', 'produced/VBD', 'scheduled/VBN', 'done/VBN', 'hopeful/JJ', 'lead/VB', 'recovering/VBG', 'popular/JJ', 'picked/VBN', 'weekly/JJ', 'featured/VBD', 'came/VBD', 'responsible/JJ', 'act/VB', 'executive/JJ', 'upcoming/JJ', 'dismissed/VBN', 'simple/JJ', 'new/JJ', 'Labour/JJ', 'financial/JJ', 'black/JJ', 'see/VB', 'hard/JJ', 'working/VBG', 'added/VBD', 'giving/VBG', 'urged/VBD', 'net/JJ', 'accused/VBD', 'running/VBG', 'faced/VBD', 'only/JJ', 'spend/VB', 'vote/VB', 'brought/VBD', 'based/VBN', 'next/JJ', 'better/JJR', 'prime/JJ', 'offering/VBG', 'put/VB', 'wanted/VBD', 'face/VB', 'clear/JJ', 'higher/JJR', 'concluded/VBD', 'given/VBN', 'announced/VBN', \"'m/VBP\", 'ready/JJ', 'meant/VBD', 'expected/VBD', 'tipped/VBN', 'ask/VB', 'US/JJ', 'pulled/VBN', 'major/JJ', 'rebuild/VB', 'thought/VBN', 'largest/JJS', 'original/JJ', 'denied/VBD', 'joint/JJ', 'committed/VBN', 'ongoing/JJ', 'look/VB', 'taken/VBN', 'slow/JJ', 'approved/VBN', 'spent/VBN', 'did/VBD', 'whole/JJ', 'happening/VBG', 'gain/VB', 'began/VBD', 'pleaded/VBD', 'guilty/JJ', 'brought/VBN', 'criminal/JJ', 'successful/JJ', 'unpaid/JJ', 'bought/VBN', 'bought/VBD', 'establish/VB', 'continue/VBP', 'Such/JJ', 'argued/VBN', 'entitled/VBN', 'lives/VBZ', 'claimed/VBD', 'sought/VBD', 'European/JJ', 'offered/VBN', 'indicated/VBN', 'acknowledged/VBD', 'likely/JJ', 'considered/VBN', 'decide/VB', 'merge/VB', 'trade/VB', 'overseas/JJ', 'remained/VBD', 'unclear/JJ', 'consider/VB', 'backed/VBN', 'believe/VBP', 'wearing/VBG', 'stop/VB', 'obvious/JJ', 'incredible/JJ', 'feel/VBP', 'talking/VBG', 'watching/VBG', 'told/VBN', 'play/VB', 'am/VBP', 'pleased/JJ', 'believe/VB', 'celebrate/VB', 'nice/JJ', \"'ve/VBP\", 'seen/VBN', 'highlighted/VBD', 'video/JJ', 'asking/VBG', 'suggested/VBD', 'carry/VB', 'same/JJ', 'takes/VBZ', 'start/VB', 'great/JJ', 'asked/VBN', 'hits/VBZ', 'numerous/JJ', 'nominated/VBN', 'prestigious/JJ', 'dominated/VBD', 'gained/VBD', 'faces/VBZ', 'separate/JJ', 'dark/JJ', 'mainstream/JJ', 'compete/VB', 'become/VB', 'screened/VBN', 'performed/VBN', 'gaining/VBG', 'leads/VBZ', 'produce/VB', 'picked/VBD', 'overcome/VB', 'shown/VBN', 'owned/VBN', 'Previous/JJ', 'included/VBN', 'receive/VB', 'rewarded/VBN', 'rise/VB', 'previous/JJ', 'solid/JJ', 'weak/JJ', 'avoided/VBD', 'lost/VBD', 'rose/VBD', 'controlled/VBN', 'started/VBD', 'trading/VBG', 'regular/JJ', 'win/VBP', 'female/JJ', 'boosting/VBG', 'late/JJ', 'earned/VBN', 'playing/VBG', 'knocked/VBD', 'go/VBP', 'supporting/VBG', 'turned/VBD', 'living/VBG', 'complex/JJ', 'interesting/JJ', 'making/VBG', 'praised/VBD', \"'re/VBP\", 'full/JJ', 'know/VB', 'ultimate/JJ', 'end/VB', 'starring/VBG', 'gone/VBN', 'follows/VBZ', 'try/VBP', 'pull/VB', 'festive/JJ', 'beat/VBD', 'opening/VBG', 'total/JJ', 'directed/VBN', 'direct/VB', 'joins/VBZ', 'dubbed/VBD', 'banned/VBN', 'ensure/VB', 'suggested/VBN', 'proposed/VBN', 'released/VBN', 'encourage/VB', 'aggressive/JJ', 'removed/VBN', 'becomes/VBZ', 'run/VBN', 'allow/VB', 'remaining/VBG', 'offer/VBP', 'free/JJ', 'betting/VBG', 'awarded/VBN', 'UK/JJ', 'foreign/JJ', 'certain/JJ', 'lowest/JJS', 'launched/VBN', 'search/VB', 'e-mail/JJ', 'following/VBG', 'similar/JJ', 'become/VBN', 'lucrative/JJ', 'looking/VBG', 'extend/VB', 'bigger/JJR', 'need/VB', 'important/JJ', 'US-based/JJ', 'designed/VBN', 'According/VBG', 'critical/JJ', 'stored/VBN', 'searching/VBG', 'promised/VBN', 'future/JJ', 'commercial/JJ', 'lies/VBZ', 'extending/VBG', 'human/JJ', 'concerned/VBN', 'emerging/VBG', 'enter/VB', 'keeping/VBG', 'French/JJ', 'filed/VBN', 'giant/JJ', 'begun/VBN', 'operating/VBG', 'selling/VBG', 'surrounding/VBG', 'reported/VBD', 'investigating/VBG', 'aware/JJ', 'rejected/VBN', 'knew/VBD', 'considering/VBG', 'buy/VB', 'saying/VBG', 'fined/VBN', 'wrong/JJ', 'paid/VBD', 'beating/VBG', 'interested/JJ', 'got/VBD', 'sure/JJ', 'happy/JJ', 'delighted/VBN', 'got/VBN', 'happened/VBN', 'want/VB', 'admitted/VBN', 'love/VB', 'succeed/VB', 'switch/VB', 'wanted/VBN', 'follow/VB', 'confident/JJ', 'young/JJ', 'pushing/VBG', 'understand/VB', 'move/VB', 'set/VB', 'called/VBD', 'serious/JJ', 'expressed/VBN', 'willing/JJ', 'linked/VBN', 'brilliant/JJ', 'come/VB', 'big/JJ', 'hit/VB', 'happen/VB', 'claims/VBZ', 'Asked/VBN', 'caught/VBN', 'denies/VBZ', 'doping/VBG', 'continued/VBD', 'tipped/VBD', 'named/VBN', 'run/VB', 'Brazilian/JJ', 'retired/VBD', 'regain/VB', 'changed/VBN', 'national/JJ', 'able/JJ', 'global/JJ', 'professional/JJ', 'Chinese/JJ', 'visit/VB', 'played/VBN', 'Irish/JJ', 'winning/VBG', '1-0/JJ', 'few/JJ', 'Asian/JJ', 'welcome/JJ', 'traditional/JJ', 'ideal/JJ', 'secret/JJ', 'love/VBP', 'worked/VBN', 'electoral/JJ', 'returning/VBG', 'written/VBN', 'Many/JJ', 'greatest/JJS', 'coming/VBG', 'letting/VBG', 'correct/JJ', 'determined/VBN', 'pledged/VBN', 'shoot/VB', 'basic/JJ', 'seeks/VBZ', 'entire/JJ', 'declared/VBN', 'withdraw/VB', 'large/JJ', 'enough/JJ', 'move/VBP', 'refusing/VBG', 'huge/JJ', 'hold/VB', 'stands/VBZ', 'achieve/VB', 'presidential/JJ', 'decided/VBN', 'limited/JJ', 'target/VB', 'significant/JJ', 'possible/JJ', 'online/JJ', 'drawn/VBN', 'suggests/VBZ', 'holding/VBG', 'sustain/VB', 'played/VBD', 'perfect/JJ', 'unbeaten/JJ', 'Celtic/JJ', 'impressive/JJ', 'efficient/JJ', 'play/VBP', 'announce/VB', 'starting/VBG', 'knee/JJ', 'received/VBN', 'tries/VBZ', 'pick/VB', 'natural/JJ', 'caused/VBD', 'expects/VBZ', 'work/VBP', 'pulled/VBD', 'disappointing/JJ', 'dropped/VBN', 'established/VBN', 'fourth/JJ', 'unveiled/VBN', 'promising/VBG', 'launch/VB', 'met/VBN', 'poor/JJ', 'accept/VB', 'launching/VBG', 'continued/VBN', 'planned/VBN', 'happened/VBD', 'asked/VBD', 'cancel/VB', 'change/VB', 'sold/VBD', 'goes/VBZ', 'turned/VBN', 'careful/JJ', 'terrible/JJ', 'continuing/VBG', 'encouraging/VBG', 'support/VB', 'Given/VBN', 'low/JJ', 'contains/VBZ', 'wide/JJ', 'proved/VBN', 'positive/JJ', 'busy/JJ', 'forced/VBN', 'attracted/VBN', 'attend/VB', 'questioned/VBD', 'thought/VBD', 'spoke/VBD', 'encouraged/VBN', 'let/VB', 'glad/JJ', 'get/VBP', 'invited/VBN', 'held/VBD', 'predicts/VBZ', 'equal/JJ', 'grown/VBN', 'fast/JJ', 'runs/VBZ', 'ruling/VBG', 'ran/VBD', 'ordered/VBN', 'allowed/VBD', 'submit/VB', 'cleared/VBN', 'build/VB', 'associated/VBN', 'host/VB', 'visiting/VBG', 'performing/VBG', 'ruled/VBD', 'posted/VBD', 'published/VBN', 'illegal/JJ', 'accepted/VBN', 'alleged/VBN', 'so-called/JJ', 'identified/VBN', 'urged/VBN', 'hi-tech/JJ', 'recognised/VBN', 'announced/VBD', 'bringing/VBG', 'promote/VB', 'recycling/VBG', 'needed/VBN', 'old/JJ', 'particular/JJ', 'growing/VBG', 'portable/JJ', 'fastest/JJS', 'predicted/VBN', 'reach/VB', 'send/VB', 'loyal/JJ', 'influential/JJ', 'powerful/JJ', 'meet/VB', 'additional/JJ', 'mobile/JJ', 'replaced/VBN', 'own/VB', 'targeting/VBG', 'younger/JJR', 'allows/VBZ', 'advanced/JJ', 'robust/JJ', 'lead/JJ', 'moving/VBG', 'highest/JJS', 'comes/VBZ', 'puts/VBZ', 'returned/VBN', 'design/VB', 'harmful/JJ', 'common/JJ', 'means/VBZ', 'biggest/JJS', 'provide/VBP', 'vital/JJ', 'personal/JJ', 'digital/JJ', 'developing/VBG', 'external/JJ', 'unveiled/VBD', 'meaning/VBG', 'Most/JJS', 'finding/VBG', 'suspects/VBZ', 'present/JJ', 'Speaking/VBG', 'address/VB', 'raised/VBN', 'apply/VB', 'warned/VBD', 'Spanish/JJ', 'discuss/VB', 'looked/VBN', 'fundamental/JJ', 'backed/VBD', 'opted/VBD', 'fair/JJ', 'bring/VB', 'suspected/VBN', 'detained/VBN', 'heard/VBN', 'constitutional/JJ', 'created/VBD', 'best-selling/JJ', 'include/VBP', 'increase/VB', 'known/VBN', 'tough/JJ', 'defending/VBG', 'internal/JJ', 'led/VBN', 'pleaded/VBN', 'hide/VB', 'early/JJ', 'arguing/VBG', 'passed/VBD', 'technical/JJ', 'ordered/VBD', 'telling/VBG', 'mentioned/VBN', 'convicted/VBN', 'facing/VBG', 'emerged/VBD', 'valued/VBN', 'lifted/VBN', 'followed/VBD', 'thrown/VBN', 'official/JJ', 'adding/VBG', 'like/VBP', 'tackling/VBG', 'sent/VBN', 'Following/VBG', 'explain/VB', 'daily/JJ', 'capable/JJ', 'claim/VBP', 'defined/VBN', 'increasing/VBG', 'putting/VBG', 'walk/VB', 'attended/VBD', 'travelling/VBG', 'technological/JJ', 'take/VBP', 'industrial/JJ', 'toughest/JJS', 'offer/VB', 'draw/VB', 'speaking/VBG', 'say/VB', 'beaten/VBN', 'kept/VBN', 'finish/VB', 'north/JJ', 'south/JJ', 'northern/JJ', 'Australian/JJ', 'include/VB', 'inspired/VBN', 'need/VBP', 'southern/JJ', 'captain/VBP', 'feature/VB', 'raised/VBD', 'campaigning/VBG', 'artistic/JJ', 'spends/VBZ', 'spent/VBD', 'special/JJ', 'gross/JJ', 'restore/VB', 'threatening/VBG', 'final/JJ', 'Belgian/JJ', 'hope/VBP', 'marry/VB', 'argued/VBD', 'watch/VB', 'empty/JJ', 'acceptable/JJ', 'left/VBN', 'independent/JJ', 'reported/VBN', 'true/JJ', 'forthcoming/JJ', 'monthly/JJ', 'finished/VBN', 'gaming/VBG', 'topping/VBG', 'accessible/JJ', 'open/VB', 'scrapped/VBN', 'right/JJ', 'look/VBP', 'familiar/JJ', 'touch/JJ', 'wait/VB', 'past/JJ', 'featuring/VBG', 'see/VBP', 'expect/VBP', 'moral/JJ', 'environmental/JJ', 'seek/VBP', 'reducing/VBG', 'fund/VB', 'sustained/JJ', 'match/VB', 'welcomed/VBD', 'calling/VBG', 'sends/VBZ', 'concerned/JJ', 'fails/VBZ', 'practical/JJ', 'blocking/VBG', 'failed/VBN', 'serve/VB', 'senior/JJ', 'earning/VBG', 'unhappy/JJ', 'block/VB', 'view/VB', 'friendly/JJ', 'speak/VB', 'meeting/VBG', 'extra/JJ', 'affected/VBN', 'organised/VBN', 'pay/VBP', 'show/VBP', 'fallen/VBN', 'quarterly/JJ', 'leaves/VBZ', 'apparent/JJ', 'showing/VBG', 'hitting/VBG', 'warned/VBN', 'open/JJ', 'attack/VB', 'instant/JJ', 'updated/VBN', 'vulnerable/JJ', 'malicious/JJ', 'exploit/VB', 'rule/VB', 'leave/VBP', 'criticised/VBN', 'civil/JJ', 'suggest/VB', 'add/VB', 'governing/VBG', 'shadow/JJ', 'leading/JJ', 'increased/JJ', 'remained/VBN', 'noted/VBD', 'risen/VBN', 'climbed/VBD', 'slow/VB', 'star/VB', 'stepping/VBG', 'replacing/VBG', 'opens/VBZ', 'begin/VB', 'unchanged/JJ', 'joined/VBN', 'estimated/VBN', 'surprised/VBN', 'call/VB', 'left/VBD', 'immediate/JJ', 'found/VBD', 'decided/VBD', 'secure/VB', 'died/VBN', 'aged/VBN', 'write/VB', 'died/VBD', 'joined/VBD', 'worked/VBD', 'producing/VBG', 'moved/VBN', 'covering/VBG', 'completed/VBN', 'potential/JJ', 'cost/VB', 'commit/VB', 'delayed/VBN', 'estimated/JJ', 'innocent/JJ', 'thinking/VBG', 'try/VB', 'consecutive/JJ', 'ensuring/VBG', 'remember/VB', 'Other/JJ', 'presented/VBN', 'proved/VBD', '6-2/JJ', '2-1/JJ', 'losing/VBG', 'older/JJR', 'top/VB', 'admitted/VBD', 'quick/JJ', 'Earlier/JJR', 'South/JJ', 'defeated/VBD', '6-3/JJ', '7-6/JJ', '7-5/JJ', 'Canadian/JJ', '4-6/JJ', '6-7/JJ', 'Top/JJ', 'lose/VB', 'sharing/VBG', 'increased/VBN', 'compared/VBN', 'sluggish/JJ', 'predict/VBP', 'unlikely/JJ', 'expect/VB', 'reform/VB', 'back/VB', 'controversial/JJ', 'introduce/VB', 'revealed/VBD', 'tackle/VB', 'opposed/VBN', 'insisted/VBD', 'account/VB', 'deliver/VB', 'pledged/VBD', 'assess/VB', 'protected/VBN', 'solve/VB', 'stopped/VBN', 'live/JJ', 'commissioned/VBN', 'stars/VBZ', 'appeared/VBD', 'unable/JJ', 'described/VBD', 'overwhelming/JJ', 'receiving/VBG', 'computing/VBG', 'costs/VBZ', 'maintained/VBN', 'persuade/VB', 'processed/VBN', 'existing/VBG', 'test/VB', 'rival/JJ', 'argues/VBZ', 'cheaper/JJR', 'denied/VBN', 'preparing/VBG', 'central/JJ', 'back/JJ', 'Conservative/JJ', 'various/JJ', 'suggest/VBP', 'believed/VBN', 'comment/VB', 'half-time/JJ', 'causing/VBG', 'perform/VB', 'performed/VBD', 'recorded/VBD', 'closed/VBD', 'squeeze/VB', 'removed/VBD', 'provided/VBN', 'high-profile/JJ', 'tight/JJ', 'record/JJ', 'federal/JJ', 'included/VBD', 'watched/VBN', 'put/VBD', 'plans/VBZ', 'cut/VB', 'racist/JJ', 'genuine/JJ', 'detailed/JJ', 'attacked/VBD', 'cutting/VBG', 'firm/JJ', 'turn/VB', 'talk/VB', 'controlling/VBG', 'essential/JJ', 'seeking/VBG', 'wanting/VBG', 'join/VB', 'substantial/JJ', 'unfair/JJ', 'breaking/VBG', 'worried/VBN', 'receive/VBP', 'dangerous/JJ', 'put/VBN', 'crucial/JJ', 'result/VB', 'mean/VB', 'required/VBN', 'poised/VBN', 'push/VB', 'managed/VBN', 'confirmed/VBD', 'fit/VB', 'nuclear/JJ', 'dedicated/VBN', 'achieved/VBN', 'improve/VB', 'doing/VBG', 'physical/JJ', 'interactive/JJ', 'innovative/JJ', 'sees/VBZ', 'understand/VBP', 'gives/VBZ', 'understood/JJ', 'installed/VBN', 'gets/VBZ', 'warm/JJ', 'welcomed/VBN', 'tiny/JJ', 'low-cost/JJ', 'appeal/VB', 'paying/VBG', 'affordable/JJ', 'buying/VBG', 'struggled/VBD', 'cope/VB', 'gathered/VBN', 'suffered/VBD', 'cheap/JJ', 'deputy/JJ', 'premium/JJ', 'changed/VBD', 'sell/VB', 'larger/JJR', 'aimed/VBN', 'release/VB', 'flat/JJ', 'appealed/VBD', 'starts/VBZ', 'led/VBD', 'fear/VBP', 'boost/VB', 'drive/VB', 'described/VBN', 'greater/JJR', 'smaller/JJR', 'hot/JJ', 'marketing/VBG', 'slower/JJR', 'multiple/JJ', 'confirm/VB', 'tested/VBN', 'challenge/VB', 'run/VBP', 'gave/VBD', 'kicked/VBD', 'scored/VBD', 'come/VBP', 'tremendous/JJ', 'carried/VBN', 'conceded/VBD', 'allowed/VBN', 'eighth/JJ', 'deserved/VBD', 'sent/VBD', 'fly-half/JJ', 'missed/VBD', 'grabbed/VBD', 'delivered/VBD', 'looked/VBD', 'false/JJ', 'combined/VBN', 'jobless/JJ', 'average/JJ', 'reached/VBD', 'reduce/VB', 'elected/VBN', 'social/JJ', 'sell/VBP', 'shows/VBZ', 'use/VBP', 'helps/VBZ', 'reflects/VBZ', 'passed/VBN', 'seemed/VBD', 'everyday/JJ', 'competitive/JJ', 'defend/VB', 'disappointed/JJ', 'beat/VB', '22-year-old/JJ', 'finished/VBD', 'seventh/JJ', 'outstanding/JJ', 'failed/VBD', 'dropped/VBD', 'recorded/VBN', 'struggling/VBG', 'sentenced/VBN', 'insisted/VBN', 'soaring/VBG', 'appear/VBP', 'cut/VBD', 'two-year/JJ', 'Scottish/JJ', 'insist/VBP', 'built/VBN', 'control/VB', 'internet/JJ', 'involved/VBN', 'received/VBD', 'harder/JJR', 'documentary/JJ', 'wins/VBZ', 'rare/JJ', 'transfer/VB', 'quoted/VBN', 'afford/VB', 'remain/VB', 'criticised/VBD', 'affect/VB', 'profitable/JJ', 'More/JJR', 'increased/VBD', 'stressed/VBD', 'employed/VBN', 'unnecessary/JJ', 'tense/JJ', 'dramatic/JJ', 'delighted/JJ', 'nervous/JJ', 'lying/VBG', 'co-chairman/JJ', 'offered/VBD', 'predicted/VBD', 'walked/VBD', 'live/VB', 'reaching/VBG', 'Tory/JJ', 'attacking/VBG', 'worried/JJ', 'refused/VBD', 'enjoyed/VBD', 'begins/VBZ', 'rural/JJ', 'stay/VB', 'exploited/VBN', 'resolved/VBN', 'keen/JJ', 'handed/VBN', 'close/VB', 'started/VBN', 'legitimate/JJ', 'accused/VBN', 'distribute/VB', 'includes/VBZ', 'file-sharing/JJ', 'dedicated/JJ', 'uses/VBZ', 'aims/VBZ', 'locked/VBN', 'easier/JJR', 'downloaded/VBN', 'golden/JJ', 'shared/VBN', 'discover/VB', 'ignore/VB', 'sign/VB', 'Looking/VBG', 'protect/VB', 'granted/VBN', 'struck/VBN', 'aged/VBD', 'combat/VB', 'effective/JJ', 'carried/VBD', 'voted/VBD', 'focus/VB', 'fantastic/JJ', 'training/VBG', 'content/JJ', 'agreed/VBN', 'tell/VB', 'stepped/VBD', 'invest/VB', 'withdrew/VBD', 'kicking/VBG', 'stronger/JJR', 'missed/VBN', 'fine/JJ', 'score/VB', 'cold/JJ', 'signed/VBN', 'unsolicited/JJ', 'accusing/VBG', 'initial/JJ', 'voting/VBG', 'Using/VBG', 'tells/VBZ', 'targeted/VBN', 'calls/VBZ', 'examining/VBG', 'examine/VB', 'warning/VBG', 'issue/VB', 'contacted/VBN', 'disciplinary/JJ', 'meant/VBN', 'intended/VBN', 'offensive/JJ', 'negative/JJ', 'claimed/VBN', 'referee/JJ', 'pointed/VBD', 'entering/VBG', 'sitting/VBG', 'treated/VBN', 'acting/VBG', 'specific/JJ', 'unnamed/JJ', 'High/JJ', 'prevent/VB', 'seek/VB', 'short-term/JJ', 'deny/VB', 'sensible/JJ', 'plays/VBZ', 'fit/JJ', 'form/VB', '50th/JJ', 'injured/JJ', 'hoped/VBD', 'defended/VBN', 'mixed/JJ', 'Next/JJ', 'reveal/VB', 'slipped/VBD', 'followed/VBN', 'broken/JJ', 'working/JJ', 'saving/VBG', 'fall/VB', 'policing/VBG', 'Local/JJ', 'replace/VB', 'visible/JJ', 'avoid/VB', 'minimum/JJ', 'insists/VBZ', 'building/VBG', 'dominated/VBN', 'founded/VBN', 'features/VBZ', 'Several/JJ', 'earned/VBD', 'directing/VBG', 'religious/JJ', 'listen/VB', 'fighting/VBG', 'strategic/JJ', 'long-term/JJ', 'resolve/VB', 'met/VBD', 'sensitive/JJ', 'contained/VBD', 'confidential/JJ', 'creates/VBZ', 'stable/JJ', 'democratic/JJ', '6-4/JJ', '18-year-old/JJ', '6-1/JJ', 'Indian/JJ', 'blamed/VBD', 'serving/VBG', 'deciding/VBG', 'imposed/VBN', 'appropriate/JJ', 'website/JJ', 'coach/VBP', 'show/VB', 'proper/JJ', 'support/VBP', 'qualify/VB', '28-year-old/JJ', 'successive/JJ', 'sought/VBN', 'face/VBP', 'killed/VBN', 'developed/JJ', 'Swiss/JJ', 'worst/JJS', 'Western/JJ', 'cover/VB', 'caused/VBN', 'heavy/JJ', 'pass/VB', 'affected/JJ', 'killed/VBD', 'suffer/VB', 'covered/VBN', 'generate/VB', 'appear/VB', 'prefer/VB', 'produced/VBN', 'close/JJ', 'carry/VBP', 'rugby/JJ', 'prepared/VBN', 'learning/VBG', 'emerge/VB', 'threw/VBD', 'upward/JJ', 'superb/JJ', 'regional/JJ', 'writing/VBG', 'signed/VBD', 'fixed/VBN', 'second-largest/JJ', 'secured/VBN', 'wonderful/JJ', 'revised/VBN', 'wrote/VBD', 'contact/VB', 'reduced/VBN', 'online/VBP', 'turning/VBG', 'fuelled/VBN', 'high-speed/JJ', 'retain/VB', 'web/JJ', 'changing/VBG', 'challenging/VBG', 'spending/VBG', 'sued/VBN', 'Italian/JJ', 'earn/VB', 'planning/VBG', 'allowing/VBG', 'following/JJ', 'hosted/VBD', 'handle/VB', 'listing/VBG', 'choose/VB', 'opened/VBD', 'offers/VBZ', 'ambitious/JJ', 'regulatory/JJ', 'signing/VBG', 'booming/VBG', 'retail/JJ', 'primary/JJ', 'secondary/JJ', 'wireless/JJ', 'manage/VB', 'arrived/VBN', 'cultural/JJ', 'incorporated/VBN', 'enable/VB', 'brings/VBZ', 'Shares/VBZ', 'failing/VBG', 'hoped/VBN', 'involving/VBG', 'appointed/VBN', 'Higher/JJR', 'drawing/VBG', 'richest/JJS', 'poorest/JJS', 'rich/JJ', 'educational/JJ', 'raising/VBG', 'encouraging/JJ', 'seem/VB', 'worse/JJR', 'blamed/VBN', 'pre-tax/JJ', 'offset/VB', 'introduced/VBD', 'forecast/VBN', 'anticipated/VBN', 'pretty/JJ', 'modest/JJ', 'cut/VBN', 'maintaining/VBG', 'widespread/JJ', 'suitable/JJ', 'unique/JJ', 'coming/JJ', 'owns/VBZ', 'forced/VBD', 'arrived/VBD', 'Is/VBZ', 'funded/VBN', 'engage/VB', 'adds/VBZ', 'setting/VBG', 'peer-to-peer/JJ', 'virtual/JJ', 'lets/VBZ', 'leading/VBG', 'pirated/JJ', 'applied/VBN', 'stepped/VBN', 'works/VBZ', 'find/VBP', 'require/VB', 'selected/VBN', 'opened/VBN', 'revealed/VBN', 'aiming/VBG', 'decent/JJ', 'concentrating/VBG', 'rebuilding/VBG', 'fall/VBP', 'jumped/VBD', 'prompted/VBD', 'ninth/JJ', 'launched/VBD', 'hybrid/JJ', 'favourite/JJ', 'scored/VBN', 'emotional/JJ', 'regarded/VBN', 'released/VBD', 'broke/VBD', 'normal/JJ', 'conducted/VBN', 'spam/JJ', 'attractive/JJ', 'sending/VBG', 'preliminary/JJ', 'surprising/JJ', 'explains/VBZ', 'phishing/VBG', 'downloading/VBG', 'anti-spam/JJ', 'hidden/VBN', 'responded/VBD', 'sets/VBZ', 'chasing/VBG', 'head-to-head/JJ', 'topped/VBD', 'benefit/VB', 'exclusive/JJ', 'earlier/JJR', 'shake/VB', 'wild/JJ', 'sick/JJ', 'seems/VBZ', 'announcing/VBG', 'near/JJ', 'representing/VBG', 'dead/JJ', 'comic/JJ', 'affected/VBD', 'force/VB', 'miss/VB', 'medical/JJ', 'stand/VB', 'withdrawn/VBN', 'fierce/JJ', 'returned/VBD', 'later/JJ', 'represented/VBN', 'fill/VB', 'reflected/VBD', 'charged/VBN', 'alleged/JJ', 'disabled/JJ', 'injured/VBN', 'sparked/VBN', 'violent/JJ', 'employs/VBZ', 'formed/VBN', 'Net/JJ', 'collect/VB', 'fake/JJ', 'contained/VBN', 'circulating/VBG', 'subject/JJ', 'donate/VB', 'e-mails/JJ', 'hosting/VBG', 'shut/VBD', 'anti-virus/JJ', 'spread/VB', 'backing/VBG', 'historical/JJ', 'necessary/JJ', 'closing/VBG', 'strengthen/VB', 'added/VBN', 'adopted/VBN', 'believed/VBD', 'ending/VBG', 'battled/VBD', 'appeared/VBN', 'limit/VB', 'earmarked/VBN', 'first-team/JJ', 'frustrated/VBN', '30-year-old/JJ', 'expressed/VBD', 'all-time/JJ', 'hearing/VBG', 'Liberal/JJ', 'represented/VBD', 'resign/VB', 'delivered/VBN', 'lifted/VBD', 'apologised/VBN', 'testing/VBG', 'represent/VB', 'download/VB', 'watch/VBP', 'enjoy/VB', 'billed/VBN', 'broadcast/VBN', 'London-based/JJ', 'learn/VB', '3-1/JJ', 'leaving/VBG', 'monitoring/VBG', 'agree/VB', 'settle/VB', 'branded/VBD', 'mandatory/JJ', 'answer/VB', 'formal/JJ', 'recommended/VBD', 'feel/VB', 'voluntary/JJ', 'accepted/VBD', 'drink/VB', 'promoting/VBG', 'informed/VBN', 'apologise/VB', 'disappointing/VBG', 'supposed/VBN', 'unknown/JJ', 'threatened/VBN', 'sue/VB', 'questioned/VBN', 'ignored/VBN', 'fiscal/JJ', 'finance/VB', 'faced/VBN', 'driving/VBG', 'military/JJ', 'elderly/JJ', 'realistic/JJ', 'responding/VBG', 'argue/VB', 'complete/JJ', 'forget/VB', 'worth/JJ', 'investigate/VB', 'exciting/JJ', 'care/VB', 'smart/JJ', 'Having/VBG', 'semi-final/JJ', 'recording/VBG', 'plan/VBP', 'identify/VB', 'inappropriate/JJ', 'scoring/VBG', 'replied/VBD', 'grab/VB', 'desperate/JJ', 'catch/VB', 'sporting/VBG', 'doubled/VBD', 'pushed/VBN', 'comfortable/JJ', 'ministerial/JJ', 'focused/VBN', 'operates/VBZ', 'listed/VBN', 'impose/VB', 'detain/VB', 'sufficient/JJ', 'expecting/VBG', 'veteran/JJ', 'severe/JJ', 'placed/VBN', 'fired/VBN', 'saved/VBN', 'manufacturing/VBG', 'slowing/VBG', 'compiled/VBN', 'electronic/JJ', 'infected/VBN', 'classic/JJ', 'managed/VBD', 'secured/VBD', 'Turkish/JJ', 'audio/JJ', 'totalling/VBG', 'worrying/VBG', '2-0/JJ', 'missing/VBG', 'v/JJ', 'boosted/VBN', 'extraordinary/JJ', 'Best/JJS', 'thank/VB', 'apologised/VBD', 'benefiting/VBG', 'damage/VB', 'slight/JJ', 'tougher/JJR', 'hinted/VBD', 'questioning/VBG', 'deserve/VBP', 'struggle/VB', 'carrying/VBG', 'Good/JJ', 'prepared/JJ', 'lose/VBP', 'discussed/VBN', 'reasonable/JJ', 'live/VBP', 'keeps/VBZ', 'cause/VB', 'rises/VBZ', 'maintain/VB', 'regarding/VBG', 'impress/VB', 'English/JJ', 'posted/VBN', 'struck/VBD', 'stood/VBD', 'Used/VBD', 'Recent/JJ', 'impossible/JJ', 'relating/VBG', 'wi-fi/JJ', 'spot/VB', 'become/VBP', 'famous/JJ', 'feels/VBZ', 'longer/JJR', 'reflect/VB', 'strange/JJ', 'African/JJ', 'hold/VBP', 'raw/JJ', 'rejected/VBD', 'Have/VBP', 'marked/VBD', 'flying/VBG', 'voiced/VBD', 'Today/JJ', 'joining/VBG', 'advised/VBN', 'concentrate/VB', 'presented/VBD', 'handing/VBG', 'prompted/VBN', 'issued/VBN', 'anti-spyware/JJ', 'persistent/JJ', 'double/VB', 'compatible/JJ', 'extended/VBN', 'suggesting/VBG', 'convinced/VBN', 'healthy/JJ', 'realise/VB', 'complete/VB', 'defended/VBD', 'suspended/VBN', 'landed/VBD', 'maximum/JJ', 'holds/VBZ', 'prove/VB', 'biometric/JJ', 'protecting/VBG', 'abused/VBN', 'clean/JJ', 'voted/VBN', '31-year-old/JJ', 'fewer/JJR', 'forgotten/VBN', 'stolen/VBN', 'discovered/VBN', 'alternative/JJ', 'Greek/JJ', 'creating/VBG', 'terrorist/JJ', 'rapid/JJ', 'step/VB', 'fought/VBD', 'dropping/VBG', 'raced/VBD', 'double/JJ', 'viewed/VBN', 'promised/VBD', 'publish/VB', 'enjoyed/VBN', 'hardest/JJS', 'picking/VBG', 'fifth/JJ', 'vocal/JJ', 'quit/VBD', 'express/VB', 'broad/JJ', 'planned/VBD', 'present/VB', 'drew/VBD', 'pursue/VB', 'directed/VBD', 'head/VB', 'saved/VBD', 'sophisticated/JJ', 'light/JJ', 'hit/VBP', 'blew/VBD', 'travel/VB', 'v/VBP', 'attacked/VBN', 'reviewed/VBN', 'dealing/VBG', 'well-known/JJ', 'text/JJ', 'investing/VBG', 'enables/VBZ', 'accurate/JJ', 'jailed/VBN', 'give/VBP', 'avoiding/VBG', 'retire/VB', 'point/VB', 'quit/VB', 'consulted/VBN', 'intends/VBZ', 'fail/VBP', 'guarantee/VB', 'actual/JJ', 'allow/VBP', '20th/JJ', 'urban/JJ', 'connected/VBN', 'diverse/JJ', 'report/VB', 'sites/VBZ', 'enforce/VB', 'stabbed/VBN', 'shot/VBN', 'hurt/VBN', 'amazing/JJ', 'reject/VB', 'eastern/JJ', 'outside/JJ', 'tricky/JJ', 'five-year/JJ', 'estimates/VBZ', 'tend/VBP', 'charging/VBG', 'broadband/VB', 'standard/JJ', 'provides/VBZ', 'sells/VBZ', 'provided/VBD', 'typical/JJ', 'beginning/VBG', 'agree/VBP', 'declined/VBD', 'knowing/VBG', 'argue/VBP', 'operate/VB', 'approve/VB', 'establishing/VBG', 'lift/VB', 'historic/JJ', 'motivated/VBN', 'unacceptable/JJ', 'killing/VBG', 'terrestrial/JJ', 'postponed/VBN', 'refused/VBN', 'delivering/VBG', 'beat/VBP', 'exciting/VBG', 'review/VB', 'grand/JJ', 'supported/VBN', 'steal/VB', 'handling/VBG', 'expanding/VBG', 'hear/VBP', 'damaging/JJ', 'divided/VBN', 'declared/VBD', 'mutual/JJ', 'remote/JJ', 'record/VB', 'unusual/JJ', 'settled/VBN', 'dealt/VBN', 'chose/VBD', 'bizarre/JJ', 'modern/JJ', 'excellent/JJ', 'rubbish/JJ', 'reveals/VBZ', 'faster/JJR', 'damaging/VBG', 'half/JJ', 'breached/VBN', 'name/VB', 'starred/VBD', 'approached/VBN', 'own/VBP', 'euro/JJ', 'issued/VBD', 'hurt/VB', 'headed/VBN', 'topped/VBN', 'disappear/VB', 'tracking/VBG', 'automatic/JJ', 'retired/VBN', 'stick/VB', 'start/VBP', 'abolish/VB', 'upbeat/JJ', 'straight/VBD', 'expected/JJ', 'highlighted/VBN', 'named/VBD', 'sustainable/JJ', 'fit/VBN', 'handheld/JJ', 'drafted/VBN', 'unveil/VB', 'reluctant/JJ', 'strongest/JJS', 'Downing/VBG', 'releasing/VBG', 'rid/JJ', 'kill/VB', 'hip-hop/JJ', 'parliamentary/JJ', 'served/VBN', 'damaged/VBN', 'struggled/VBN', 'left/JJ', 'qualifying/VBG', 'headed/VBD', 'cited/VBD', 'understood/VBD', 'turn/VBP', 'mean/VBP', 'sceptical/JJ', 'Spider-Man/JJ', 'listening/VBG', 'dismissed/VBD', 'manoeuvring/VBG', 'acquire/VB', 'cool/JJ', 'sort/VB', 'fictional/JJ', 'Jewish/JJ', 'Iranian/JJ', 'supply/VB', 'deserves/VBZ', 'spoken/VBN', 'prompting/VBG', 'Asked/VBD', 'radical/JJ', 'handed/VBD', 'ethnic/JJ', 'creative/JJ', 'anti-Semitic/JJ', 'UK-based/JJ', 'first-time/JJ', 'racing/VBG', 'conducted/VBD', 'monitor/VB', 'soft/JJ', 'arrested/VBN', 'surveyed/VBN', 'booked/VBN', 'sit/VB', 'focusing/VBG', 'faking/VBG', 'worldwide/JJ', 'visual/JJ', 'forcing/VBG', 'western/JJ', 'unified/JJ', 'hunting/VBG', '17-year-old/JJ', 'liberal/JJ', 'store/VB', 'prominent/JJ', 'Green/JJ', 'romantic/JJ', 'set-top/JJ', 'describe/VB', 'podcasting/VBG', 'artificial/JJ']\n"
          ],
          "name": "stdout"
        }
      ]
    },
    {
      "cell_type": "markdown",
      "metadata": {
        "id": "LG1mOXf60QzU"
      },
      "source": [
        "Vectorise the data only using the vocabularies and embeddings in the 'feature_sets_enabled' variable in the settings"
      ]
    },
    {
      "cell_type": "code",
      "metadata": {
        "id": "uhPC7jIvfdxZ",
        "colab": {
          "base_uri": "https://localhost:8080/"
        },
        "outputId": "b450caa8-ad22-4514-a4a7-7c2a11a2635b"
      },
      "source": [
        "X_train = vectorise_data(X_train_data,X_train_token_data,X_train_tag_data,vocabularies)\n",
        "X_test = vectorise_data(X_test_data,X_test_token_data,X_test_tag_data,vocabularies)\n",
        "X_dev = vectorise_data(X_dev_data,X_dev_token_data,X_dev_tag_data,vocabularies)"
      ],
      "execution_count": 58,
      "outputs": [
        {
          "output_type": "stream",
          "text": [
            "word_tagged Num Features: (1335, 2000)\n",
            "adjverb Num Features: (1335, 2000)\n",
            "glove Num Features: (1335, 25)\n",
            "Total Num Features: (1335, 4025)\n",
            "word_tagged Num Features: (445, 2000)\n",
            "adjverb Num Features: (445, 2000)\n",
            "glove Num Features: (445, 25)\n",
            "Total Num Features: (445, 4025)\n",
            "word_tagged Num Features: (445, 2000)\n",
            "adjverb Num Features: (445, 2000)\n",
            "glove Num Features: (445, 25)\n",
            "Total Num Features: (445, 4025)\n"
          ],
          "name": "stdout"
        }
      ]
    },
    {
      "cell_type": "markdown",
      "metadata": {
        "id": "PsiBgEjH2Q1e"
      },
      "source": [
        "## Feature Refinement and Selection"
      ]
    },
    {
      "cell_type": "markdown",
      "metadata": {
        "id": "bWgTC5DpmzPQ"
      },
      "source": [
        "Using the training sample, select the best features then score it based upon the development.\n",
        "\n",
        "Work through the models and number of feature provided to find the best combination"
      ]
    },
    {
      "cell_type": "code",
      "metadata": {
        "colab": {
          "base_uri": "https://localhost:8080/"
        },
        "id": "mVRK8Xjm7Wvm",
        "outputId": "63e4f5ab-67e8-41b5-d87a-8c62f1b5801f"
      },
      "source": [
        "best_score, best_clf, best_svm_clf, best_sent_analysis = best_model(model_choices,list_num_features, X_train, Y_train, X_dev, Y_dev)"
      ],
      "execution_count": 59,
      "outputs": [
        {
          "output_type": "stream",
          "text": [
            "Testing clf:\n",
            " (<class 'sklearn.svm._classes.SVC'>, {'kernel': 'linear'})\n",
            "Score with 10\tfeatures: 0.82\n",
            "Score with 100\tfeatures: 0.935\n",
            "Score with 250\tfeatures: 0.957\n",
            "Score with 500\tfeatures: 0.96\n",
            "Score with 750\tfeatures: 0.953\n",
            "Score with 1000\tfeatures: 0.957\n",
            "Score with 1500\tfeatures: 0.955\n",
            "Score with 2000\tfeatures: 0.966\n",
            "Score with 3000\tfeatures: 0.962\n",
            "\n",
            "Best score for this clf is 0.966 with 2000 features.\n",
            "\n",
            "Testing clf:\n",
            " (<class 'sklearn.svm._classes.LinearSVC'>, {'max_iter': 10000})\n",
            "Score with 10\tfeatures: 0.8\n",
            "Score with 100\tfeatures: 0.951\n",
            "Score with 250\tfeatures: 0.971\n",
            "Score with 500\tfeatures: 0.969\n",
            "Score with 750\tfeatures: 0.969\n",
            "Score with 1000\tfeatures: 0.971\n",
            "Score with 1500\tfeatures: 0.973\n",
            "Score with 2000\tfeatures: 0.973\n",
            "Score with 3000\tfeatures: 0.978\n",
            "\n",
            "Best score for this clf is 0.978 with 3000 features.\n",
            "\n",
            "Testing clf:\n",
            " (<class 'sklearn.svm._classes.SVC'>, {'kernel': 'rbf', 'gamma': 0.7})\n",
            "Score with 10\tfeatures: 0.818\n",
            "Score with 100\tfeatures: 0.935\n",
            "Score with 250\tfeatures: 0.955\n",
            "Score with 500\tfeatures: 0.962\n",
            "Score with 750\tfeatures: 0.964\n",
            "Score with 1000\tfeatures: 0.966\n",
            "Score with 1500\tfeatures: 0.957\n",
            "Score with 2000\tfeatures: 0.966\n",
            "Score with 3000\tfeatures: 0.957\n",
            "\n",
            "Best score for this clf is 0.966 with 1000 features.\n",
            "\n",
            "Testing clf:\n",
            " (<class 'sklearn.svm._classes.SVC'>, {'kernel': 'poly', 'degree': 3, 'gamma': 'scale'})\n",
            "Score with 10\tfeatures: 0.829\n",
            "Score with 100\tfeatures: 0.899\n",
            "Score with 250\tfeatures: 0.91\n",
            "Score with 500\tfeatures: 0.921\n",
            "Score with 750\tfeatures: 0.928\n",
            "Score with 1000\tfeatures: 0.933\n",
            "Score with 1500\tfeatures: 0.933\n",
            "Score with 2000\tfeatures: 0.939\n",
            "Score with 3000\tfeatures: 0.933\n",
            "\n",
            "Best score for this clf is 0.939 with 2000 features.\n",
            "\n",
            "\n",
            "Best score overall in the dev set is 0.978 with 3000 features using clf:\n",
            "LinearSVC(C=1.0, class_weight=None, dual=True, fit_intercept=True,\n",
            "          intercept_scaling=1, loss='squared_hinge', max_iter=10000,\n",
            "          multi_class='ovr', penalty='l2', random_state=None, tol=0.0001,\n",
            "          verbose=0)\n"
          ],
          "name": "stdout"
        }
      ]
    },
    {
      "cell_type": "markdown",
      "metadata": {
        "id": "syEM63YA9_j7"
      },
      "source": [
        "## Evaluation"
      ]
    },
    {
      "cell_type": "code",
      "metadata": {
        "colab": {
          "base_uri": "https://localhost:8080/"
        },
        "id": "7395mhngMm9-",
        "outputId": "a02e0002-9c5e-4733-e399-b45346b4e298"
      },
      "source": [
        "print (\"Score using dev set:\\t\",str(round(best_score,4)))\n",
        "test_score = score_svm_classifier(best_svm_clf, X_test, Y_test, best_sent_analysis)\n",
        "print (\"Score using test set:\\t\",str(round(test_score,4)))\n",
        "print (\"Variance of:\",str(round(test_score-best_score,5)))\n",
        "Y_dev_predictions = predict_svm_classifier(best_svm_clf, X_dev, best_sent_analysis)\n",
        "print(\"\\nDev set classification report\")\n",
        "print(sklmet.classification_report(Y_dev, Y_dev_predictions))\n",
        "Y_test_predictions = predict_svm_classifier(best_svm_clf, X_test, best_sent_analysis)\n",
        "print(\"\\nTest set classification report\")\n",
        "print(sklmet.classification_report(Y_test, Y_test_predictions))\n",
        "plot_confusion_matrix(best_svm_clf, X_dev, Y_dev, best_sent_analysis,\"Dev set confusion matrix\" )\n",
        "plot_confusion_matrix(best_svm_clf, X_test, Y_test, best_sent_analysis,\"Test set confusion matrix\")\n"
      ],
      "execution_count": null,
      "outputs": [
        {
          "output_type": "stream",
          "text": [
            "Score using dev set:\t 0.9775\n",
            "Score using test set:\t 0.9663\n",
            "Variance of: -0.01124\n",
            "\n",
            "Dev set classification report\n",
            "               precision    recall  f1-score   support\n",
            "\n",
            "     business       0.98      0.98      0.98        86\n",
            "entertainment       0.94      0.97      0.95        74\n",
            "     politics       0.96      1.00      0.98        74\n",
            "        sport       1.00      0.99      1.00       104\n",
            "         tech       1.00      0.95      0.98       107\n",
            "\n",
            "     accuracy                           0.98       445\n",
            "    macro avg       0.97      0.98      0.98       445\n",
            " weighted avg       0.98      0.98      0.98       445\n",
            "\n",
            "\n",
            "Test set classification report\n",
            "               precision    recall  f1-score   support\n",
            "\n",
            "     business       0.95      0.95      0.95       110\n",
            "entertainment       1.00      0.95      0.97        80\n",
            "     politics       0.90      0.98      0.93        81\n",
            "        sport       1.00      0.99      0.99       100\n",
            "         tech       0.99      0.97      0.98        74\n",
            "\n",
            "     accuracy                           0.97       445\n",
            "    macro avg       0.97      0.97      0.97       445\n",
            " weighted avg       0.97      0.97      0.97       445\n",
            "\n"
          ],
          "name": "stdout"
        }
      ]
    }
  ]
}